{
 "cells": [
  {
   "cell_type": "code",
   "execution_count": null,
   "metadata": {
    "tags": [
     "remove-cell"
    ]
   },
   "outputs": [],
   "source": [
    "import subprocess\n",
    "import sys\n",
    "\n",
    "COLAB = \"google.colab\" in sys.modules\n",
    "\n",
    "\n",
    "def _install(package):\n",
    "    if COLAB:\n",
    "        ans = input(f\"Install { package }? [y/n]:\")\n",
    "        if ans.lower() in [\"y\", \"yes\"]:\n",
    "            subprocess.check_call(\n",
    "                [sys.executable, \"-m\", \"pip\", \"install\", \"--quiet\", package]\n",
    "            )\n",
    "            print(f\"{ package } installed!\")\n",
    "\n",
    "\n",
    "def _colab_install_missing_deps(deps):\n",
    "    import importlib\n",
    "\n",
    "    for dep in deps:\n",
    "        if importlib.util.find_spec(dep) is None:\n",
    "            if dep == \"iris\":\n",
    "                dep = \"scitools-iris\"\n",
    "            _install(dep)\n",
    "\n",
    "\n",
    "deps = [\"owslib\"]\n",
    "_colab_install_missing_deps(deps)"
   ]
  },
  {
   "cell_type": "markdown",
   "metadata": {
    "collapsed": true
   },
   "source": [
    "# Using NCEI geoportal REST API to collect information about IOOS Regional Association archived data\n",
    "\n",
    "Created: 2017-06-12\n",
    "\n",
    "IOOS regional associations archive their non-federal observational data with NOAA's National Center for Environmental Information (NCEI). In this notebook we will use the [RESTful](https://github.com/Esri/geoportal-server/wiki/REST-API-Syntax) services of the [NCEI geoportal](https://www.ncei.noaa.gov/metadata/geoportal) to collect metadata from the archive packages found in the NCEI archives. The metadata information are stored in [ISO 19115-2](https://wiki.earthdata.nasa.gov/display/NASAISO/ISO+19115-2) xml files which the NCEI geoportal uses for discovery of Archival Information Packages (AIPs). This example uses the ISO metadata records to display publication information as well as plot the time coverage of each AIP at NCEI which meets the search criteria.\n",
    "\n",
    "First we update the namespaces dictionary from owslib to include the appropriate namespace reference for gmi and gml."
   ]
  },
  {
   "cell_type": "code",
   "execution_count": 1,
   "metadata": {},
   "outputs": [],
   "source": [
    "from owslib.iso import namespaces\n",
    "\n",
    "# Append gmi namespace to namespaces dictionary.\n",
    "namespaces.update({\"gmi\": \"http://www.isotc211.org/2005/gmi\"})\n",
    "namespaces.update({\"gml\": \"http://www.opengis.net/gml/3.2\"})\n",
    "del namespaces[None]"
   ]
  },
  {
   "cell_type": "markdown",
   "metadata": {},
   "source": [
    "## Now we select a Regional Association and platform\n",
    "\n",
    "This is where the user identifies the Regional Association and the platform type they are interested in. Change the RA acronym to the RA of interest. The user can also omit the Regional Association, by using `None`, to collect metadata information about all IOOS non-Federal observation data archived through the NCEI-IOOS pipeline.\n",
    "\n",
    "The options for platform include: `\"HF Radar\"`, `\"Glider\"`, and `\"FIXED PLATFORM\"`."
   ]
  },
  {
   "cell_type": "code",
   "execution_count": 2,
   "metadata": {},
   "outputs": [],
   "source": [
    "# Select RA, this will be the acronym for the RA or None if you want to search across all RAs\n",
    "ra = \"CARICOOS\"\n",
    "\n",
    "# Identify the platform.\n",
    "platform = (\n",
    "    '\"FIXED PLATFORM\"'  # Options include: None, \"HF Radar\", \"Glider\", \"FIXED PLATFORM\"\n",
    ")"
   ]
  },
  {
   "cell_type": "markdown",
   "metadata": {},
   "source": [
    "## Next we generate a geoportal query and georss feed\n",
    "\n",
    "To find more information about how to compile a geoportal query, have a look at [REST API Syntax](https://github.com/Esri/geoportal-server/wiki/REST-API-Syntax) and the [NCEI Search Tips](https://www.ncei.noaa.gov/metadata/geoportal/#aboutPanel) for the [NCEI geoportal](https://www.ncei.noaa.gov/metadata/geoportal/#searchPanel). The example provided is specific to the NCEI-IOOS data pipeline project and only searches for non-federal timeseries data collected by each Regional Association.\n",
    "\n",
    "The query developed here can be updated to search for any Archival Information Packages at NCEI, therefore the user should develop the appropriate query using the [NCEI Geoportal](https://www.ncei.noaa.gov/metadata/geoportal/#searchPanel) and update this portion of the code to identify the REST API of interest."
   ]
  },
  {
   "cell_type": "code",
   "execution_count": 3,
   "metadata": {},
   "outputs": [
    {
     "name": "stdout",
     "output_type": "stream",
     "text": [
      "Identified response format:\n",
      "https://www.ncei.noaa.gov/metadata/geoportal/opensearch?q=%28dataThemeinstitutions_s%3A%22Caribbean%20Coastal%20Ocean%20Observing%20System%22%20dataThemeprojects_s%3A%22Caribbean%20Coastal%20Ocean%20Observing%20System%20%28CARICOOS%29%22%29%20AND%22FIXED%20PLATFORM%22&filter=dataThemeprojects_s:%22Integrated%20Ocean%20Observing%20System%20Data%20Assembly%20Centers%20Data%20Stewardship%20Program%22&start=1&num=1010&f=csv\n",
      "\n",
      "Search page response:\n",
      "https://www.ncei.noaa.gov/metadata/geoportal/opensearch?q=%28dataThemeinstitutions_s%3A%22Caribbean%20Coastal%20Ocean%20Observing%20System%22%20dataThemeprojects_s%3A%22Caribbean%20Coastal%20Ocean%20Observing%20System%20%28CARICOOS%29%22%29%20AND%22FIXED%20PLATFORM%22&filter=dataThemeprojects_s:%22Integrated%20Ocean%20Observing%20System%20Data%20Assembly%20Centers%20Data%20Stewardship%20Program%22&start=1&num=1010&f=searchPage\n"
     ]
    }
   ],
   "source": [
    "try:\n",
    "    from urllib.parse import quote\n",
    "except ImportError:\n",
    "    from urllib import quote\n",
    "\n",
    "# Generate geoportal query and georss feed.\n",
    "\n",
    "# Base geoportal url.\n",
    "baseurl = \"https://www.ncei.noaa.gov/\" \"metadata/geoportal/opensearch\" \"?q=\"\n",
    "\n",
    "# Identify the Regional Association\n",
    "if ra is None:\n",
    "    reg_assoc = \"\"\n",
    "else:\n",
    "    RAs = {\n",
    "        \"AOOS\": \"Alaska Ocean Observing System\",\n",
    "        \"CARICOOS\": \"Caribbean Coastal Ocean Observing System\",\n",
    "        \"CeNCOOS\": \"Central and Northern California Coastal Ocean Observing System\",\n",
    "        \"GCOOS\": \"Gulf of Mexico Coastal Ocean Observing System\",\n",
    "        \"GLOS\": \"Great Lakes Observing System\",\n",
    "        \"MARACOOS\": \"Mid-Atlantic Regional Association Coastal Ocean Observing System\",\n",
    "        \"NANOOS\": \"Northwest Association of Networked Ocean Observing Systems\",\n",
    "        \"NERACOOS\": \"Northeastern Regional Association of Coastal Ocean Observing System\",\n",
    "        \"PacIOOS\": \"Pacific Islands Ocean Observing System\",\n",
    "        \"SCCOOS\": \"Southern California Coastal Ocean Observing System\",\n",
    "        \"SECOORA\": \"Southeast Coastal Ocean Observing Regional Association\",\n",
    "    }\n",
    "    reg_assoc = (\n",
    "        f'(dataThemeinstitutions_s:\"{RAs[ra]}\" dataThemeprojects_s:\"{RAs[ra]} ({ra})\")'\n",
    "    )\n",
    "\n",
    "# Identify the project.\n",
    "project = (\n",
    "    '\"Integrated Ocean Observing System Data Assembly Centers Data Stewardship Program\"'\n",
    ")\n",
    "\n",
    "# Identify the amount of records and format of the response: 1 to 1010 records.\n",
    "records = \"&start=1&num=1010\"\n",
    "\n",
    "# Identify the format of the response: georss.\n",
    "response_format = \"&f=csv\"\n",
    "\n",
    "if platform is not None:\n",
    "    reg_assoc_plat = quote(reg_assoc + \" AND\" + platform)\n",
    "else:\n",
    "    reg_assoc_plat = quote(reg_assoc)\n",
    "\n",
    "# Combine the URL.\n",
    "url = \"{}{}{}{}\".format(\n",
    "    baseurl,\n",
    "    reg_assoc_plat,\n",
    "    \"&filter=dataThemeprojects_s:\",\n",
    "    quote(project) + records + response_format,\n",
    ")\n",
    "\n",
    "print(f\"Identified response format:\\n{url}\")\n",
    "print(\n",
    "    \"\\nSearch page response:\\n{}\".format(url.replace(response_format, \"&f=searchPage\"))\n",
    ")"
   ]
  },
  {
   "cell_type": "markdown",
   "metadata": {},
   "source": [
    "## Time to query the portal and parse out the csv response\n",
    "\n",
    "Here we are opening the specified REST API and parsing it into a string. Then, since we identified it as a csv format above, we parse it using the Pandas package. We also split the Data_Date_Range column into two columns, `data_start_date` and `data_end_date` to have that useful information available."
   ]
  },
  {
   "cell_type": "code",
   "execution_count": 4,
   "metadata": {},
   "outputs": [
    {
     "data": {
      "text/html": [
       "<div>\n",
       "<style scoped>\n",
       "    .dataframe tbody tr th:only-of-type {\n",
       "        vertical-align: middle;\n",
       "    }\n",
       "\n",
       "    .dataframe tbody tr th {\n",
       "        vertical-align: top;\n",
       "    }\n",
       "\n",
       "    .dataframe thead th {\n",
       "        text-align: right;\n",
       "    }\n",
       "</style>\n",
       "<table border=\"1\" class=\"dataframe\">\n",
       "  <thead>\n",
       "    <tr style=\"text-align: right;\">\n",
       "      <th></th>\n",
       "      <th>Id</th>\n",
       "      <th>Title</th>\n",
       "      <th>Description</th>\n",
       "      <th>West</th>\n",
       "      <th>South</th>\n",
       "      <th>East</th>\n",
       "      <th>North</th>\n",
       "      <th>Link_Xml</th>\n",
       "      <th>Link_1</th>\n",
       "      <th>Link_2</th>\n",
       "      <th>Link_3</th>\n",
       "      <th>Link_4</th>\n",
       "      <th>Data_Date_Range</th>\n",
       "      <th>Date_Published</th>\n",
       "      <th>data_start_date</th>\n",
       "      <th>data_end_date</th>\n",
       "    </tr>\n",
       "  </thead>\n",
       "  <tbody>\n",
       "    <tr>\n",
       "      <th>0</th>\n",
       "      <td>gov.noaa.nodc:0163740</td>\n",
       "      <td>Oceanographic and surface meteorological data ...</td>\n",
       "      <td>NaN</td>\n",
       "      <td>-66.5321</td>\n",
       "      <td>17.8628</td>\n",
       "      <td>-66.5212</td>\n",
       "      <td>17.8686</td>\n",
       "      <td>http://www.ncei.noaa.gov/metadata/geoportal/re...</td>\n",
       "      <td>NaN</td>\n",
       "      <td>NaN</td>\n",
       "      <td>NaN</td>\n",
       "      <td>NaN</td>\n",
       "      <td>2009-06-09T00:00:00Z to 2020-10-14T23:59:59.999Z</td>\n",
       "      <td>2017-06-27T00:00:00Z</td>\n",
       "      <td>2009-06-09 00:00:00+00:00</td>\n",
       "      <td>2020-10-15 00:00:00+00:00</td>\n",
       "    </tr>\n",
       "  </tbody>\n",
       "</table>\n",
       "</div>"
      ],
      "text/plain": [
       "                      Id                                              Title  \\\n",
       "0  gov.noaa.nodc:0163740  Oceanographic and surface meteorological data ...   \n",
       "\n",
       "   Description     West    South     East    North  \\\n",
       "0          NaN -66.5321  17.8628 -66.5212  17.8686   \n",
       "\n",
       "                                            Link_Xml  Link_1  Link_2  Link_3  \\\n",
       "0  http://www.ncei.noaa.gov/metadata/geoportal/re...     NaN     NaN     NaN   \n",
       "\n",
       "   Link_4                                   Data_Date_Range  \\\n",
       "0     NaN  2009-06-09T00:00:00Z to 2020-10-14T23:59:59.999Z   \n",
       "\n",
       "         Date_Published           data_start_date             data_end_date  \n",
       "0  2017-06-27T00:00:00Z 2009-06-09 00:00:00+00:00 2020-10-15 00:00:00+00:00  "
      ]
     },
     "execution_count": 4,
     "metadata": {},
     "output_type": "execute_result"
    }
   ],
   "source": [
    "import numpy as np\n",
    "import pandas as pd\n",
    "\n",
    "df = pd.read_csv(url)\n",
    "\n",
    "df[[\"data_start_date\", \"data_end_date\"]] = df[\"Data_Date_Range\"].str.split(\n",
    "    \" to \", expand=True\n",
    ")\n",
    "df[\"data_start_date\"] = pd.to_datetime(df[\"data_start_date\"])\n",
    "df[\"data_end_date\"] = pd.to_datetime(df[\"data_end_date\"]) + pd.Timedelta(\n",
    "    np.timedelta64(1, \"ms\")\n",
    ")\n",
    "\n",
    "df.head()"
   ]
  },
  {
   "cell_type": "markdown",
   "metadata": {},
   "source": [
    "Now, lets pull out all the ISO metadata record links and print them out so the user can browse to the metadata record and look for what items they might be interested in."
   ]
  },
  {
   "cell_type": "code",
   "execution_count": 5,
   "metadata": {},
   "outputs": [
    {
     "name": "stdout",
     "output_type": "stream",
     "text": [
      "Found 1 record(s)\n",
      "ISO19115-2 record: http://www.ncei.noaa.gov/metadata/geoportal/rest/metadata/item/gov.noaa.nodc%3A0163740/xml\n",
      "NCEI dataset metadata page: https://www.ncei.noaa.gov/access/metadata/landing-page/bin/iso?id=gov.noaa.nodc:0163740\n",
      "\n",
      "\n"
     ]
    }
   ],
   "source": [
    "# parse the csv response\n",
    "\n",
    "print(f\"Found {len(df)} record(s)\")\n",
    "for index, row in df.iterrows():\n",
    "    print(\"ISO19115-2 record:\", row[\"Link_Xml\"])  # URL to ISO19115-2 record.\n",
    "    print(\n",
    "        \"NCEI dataset metadata page: https://www.ncei.noaa.gov/access/metadata/landing-page/bin/iso?id=\"\n",
    "        + row[\"Id\"]\n",
    "    )\n",
    "    print(\"\\n\")"
   ]
  },
  {
   "cell_type": "markdown",
   "metadata": {},
   "source": [
    "## Let's collect what we have found\n",
    "\n",
    "Now that we have all the ISO metadata records we are interested in, it's time to do something fun with them. In this example we want to generate a timeseries plot of the data coverage for the \"Southern California Coastal Ocean Observing System\" stations we have archived at NCEI.\n",
    "\n",
    "First we need to collect some information. We loop through each iso record to collect metadata information about each package. The example here shows how to collect the following items:\n",
    "\n",
    "1. NCEI Archival Information Package (AIP) Accession ID (7-digit Accession Number)\n",
    "1. The first date the archive package was published.\n",
    "1. The platform code identified from the provider.\n",
    "1. The version number and date it was published.\n",
    "1. The current AIP size, in MB.\n",
    "\n",
    "There are plenty of other metadata elements to collect from the ISO records, so we recommend browsing to one of the records and having a look at the items of interest to your community."
   ]
  },
  {
   "cell_type": "code",
   "execution_count": 6,
   "metadata": {
    "scrolled": false
   },
   "outputs": [
    {
     "name": "stdout",
     "output_type": "stream",
     "text": [
      "\n",
      "First published date = 2017-06-27\n",
      "Data time coverage: 2009-06-09 to 2020-10-14\n",
      "Accession: 0163740\n",
      "Submitter: Caribbean Coastal Ocean Observing System\n",
      "Provider Platform Code = PR1 (CarICOOS Data Buoy A)\n",
      "v1.1 = 2017-06-27 14:48:07+00:00\n",
      "v2.2 = 2021-01-07 23:08:23+00:00\n",
      "Current AIP Size = 93.228 MB\n"
     ]
    }
   ],
   "source": [
    "# Process each iso record.\n",
    "%matplotlib inline\n",
    "\n",
    "import xml.etree.ElementTree as ET\n",
    "from urllib.request import urlopen\n",
    "\n",
    "from owslib import util\n",
    "\n",
    "df[\n",
    "    [\n",
    "        \"provider_platform_name\",\n",
    "        \"NCEI_accession_number\",\n",
    "        \"package_size_mb\",\n",
    "        \"submitter\",\n",
    "        \"version_info\",\n",
    "    ]\n",
    "] = \"\"\n",
    "\n",
    "# For each accession in response.\n",
    "for url in df[\"Link_Xml\"]:\n",
    "    iso = urlopen(url)\n",
    "    iso_tree = ET.parse(iso)\n",
    "    root = iso_tree.getroot()\n",
    "\n",
    "    vers_dict = dict()\n",
    "\n",
    "    # Collect Publication date information.\n",
    "    date_path = (\n",
    "        \".//\"\n",
    "        \"gmd:identificationInfo/\"\n",
    "        \"gmd:MD_DataIdentification/\"\n",
    "        \"gmd:citation/\"\n",
    "        \"gmd:CI_Citation/\"\n",
    "        \"gmd:date/\"\n",
    "        \"gmd:CI_Date/\"\n",
    "        \"gmd:date/gco:Date\"\n",
    "    )\n",
    "    # First published date.\n",
    "    pubdate = root.find(date_path, namespaces)\n",
    "    print(\"\\nFirst published date = %s\" % util.testXMLValue(pubdate))\n",
    "\n",
    "    # Data Temporal Coverage.\n",
    "    temporal_extent_path = (\n",
    "        \".//\"\n",
    "        \"gmd:temporalElement/\"\n",
    "        \"gmd:EX_TemporalExtent/\"\n",
    "        \"gmd:extent/\"\n",
    "        \"gml:TimePeriod\"\n",
    "    )\n",
    "\n",
    "    beginPosition = root.find(\n",
    "        temporal_extent_path + \"/gml:beginPosition\", namespaces\n",
    "    ).text\n",
    "    endPosition = root.find(temporal_extent_path + \"/gml:endPosition\", namespaces).text\n",
    "\n",
    "    print(f\"Data time coverage: {beginPosition} to {endPosition}\")\n",
    "\n",
    "    # Collect keyword terms of interest.\n",
    "    for MD_keywords in root.iterfind(\n",
    "        \".//gmd:descriptiveKeywords/gmd:MD_Keywords\", namespaces\n",
    "    ):\n",
    "        for thesaurus_name in MD_keywords.iterfind(\n",
    "            \".//gmd:thesaurusName/gmd:CI_Citation/gmd:title/gco:CharacterString\",\n",
    "            namespaces,\n",
    "        ):\n",
    "            if thesaurus_name.text == \"Provider Platform Names\":\n",
    "                plat_name = MD_keywords.find(\n",
    "                    \".//gmd:keyword/gco:CharacterString\", namespaces\n",
    "                ).text\n",
    "                print(\"Provider Platform Code = %s\" % plat_name)\n",
    "                df.loc[df[\"Link_Xml\"] == url, [\"provider_platform_name\"]] = plat_name\n",
    "                break\n",
    "\n",
    "            elif thesaurus_name.text == \"NCEI ACCESSION NUMBER\":\n",
    "                acce_no = MD_keywords.find(\".//gmd:keyword/gmx:Anchor\", namespaces).text\n",
    "                print(\"Accession:\", acce_no)\n",
    "                df.loc[df[\"Link_Xml\"] == url, [\"NCEI_accession_number\"]] = acce_no\n",
    "                break\n",
    "\n",
    "            elif thesaurus_name.text == \"NODC SUBMITTING INSTITUTION NAMES THESAURUS\":\n",
    "                submitter = MD_keywords.find(\n",
    "                    \".//gmd:keyword/gmx:Anchor\", namespaces\n",
    "                ).text\n",
    "                print(\"Submitter:\", submitter)\n",
    "                df.loc[df[\"Link_Xml\"] == url, [\"submitter\"]] = submitter\n",
    "\n",
    "    # Pull out the version information.\n",
    "    # Iterate through each processing step which is an NCEI version.\n",
    "    for process_step in root.iterfind(\".//gmd:processStep\", namespaces):\n",
    "        # Only parse gco:DateTime and gmd:title/gco:CharacterString.\n",
    "        vers_title = (\n",
    "            \".//\"\n",
    "            \"gmi:LE_ProcessStep/\"\n",
    "            \"gmi:output/\"\n",
    "            \"gmi:LE_Source/\"\n",
    "            \"gmd:sourceCitation/\"\n",
    "            \"gmd:CI_Citation/\"\n",
    "            \"gmd:title/\"\n",
    "            \"gco:CharacterString\"\n",
    "        )\n",
    "        vers_date = \".//\" \"gmi:LE_ProcessStep/\" \"gmd:dateTime/\" \"gco:DateTime\"\n",
    "        if process_step.findall(vers_date, namespaces) and process_step.findall(\n",
    "            vers_title, namespaces\n",
    "        ):\n",
    "            # Extract dateTime for each version.\n",
    "            datetime = pd.to_datetime(process_step.find(vers_date, namespaces).text)\n",
    "\n",
    "            # Extract version number.\n",
    "            version = process_step.find(vers_title, namespaces).text.split(\" \")[-1]\n",
    "            print(f\"{version} = {datetime}\")\n",
    "            vers_dict[version] = datetime\n",
    "            df.loc[df[\"Link_Xml\"] == url, [\"version_info\"]] = [vers_dict]\n",
    "\n",
    "    # Collect package size information.\n",
    "    # Iterate through transfer size nodes.\n",
    "    for trans_size in root.iterfind(\".//gmd:transferSize\", namespaces):\n",
    "        if trans_size.find(\".//gco:Real\", namespaces).text:\n",
    "            sizes = trans_size.find(\".//gco:Real\", namespaces).text\n",
    "            print(\"Current AIP Size = %s MB\" % sizes)\n",
    "\n",
    "            df.loc[df[\"Link_Xml\"] == url, [\"package_size_mb\"]] = sizes\n",
    "            break\n",
    "\n",
    "        break"
   ]
  },
  {
   "cell_type": "markdown",
   "metadata": {
    "collapsed": true
   },
   "source": [
    "## Create a timeseries plot of data coverage\n",
    "\n",
    "Now that we have a DataFrame with all the information we're interested in, lets make a time coverage plot for all the AIP's at NCEI."
   ]
  },
  {
   "cell_type": "code",
   "execution_count": 7,
   "metadata": {},
   "outputs": [
    {
     "data": {
      "image/png": "[encoded data removed]",
      "text/plain": [
       "<Figure size 1500x1200 with 1 Axes>"
      ]
     },
     "metadata": {},
     "output_type": "display_data"
    }
   ],
   "source": [
    "import matplotlib.dates as mdates\n",
    "import matplotlib.pyplot as plt\n",
    "\n",
    "ypos = range(len(df))\n",
    "fig, ax = plt.subplots(figsize=(15, 12))\n",
    "\n",
    "# Plot the data\n",
    "ax.barh(\n",
    "    ypos,\n",
    "    mdates.date2num(df[\"data_end_date\"]) - mdates.date2num(df[\"data_start_date\"]),\n",
    "    left=mdates.date2num(df[\"data_start_date\"]),\n",
    "    height=0.5,\n",
    "    align=\"center\",\n",
    ")\n",
    "\n",
    "xlim = (\n",
    "    mdates.date2num(df[\"data_start_date\"].min() - pd.Timedelta(30, \"d\")),\n",
    "    mdates.date2num(df[\"data_end_date\"].max() + pd.Timedelta(30, \"d\")),\n",
    ")\n",
    "\n",
    "ax.set_xlim(xlim)\n",
    "ax.set(yticks=np.arange(0, len(df)))\n",
    "ax.tick_params(which=\"both\", direction=\"out\")\n",
    "ax.set_ylabel(\"NCEI Accession Number\")\n",
    "ax.set_yticklabels(df[\"NCEI_accession_number\"])\n",
    "ax.set_title(\"NCEI archive package time coverage\")\n",
    "\n",
    "ax.xaxis_date()\n",
    "ax.set_xlabel(\"Date\")\n",
    "\n",
    "ax.grid(axis=\"x\", linestyle=\"--\")"
   ]
  },
  {
   "cell_type": "markdown",
   "metadata": {},
   "source": [
    "This procedure has been developed as an example of how to use NCEI's geoportal REST API's to collect information about packages that have been archived at NCEI. The intention is to provide some guidance and ways to collect this information without having to request it directly from NCEI. There are a significant amount of metadata elements which NCEI makes available through their ISO metadata records. Therefore, anyone interested in collecting other information from the records at NCEI should have a look at the ISO metadata records and determine which items are of interest to their community. Then, update the example code provided to collect that information."
   ]
  },
  {
   "cell_type": "markdown",
   "metadata": {},
   "source": [
    "**Author:** Mathew Biddle"
   ]
  }
 ],
 "metadata": {
  "anaconda-cloud": {},
  "celltoolbar": "Raw Cell Format",
  "kernelspec": {
   "display_name": "Python 3 (ipykernel)",
   "language": "python",
   "name": "python3"
  },
  "language_info": {
   "codemirror_mode": {
    "name": "ipython",
    "version": 3
   },
   "file_extension": ".py",
   "mimetype": "text/x-python",
   "name": "python",
   "nbconvert_exporter": "python",
   "pygments_lexer": "ipython3",
   "version": "3.11.5"
  }
 },
 "nbformat": 4,
 "nbformat_minor": 1
}
