{
 "cells": [
  {
   "cell_type": "markdown",
   "metadata": {
    "id": "Po0C-dJCrtWM"
   },
   "source": [
    "# IOOS GTS Statistics\n",
    "\n",
    "Created: 2020-10-10\n",
    "\n",
    "The Global Telecommunication System (GTS) is a coordinated effort for rapid distribution of observations.\n",
    "The GTS monthly reports show the number of messages released to GTS for each station.\n",
    "The reports contain the following fields:\n",
    "\n",
    "- location ID: Identifier that station messages are released under to the GTS;\n",
    "- region: Designated IOOS Regional Association (only for IOOS regional report);\n",
    "- sponsor: Organization that owns and maintains the station;\n",
    "- Met: Total number of met messages released to the GTS\n",
    "- Wave: Total number of wave messages released to the GTS\n",
    "\n",
    "In this notebook we will explore the statistics of the messages IOOS is releasing to GTS.\n",
    "\n",
    "## Using this notebook\n",
    "1. Pick the appropriate date range of interest.\n",
    "1. Edit the variables `start_date` and `end_date` in the cell below to reflect your time period of interest (use `YYYY-MM-DD` format).\n",
    "1. Run all the cells in the notebook. \n",
    "\n",
    "The first step is to pick the appropriate date range of interest."
   ]
  },
  {
   "cell_type": "code",
   "execution_count": 1,
   "metadata": {
    "id": "em-Mxt5MrtWS"
   },
   "outputs": [],
   "source": [
    "start_date = '2021-07-01'\n",
    "end_date = '2021-10-30'"
   ]
  },
  {
   "cell_type": "markdown",
   "metadata": {
    "id": "wgtBvHNmrtWU"
   },
   "source": [
    "Now we download the data. We will use the NDBC ioosstats server that [hosts the CSV files](https://www.ndbc.noaa.gov/ioosstats/) with the ingest data."
   ]
  },
  {
   "cell_type": "code",
   "execution_count": 2,
   "metadata": {
    "id": "kJjt1UkZrtWV"
   },
   "outputs": [
    {
     "name": "stdout",
     "output_type": "stream",
     "text": [
      "Loading https://www.ndbc.noaa.gov/ioosstats/rpts/2021_07_ioos_regional.csv\n",
      "Loading https://www.ndbc.noaa.gov/ioosstats/rpts/2021_08_ioos_regional.csv\n",
      "Loading https://www.ndbc.noaa.gov/ioosstats/rpts/2021_09_ioos_regional.csv\n",
      "Loading https://www.ndbc.noaa.gov/ioosstats/rpts/2021_10_ioos_regional.csv\n"
     ]
    },
    {
     "name": "stderr",
     "output_type": "stream",
     "text": [
      "/tmp/ipykernel_1025365/2394641125.py:25: FutureWarning: Treating datetime data as categorical rather than numeric in `.describe` is deprecated and will be removed in a future version of pandas. Specify `datetime_is_numeric=True` to silence this warning and adopt the future behavior now.\n",
      "  df.describe()\n"
     ]
    },
    {
     "data": {
      "text/html": [
       "<div>\n",
       "<style scoped>\n",
       "    .dataframe tbody tr th:only-of-type {\n",
       "        vertical-align: middle;\n",
       "    }\n",
       "\n",
       "    .dataframe tbody tr th {\n",
       "        vertical-align: top;\n",
       "    }\n",
       "\n",
       "    .dataframe thead th {\n",
       "        text-align: right;\n",
       "    }\n",
       "</style>\n",
       "<table border=\"1\" class=\"dataframe\">\n",
       "  <thead>\n",
       "    <tr style=\"text-align: right;\">\n",
       "      <th></th>\n",
       "      <th>locationID</th>\n",
       "      <th>region</th>\n",
       "      <th>sponsor</th>\n",
       "      <th>met</th>\n",
       "      <th>wave</th>\n",
       "      <th>time (UTC)</th>\n",
       "    </tr>\n",
       "  </thead>\n",
       "  <tbody>\n",
       "    <tr>\n",
       "      <th>count</th>\n",
       "      <td>695</td>\n",
       "      <td>695</td>\n",
       "      <td>695</td>\n",
       "      <td>695.0</td>\n",
       "      <td>695.0</td>\n",
       "      <td>695</td>\n",
       "    </tr>\n",
       "    <tr>\n",
       "      <th>unique</th>\n",
       "      <td>174</td>\n",
       "      <td>10</td>\n",
       "      <td>37</td>\n",
       "      <td>340.0</td>\n",
       "      <td>155.0</td>\n",
       "      <td>4</td>\n",
       "    </tr>\n",
       "    <tr>\n",
       "      <th>top</th>\n",
       "      <td>46108</td>\n",
       "      <td>GCOOS</td>\n",
       "      <td>MARINE EXCHANGE OF ALASKA</td>\n",
       "      <td>0.0</td>\n",
       "      <td>0.0</td>\n",
       "      <td>2021-08-01 00:00:00</td>\n",
       "    </tr>\n",
       "    <tr>\n",
       "      <th>freq</th>\n",
       "      <td>4</td>\n",
       "      <td>156</td>\n",
       "      <td>112</td>\n",
       "      <td>252.0</td>\n",
       "      <td>500.0</td>\n",
       "      <td>174</td>\n",
       "    </tr>\n",
       "    <tr>\n",
       "      <th>first</th>\n",
       "      <td>NaN</td>\n",
       "      <td>NaN</td>\n",
       "      <td>NaN</td>\n",
       "      <td>NaN</td>\n",
       "      <td>NaN</td>\n",
       "      <td>2021-07-01 00:00:00</td>\n",
       "    </tr>\n",
       "    <tr>\n",
       "      <th>last</th>\n",
       "      <td>NaN</td>\n",
       "      <td>NaN</td>\n",
       "      <td>NaN</td>\n",
       "      <td>NaN</td>\n",
       "      <td>NaN</td>\n",
       "      <td>2021-10-01 00:00:00</td>\n",
       "    </tr>\n",
       "  </tbody>\n",
       "</table>\n",
       "</div>"
      ],
      "text/plain": [
       "       locationID region                    sponsor    met   wave  \\\n",
       "count         695    695                        695  695.0  695.0   \n",
       "unique        174     10                         37  340.0  155.0   \n",
       "top         46108  GCOOS  MARINE EXCHANGE OF ALASKA    0.0    0.0   \n",
       "freq            4    156                        112  252.0  500.0   \n",
       "first         NaN    NaN                        NaN    NaN    NaN   \n",
       "last          NaN    NaN                        NaN    NaN    NaN   \n",
       "\n",
       "                 time (UTC)  \n",
       "count                   695  \n",
       "unique                    4  \n",
       "top     2021-08-01 00:00:00  \n",
       "freq                    174  \n",
       "first   2021-07-01 00:00:00  \n",
       "last    2021-10-01 00:00:00  "
      ]
     },
     "execution_count": 2,
     "metadata": {},
     "output_type": "execute_result"
    }
   ],
   "source": [
    "import datetime as dt\n",
    "import pandas as pd\n",
    "# example https://www.ndbc.noaa.gov/ioosstats/rpts/2021_03_ioos_regional.csv\n",
    "\n",
    "start = dt.datetime.strptime(start_date,'%Y-%m-%d')\n",
    "end = dt.datetime.strptime(end_date,'%Y-%m-%d')\n",
    "\n",
    "# build an array for days between dates\n",
    "date_array = (start + dt.timedelta(days=x) for x in range(0, (end - start).days))\n",
    "\n",
    "# get a unique list of year-months for url build\n",
    "months=[]\n",
    "for date_object in date_array:\n",
    "    months.append(date_object.strftime(\"%Y-%m\"))\n",
    "months = sorted(set(months))\n",
    "\n",
    "df = pd.DataFrame(columns=['locationID', 'region', 'sponsor', 'met', 'wave'])\n",
    "for month in months:\n",
    "  url = 'https://www.ndbc.noaa.gov/ioosstats/rpts/%s_ioos_regional.csv' % month.replace(\"-\",\"_\")\n",
    "  print('Loading %s' % url)\n",
    "  df1 = pd.read_csv(url, dtype={'met':float, 'wave':float})\n",
    "  df1['time (UTC)'] = pd.to_datetime(month)\n",
    "  df = pd.concat([df,df1])\n",
    "\n",
    "df.describe()"
   ]
  },
  {
   "cell_type": "code",
   "execution_count": 3,
   "metadata": {
    "id": "N3jFAjCvrtWV"
   },
   "outputs": [
    {
     "data": {
      "text/plain": [
       "array(['2021-07-01T00:00:00.000000000', '2021-08-01T00:00:00.000000000',\n",
       "       '2021-09-01T00:00:00.000000000', '2021-10-01T00:00:00.000000000'],\n",
       "      dtype='datetime64[ns]')"
      ]
     },
     "execution_count": 3,
     "metadata": {},
     "output_type": "execute_result"
    }
   ],
   "source": [
    "#df = e.to_pandas(parse_dates=True)\n",
    "\n",
    "df[\"locationID\"] = df[\"locationID\"].str.lower()\n",
    "\n",
    "df['time (UTC)'].unique()"
   ]
  },
  {
   "cell_type": "markdown",
   "metadata": {
    "id": "WnuNU5eHrtWW"
   },
   "source": [
    "The table has all the ingest data. We can now explore it grouping the data by IOOS Regional Association (RA)."
   ]
  },
  {
   "cell_type": "code",
   "execution_count": 4,
   "metadata": {
    "id": "ZdGeaMPfrtWW"
   },
   "outputs": [
    {
     "name": "stderr",
     "output_type": "stream",
     "text": [
      "/tmp/ipykernel_1025365/2604025456.py:3: FutureWarning: Dropping invalid columns in DataFrameGroupBy.add is deprecated. In a future version, a TypeError will be raised. Before calling .add, select only columns which should be valid for the function.\n",
      "  ax = groups.sum().plot(kind=\"bar\", figsize=(11, 3.75))\n"
     ]
    },
    {
     "data": {
      "image/png": "[encoded data removed]",
      "text/plain": [
       "<Figure size 792x270 with 1 Axes>"
      ]
     },
     "metadata": {
      "needs_background": "light"
     },
     "output_type": "display_data"
    }
   ],
   "source": [
    "groups = df.groupby(\"region\")\n",
    "\n",
    "ax = groups.sum().plot(kind=\"bar\", figsize=(11, 3.75))\n",
    "ax.yaxis.get_major_formatter().set_scientific(False)\n",
    "ax.set_ylabel(\"# observations\");"
   ]
  },
  {
   "cell_type": "markdown",
   "metadata": {
    "id": "5oP7aFrErtWX"
   },
   "source": [
    "Let us check the montly sum of data released both for individual met and wave and the totals."
   ]
  },
  {
   "cell_type": "code",
   "execution_count": 5,
   "metadata": {
    "id": "keIBv28trtWX"
   },
   "outputs": [],
   "source": [
    "import pandas as pd\n",
    "\n",
    "df[\"time (UTC)\"] = pd.to_datetime(df[\"time (UTC)\"])\n",
    "# Remove time-zone info for easier plotting, it is all UTC.\n",
    "df[\"time (UTC)\"] = df[\"time (UTC)\"].dt.tz_localize(None)\n",
    "\n",
    "groups = df.groupby(pd.Grouper(key=\"time (UTC)\", freq=\"M\"))"
   ]
  },
  {
   "cell_type": "markdown",
   "metadata": {
    "id": "9_iEHmiTrtWY"
   },
   "source": [
    "We can create a table of observations per month,"
   ]
  },
  {
   "cell_type": "code",
   "execution_count": 6,
   "metadata": {
    "id": "JxcIjc05rtWY"
   },
   "outputs": [
    {
     "name": "stdout",
     "output_type": "stream",
     "text": [
      "Monthly totals:\n",
      "                   met      wave      total\n",
      "time (UTC)                                \n",
      "2021-07     1000690.0  227112.0  1227802.0\n",
      "2021-08      967746.0  226282.0  1194028.0\n",
      "2021-09      923172.0  205020.0  1128192.0\n",
      "2021-10      925680.0  180742.0  1106422.0 \n",
      "\n",
      "Sum for time period 2021-07 to 2021-10: 4656444\n"
     ]
    },
    {
     "name": "stderr",
     "output_type": "stream",
     "text": [
      "/tmp/ipykernel_1025365/3357537254.py:1: FutureWarning: Dropping invalid columns in DataFrameGroupBy.add is deprecated. In a future version, a TypeError will be raised. Before calling .add, select only columns which should be valid for the function.\n",
      "  s = groups[['time (UTC)','met','wave']].sum() # reducing the columns so the summary is digestable\n"
     ]
    }
   ],
   "source": [
    "s = groups[['time (UTC)','met','wave']].sum() # reducing the columns so the summary is digestable\n",
    "totals = s.assign(total=s[\"met\"] + s[\"wave\"])\n",
    "totals.index = totals.index.to_period(\"M\")\n",
    "\n",
    "print('Monthly totals:\\n',totals,'\\n')\n",
    "\n",
    "print('Sum for time period %s to %s: %i'%(totals.index.min(),totals.index.max(),totals['total'].sum()))"
   ]
  },
  {
   "cell_type": "markdown",
   "metadata": {
    "id": "mkEpqlRLrtWZ"
   },
   "source": [
    "and visualize it in a bar plot."
   ]
  },
  {
   "cell_type": "code",
   "execution_count": 7,
   "metadata": {
    "id": "WEz1GN6zrtWZ"
   },
   "outputs": [
    {
     "data": {
      "text/plain": [
       "Text(0, 0.5, '# observations')"
      ]
     },
     "execution_count": 7,
     "metadata": {},
     "output_type": "execute_result"
    },
    {
     "data": {
      "image/png": "[encoded data removed]",
      "text/plain": [
       "<Figure size 792x270 with 1 Axes>"
      ]
     },
     "metadata": {
      "needs_background": "light"
     },
     "output_type": "display_data"
    }
   ],
   "source": [
    "%matplotlib inline\n",
    "import matplotlib.dates as mdates\n",
    "import matplotlib.pyplot as plt\n",
    "\n",
    "fig, ax = plt.subplots(figsize=(11, 3.75))\n",
    "\n",
    "s.plot(ax=ax, kind=\"bar\")\n",
    "ax.set_xticklabels(\n",
    "    labels=s.index.to_series().dt.strftime(\"%Y-%b\"),\n",
    "    rotation=70,\n",
    "    rotation_mode=\"anchor\",\n",
    "    ha=\"right\",\n",
    ")\n",
    "ax.yaxis.get_major_formatter().set_scientific(False)\n",
    "ax.set_ylabel(\"# observations\")"
   ]
  },
  {
   "cell_type": "markdown",
   "metadata": {
    "id": "Pt3yasWfrtWa"
   },
   "source": [
    "Those plots are intersting to understand the RAs role in the GTS ingest and how much data is being released over time. It would be nice to see those per buoy on a map.\n",
    "\n",
    "For that we need to get the position of the NDBC buoys. Let's get a table of all the buoys and match with what we have in teh GTS data."
   ]
  },
  {
   "cell_type": "code",
   "execution_count": 8,
   "metadata": {
    "id": "lTcddYcJrtWa",
    "scrolled": false
   },
   "outputs": [
    {
     "data": {
      "text/html": [
       "<div>\n",
       "<style scoped>\n",
       "    .dataframe tbody tr th:only-of-type {\n",
       "        vertical-align: middle;\n",
       "    }\n",
       "\n",
       "    .dataframe tbody tr th {\n",
       "        vertical-align: top;\n",
       "    }\n",
       "\n",
       "    .dataframe thead th {\n",
       "        text-align: right;\n",
       "    }\n",
       "</style>\n",
       "<table border=\"1\" class=\"dataframe\">\n",
       "  <thead>\n",
       "    <tr style=\"text-align: right;\">\n",
       "      <th></th>\n",
       "      <th>lat</th>\n",
       "      <th>lon</th>\n",
       "      <th>name</th>\n",
       "      <th>owner</th>\n",
       "      <th>pgm</th>\n",
       "      <th>type</th>\n",
       "      <th>met</th>\n",
       "      <th>currents</th>\n",
       "      <th>waterquality</th>\n",
       "      <th>dart</th>\n",
       "      <th>elev</th>\n",
       "      <th>seq</th>\n",
       "    </tr>\n",
       "    <tr>\n",
       "      <th>id</th>\n",
       "      <th></th>\n",
       "      <th></th>\n",
       "      <th></th>\n",
       "      <th></th>\n",
       "      <th></th>\n",
       "      <th></th>\n",
       "      <th></th>\n",
       "      <th></th>\n",
       "      <th></th>\n",
       "      <th></th>\n",
       "      <th></th>\n",
       "      <th></th>\n",
       "    </tr>\n",
       "  </thead>\n",
       "  <tbody>\n",
       "    <tr>\n",
       "      <th>00922</th>\n",
       "      <td>30.0</td>\n",
       "      <td>-90.0</td>\n",
       "      <td>OTN201 - 4800922</td>\n",
       "      <td>Dalhousie University</td>\n",
       "      <td>IOOS Partners</td>\n",
       "      <td>other</td>\n",
       "      <td>n</td>\n",
       "      <td>n</td>\n",
       "      <td>n</td>\n",
       "      <td>n</td>\n",
       "      <td>NaN</td>\n",
       "      <td>NaN</td>\n",
       "    </tr>\n",
       "    <tr>\n",
       "      <th>00923</th>\n",
       "      <td>30.0</td>\n",
       "      <td>-90.0</td>\n",
       "      <td>OTN200 - 4800923</td>\n",
       "      <td>Dalhousie University</td>\n",
       "      <td>IOOS Partners</td>\n",
       "      <td>other</td>\n",
       "      <td>n</td>\n",
       "      <td>n</td>\n",
       "      <td>n</td>\n",
       "      <td>n</td>\n",
       "      <td>NaN</td>\n",
       "      <td>NaN</td>\n",
       "    </tr>\n",
       "    <tr>\n",
       "      <th>01500</th>\n",
       "      <td>30.0</td>\n",
       "      <td>-90.0</td>\n",
       "      <td>SP031 - 3801500</td>\n",
       "      <td>SCRIPPS</td>\n",
       "      <td>IOOS Partners</td>\n",
       "      <td>other</td>\n",
       "      <td>n</td>\n",
       "      <td>n</td>\n",
       "      <td>n</td>\n",
       "      <td>n</td>\n",
       "      <td>NaN</td>\n",
       "      <td>NaN</td>\n",
       "    </tr>\n",
       "    <tr>\n",
       "      <th>01502</th>\n",
       "      <td>30.0</td>\n",
       "      <td>-90.0</td>\n",
       "      <td>Penobscot - 4801502</td>\n",
       "      <td>University of Maine</td>\n",
       "      <td>IOOS Partners</td>\n",
       "      <td>other</td>\n",
       "      <td>n</td>\n",
       "      <td>n</td>\n",
       "      <td>n</td>\n",
       "      <td>n</td>\n",
       "      <td>NaN</td>\n",
       "      <td>NaN</td>\n",
       "    </tr>\n",
       "    <tr>\n",
       "      <th>01503</th>\n",
       "      <td>30.0</td>\n",
       "      <td>-90.0</td>\n",
       "      <td>Saul - 4801503</td>\n",
       "      <td>Woods Hole Oceanographic Institution</td>\n",
       "      <td>IOOS Partners</td>\n",
       "      <td>other</td>\n",
       "      <td>n</td>\n",
       "      <td>n</td>\n",
       "      <td>n</td>\n",
       "      <td>n</td>\n",
       "      <td>NaN</td>\n",
       "      <td>NaN</td>\n",
       "    </tr>\n",
       "  </tbody>\n",
       "</table>\n",
       "</div>"
      ],
      "text/plain": [
       "        lat   lon                 name                                 owner  \\\n",
       "id                                                                             \n",
       "00922  30.0 -90.0     OTN201 - 4800922                  Dalhousie University   \n",
       "00923  30.0 -90.0     OTN200 - 4800923                  Dalhousie University   \n",
       "01500  30.0 -90.0      SP031 - 3801500                               SCRIPPS   \n",
       "01502  30.0 -90.0  Penobscot - 4801502                   University of Maine   \n",
       "01503  30.0 -90.0       Saul - 4801503  Woods Hole Oceanographic Institution   \n",
       "\n",
       "                 pgm   type met currents waterquality dart elev  seq  \n",
       "id                                                                    \n",
       "00922  IOOS Partners  other   n        n            n    n  NaN  NaN  \n",
       "00923  IOOS Partners  other   n        n            n    n  NaN  NaN  \n",
       "01500  IOOS Partners  other   n        n            n    n  NaN  NaN  \n",
       "01502  IOOS Partners  other   n        n            n    n  NaN  NaN  \n",
       "01503  IOOS Partners  other   n        n            n    n  NaN  NaN  "
      ]
     },
     "execution_count": 8,
     "metadata": {},
     "output_type": "execute_result"
    }
   ],
   "source": [
    "import xml.etree.ElementTree as et\n",
    "\n",
    "import pandas as pd\n",
    "import requests\n",
    "\n",
    "\n",
    "def make_ndbc_table():\n",
    "    url = \"https://www.ndbc.noaa.gov/activestations.xml\"\n",
    "    with requests.get(url) as r:\n",
    "        elems = et.fromstring(r.content)\n",
    "    df = pd.DataFrame([elem.attrib for elem in list(elems)])\n",
    "    df[\"id\"] = df[\"id\"].str.lower()\n",
    "    return df.set_index(\"id\")\n",
    "\n",
    "\n",
    "buoys = make_ndbc_table()\n",
    "buoys[\"lon\"] = buoys[\"lon\"].astype(float)\n",
    "buoys[\"lat\"] = buoys[\"lat\"].astype(float)\n",
    "\n",
    "buoys.head()"
   ]
  },
  {
   "cell_type": "markdown",
   "metadata": {
    "id": "WxMZlZVdrtWa"
   },
   "source": [
    "For simplificty we will plot the total of observations per buoys."
   ]
  },
  {
   "cell_type": "code",
   "execution_count": 9,
   "metadata": {
    "id": "cDqw1MNzrtWa"
   },
   "outputs": [
    {
     "name": "stderr",
     "output_type": "stream",
     "text": [
      "/tmp/ipykernel_1025365/346477240.py:2: FutureWarning: Dropping invalid columns in DataFrameGroupBy.add is deprecated. In a future version, a TypeError will be raised. Before calling .add, select only columns which should be valid for the function.\n",
      "  location_sum = groups.sum()\n"
     ]
    }
   ],
   "source": [
    "groups = df.groupby(\"locationID\")\n",
    "location_sum = groups.sum()"
   ]
  },
  {
   "cell_type": "code",
   "execution_count": 10,
   "metadata": {
    "id": "iZHCo1MartWa"
   },
   "outputs": [],
   "source": [
    "buoys = buoys.T\n",
    "\n",
    "extra_cols = pd.DataFrame({k: buoys.get(k) for k, row in location_sum.iterrows()}).T\n",
    "extra_cols = extra_cols[[\"lat\", \"lon\", \"type\", \"pgm\", \"name\"]]\n",
    "\n",
    "map_df = pd.concat([location_sum, extra_cols], axis=1)\n",
    "map_df = map_df.loc[map_df[\"met\"] + map_df[\"wave\"] > 0]"
   ]
  },
  {
   "cell_type": "markdown",
   "metadata": {
    "id": "hEMYsV5LrtWb"
   },
   "source": [
    "And now we can overlay an HTML table with the buoy information and ingest data totals."
   ]
  },
  {
   "cell_type": "code",
   "execution_count": 11,
   "metadata": {
    "id": "IMXl4O1ErtWb"
   },
   "outputs": [
    {
     "data": {
      "application/vnd.jupyter.widget-view+json": {
       "model_id": "a154ef78194b427085f0352f088f1b5e",
       "version_major": 2,
       "version_minor": 0
      },
      "text/plain": [
       "Map(center=[35, -95], controls=(ZoomControl(options=['position', 'zoom_in_text', 'zoom_in_title', 'zoom_out_te…"
      ]
     },
     "metadata": {},
     "output_type": "display_data"
    }
   ],
   "source": [
    "from ipyleaflet import AwesomeIcon, Marker, Map, LegendControl, FullScreenControl, Popup\n",
    "from ipywidgets import HTML\n",
    "\n",
    "\n",
    "m = Map(center=(35, -95), zoom=4)\n",
    "m.add_control(FullScreenControl())\n",
    "\n",
    "legend = LegendControl(\n",
    "    {\n",
    "        \"wave\": \"#FF0000\",\n",
    "        \"met\": \"#FFA500\",\n",
    "        \"both\": \"#008000\"\n",
    "    },\n",
    "    name=\"GTS\",\n",
    "    position=\"bottomright\",\n",
    ")\n",
    "m.add_control(legend)\n",
    "\n",
    "\n",
    "def make_popup(row):\n",
    "    classes = \"table table-striped table-hover table-condensed table-responsive\"\n",
    "    return pd.DataFrame(row[[\"met\", \"wave\", \"type\", \"name\", \"pgm\"]]).to_html(\n",
    "        classes=classes\n",
    "    )\n",
    "\n",
    "for k, row in map_df.iterrows():\n",
    "    if (row[\"met\"] + row[\"wave\"]) > 0:\n",
    "        location = row[\"lat\"], row[\"lon\"]\n",
    "        if row[\"met\"] == 0:\n",
    "            color = \"red\"\n",
    "        elif row[\"wave\"] == 0:\n",
    "            color = \"orange\"\n",
    "        else:\n",
    "            color = \"green\"\n",
    "        marker = Marker(\n",
    "            draggable=False,\n",
    "            icon=AwesomeIcon(name=\"life-ring\", marker_color=color),\n",
    "            location=location,\n",
    "        )\n",
    "        msg = HTML()\n",
    "        msg.value = make_popup(row)\n",
    "        marker.popup = msg\n",
    "        m.add_layer(marker)\n",
    "m"
   ]
  }
 ],
 "metadata": {
  "colab": {
   "include_colab_link": true,
   "name": "2020-10-10-GTS.ipynb",
   "provenance": []
  },
  "kernelspec": {
   "display_name": "Python 3 (ipykernel)",
   "language": "python",
   "name": "python3"
  },
  "language_info": {
   "codemirror_mode": {
    "name": "ipython",
    "version": 3
   },
   "file_extension": ".py",
   "mimetype": "text/x-python",
   "name": "python",
   "nbconvert_exporter": "python",
   "pygments_lexer": "ipython3",
   "version": "3.9.10"
  },
  "widgets": {
   "application/vnd.jupyter.widget-state+json": {
    "state": {
     "001e3005ada94508ac17b45358a1822f": {
      "model_module": "@jupyter-widgets/controls",
      "model_module_version": "1.5.0",
      "model_name": "DescriptionStyleModel",
      "state": {
       "description_width": ""
      }
     },
     "0048b5c40dc54049b0147f0a37ea248f": {
      "model_module": "@jupyter-widgets/base",
      "model_module_version": "1.2.0",
      "model_name": "LayoutModel",
      "state": {}
     },
     "00c75d83c7274e16829492fe7f5d668e": {
      "model_module": "jupyter-leaflet",
      "model_module_version": "^0.15.0",
      "model_name": "LeafletAwesomeIconModel",
      "state": {
       "_model_module_version": "^0.15.0",
       "_view_module_version": "^0.15.0",
       "icon_color": "white",
       "marker_color": "orange",
       "name": "life-ring"
      }
     },
     "00c775c8504a479ab0e21f50c2c85d73": {
      "model_module": "jupyter-leaflet",
      "model_module_version": "^0.15.0",
      "model_name": "LeafletMarkerModel",
      "state": {
       "_model_module_version": "^0.15.0",
       "_view_module_version": "^0.15.0",
       "draggable": false,
       "icon": "IPY_MODEL_a9b7cfb36611493e81a36776ff4dcb76",
       "location": [
        43.179,
        -70.426
       ],
       "options": [
        "alt",
        "draggable",
        "keyboard",
        "rise_offset",
        "rise_on_hover",
        "rotation_angle",
        "rotation_origin",
        "title",
        "z_index_offset"
       ],
       "popup": "IPY_MODEL_2d4ca3482930491d941ae16894276a1a"
      }
     },
     "0120d43abbd647e88940a6a6e4ce4bb3": {
      "model_module": "jupyter-leaflet",
      "model_module_version": "^0.15.0",
      "model_name": "LeafletMarkerModel",
      "state": {
       "_model_module_version": "^0.15.0",
       "_view_module_version": "^0.15.0",
       "draggable": false,
       "icon": "IPY_MODEL_2679d5f417c94ff995db2046c8af193c",
       "location": [
        42.491,
        -87.779
       ],
       "options": [
        "alt",
        "draggable",
        "keyboard",
        "rise_offset",
        "rise_on_hover",
        "rotation_angle",
        "rotation_origin",
        "title",
        "z_index_offset"
       ],
       "popup": "IPY_MODEL_e9c70087ca154a1d97e1ec79e9acb886"
      }
     },
     "01420990afdf47e2817a2db6826687b3": {
      "model_module": "jupyter-leaflet",
      "model_module_version": "^0.15.0",
      "model_name": "LeafletFullScreenControlModel",
      "state": {
       "_model_module_version": "^0.15.0",
       "_view_module_version": "^0.15.0",
       "options": [
        "position"
       ]
      }
     },
     "01bfcc394f0b45bda0907fbcca17c532": {
      "model_module": "@jupyter-widgets/controls",
      "model_module_version": "1.5.0",
      "model_name": "HTMLModel",
      "state": {
       "layout": "IPY_MODEL_867198fbe3c54f228cdde5eb6d364629",
       "style": "IPY_MODEL_0b98c1274e0d41ef9ed8bf39da73b4b2",
       "value": "<table border=\"1\" class=\"dataframe table table-striped table-hover table-condensed table-responsive\">\n  <thead>\n    <tr style=\"text-align: right;\">\n      <th></th>\n      <th>42085</th>\n    </tr>\n  </thead>\n  <tbody>\n    <tr>\n      <th>met</th>\n      <td>34254.0</td>\n    </tr>\n    <tr>\n      <th>wave</th>\n      <td>5832.0</td>\n    </tr>\n    <tr>\n      <th>type</th>\n      <td>buoy</td>\n    </tr>\n    <tr>\n      <th>name</th>\n      <td>Southeast of Ponce, PR</td>\n    </tr>\n    <tr>\n      <th>pgm</th>\n      <td>IOOS Partners</td>\n    </tr>\n  </tbody>\n</table>"
      }
     },
     "025029d7f8894d979698b9d9cbc5782c": {
      "model_module": "@jupyter-widgets/controls",
      "model_module_version": "1.5.0",
      "model_name": "HTMLModel",
      "state": {
       "layout": "IPY_MODEL_38cc7efed2344b9997b6c15f2542507b",
       "style": "IPY_MODEL_2b7f4d1b72014dc8ab86fa1239252264",
       "value": "<table border=\"1\" class=\"dataframe table table-striped table-hover table-condensed table-responsive\">\n  <thead>\n    <tr style=\"text-align: right;\">\n      <th></th>\n      <th>nkxa2</th>\n    </tr>\n  </thead>\n  <tbody>\n    <tr>\n      <th>met</th>\n      <td>34244.0</td>\n    </tr>\n    <tr>\n      <th>wave</th>\n      <td>0.0</td>\n    </tr>\n    <tr>\n      <th>type</th>\n      <td>fixed</td>\n    </tr>\n    <tr>\n      <th>name</th>\n      <td>Naked Island, AK</td>\n    </tr>\n    <tr>\n      <th>pgm</th>\n      <td>IOOS Partners</td>\n    </tr>\n  </tbody>\n</table>"
      }
     },
     "028794103f21497281242d2c4c38977c": {
      "model_module": "@jupyter-widgets/controls",
      "model_module_version": "1.5.0",
      "model_name": "HTMLModel",
      "state": {
       "layout": "IPY_MODEL_da4b82981815465fbae83aed04bac331",
       "style": "IPY_MODEL_97a076e3714f49f985923767a3da0b73",
       "value": "<table border=\"1\" class=\"dataframe table table-striped table-hover table-condensed table-responsive\">\n  <thead>\n    <tr style=\"text-align: right;\">\n      <th></th>\n      <th>45170</th>\n    </tr>\n  </thead>\n  <tbody>\n    <tr>\n      <th>met</th>\n      <td>27838.0</td>\n    </tr>\n    <tr>\n      <th>wave</th>\n      <td>26778.0</td>\n    </tr>\n    <tr>\n      <th>type</th>\n      <td>buoy</td>\n    </tr>\n    <tr>\n      <th>name</th>\n      <td>Michigan City Buoy, IN</td>\n    </tr>\n    <tr>\n      <th>pgm</th>\n      <td>IOOS Partners</td>\n    </tr>\n  </tbody>\n</table>"
      }
     },
     "0296f7b0a13f401ebe48a29b1cc4ddb1": {
      "model_module": "jupyter-leaflet",
      "model_module_version": "^0.15.0",
      "model_name": "LeafletMarkerModel",
      "state": {
       "_model_module_version": "^0.15.0",
       "_view_module_version": "^0.15.0",
       "draggable": false,
       "icon": "IPY_MODEL_cf9647dfcffd4728a50a153850ec3860",
       "location": [
        29.515,
        -94.513
       ],
       "options": [
        "alt",
        "draggable",
        "keyboard",
        "rise_offset",
        "rise_on_hover",
        "rotation_angle",
        "rotation_origin",
        "title",
        "z_index_offset"
       ],
       "popup": "IPY_MODEL_87f40df2d9e64235bba395a14440031f"
      }
     },
     "031d0ad78d0b4dd487c47ec529239239": {
      "model_module": "@jupyter-widgets/controls",
      "model_module_version": "1.5.0",
      "model_name": "HTMLModel",
      "state": {
       "layout": "IPY_MODEL_27eb60bd25e042cea3da85783372b88e",
       "style": "IPY_MODEL_140e142d030a423fa23b9ee406c980e9",
       "value": "<table border=\"1\" class=\"dataframe table table-striped table-hover table-condensed table-responsive\">\n  <thead>\n    <tr style=\"text-align: right;\">\n      <th></th>\n      <th>51212</th>\n    </tr>\n  </thead>\n  <tbody>\n    <tr>\n      <th>met</th>\n      <td>0.0</td>\n    </tr>\n    <tr>\n      <th>wave</th>\n      <td>11530.0</td>\n    </tr>\n    <tr>\n      <th>type</th>\n      <td>buoy</td>\n    </tr>\n    <tr>\n      <th>name</th>\n      <td>Barbers Point, Kalaeloa, HI (238)</td>\n    </tr>\n    <tr>\n      <th>pgm</th>\n      <td>IOOS Partners</td>\n    </tr>\n  </tbody>\n</table>"
      }
     },
     "03471ea6e847438e971677ecc2892ff0": {
      "model_module": "jupyter-leaflet",
      "model_module_version": "^0.15.0",
      "model_name": "LeafletMapStyleModel",
      "state": {
       "_model_module_version": "^0.15.0",
       "cursor": "move"
      }
     },
     "037cab3f9297485ebe6c7a265b8efaf4": {
      "model_module": "@jupyter-widgets/controls",
      "model_module_version": "1.5.0",
      "model_name": "DescriptionStyleModel",
      "state": {
       "description_width": ""
      }
     },
     "0381c25b93654f16914080c9f7a1a197": {
      "model_module": "@jupyter-widgets/controls",
      "model_module_version": "1.5.0",
      "model_name": "HTMLModel",
      "state": {
       "layout": "IPY_MODEL_3e43dc12af144c2cb6bd247c7b8ff9e2",
       "style": "IPY_MODEL_d39c5e1db3fe43d8ab506c2eb7d10254",
       "value": "<table border=\"1\" class=\"dataframe table table-striped table-hover table-condensed table-responsive\">\n  <thead>\n    <tr style=\"text-align: right;\">\n      <th></th>\n      <th>ssbn7</th>\n    </tr>\n  </thead>\n  <tbody>\n    <tr>\n      <th>met</th>\n      <td>0.0</td>\n    </tr>\n    <tr>\n      <th>wave</th>\n      <td>11772.0</td>\n    </tr>\n    <tr>\n      <th>type</th>\n      <td>buoy</td>\n    </tr>\n    <tr>\n      <th>name</th>\n      <td>Sunset Beach Nearshore Waves (SUN2WAVE)</td>\n    </tr>\n    <tr>\n      <th>pgm</th>\n      <td>IOOS Partners</td>\n    </tr>\n  </tbody>\n</table>"
      }
     },
     "03d6e69f7d8c421ba9f837be8f8564a6": {
      "model_module": "@jupyter-widgets/base",
      "model_module_version": "1.2.0",
      "model_name": "LayoutModel",
      "state": {}
     },
     "043993a9dae84d9183f34d2d7cf2998e": {
      "model_module": "@jupyter-widgets/base",
      "model_module_version": "1.2.0",
      "model_name": "LayoutModel",
      "state": {}
     },
     "0441f03d041d4f8f86a96d29346dfbd7": {
      "model_module": "@jupyter-widgets/controls",
      "model_module_version": "1.5.0",
      "model_name": "DescriptionStyleModel",
      "state": {
       "description_width": ""
      }
     },
     "045eb1d426cd442ca44bf0c5d79439fd": {
      "model_module": "@jupyter-widgets/controls",
      "model_module_version": "1.5.0",
      "model_name": "DescriptionStyleModel",
      "state": {
       "description_width": ""
      }
     },
     "05188ed68cfc450c900226a0ad582d6f": {
      "model_module": "@jupyter-widgets/controls",
      "model_module_version": "1.5.0",
      "model_name": "DescriptionStyleModel",
      "state": {
       "description_width": ""
      }
     },
     "05a9b7f17c044004adaa26f6aa264084": {
      "model_module": "@jupyter-widgets/controls",
      "model_module_version": "1.5.0",
      "model_name": "HTMLModel",
      "state": {
       "layout": "IPY_MODEL_8d54b9bb2ff049ba8b70c9fc0d6a29e5",
       "style": "IPY_MODEL_eb657f7e18af49b496a4ae23d5471c31",
       "value": "<table border=\"1\" class=\"dataframe table table-striped table-hover table-condensed table-responsive\">\n  <thead>\n    <tr style=\"text-align: right;\">\n      <th></th>\n      <th>cdxa2</th>\n    </tr>\n  </thead>\n  <tbody>\n    <tr>\n      <th>met</th>\n      <td>12960.0</td>\n    </tr>\n    <tr>\n      <th>wave</th>\n      <td>0.0</td>\n    </tr>\n    <tr>\n      <th>type</th>\n      <td>fixed</td>\n    </tr>\n    <tr>\n      <th>name</th>\n      <td>Cape Decision MXAK, AK</td>\n    </tr>\n    <tr>\n      <th>pgm</th>\n      <td>IOOS Partners</td>\n    </tr>\n  </tbody>\n</table>"
      }
     },
     "0646fc78573f4d2483a961a8d2534abe": {
      "model_module": "@jupyter-widgets/controls",
      "model_module_version": "1.5.0",
      "model_name": "DescriptionStyleModel",
      "state": {
       "description_width": ""
      }
     },
     "068995c3b5db432286e2b1ced9dfccba": {
      "model_module": "jupyter-leaflet",
      "model_module_version": "^0.15.0",
      "model_name": "LeafletAwesomeIconModel",
      "state": {
       "_model_module_version": "^0.15.0",
       "_view_module_version": "^0.15.0",
       "icon_color": "white",
       "marker_color": "green",
       "name": "life-ring"
      }
     },
     "06cf282d8882429583b2c971f70e82d3": {
      "model_module": "jupyter-leaflet",
      "model_module_version": "^0.15.0",
      "model_name": "LeafletMarkerModel",
      "state": {
       "_model_module_version": "^0.15.0",
       "_view_module_version": "^0.15.0",
       "draggable": false,
       "icon": "IPY_MODEL_b1f4c07e92bf4d5b9ecdb0c1b3121341",
       "location": [
        29.595,
        -94.39
       ],
       "options": [
        "alt",
        "draggable",
        "keyboard",
        "rise_offset",
        "rise_on_hover",
        "rotation_angle",
        "rotation_origin",
        "title",
        "z_index_offset"
       ],
       "popup": "IPY_MODEL_c90ab2d8cfcf4088b1c62d7043a82a69"
      }
     },
     "07261a4e52734a21a04e945bc6494d19": {
      "model_module": "jupyter-leaflet",
      "model_module_version": "^0.15.0",
      "model_name": "LeafletMarkerModel",
      "state": {
       "_model_module_version": "^0.15.0",
       "_view_module_version": "^0.15.0",
       "draggable": false,
       "icon": "IPY_MODEL_8922397ad9bb4eb8a1a0a4dcb9297d05",
       "location": [
        58.286,
        -134.39
       ],
       "options": [
        "alt",
        "draggable",
        "keyboard",
        "rise_offset",
        "rise_on_hover",
        "rotation_angle",
        "rotation_origin",
        "title",
        "z_index_offset"
       ],
       "popup": "IPY_MODEL_8ee72dedb89c4702a017f0ab3e6dd5b6"
      }
     },
     "07b59b9a79ce488296686a47105047a4": {
      "model_module": "@jupyter-widgets/controls",
      "model_module_version": "1.5.0",
      "model_name": "HTMLModel",
      "state": {
       "layout": "IPY_MODEL_4744d137d2ba4914ae7f0bba92c2ee32",
       "style": "IPY_MODEL_975305a7ffeb4e6e9ee36d4dbd4bdbdc",
       "value": "<table border=\"1\" class=\"dataframe table table-striped table-hover table-condensed table-responsive\">\n  <thead>\n    <tr style=\"text-align: right;\">\n      <th></th>\n      <th>rixa2</th>\n    </tr>\n  </thead>\n  <tbody>\n    <tr>\n      <th>met</th>\n      <td>30658.0</td>\n    </tr>\n    <tr>\n      <th>wave</th>\n      <td>0.0</td>\n    </tr>\n    <tr>\n      <th>type</th>\n      <td>fixed</td>\n    </tr>\n    <tr>\n      <th>name</th>\n      <td>Rocky Island, AK</td>\n    </tr>\n    <tr>\n      <th>pgm</th>\n      <td>IOOS Partners</td>\n    </tr>\n  </tbody>\n</table>"
      }
     },
     "07cb49013bc745ff8fc46c3db87b3df2": {
      "model_module": "@jupyter-widgets/controls",
      "model_module_version": "1.5.0",
      "model_name": "HTMLModel",
      "state": {
       "layout": "IPY_MODEL_ac574eca2bcc47858c477977e4e6ceda",
       "style": "IPY_MODEL_481ef98dbb5c454fbed73d2da014b391",
       "value": "<table border=\"1\" class=\"dataframe table table-striped table-hover table-condensed table-responsive\">\n  <thead>\n    <tr style=\"text-align: right;\">\n      <th></th>\n      <th>cpxc1</th>\n    </tr>\n  </thead>\n  <tbody>\n    <tr>\n      <th>met</th>\n      <td>17460.0</td>\n    </tr>\n    <tr>\n      <th>wave</th>\n      <td>0.0</td>\n    </tr>\n    <tr>\n      <th>type</th>\n      <td>fixed</td>\n    </tr>\n    <tr>\n      <th>name</th>\n      <td>Cal Poly Pier, CA</td>\n    </tr>\n    <tr>\n      <th>pgm</th>\n      <td>IOOS Partners</td>\n    </tr>\n  </tbody>\n</table>"
      }
     },
     "0815ecf20b104019b882816dcea22b10": {
      "model_module": "@jupyter-widgets/controls",
      "model_module_version": "1.5.0",
      "model_name": "HTMLModel",
      "state": {
       "layout": "IPY_MODEL_edbaa799fc434aa59a3bc62eef3dda6f",
       "style": "IPY_MODEL_8d3dd68b71054e8097b563183599a600",
       "value": "<table border=\"1\" class=\"dataframe table table-striped table-hover table-condensed table-responsive\">\n  <thead>\n    <tr style=\"text-align: right;\">\n      <th></th>\n      <th>paxa2</th>\n    </tr>\n  </thead>\n  <tbody>\n    <tr>\n      <th>met</th>\n      <td>34094.0</td>\n    </tr>\n    <tr>\n      <th>wave</th>\n      <td>0.0</td>\n    </tr>\n    <tr>\n      <th>type</th>\n      <td>fixed</td>\n    </tr>\n    <tr>\n      <th>name</th>\n      <td>Point Arden, AK</td>\n    </tr>\n    <tr>\n      <th>pgm</th>\n      <td>IOOS Partners</td>\n    </tr>\n  </tbody>\n</table>"
      }
     },
     "0899a60d478547bcbfadcf9c0cf451ae": {
      "model_module": "@jupyter-widgets/controls",
      "model_module_version": "1.5.0",
      "model_name": "DescriptionStyleModel",
      "state": {
       "description_width": ""
      }
     },
     "09988a27bcfb49fe8f7c1fbd5aa2e8c3": {
      "model_module": "@jupyter-widgets/controls",
      "model_module_version": "1.5.0",
      "model_name": "DescriptionStyleModel",
      "state": {
       "description_width": ""
      }
     },
     "09bdd690e9f043a3bd607a49ce86be46": {
      "model_module": "jupyter-leaflet",
      "model_module_version": "^0.15.0",
      "model_name": "LeafletMarkerModel",
      "state": {
       "_model_module_version": "^0.15.0",
       "_view_module_version": "^0.15.0",
       "draggable": false,
       "icon": "IPY_MODEL_d76d3d0b9f934877b13d08e4c64ec9af",
       "location": [
        27.832,
        -97.486
       ],
       "options": [
        "alt",
        "draggable",
        "keyboard",
        "rise_offset",
        "rise_on_hover",
        "rotation_angle",
        "rotation_origin",
        "title",
        "z_index_offset"
       ],
       "popup": "IPY_MODEL_29a6d0b90dae41ba8ba4855912838149"
      }
     },
     "09d38d6a5efd4ffeb563454369005776": {
      "model_module": "@jupyter-widgets/base",
      "model_module_version": "1.2.0",
      "model_name": "LayoutModel",
      "state": {}
     },
     "0a30d19d950748bdb2d87a678f0e151f": {
      "model_module": "jupyter-leaflet",
      "model_module_version": "^0.15.0",
      "model_name": "LeafletAwesomeIconModel",
      "state": {
       "_model_module_version": "^0.15.0",
       "_view_module_version": "^0.15.0",
       "icon_color": "white",
       "marker_color": "orange",
       "name": "life-ring"
      }
     },
     "0a3a23ec508e40c9b0476c1bb2bad790": {
      "model_module": "@jupyter-widgets/controls",
      "model_module_version": "1.5.0",
      "model_name": "DescriptionStyleModel",
      "state": {
       "description_width": ""
      }
     },
     "0ae721d38b6d4db5920137662a574c37": {
      "model_module": "jupyter-leaflet",
      "model_module_version": "^0.15.0",
      "model_name": "LeafletAwesomeIconModel",
      "state": {
       "_model_module_version": "^0.15.0",
       "_view_module_version": "^0.15.0",
       "icon_color": "white",
       "marker_color": "orange",
       "name": "life-ring"
      }
     },
     "0b35ea44bd214078b740214542772d44": {
      "model_module": "@jupyter-widgets/controls",
      "model_module_version": "1.5.0",
      "model_name": "DescriptionStyleModel",
      "state": {
       "description_width": ""
      }
     },
     "0b98c1274e0d41ef9ed8bf39da73b4b2": {
      "model_module": "@jupyter-widgets/controls",
      "model_module_version": "1.5.0",
      "model_name": "DescriptionStyleModel",
      "state": {
       "description_width": ""
      }
     },
     "0b98f67ab983459499d7db1450923e5d": {
      "model_module": "jupyter-leaflet",
      "model_module_version": "^0.15.0",
      "model_name": "LeafletMarkerModel",
      "state": {
       "_model_module_version": "^0.15.0",
       "_view_module_version": "^0.15.0",
       "draggable": false,
       "icon": "IPY_MODEL_3c423e2901924a40b08883b8f279b5b8",
       "location": [
        30.437,
        -88.011
       ],
       "options": [
        "alt",
        "draggable",
        "keyboard",
        "rise_offset",
        "rise_on_hover",
        "rotation_angle",
        "rotation_origin",
        "title",
        "z_index_offset"
       ],
       "popup": "IPY_MODEL_dbae4867c8a540edb2d156993e5efec9"
      }
     },
     "0c131c9a43394629a2666f26204dedc4": {
      "model_module": "@jupyter-widgets/base",
      "model_module_version": "1.2.0",
      "model_name": "LayoutModel",
      "state": {}
     },
     "0c2c034c2e3849fb885d9725041284ed": {
      "model_module": "@jupyter-widgets/controls",
      "model_module_version": "1.5.0",
      "model_name": "DescriptionStyleModel",
      "state": {
       "description_width": ""
      }
     },
     "0c72fdc8c410420da08ccb641e3d4031": {
      "model_module": "@jupyter-widgets/base",
      "model_module_version": "1.2.0",
      "model_name": "LayoutModel",
      "state": {}
     },
     "0cadf3f7520e47f79d05a66cde709a80": {
      "model_module": "jupyter-leaflet",
      "model_module_version": "^0.15.0",
      "model_name": "LeafletMarkerModel",
      "state": {
       "_model_module_version": "^0.15.0",
       "_view_module_version": "^0.15.0",
       "draggable": false,
       "icon": "IPY_MODEL_7bdf4c86620e4cfeb3cc9ba3f7422a1d",
       "location": [
        41.732,
        -81.694
       ],
       "options": [
        "alt",
        "draggable",
        "keyboard",
        "rise_offset",
        "rise_on_hover",
        "rotation_angle",
        "rotation_origin",
        "title",
        "z_index_offset"
       ],
       "popup": "IPY_MODEL_0feeda8a426d46308b1f267848e9f71b"
      }
     },
     "0d8643f9fd8b4580970a75aa4eca29db": {
      "model_module": "@jupyter-widgets/controls",
      "model_module_version": "1.5.0",
      "model_name": "HTMLModel",
      "state": {
       "layout": "IPY_MODEL_208a95d84575496eb56b3e716d79d7a1",
       "style": "IPY_MODEL_534a3dccb18a439aac59e694ba1f3c6f",
       "value": "<table border=\"1\" class=\"dataframe table table-striped table-hover table-condensed table-responsive\">\n  <thead>\n    <tr style=\"text-align: right;\">\n      <th></th>\n      <th>45168</th>\n    </tr>\n  </thead>\n  <tbody>\n    <tr>\n      <th>met</th>\n      <td>27662.0</td>\n    </tr>\n    <tr>\n      <th>wave</th>\n      <td>26818.0</td>\n    </tr>\n    <tr>\n      <th>type</th>\n      <td>buoy</td>\n    </tr>\n    <tr>\n      <th>name</th>\n      <td>South Haven Buoy, MI</td>\n    </tr>\n    <tr>\n      <th>pgm</th>\n      <td>IOOS Partners</td>\n    </tr>\n  </tbody>\n</table>"
      }
     },
     "0da0375798264023adab7ea61613b6a8": {
      "model_module": "@jupyter-widgets/base",
      "model_module_version": "1.2.0",
      "model_name": "LayoutModel",
      "state": {}
     },
     "0e28b8071a6f4eecb05d440004eb45a1": {
      "model_module": "@jupyter-widgets/controls",
      "model_module_version": "1.5.0",
      "model_name": "DescriptionStyleModel",
      "state": {
       "description_width": ""
      }
     },
     "0e2a126dc49c4b7480e8e3836303df5d": {
      "model_module": "@jupyter-widgets/base",
      "model_module_version": "1.2.0",
      "model_name": "LayoutModel",
      "state": {}
     },
     "0e68f187099a41c788f804ece580f4c4": {
      "model_module": "jupyter-leaflet",
      "model_module_version": "^0.15.0",
      "model_name": "LeafletMarkerModel",
      "state": {
       "_model_module_version": "^0.15.0",
       "_view_module_version": "^0.15.0",
       "draggable": false,
       "icon": "IPY_MODEL_deb060b622cb4f068a1ff9740b219d47",
       "location": [
        36.802,
        -121.791
       ],
       "options": [
        "alt",
        "draggable",
        "keyboard",
        "rise_offset",
        "rise_on_hover",
        "rotation_angle",
        "rotation_origin",
        "title",
        "z_index_offset"
       ],
       "popup": "IPY_MODEL_6d94efa38a5b41c9bba79220ab4238c4"
      }
     },
     "0f370e08eea24be9a2bcca2a573831b6": {
      "model_module": "jupyter-leaflet",
      "model_module_version": "^0.15.0",
      "model_name": "LeafletMarkerModel",
      "state": {
       "_model_module_version": "^0.15.0",
       "_view_module_version": "^0.15.0",
       "draggable": false,
       "icon": "IPY_MODEL_91b02862e59d4aacac7ff9e094106e7c",
       "location": [
        18.376,
        -67.28
       ],
       "options": [
        "alt",
        "draggable",
        "keyboard",
        "rise_offset",
        "rise_on_hover",
        "rotation_angle",
        "rotation_origin",
        "title",
        "z_index_offset"
       ],
       "popup": "IPY_MODEL_16a213ee3e1e48ceb79c376965f12b56"
      }
     },
     "0f57353af2f64e57a7579262bb152e37": {
      "model_module": "@jupyter-widgets/controls",
      "model_module_version": "1.5.0",
      "model_name": "HTMLModel",
      "state": {
       "layout": "IPY_MODEL_c09d145589ec49d396eeb0b7680624f8",
       "style": "IPY_MODEL_c04fb178181a4c57aa2a31b7f0edf881",
       "value": "<table border=\"1\" class=\"dataframe table table-striped table-hover table-condensed table-responsive\">\n  <thead>\n    <tr style=\"text-align: right;\">\n      <th></th>\n      <th>pcnt2</th>\n    </tr>\n  </thead>\n  <tbody>\n    <tr>\n      <th>met</th>\n      <td>58272.0</td>\n    </tr>\n    <tr>\n      <th>wave</th>\n      <td>0.0</td>\n    </tr>\n    <tr>\n      <th>type</th>\n      <td>fixed</td>\n    </tr>\n    <tr>\n      <th>name</th>\n      <td>8773701 - Port O'Connor, Matagorda Bay, TX</td>\n    </tr>\n    <tr>\n      <th>pgm</th>\n      <td>IOOS Partners</td>\n    </tr>\n  </tbody>\n</table>"
      }
     },
     "0feeda8a426d46308b1f267848e9f71b": {
      "model_module": "@jupyter-widgets/controls",
      "model_module_version": "1.5.0",
      "model_name": "HTMLModel",
      "state": {
       "layout": "IPY_MODEL_aef9ddbe3f494aa2a2bd1ac88fb48909",
       "style": "IPY_MODEL_da4045e1d84a40fe817c4cf2176fc004",
       "value": "<table border=\"1\" class=\"dataframe table table-striped table-hover table-condensed table-responsive\">\n  <thead>\n    <tr style=\"text-align: right;\">\n      <th></th>\n      <th>45164</th>\n    </tr>\n  </thead>\n  <tbody>\n    <tr>\n      <th>met</th>\n      <td>5644.0</td>\n    </tr>\n    <tr>\n      <th>wave</th>\n      <td>5864.0</td>\n    </tr>\n    <tr>\n      <th>type</th>\n      <td>buoy</td>\n    </tr>\n    <tr>\n      <th>name</th>\n      <td>Cleveland Buoy, OH</td>\n    </tr>\n    <tr>\n      <th>pgm</th>\n      <td>IOOS Partners</td>\n    </tr>\n  </tbody>\n</table>"
      }
     },
     "0ff00f4e965b42799c182cbac440b3b5": {
      "model_module": "jupyter-leaflet",
      "model_module_version": "^0.15.0",
      "model_name": "LeafletAwesomeIconModel",
      "state": {
       "_model_module_version": "^0.15.0",
       "_view_module_version": "^0.15.0",
       "icon_color": "white",
       "marker_color": "orange",
       "name": "life-ring"
      }
     },
     "10e829b1f97045a9890b44ef3cac0193": {
      "model_module": "@jupyter-widgets/base",
      "model_module_version": "1.2.0",
      "model_name": "LayoutModel",
      "state": {}
     },
     "115e0b8315a64e7f9254c07b60802847": {
      "model_module": "jupyter-leaflet",
      "model_module_version": "^0.15.0",
      "model_name": "LeafletAwesomeIconModel",
      "state": {
       "_model_module_version": "^0.15.0",
       "_view_module_version": "^0.15.0",
       "icon_color": "white",
       "marker_color": "orange",
       "name": "life-ring"
      }
     },
     "11df289334f9491f921ca2fa086c682a": {
      "model_module": "@jupyter-widgets/controls",
      "model_module_version": "1.5.0",
      "model_name": "HTMLModel",
      "state": {
       "layout": "IPY_MODEL_df9236c0dc1c4a7c80bdedd4af9553d3",
       "style": "IPY_MODEL_587a792395414df4a5fc044640414e19",
       "value": "<table border=\"1\" class=\"dataframe table table-striped table-hover table-condensed table-responsive\">\n  <thead>\n    <tr style=\"text-align: right;\">\n      <th></th>\n      <th>bzst2</th>\n    </tr>\n  </thead>\n  <tbody>\n    <tr>\n      <th>met</th>\n      <td>58680.0</td>\n    </tr>\n    <tr>\n      <th>wave</th>\n      <td>0.0</td>\n    </tr>\n    <tr>\n      <th>type</th>\n      <td>fixed</td>\n    </tr>\n    <tr>\n      <th>name</th>\n      <td>8779749 - SPI Brazos Santiago, TX</td>\n    </tr>\n    <tr>\n      <th>pgm</th>\n      <td>IOOS Partners</td>\n    </tr>\n  </tbody>\n</table>"
      }
     },
     "1266881ff8964263a9b64c677498250e": {
      "model_module": "@jupyter-widgets/base",
      "model_module_version": "1.2.0",
      "model_name": "LayoutModel",
      "state": {}
     },
     "1291fe07d3af4370b059ca8ec42f3be4": {
      "model_module": "@jupyter-widgets/controls",
      "model_module_version": "1.5.0",
      "model_name": "HTMLModel",
      "state": {
       "layout": "IPY_MODEL_c2236cde9f754df5a384db168c3462ce",
       "style": "IPY_MODEL_d16a9fc03bb349388ea825ecc7c8c871",
       "value": "<table border=\"1\" class=\"dataframe table table-striped table-hover table-condensed table-responsive\">\n  <thead>\n    <tr style=\"text-align: right;\">\n      <th></th>\n      <th>46108</th>\n    </tr>\n  </thead>\n  <tbody>\n    <tr>\n      <th>met</th>\n      <td>0.0</td>\n    </tr>\n    <tr>\n      <th>wave</th>\n      <td>8184.0</td>\n    </tr>\n    <tr>\n      <th>type</th>\n      <td>buoy</td>\n    </tr>\n    <tr>\n      <th>name</th>\n      <td>Lower Cook Inlet (204)</td>\n    </tr>\n    <tr>\n      <th>pgm</th>\n      <td>IOOS Partners</td>\n    </tr>\n  </tbody>\n</table>"
      }
     },
     "140e142d030a423fa23b9ee406c980e9": {
      "model_module": "@jupyter-widgets/controls",
      "model_module_version": "1.5.0",
      "model_name": "DescriptionStyleModel",
      "state": {
       "description_width": ""
      }
     },
     "145ef4b394dc48488eba15801bc55998": {
      "model_module": "@jupyter-widgets/base",
      "model_module_version": "1.2.0",
      "model_name": "LayoutModel",
      "state": {}
     },
     "1478d1de59784ad68230ea8b98bf17d0": {
      "model_module": "@jupyter-widgets/controls",
      "model_module_version": "1.5.0",
      "model_name": "DescriptionStyleModel",
      "state": {
       "description_width": ""
      }
     },
     "14be5f9adf1b4b8b998043ec359b68b5": {
      "model_module": "jupyter-leaflet",
      "model_module_version": "^0.15.0",
      "model_name": "LeafletAwesomeIconModel",
      "state": {
       "_model_module_version": "^0.15.0",
       "_view_module_version": "^0.15.0",
       "icon_color": "white",
       "marker_color": "orange",
       "name": "life-ring"
      }
     },
     "14eb6e51fff24c37833cbb1b5c7450ef": {
      "model_module": "@jupyter-widgets/base",
      "model_module_version": "1.2.0",
      "model_name": "LayoutModel",
      "state": {}
     },
     "1546cb05fc634f2e8f4c64adb41fd125": {
      "model_module": "jupyter-leaflet",
      "model_module_version": "^0.15.0",
      "model_name": "LeafletMarkerModel",
      "state": {
       "_model_module_version": "^0.15.0",
       "_view_module_version": "^0.15.0",
       "draggable": false,
       "icon": "IPY_MODEL_38e805371c444924ba3e577923be6af0",
       "location": [
        58.301,
        -134.425
       ],
       "options": [
        "alt",
        "draggable",
        "keyboard",
        "rise_offset",
        "rise_on_hover",
        "rotation_angle",
        "rotation_origin",
        "title",
        "z_index_offset"
       ],
       "popup": "IPY_MODEL_b1c134c06ee041d9b6da02be56875080"
      }
     },
     "15700266102c4ea78c80a317c6a96766": {
      "model_module": "@jupyter-widgets/controls",
      "model_module_version": "1.5.0",
      "model_name": "DescriptionStyleModel",
      "state": {
       "description_width": ""
      }
     },
     "163718de7d32467da92951f0ae1af568": {
      "model_module": "@jupyter-widgets/controls",
      "model_module_version": "1.5.0",
      "model_name": "HTMLModel",
      "state": {
       "layout": "IPY_MODEL_908882f2e9314a51a11635589375a574",
       "style": "IPY_MODEL_3f800a8a131d40bba4719ef2ebf78bab",
       "value": "<table border=\"1\" class=\"dataframe table table-striped table-hover table-condensed table-responsive\">\n  <thead>\n    <tr style=\"text-align: right;\">\n      <th></th>\n      <th>44040</th>\n    </tr>\n  </thead>\n  <tbody>\n    <tr>\n      <th>met</th>\n      <td>7652.0</td>\n    </tr>\n    <tr>\n      <th>wave</th>\n      <td>0.0</td>\n    </tr>\n    <tr>\n      <th>type</th>\n      <td>buoy</td>\n    </tr>\n    <tr>\n      <th>name</th>\n      <td>Western Long Island Sound</td>\n    </tr>\n    <tr>\n      <th>pgm</th>\n      <td>IOOS Partners</td>\n    </tr>\n  </tbody>\n</table>"
      }
     },
     "167b77912bae442182f59e48389cb1be": {
      "model_module": "@jupyter-widgets/base",
      "model_module_version": "1.2.0",
      "model_name": "LayoutModel",
      "state": {}
     },
     "16a213ee3e1e48ceb79c376965f12b56": {
      "model_module": "@jupyter-widgets/controls",
      "model_module_version": "1.5.0",
      "model_name": "HTMLModel",
      "state": {
       "layout": "IPY_MODEL_e0ab3ba870ce4d5eb79f371cb25a2f0c",
       "style": "IPY_MODEL_ba038c8f747248b7a468f3ca76f0661a",
       "value": "<table border=\"1\" class=\"dataframe table table-striped table-hover table-condensed table-responsive\">\n  <thead>\n    <tr style=\"text-align: right;\">\n      <th></th>\n      <th>41115</th>\n    </tr>\n  </thead>\n  <tbody>\n    <tr>\n      <th>met</th>\n      <td>0.0</td>\n    </tr>\n    <tr>\n      <th>wave</th>\n      <td>10856.0</td>\n    </tr>\n    <tr>\n      <th>type</th>\n      <td>buoy</td>\n    </tr>\n    <tr>\n      <th>name</th>\n      <td>Rincon, Puerto Rico (181)</td>\n    </tr>\n    <tr>\n      <th>pgm</th>\n      <td>IOOS Partners</td>\n    </tr>\n  </tbody>\n</table>"
      }
     },
     "174589a1502e409ebbd15815f0ed71ea": {
      "model_module": "@jupyter-widgets/base",
      "model_module_version": "1.2.0",
      "model_name": "LayoutModel",
      "state": {}
     },
     "17a162b2641248ffb73b716833812fcd": {
      "model_module": "@jupyter-widgets/controls",
      "model_module_version": "1.5.0",
      "model_name": "HTMLModel",
      "state": {
       "layout": "IPY_MODEL_7887615f330c48c5a7e3a964a607f40b",
       "style": "IPY_MODEL_b09b1f3a912a44cc9a92e81e4fb593fd",
       "value": "<table border=\"1\" class=\"dataframe table table-striped table-hover table-condensed table-responsive\">\n  <thead>\n    <tr style=\"text-align: right;\">\n      <th></th>\n      <th>45167</th>\n    </tr>\n  </thead>\n  <tbody>\n    <tr>\n      <th>met</th>\n      <td>8612.0</td>\n    </tr>\n    <tr>\n      <th>wave</th>\n      <td>8578.0</td>\n    </tr>\n    <tr>\n      <th>type</th>\n      <td>buoy</td>\n    </tr>\n    <tr>\n      <th>name</th>\n      <td>Erie Nearshore Buoy, Erie, PA</td>\n    </tr>\n    <tr>\n      <th>pgm</th>\n      <td>IOOS Partners</td>\n    </tr>\n  </tbody>\n</table>"
      }
     },
     "181008ec53e54aceb84ca3550df547ba": {
      "model_module": "@jupyter-widgets/controls",
      "model_module_version": "1.5.0",
      "model_name": "HTMLModel",
      "state": {
       "layout": "IPY_MODEL_6788f9f1645e4fd5a5c95d697b1c22da",
       "style": "IPY_MODEL_df4db7e03d924ddba512c555f90f3b5f",
       "value": "<table border=\"1\" class=\"dataframe table table-striped table-hover table-condensed table-responsive\">\n  <thead>\n    <tr style=\"text-align: right;\">\n      <th></th>\n      <th>45026</th>\n    </tr>\n  </thead>\n  <tbody>\n    <tr>\n      <th>met</th>\n      <td>31230.0</td>\n    </tr>\n    <tr>\n      <th>wave</th>\n      <td>31246.0</td>\n    </tr>\n    <tr>\n      <th>type</th>\n      <td>buoy</td>\n    </tr>\n    <tr>\n      <th>name</th>\n      <td>Cook Nuclear Plant Buoy, Stevensville, MI</td>\n    </tr>\n    <tr>\n      <th>pgm</th>\n      <td>IOOS Partners</td>\n    </tr>\n  </tbody>\n</table>"
      }
     },
     "18a094c4dd164337b6fdd0d52ba96c7d": {
      "model_module": "jupyter-leaflet",
      "model_module_version": "^0.15.0",
      "model_name": "LeafletAwesomeIconModel",
      "state": {
       "_model_module_version": "^0.15.0",
       "_view_module_version": "^0.15.0",
       "icon_color": "white",
       "marker_color": "orange",
       "name": "life-ring"
      }
     },
     "18a166b0232e4f1c8f3a0f58618db2bd": {
      "model_module": "jupyter-leaflet",
      "model_module_version": "^0.15.0",
      "model_name": "LeafletMarkerModel",
      "state": {
       "_model_module_version": "^0.15.0",
       "_view_module_version": "^0.15.0",
       "draggable": false,
       "icon": "IPY_MODEL_390c148b806748cfa5baccbc24d9e37e",
       "location": [
        28.64,
        -96.609
       ],
       "options": [
        "alt",
        "draggable",
        "keyboard",
        "rise_offset",
        "rise_on_hover",
        "rotation_angle",
        "rotation_origin",
        "title",
        "z_index_offset"
       ],
       "popup": "IPY_MODEL_b256d26039494940a24d57ead93e572d"
      }
     },
     "190d0d111f76484c99505e32415a7196": {
      "model_module": "jupyter-leaflet",
      "model_module_version": "^0.15.0",
      "model_name": "LeafletMarkerModel",
      "state": {
       "_model_module_version": "^0.15.0",
       "_view_module_version": "^0.15.0",
       "draggable": false,
       "icon": "IPY_MODEL_88f448ac318e467e94623ade583f0354",
       "location": [
        33.837,
        -78.477
       ],
       "options": [
        "alt",
        "draggable",
        "keyboard",
        "rise_offset",
        "rise_on_hover",
        "rotation_angle",
        "rotation_origin",
        "title",
        "z_index_offset"
       ],
       "popup": "IPY_MODEL_37ef18a8a2cd4a29971ec4c246b04bca"
      }
     },
     "19308df0ea69458887fa14260eb67871": {
      "model_module": "@jupyter-widgets/controls",
      "model_module_version": "1.5.0",
      "model_name": "HTMLModel",
      "state": {
       "layout": "IPY_MODEL_bca21345143e4a3dbf9bf78f670c5ba6",
       "style": "IPY_MODEL_21b00d5ed0134f48b1187c89377021cf",
       "value": "<table border=\"1\" class=\"dataframe table table-striped table-hover table-condensed table-responsive\">\n  <thead>\n    <tr style=\"text-align: right;\">\n      <th></th>\n      <th>scxa2</th>\n    </tr>\n  </thead>\n  <tbody>\n    <tr>\n      <th>met</th>\n      <td>34156.0</td>\n    </tr>\n    <tr>\n      <th>wave</th>\n      <td>0.0</td>\n    </tr>\n    <tr>\n      <th>type</th>\n      <td>fixed</td>\n    </tr>\n    <tr>\n      <th>name</th>\n      <td>Scull Island, AK</td>\n    </tr>\n    <tr>\n      <th>pgm</th>\n      <td>IOOS Partners</td>\n    </tr>\n  </tbody>\n</table>"
      }
     },
     "195b71ebc6514c56ba694ad56a3df12a": {
      "model_module": "@jupyter-widgets/base",
      "model_module_version": "1.2.0",
      "model_name": "LayoutModel",
      "state": {}
     },
     "19ee32289b884c60974c904d6b4fa18c": {
      "model_module": "jupyter-leaflet",
      "model_module_version": "^0.15.0",
      "model_name": "LeafletAwesomeIconModel",
      "state": {
       "_model_module_version": "^0.15.0",
       "_view_module_version": "^0.15.0",
       "icon_color": "white",
       "marker_color": "orange",
       "name": "life-ring"
      }
     },
     "1a9642ae4a6446009816934d4964cb7c": {
      "model_module": "jupyter-leaflet",
      "model_module_version": "^0.15.0",
      "model_name": "LeafletAwesomeIconModel",
      "state": {
       "_model_module_version": "^0.15.0",
       "_view_module_version": "^0.15.0",
       "icon_color": "white",
       "marker_color": "green",
       "name": "life-ring"
      }
     },
     "1ac26e1272124f24aca32955fadcbbcc": {
      "model_module": "@jupyter-widgets/controls",
      "model_module_version": "1.5.0",
      "model_name": "DescriptionStyleModel",
      "state": {
       "description_width": ""
      }
     },
     "1bb6b4c14ef04a819c507b253ff6b134": {
      "model_module": "@jupyter-widgets/controls",
      "model_module_version": "1.5.0",
      "model_name": "HTMLModel",
      "state": {
       "layout": "IPY_MODEL_14eb6e51fff24c37833cbb1b5c7450ef",
       "style": "IPY_MODEL_3bb27c8604e44d92a4a94ea0a20f554d",
       "value": "<table border=\"1\" class=\"dataframe table table-striped table-hover table-condensed table-responsive\">\n  <thead>\n    <tr style=\"text-align: right;\">\n      <th></th>\n      <th>ptla2</th>\n    </tr>\n  </thead>\n  <tbody>\n    <tr>\n      <th>met</th>\n      <td>34360.0</td>\n    </tr>\n    <tr>\n      <th>wave</th>\n      <td>0.0</td>\n    </tr>\n    <tr>\n      <th>type</th>\n      <td>fixed</td>\n    </tr>\n    <tr>\n      <th>name</th>\n      <td>Portland Island, AK</td>\n    </tr>\n    <tr>\n      <th>pgm</th>\n      <td>IOOS Partners</td>\n    </tr>\n  </tbody>\n</table>"
      }
     },
     "1cdebaf868e145c19f83938954985199": {
      "model_module": "jupyter-leaflet",
      "model_module_version": "^0.15.0",
      "model_name": "LeafletAwesomeIconModel",
      "state": {
       "_model_module_version": "^0.15.0",
       "_view_module_version": "^0.15.0",
       "icon_color": "white",
       "marker_color": "orange",
       "name": "life-ring"
      }
     },
     "1d2dcba93f17452384212ae8289f41e1": {
      "model_module": "@jupyter-widgets/controls",
      "model_module_version": "1.5.0",
      "model_name": "HTMLModel",
      "state": {
       "layout": "IPY_MODEL_8f2cf9299c944367984b7c0f1a167b41",
       "style": "IPY_MODEL_ab383e752a9d4dafb7633eb1c460725d",
       "value": "<table border=\"1\" class=\"dataframe table table-striped table-hover table-condensed table-responsive\">\n  <thead>\n    <tr style=\"text-align: right;\">\n      <th></th>\n      <th>grim4</th>\n    </tr>\n  </thead>\n  <tbody>\n    <tr>\n      <th>met</th>\n      <td>30830.0</td>\n    </tr>\n    <tr>\n      <th>wave</th>\n      <td>0.0</td>\n    </tr>\n    <tr>\n      <th>type</th>\n      <td>fixed</td>\n    </tr>\n    <tr>\n      <th>name</th>\n      <td>Granite Island, MI</td>\n    </tr>\n    <tr>\n      <th>pgm</th>\n      <td>IOOS Partners</td>\n    </tr>\n  </tbody>\n</table>"
      }
     },
     "1e0175f5b10b4c5d994e2d2e4738b501": {
      "model_module": "jupyter-leaflet",
      "model_module_version": "^0.15.0",
      "model_name": "LeafletAwesomeIconModel",
      "state": {
       "_model_module_version": "^0.15.0",
       "_view_module_version": "^0.15.0",
       "icon_color": "white",
       "marker_color": "orange",
       "name": "life-ring"
      }
     },
     "1e2335b3d9e44a31abe2d96f4a766db0": {
      "model_module": "jupyter-leaflet",
      "model_module_version": "^0.15.0",
      "model_name": "LeafletMarkerModel",
      "state": {
       "_model_module_version": "^0.15.0",
       "_view_module_version": "^0.15.0",
       "draggable": false,
       "icon": "IPY_MODEL_64b64cb3a6c54a809f3d29b12b6496df",
       "location": [
        28.936,
        -95.294
       ],
       "options": [
        "alt",
        "draggable",
        "keyboard",
        "rise_offset",
        "rise_on_hover",
        "rotation_angle",
        "rotation_origin",
        "title",
        "z_index_offset"
       ],
       "popup": "IPY_MODEL_4629d5d700fc490ea0ac833abe52198a"
      }
     },
     "1e347c07a81a4081b2a26075d2f7c1c6": {
      "model_module": "@jupyter-widgets/controls",
      "model_module_version": "1.5.0",
      "model_name": "HTMLModel",
      "state": {
       "layout": "IPY_MODEL_26c7ba00043e47af811337ab561c968c",
       "style": "IPY_MODEL_efef5d45e6284d03a2a23c06b7fd45d7",
       "value": "<table border=\"1\" class=\"dataframe table table-striped table-hover table-condensed table-responsive\">\n  <thead>\n    <tr style=\"text-align: right;\">\n      <th></th>\n      <th>41037</th>\n    </tr>\n  </thead>\n  <tbody>\n    <tr>\n      <th>met</th>\n      <td>5874.0</td>\n    </tr>\n    <tr>\n      <th>wave</th>\n      <td>0.0</td>\n    </tr>\n    <tr>\n      <th>type</th>\n      <td>buoy</td>\n    </tr>\n    <tr>\n      <th>name</th>\n      <td>Wrightsville Beach Offshore, NC (ILM3)</td>\n    </tr>\n    <tr>\n      <th>pgm</th>\n      <td>IOOS Partners</td>\n    </tr>\n  </tbody>\n</table>"
      }
     },
     "1e63ee75b24d444e98c9e5ec83a8d381": {
      "model_module": "@jupyter-widgets/controls",
      "model_module_version": "1.5.0",
      "model_name": "DescriptionStyleModel",
      "state": {
       "description_width": ""
      }
     },
     "1eec2597541743de945520eeda026eea": {
      "model_module": "jupyter-leaflet",
      "model_module_version": "^0.15.0",
      "model_name": "LeafletAwesomeIconModel",
      "state": {
       "_model_module_version": "^0.15.0",
       "_view_module_version": "^0.15.0",
       "icon_color": "white",
       "marker_color": "orange",
       "name": "life-ring"
      }
     },
     "1f8519be4dbe4b66b2cca0187a81c542": {
      "model_module": "@jupyter-widgets/controls",
      "model_module_version": "1.5.0",
      "model_name": "HTMLModel",
      "state": {
       "layout": "IPY_MODEL_043993a9dae84d9183f34d2d7cf2998e",
       "style": "IPY_MODEL_1ac26e1272124f24aca32955fadcbbcc",
       "value": "<table border=\"1\" class=\"dataframe table table-striped table-hover table-condensed table-responsive\">\n  <thead>\n    <tr style=\"text-align: right;\">\n      <th></th>\n      <th>45025</th>\n    </tr>\n  </thead>\n  <tbody>\n    <tr>\n      <th>met</th>\n      <td>70528.0</td>\n    </tr>\n    <tr>\n      <th>wave</th>\n      <td>70528.0</td>\n    </tr>\n    <tr>\n      <th>type</th>\n      <td>buoy</td>\n    </tr>\n    <tr>\n      <th>name</th>\n      <td>South Entry Buoy, South Keweenaw Peninsula, MI</td>\n    </tr>\n    <tr>\n      <th>pgm</th>\n      <td>IOOS Partners</td>\n    </tr>\n  </tbody>\n</table>"
      }
     },
     "1f8a0ff38f1340bf8a16582b58166a74": {
      "model_module": "jupyter-leaflet",
      "model_module_version": "^0.15.0",
      "model_name": "LeafletAwesomeIconModel",
      "state": {
       "_model_module_version": "^0.15.0",
       "_view_module_version": "^0.15.0",
       "icon_color": "white",
       "marker_color": "red",
       "name": "life-ring"
      }
     },
     "203542ef25a64ace88bdaee7bf9787c0": {
      "model_module": "@jupyter-widgets/controls",
      "model_module_version": "1.5.0",
      "model_name": "HTMLModel",
      "state": {
       "layout": "IPY_MODEL_b1f3a66002fd41158e46864b856172d6",
       "style": "IPY_MODEL_5f6b94a0e06045d999a9364ef5f90d13",
       "value": "<table border=\"1\" class=\"dataframe table table-striped table-hover table-condensed table-responsive\">\n  <thead>\n    <tr style=\"text-align: right;\">\n      <th></th>\n      <th>51207</th>\n    </tr>\n  </thead>\n  <tbody>\n    <tr>\n      <th>met</th>\n      <td>0.0</td>\n    </tr>\n    <tr>\n      <th>wave</th>\n      <td>11086.0</td>\n    </tr>\n    <tr>\n      <th>type</th>\n      <td>buoy</td>\n    </tr>\n    <tr>\n      <th>name</th>\n      <td>Kaneohe Bay, HI (198)</td>\n    </tr>\n    <tr>\n      <th>pgm</th>\n      <td>IOOS Partners</td>\n    </tr>\n  </tbody>\n</table>"
      }
     },
     "208a95d84575496eb56b3e716d79d7a1": {
      "model_module": "@jupyter-widgets/base",
      "model_module_version": "1.2.0",
      "model_name": "LayoutModel",
      "state": {}
     },
     "20f0d23d9bbb4a47ac0d09a47f562ef8": {
      "model_module": "jupyter-leaflet",
      "model_module_version": "^0.15.0",
      "model_name": "LeafletMarkerModel",
      "state": {
       "_model_module_version": "^0.15.0",
       "_view_module_version": "^0.15.0",
       "draggable": false,
       "icon": "IPY_MODEL_28434ba43a7f43c8a7b97c1cb1682693",
       "location": [
        26.801,
        -97.471
       ],
       "options": [
        "alt",
        "draggable",
        "keyboard",
        "rise_offset",
        "rise_on_hover",
        "rotation_angle",
        "rotation_origin",
        "title",
        "z_index_offset"
       ],
       "popup": "IPY_MODEL_30d2291fe706423ea8aa821ff3db8e5d"
      }
     },
     "2186c6587ac14fc1bedbac9577cd701d": {
      "model_module": "@jupyter-widgets/controls",
      "model_module_version": "1.5.0",
      "model_name": "DescriptionStyleModel",
      "state": {
       "description_width": ""
      }
     },
     "21b00d5ed0134f48b1187c89377021cf": {
      "model_module": "@jupyter-widgets/controls",
      "model_module_version": "1.5.0",
      "model_name": "DescriptionStyleModel",
      "state": {
       "description_width": ""
      }
     },
     "21cd40843bde45d18c70e904f756e328": {
      "model_module": "@jupyter-widgets/controls",
      "model_module_version": "1.5.0",
      "model_name": "HTMLModel",
      "state": {
       "layout": "IPY_MODEL_fa8c9b77599846e3a772045b2732fe50",
       "style": "IPY_MODEL_7f64fb6c8ed14a1e877ccc3275cce16b",
       "value": "<table border=\"1\" class=\"dataframe table table-striped table-hover table-condensed table-responsive\">\n  <thead>\n    <tr style=\"text-align: right;\">\n      <th></th>\n      <th>gixa2</th>\n    </tr>\n  </thead>\n  <tbody>\n    <tr>\n      <th>met</th>\n      <td>34236.0</td>\n    </tr>\n    <tr>\n      <th>wave</th>\n      <td>0.0</td>\n    </tr>\n    <tr>\n      <th>type</th>\n      <td>fixed</td>\n    </tr>\n    <tr>\n      <th>name</th>\n      <td>Guard Island, AK</td>\n    </tr>\n    <tr>\n      <th>pgm</th>\n      <td>IOOS Partners</td>\n    </tr>\n  </tbody>\n</table>"
      }
     },
     "21dfbccf804a4b20baee54296445f37d": {
      "model_module": "jupyter-leaflet",
      "model_module_version": "^0.15.0",
      "model_name": "LeafletMarkerModel",
      "state": {
       "_model_module_version": "^0.15.0",
       "_view_module_version": "^0.15.0",
       "draggable": false,
       "icon": "IPY_MODEL_b01e0bd75b1840a8ac2244aeb502afe5",
       "location": [
        28.446,
        -96.396
       ],
       "options": [
        "alt",
        "draggable",
        "keyboard",
        "rise_offset",
        "rise_on_hover",
        "rotation_angle",
        "rotation_origin",
        "title",
        "z_index_offset"
       ],
       "popup": "IPY_MODEL_0f57353af2f64e57a7579262bb152e37"
      }
     },
     "226b0f9365cc4c4b86380560d0511dc0": {
      "model_module": "@jupyter-widgets/base",
      "model_module_version": "1.2.0",
      "model_name": "LayoutModel",
      "state": {}
     },
     "22f48ff35031406783ba36d433107bde": {
      "model_module": "jupyter-leaflet",
      "model_module_version": "^0.15.0",
      "model_name": "LeafletMarkerModel",
      "state": {
       "_model_module_version": "^0.15.0",
       "_view_module_version": "^0.15.0",
       "draggable": false,
       "icon": "IPY_MODEL_7217ca177a9d411abe157a4432bb21e6",
       "location": [
        58.346,
        -134.752
       ],
       "options": [
        "alt",
        "draggable",
        "keyboard",
        "rise_offset",
        "rise_on_hover",
        "rotation_angle",
        "rotation_origin",
        "title",
        "z_index_offset"
       ],
       "popup": "IPY_MODEL_1bb6b4c14ef04a819c507b253ff6b134"
      }
     },
     "236adb77e3d64b76b69c43d1cf1876f9": {
      "model_module": "jupyter-leaflet",
      "model_module_version": "^0.15.0",
      "model_name": "LeafletAwesomeIconModel",
      "state": {
       "_model_module_version": "^0.15.0",
       "_view_module_version": "^0.15.0",
       "icon_color": "white",
       "marker_color": "orange",
       "name": "life-ring"
      }
     },
     "23d5299464af427ab984f4ea8a7117d2": {
      "model_module": "@jupyter-widgets/controls",
      "model_module_version": "1.5.0",
      "model_name": "HTMLModel",
      "state": {
       "layout": "IPY_MODEL_4f8d1c359ada433f92dd5fac50f2ba02",
       "style": "IPY_MODEL_f3e29f300a60486e87d66ec83c6598bd",
       "value": "<table border=\"1\" class=\"dataframe table table-striped table-hover table-condensed table-responsive\">\n  <thead>\n    <tr style=\"text-align: right;\">\n      <th></th>\n      <th>clbf1</th>\n    </tr>\n  </thead>\n  <tbody>\n    <tr>\n      <th>met</th>\n      <td>58620.0</td>\n    </tr>\n    <tr>\n      <th>wave</th>\n      <td>0.0</td>\n    </tr>\n    <tr>\n      <th>type</th>\n      <td>fixed</td>\n    </tr>\n    <tr>\n      <th>name</th>\n      <td>Clam Bayou, FL</td>\n    </tr>\n    <tr>\n      <th>pgm</th>\n      <td>IOOS Partners</td>\n    </tr>\n  </tbody>\n</table>"
      }
     },
     "24961e287b78443b83d110816341af03": {
      "model_module": "@jupyter-widgets/controls",
      "model_module_version": "1.5.0",
      "model_name": "HTMLModel",
      "state": {
       "layout": "IPY_MODEL_10e829b1f97045a9890b44ef3cac0193",
       "style": "IPY_MODEL_4e7ded05b73543c291337c279b472c7b",
       "value": "<table border=\"1\" class=\"dataframe table table-striped table-hover table-condensed table-responsive\">\n  <thead>\n    <tr style=\"text-align: right;\">\n      <th></th>\n      <th>kexa2</th>\n    </tr>\n  </thead>\n  <tbody>\n    <tr>\n      <th>met</th>\n      <td>34314.0</td>\n    </tr>\n    <tr>\n      <th>wave</th>\n      <td>0.0</td>\n    </tr>\n    <tr>\n      <th>type</th>\n      <td>fixed</td>\n    </tr>\n    <tr>\n      <th>name</th>\n      <td>Ketchikan Harbor, AK</td>\n    </tr>\n    <tr>\n      <th>pgm</th>\n      <td>IOOS Partners</td>\n    </tr>\n  </tbody>\n</table>"
      }
     },
     "258922540d66497590abfcb7ce571158": {
      "model_module": "@jupyter-widgets/controls",
      "model_module_version": "1.5.0",
      "model_name": "HTMLModel",
      "state": {
       "layout": "IPY_MODEL_1266881ff8964263a9b64c677498250e",
       "style": "IPY_MODEL_d9a5656ea1b34ea3b8126fd0b78e76f9",
       "value": "<table border=\"1\" class=\"dataframe table table-striped table-hover table-condensed table-responsive\">\n  <thead>\n    <tr style=\"text-align: right;\">\n      <th></th>\n      <th>44022</th>\n    </tr>\n  </thead>\n  <tbody>\n    <tr>\n      <th>met</th>\n      <td>7790.0</td>\n    </tr>\n    <tr>\n      <th>wave</th>\n      <td>0.0</td>\n    </tr>\n    <tr>\n      <th>type</th>\n      <td>buoy</td>\n    </tr>\n    <tr>\n      <th>name</th>\n      <td>Execution Rocks</td>\n    </tr>\n    <tr>\n      <th>pgm</th>\n      <td>IOOS Partners</td>\n    </tr>\n  </tbody>\n</table>"
      }
     },
     "25c6d73800904d0f98bba3b8cabb280e": {
      "model_module": "jupyter-leaflet",
      "model_module_version": "^0.15.0",
      "model_name": "LeafletMarkerModel",
      "state": {
       "_model_module_version": "^0.15.0",
       "_view_module_version": "^0.15.0",
       "draggable": false,
       "icon": "IPY_MODEL_ec5970105b1d4345ba471ea06bdd6c18",
       "location": [
        29.076,
        -95.122
       ],
       "options": [
        "alt",
        "draggable",
        "keyboard",
        "rise_offset",
        "rise_on_hover",
        "rotation_angle",
        "rotation_origin",
        "title",
        "z_index_offset"
       ],
       "popup": "IPY_MODEL_8f40b9548ea24229905efbe29715efb8"
      }
     },
     "25d6b6ab9a564fd7b51396ecb1e50acf": {
      "model_module": "@jupyter-widgets/base",
      "model_module_version": "1.2.0",
      "model_name": "LayoutModel",
      "state": {}
     },
     "25d880228a214c8589bdce088018d3cf": {
      "model_module": "jupyter-leaflet",
      "model_module_version": "^0.15.0",
      "model_name": "LeafletMarkerModel",
      "state": {
       "_model_module_version": "^0.15.0",
       "_view_module_version": "^0.15.0",
       "draggable": false,
       "icon": "IPY_MODEL_00c75d83c7274e16829492fe7f5d668e",
       "location": [
        29.867,
        -93.931
       ],
       "options": [
        "alt",
        "draggable",
        "keyboard",
        "rise_offset",
        "rise_on_hover",
        "rotation_angle",
        "rotation_origin",
        "title",
        "z_index_offset"
       ],
       "popup": "IPY_MODEL_e7179906557d46faadd3337e8ebaad24"
      }
     },
     "2679d5f417c94ff995db2046c8af193c": {
      "model_module": "jupyter-leaflet",
      "model_module_version": "^0.15.0",
      "model_name": "LeafletAwesomeIconModel",
      "state": {
       "_model_module_version": "^0.15.0",
       "_view_module_version": "^0.15.0",
       "icon_color": "white",
       "marker_color": "green",
       "name": "life-ring"
      }
     },
     "26a02227e35c4cc9bb5a5f5770e8985f": {
      "model_module": "@jupyter-widgets/controls",
      "model_module_version": "1.5.0",
      "model_name": "DescriptionStyleModel",
      "state": {
       "description_width": ""
      }
     },
     "26c7ba00043e47af811337ab561c968c": {
      "model_module": "@jupyter-widgets/base",
      "model_module_version": "1.2.0",
      "model_name": "LayoutModel",
      "state": {}
     },
     "27104db39e0e49529f59c0ada86247bd": {
      "model_module": "@jupyter-widgets/controls",
      "model_module_version": "1.5.0",
      "model_name": "DescriptionStyleModel",
      "state": {
       "description_width": ""
      }
     },
     "27c78a5f33cf4f7698dffb4caac8ca89": {
      "model_module": "jupyter-leaflet",
      "model_module_version": "^0.15.0",
      "model_name": "LeafletMarkerModel",
      "state": {
       "_model_module_version": "^0.15.0",
       "_view_module_version": "^0.15.0",
       "draggable": false,
       "icon": "IPY_MODEL_cb806c1f74a24f2885dd99db20594f36",
       "location": [
        33.576,
        -118.181
       ],
       "options": [
        "alt",
        "draggable",
        "keyboard",
        "rise_offset",
        "rise_on_hover",
        "rotation_angle",
        "rotation_origin",
        "title",
        "z_index_offset"
       ],
       "popup": "IPY_MODEL_d333793397b14e28b1d8870ffbe8ba65"
      }
     },
     "27eb60bd25e042cea3da85783372b88e": {
      "model_module": "@jupyter-widgets/base",
      "model_module_version": "1.2.0",
      "model_name": "LayoutModel",
      "state": {}
     },
     "282eaeeac3c74cf3a7e777f1f1855504": {
      "model_module": "@jupyter-widgets/controls",
      "model_module_version": "1.5.0",
      "model_name": "HTMLModel",
      "state": {
       "layout": "IPY_MODEL_7fa72ec340e642689a4dcf8f04f0d997",
       "style": "IPY_MODEL_9dd4eacd7027485788f0efb803c4f370",
       "value": "<table border=\"1\" class=\"dataframe table table-striped table-hover table-condensed table-responsive\">\n  <thead>\n    <tr style=\"text-align: right;\">\n      <th></th>\n      <th>irdt2</th>\n    </tr>\n  </thead>\n  <tbody>\n    <tr>\n      <th>met</th>\n      <td>58286.0</td>\n    </tr>\n    <tr>\n      <th>wave</th>\n      <td>0.0</td>\n    </tr>\n    <tr>\n      <th>type</th>\n      <td>fixed</td>\n    </tr>\n    <tr>\n      <th>name</th>\n      <td>8776139 - South Bird Island, TX</td>\n    </tr>\n    <tr>\n      <th>pgm</th>\n      <td>IOOS Partners</td>\n    </tr>\n  </tbody>\n</table>"
      }
     },
     "28434ba43a7f43c8a7b97c1cb1682693": {
      "model_module": "jupyter-leaflet",
      "model_module_version": "^0.15.0",
      "model_name": "LeafletAwesomeIconModel",
      "state": {
       "_model_module_version": "^0.15.0",
       "_view_module_version": "^0.15.0",
       "icon_color": "white",
       "marker_color": "orange",
       "name": "life-ring"
      }
     },
     "289e7178449b4a9a8ae01bd4dda867c2": {
      "model_module": "@jupyter-widgets/base",
      "model_module_version": "1.2.0",
      "model_name": "LayoutModel",
      "state": {}
     },
     "29630629afb34ce4a56b0959866ea753": {
      "model_module": "@jupyter-widgets/base",
      "model_module_version": "1.2.0",
      "model_name": "LayoutModel",
      "state": {}
     },
     "29a6d0b90dae41ba8ba4855912838149": {
      "model_module": "@jupyter-widgets/controls",
      "model_module_version": "1.5.0",
      "model_name": "HTMLModel",
      "state": {
       "layout": "IPY_MODEL_68b5880d285c479fa6e8fce26bf130f5",
       "style": "IPY_MODEL_3b52e6f8c9624ca38ce0095872c7dfc0",
       "value": "<table border=\"1\" class=\"dataframe table table-striped table-hover table-condensed table-responsive\">\n  <thead>\n    <tr style=\"text-align: right;\">\n      <th></th>\n      <th>nuet2</th>\n    </tr>\n  </thead>\n  <tbody>\n    <tr>\n      <th>met</th>\n      <td>58432.0</td>\n    </tr>\n    <tr>\n      <th>wave</th>\n      <td>0.0</td>\n    </tr>\n    <tr>\n      <th>type</th>\n      <td>fixed</td>\n    </tr>\n    <tr>\n      <th>name</th>\n      <td>8775244 - Nueces Bay, TX</td>\n    </tr>\n    <tr>\n      <th>pgm</th>\n      <td>IOOS Partners</td>\n    </tr>\n  </tbody>\n</table>"
      }
     },
     "29ef32c237cd4f638400a340ab74e466": {
      "model_module": "jupyter-leaflet",
      "model_module_version": "^0.15.0",
      "model_name": "LeafletAwesomeIconModel",
      "state": {
       "_model_module_version": "^0.15.0",
       "_view_module_version": "^0.15.0",
       "icon_color": "white",
       "marker_color": "green",
       "name": "life-ring"
      }
     },
     "2a2192f9d0884cceaef88eda30bf7bb3": {
      "model_module": "@jupyter-widgets/controls",
      "model_module_version": "1.5.0",
      "model_name": "DescriptionStyleModel",
      "state": {
       "description_width": ""
      }
     },
     "2a2213043e744004b09fb7774f92567f": {
      "model_module": "@jupyter-widgets/controls",
      "model_module_version": "1.5.0",
      "model_name": "DescriptionStyleModel",
      "state": {
       "description_width": ""
      }
     },
     "2b194adb24124dd49ed530e1f5c05238": {
      "model_module": "@jupyter-widgets/controls",
      "model_module_version": "1.5.0",
      "model_name": "HTMLModel",
      "state": {
       "layout": "IPY_MODEL_aa41e745d2f84017aaa9c9d0fdf24d82",
       "style": "IPY_MODEL_0a3a23ec508e40c9b0476c1bb2bad790",
       "value": "<table border=\"1\" class=\"dataframe table table-striped table-hover table-condensed table-responsive\">\n  <thead>\n    <tr style=\"text-align: right;\">\n      <th></th>\n      <th>51211</th>\n    </tr>\n  </thead>\n  <tbody>\n    <tr>\n      <th>met</th>\n      <td>0.0</td>\n    </tr>\n    <tr>\n      <th>wave</th>\n      <td>11686.0</td>\n    </tr>\n    <tr>\n      <th>type</th>\n      <td>buoy</td>\n    </tr>\n    <tr>\n      <th>name</th>\n      <td>Pearl Harbor Entrance, HI (233)</td>\n    </tr>\n    <tr>\n      <th>pgm</th>\n      <td>IOOS Partners</td>\n    </tr>\n  </tbody>\n</table>"
      }
     },
     "2b21847cef704192b399b5b9cd1ba11d": {
      "model_module": "jupyter-leaflet",
      "model_module_version": "^0.15.0",
      "model_name": "LeafletMarkerModel",
      "state": {
       "_model_module_version": "^0.15.0",
       "_view_module_version": "^0.15.0",
       "draggable": false,
       "icon": "IPY_MODEL_42bd06ff19a043eba30584398eba840b",
       "location": [
        44.103,
        -68.112
       ],
       "options": [
        "alt",
        "draggable",
        "keyboard",
        "rise_offset",
        "rise_on_hover",
        "rotation_angle",
        "rotation_origin",
        "title",
        "z_index_offset"
       ],
       "popup": "IPY_MODEL_5dae40798a364b8d9e59560fedc8aee5"
      }
     },
     "2b287e3ebef341728c0adcb9a97499e8": {
      "model_module": "jupyter-leaflet",
      "model_module_version": "^0.15.0",
      "model_name": "LeafletMarkerModel",
      "state": {
       "_model_module_version": "^0.15.0",
       "_view_module_version": "^0.15.0",
       "draggable": false,
       "icon": "IPY_MODEL_068995c3b5db432286e2b1ced9dfccba",
       "location": [
        43.1,
        -87.85
       ],
       "options": [
        "alt",
        "draggable",
        "keyboard",
        "rise_offset",
        "rise_on_hover",
        "rotation_angle",
        "rotation_origin",
        "title",
        "z_index_offset"
       ],
       "popup": "IPY_MODEL_c45518cc78df47d3bef33ea50420184f"
      }
     },
     "2b472625007e422489f29609073a92fd": {
      "model_module": "@jupyter-widgets/controls",
      "model_module_version": "1.5.0",
      "model_name": "HTMLModel",
      "state": {
       "layout": "IPY_MODEL_f24ca8f2a3b741b3bd556c3baf3c2086",
       "style": "IPY_MODEL_0441f03d041d4f8f86a96d29346dfbd7",
       "value": "<table border=\"1\" class=\"dataframe table table-striped table-hover table-condensed table-responsive\">\n  <thead>\n    <tr style=\"text-align: right;\">\n      <th></th>\n      <th>41052</th>\n    </tr>\n  </thead>\n  <tbody>\n    <tr>\n      <th>met</th>\n      <td>35056.0</td>\n    </tr>\n    <tr>\n      <th>wave</th>\n      <td>5864.0</td>\n    </tr>\n    <tr>\n      <th>type</th>\n      <td>buoy</td>\n    </tr>\n    <tr>\n      <th>name</th>\n      <td>South of St. John, VI</td>\n    </tr>\n    <tr>\n      <th>pgm</th>\n      <td>IOOS Partners</td>\n    </tr>\n  </tbody>\n</table>"
      }
     },
     "2b6f64bc496b4eebbb24e08f30e4b535": {
      "model_module": "@jupyter-widgets/base",
      "model_module_version": "1.2.0",
      "model_name": "LayoutModel",
      "state": {}
     },
     "2b7f4d1b72014dc8ab86fa1239252264": {
      "model_module": "@jupyter-widgets/controls",
      "model_module_version": "1.5.0",
      "model_name": "DescriptionStyleModel",
      "state": {
       "description_width": ""
      }
     },
     "2ced7bf5106046a4907cdfd8496638cc": {
      "model_module": "jupyter-leaflet",
      "model_module_version": "^0.15.0",
      "model_name": "LeafletMarkerModel",
      "state": {
       "_model_module_version": "^0.15.0",
       "_view_module_version": "^0.15.0",
       "draggable": false,
       "icon": "IPY_MODEL_19ee32289b884c60974c904d6b4fa18c",
       "location": [
        34.207,
        -76.949
       ],
       "options": [
        "alt",
        "draggable",
        "keyboard",
        "rise_offset",
        "rise_on_hover",
        "rotation_angle",
        "rotation_origin",
        "title",
        "z_index_offset"
       ],
       "popup": "IPY_MODEL_fdedce85aab6406ab6da4c67dabb38ef"
      }
     },
     "2d4ca3482930491d941ae16894276a1a": {
      "model_module": "@jupyter-widgets/controls",
      "model_module_version": "1.5.0",
      "model_name": "HTMLModel",
      "state": {
       "layout": "IPY_MODEL_226b0f9365cc4c4b86380560d0511dc0",
       "style": "IPY_MODEL_dc1bfddca46543949e516ff6645667a0",
       "value": "<table border=\"1\" class=\"dataframe table table-striped table-hover table-condensed table-responsive\">\n  <thead>\n    <tr style=\"text-align: right;\">\n      <th></th>\n      <th>44030</th>\n    </tr>\n  </thead>\n  <tbody>\n    <tr>\n      <th>met</th>\n      <td>5836.0</td>\n    </tr>\n    <tr>\n      <th>wave</th>\n      <td>5698.0</td>\n    </tr>\n    <tr>\n      <th>type</th>\n      <td>buoy</td>\n    </tr>\n    <tr>\n      <th>name</th>\n      <td>Buoy B01 - Western Maine Shelf</td>\n    </tr>\n    <tr>\n      <th>pgm</th>\n      <td>IOOS Partners</td>\n    </tr>\n  </tbody>\n</table>"
      }
     },
     "2deb4ef8fe264eb799e76b852756ac5d": {
      "model_module": "@jupyter-widgets/base",
      "model_module_version": "1.2.0",
      "model_name": "LayoutModel",
      "state": {}
     },
     "2e79e65d32ba4f14a3766f2570e2262a": {
      "model_module": "@jupyter-widgets/base",
      "model_module_version": "1.2.0",
      "model_name": "LayoutModel",
      "state": {}
     },
     "2f6149c7d7ab42ebba67c68a7c4abb1a": {
      "model_module": "@jupyter-widgets/controls",
      "model_module_version": "1.5.0",
      "model_name": "HTMLModel",
      "state": {
       "layout": "IPY_MODEL_e722996c816948ed957ff25f873bbff3",
       "style": "IPY_MODEL_037cab3f9297485ebe6c7a265b8efaf4",
       "value": "<table border=\"1\" class=\"dataframe table table-striped table-hover table-condensed table-responsive\">\n  <thead>\n    <tr style=\"text-align: right;\">\n      <th></th>\n      <th>44032</th>\n    </tr>\n  </thead>\n  <tbody>\n    <tr>\n      <th>met</th>\n      <td>5880.0</td>\n    </tr>\n    <tr>\n      <th>wave</th>\n      <td>5732.0</td>\n    </tr>\n    <tr>\n      <th>type</th>\n      <td>buoy</td>\n    </tr>\n    <tr>\n      <th>name</th>\n      <td>Buoy E01 - Central Maine Shelf</td>\n    </tr>\n    <tr>\n      <th>pgm</th>\n      <td>IOOS Partners</td>\n    </tr>\n  </tbody>\n</table>"
      }
     },
     "2fc39a839d50497f981ccb9ffeb28073": {
      "model_module": "@jupyter-widgets/controls",
      "model_module_version": "1.5.0",
      "model_name": "HTMLModel",
      "state": {
       "layout": "IPY_MODEL_d7e70ec2c2de451e81ebc3636d9536c0",
       "style": "IPY_MODEL_34406a70ccfa4f8f97116aa4209be284",
       "value": "<table border=\"1\" class=\"dataframe table table-striped table-hover table-condensed table-responsive\">\n  <thead>\n    <tr style=\"text-align: right;\">\n      <th></th>\n      <th>jlxa2</th>\n    </tr>\n  </thead>\n  <tbody>\n    <tr>\n      <th>met</th>\n      <td>34196.0</td>\n    </tr>\n    <tr>\n      <th>wave</th>\n      <td>0.0</td>\n    </tr>\n    <tr>\n      <th>type</th>\n      <td>fixed</td>\n    </tr>\n    <tr>\n      <th>name</th>\n      <td>Juneau Library, AK</td>\n    </tr>\n    <tr>\n      <th>pgm</th>\n      <td>IOOS Partners</td>\n    </tr>\n  </tbody>\n</table>"
      }
     },
     "2fc9f15e41d748d0b27b872320de5b7a": {
      "model_module": "jupyter-leaflet",
      "model_module_version": "^0.15.0",
      "model_name": "LeafletMarkerModel",
      "state": {
       "_model_module_version": "^0.15.0",
       "_view_module_version": "^0.15.0",
       "draggable": false,
       "icon": "IPY_MODEL_c0645492789542adaf422976662c6dcf",
       "location": [
        57.055,
        -135.349
       ],
       "options": [
        "alt",
        "draggable",
        "keyboard",
        "rise_offset",
        "rise_on_hover",
        "rotation_angle",
        "rotation_origin",
        "title",
        "z_index_offset"
       ],
       "popup": "IPY_MODEL_cc684fdca1724b3e84fce1f676d48f20"
      }
     },
     "30c6c55f6bac479c90b1dec93240740f": {
      "model_module": "jupyter-leaflet",
      "model_module_version": "^0.15.0",
      "model_name": "LeafletAwesomeIconModel",
      "state": {
       "_model_module_version": "^0.15.0",
       "_view_module_version": "^0.15.0",
       "icon_color": "white",
       "marker_color": "green",
       "name": "life-ring"
      }
     },
     "30d2291fe706423ea8aa821ff3db8e5d": {
      "model_module": "@jupyter-widgets/controls",
      "model_module_version": "1.5.0",
      "model_name": "HTMLModel",
      "state": {
       "layout": "IPY_MODEL_adcebad521a84c3fa0264527b7147971",
       "style": "IPY_MODEL_3d92930b60b54b7e9b44b48e8a01ff47",
       "value": "<table border=\"1\" class=\"dataframe table table-striped table-hover table-condensed table-responsive\">\n  <thead>\n    <tr style=\"text-align: right;\">\n      <th></th>\n      <th>rsjt2</th>\n    </tr>\n  </thead>\n  <tbody>\n    <tr>\n      <th>met</th>\n      <td>58666.0</td>\n    </tr>\n    <tr>\n      <th>wave</th>\n      <td>0.0</td>\n    </tr>\n    <tr>\n      <th>type</th>\n      <td>fixed</td>\n    </tr>\n    <tr>\n      <th>name</th>\n      <td>8777812 - Rincon del San Jose, TX</td>\n    </tr>\n    <tr>\n      <th>pgm</th>\n      <td>IOOS Partners</td>\n    </tr>\n  </tbody>\n</table>"
      }
     },
     "30f689301a9346ae987b11c41e56c03a": {
      "model_module": "jupyter-leaflet",
      "model_module_version": "^0.15.0",
      "model_name": "LeafletAwesomeIconModel",
      "state": {
       "_model_module_version": "^0.15.0",
       "_view_module_version": "^0.15.0",
       "icon_color": "white",
       "marker_color": "orange",
       "name": "life-ring"
      }
     },
     "3105715a84954069ac5825c0cf0f6304": {
      "model_module": "@jupyter-widgets/controls",
      "model_module_version": "1.5.0",
      "model_name": "HTMLModel",
      "state": {
       "layout": "IPY_MODEL_9e48f7b138f64ad6a18f47ae064f629d",
       "style": "IPY_MODEL_001e3005ada94508ac17b45358a1822f",
       "value": "<table border=\"1\" class=\"dataframe table table-striped table-hover table-condensed table-responsive\">\n  <thead>\n    <tr style=\"text-align: right;\">\n      <th></th>\n      <th>42013</th>\n    </tr>\n  </thead>\n  <tbody>\n    <tr>\n      <th>met</th>\n      <td>11660.0</td>\n    </tr>\n    <tr>\n      <th>wave</th>\n      <td>0.0</td>\n    </tr>\n    <tr>\n      <th>type</th>\n      <td>buoy</td>\n    </tr>\n    <tr>\n      <th>name</th>\n      <td>C10 - WFS Central Buoy, 25m Isobath</td>\n    </tr>\n    <tr>\n      <th>pgm</th>\n      <td>IOOS Partners</td>\n    </tr>\n  </tbody>\n</table>"
      }
     },
     "316700411c134269a00a1cac0f00107a": {
      "model_module": "@jupyter-widgets/controls",
      "model_module_version": "1.5.0",
      "model_name": "HTMLModel",
      "state": {
       "layout": "IPY_MODEL_174589a1502e409ebbd15815f0ed71ea",
       "style": "IPY_MODEL_e8502699fad644f2bc53b8ff77841c06",
       "value": "<table border=\"1\" class=\"dataframe table table-striped table-hover table-condensed table-responsive\">\n  <thead>\n    <tr style=\"text-align: right;\">\n      <th></th>\n      <th>mrya2</th>\n    </tr>\n  </thead>\n  <tbody>\n    <tr>\n      <th>met</th>\n      <td>34300.0</td>\n    </tr>\n    <tr>\n      <th>wave</th>\n      <td>0.0</td>\n    </tr>\n    <tr>\n      <th>type</th>\n      <td>fixed</td>\n    </tr>\n    <tr>\n      <th>name</th>\n      <td>Mary Island, AK</td>\n    </tr>\n    <tr>\n      <th>pgm</th>\n      <td>IOOS Partners</td>\n    </tr>\n  </tbody>\n</table>"
      }
     },
     "318ae17f22f240e2998dca98effddff3": {
      "model_module": "jupyter-leaflet",
      "model_module_version": "^0.15.0",
      "model_name": "LeafletMarkerModel",
      "state": {
       "_model_module_version": "^0.15.0",
       "_view_module_version": "^0.15.0",
       "draggable": false,
       "icon": "IPY_MODEL_8d0f5d5278974bbeaf350e077a5c2f4d",
       "location": [
        42.9,
        -86.272
       ],
       "options": [
        "alt",
        "draggable",
        "keyboard",
        "rise_offset",
        "rise_on_hover",
        "rotation_angle",
        "rotation_origin",
        "title",
        "z_index_offset"
       ],
       "popup": "IPY_MODEL_a326a4965e2545cbb1d72ba1fd08f2d8"
      }
     },
     "31f504c86a88475882d45722bc3a1781": {
      "model_module": "@jupyter-widgets/base",
      "model_module_version": "1.2.0",
      "model_name": "LayoutModel",
      "state": {}
     },
     "320030029cc0473a8dfa0179cc06dbb9": {
      "model_module": "jupyter-leaflet",
      "model_module_version": "^0.15.0",
      "model_name": "LeafletMarkerModel",
      "state": {
       "_model_module_version": "^0.15.0",
       "_view_module_version": "^0.15.0",
       "draggable": false,
       "icon": "IPY_MODEL_895ecf368a4f4ac59d63b10ee6f2ae78",
       "location": [
        46.814,
        -91.829
       ],
       "options": [
        "alt",
        "draggable",
        "keyboard",
        "rise_offset",
        "rise_on_hover",
        "rotation_angle",
        "rotation_origin",
        "title",
        "z_index_offset"
       ],
       "popup": "IPY_MODEL_41b47c2edc4a4ce888b364ad4652134c"
      }
     },
     "3216d579b6294f43b56878eee6096d87": {
      "model_module": "@jupyter-widgets/controls",
      "model_module_version": "1.5.0",
      "model_name": "HTMLModel",
      "state": {
       "layout": "IPY_MODEL_81fbe45bfbdf4b669f06f3c29b8ab88c",
       "style": "IPY_MODEL_d517040d382341339034f1bc62db76c0",
       "value": "<table border=\"1\" class=\"dataframe table table-striped table-hover table-condensed table-responsive\">\n  <thead>\n    <tr style=\"text-align: right;\">\n      <th></th>\n      <th>ptrp4</th>\n    </tr>\n  </thead>\n  <tbody>\n    <tr>\n      <th>met</th>\n      <td>70014.0</td>\n    </tr>\n    <tr>\n      <th>wave</th>\n      <td>0.0</td>\n    </tr>\n    <tr>\n      <th>type</th>\n      <td>fixed</td>\n    </tr>\n    <tr>\n      <th>name</th>\n      <td>Puntas Rincon, PR</td>\n    </tr>\n    <tr>\n      <th>pgm</th>\n      <td>IOOS Partners</td>\n    </tr>\n  </tbody>\n</table>"
      }
     },
     "3228fb1cf9a7478c92e40ff871302689": {
      "model_module": "jupyter-leaflet",
      "model_module_version": "^0.15.0",
      "model_name": "LeafletMarkerModel",
      "state": {
       "_model_module_version": "^0.15.0",
       "_view_module_version": "^0.15.0",
       "draggable": false,
       "icon": "IPY_MODEL_6307599ec7c4497cbcfd5b07f5e7f315",
       "location": [
        58.159,
        -134.178
       ],
       "options": [
        "alt",
        "draggable",
        "keyboard",
        "rise_offset",
        "rise_on_hover",
        "rotation_angle",
        "rotation_origin",
        "title",
        "z_index_offset"
       ],
       "popup": "IPY_MODEL_0815ecf20b104019b882816dcea22b10"
      }
     },
     "329e41aac98d407d94af39395c9f9c00": {
      "model_module": "jupyter-leaflet",
      "model_module_version": "^0.15.0",
      "model_name": "LeafletMarkerModel",
      "state": {
       "_model_module_version": "^0.15.0",
       "_view_module_version": "^0.15.0",
       "draggable": false,
       "icon": "IPY_MODEL_705d22fa359e4dc9be1c658f7d9521db",
       "location": [
        21.671,
        -158.117
       ],
       "options": [
        "alt",
        "draggable",
        "keyboard",
        "rise_offset",
        "rise_on_hover",
        "rotation_angle",
        "rotation_origin",
        "title",
        "z_index_offset"
       ],
       "popup": "IPY_MODEL_a7cbb337ebb2482bb421bff0af3290b2"
      }
     },
     "32c72114a0464a2b817fcd685762694f": {
      "model_module": "jupyter-leaflet",
      "model_module_version": "^0.15.0",
      "model_name": "LeafletAwesomeIconModel",
      "state": {
       "_model_module_version": "^0.15.0",
       "_view_module_version": "^0.15.0",
       "icon_color": "white",
       "marker_color": "orange",
       "name": "life-ring"
      }
     },
     "32c95650788b4abe87e927bbb26a63c2": {
      "model_module": "jupyter-leaflet",
      "model_module_version": "^0.15.0",
      "model_name": "LeafletMarkerModel",
      "state": {
       "_model_module_version": "^0.15.0",
       "_view_module_version": "^0.15.0",
       "draggable": false,
       "icon": "IPY_MODEL_eb51417b98de447da92029cee34e5f00",
       "location": [
        21.417,
        -157.68
       ],
       "options": [
        "alt",
        "draggable",
        "keyboard",
        "rise_offset",
        "rise_on_hover",
        "rotation_angle",
        "rotation_origin",
        "title",
        "z_index_offset"
       ],
       "popup": "IPY_MODEL_8318524434b243459d4d26dc1e02b3e2"
      }
     },
     "330b475aef80495cbb200a7270827b74": {
      "model_module": "@jupyter-widgets/base",
      "model_module_version": "1.2.0",
      "model_name": "LayoutModel",
      "state": {}
     },
     "332d2126d24a4237921a32ea0ae64e35": {
      "model_module": "jupyter-leaflet",
      "model_module_version": "^0.15.0",
      "model_name": "LeafletMarkerModel",
      "state": {
       "_model_module_version": "^0.15.0",
       "_view_module_version": "^0.15.0",
       "draggable": false,
       "icon": "IPY_MODEL_fb034728605f43209492d2334b923794",
       "location": [
        41.755,
        -86.968
       ],
       "options": [
        "alt",
        "draggable",
        "keyboard",
        "rise_offset",
        "rise_on_hover",
        "rotation_angle",
        "rotation_origin",
        "title",
        "z_index_offset"
       ],
       "popup": "IPY_MODEL_028794103f21497281242d2c4c38977c"
      }
     },
     "33420eed0d4c475eb52b0a9dc89bd214": {
      "model_module": "@jupyter-widgets/base",
      "model_module_version": "1.2.0",
      "model_name": "LayoutModel",
      "state": {}
     },
     "3370ae4389d94764b66e97ea57a05ea0": {
      "model_module": "jupyter-leaflet",
      "model_module_version": "^0.15.0",
      "model_name": "LeafletMarkerModel",
      "state": {
       "_model_module_version": "^0.15.0",
       "_view_module_version": "^0.15.0",
       "draggable": false,
       "icon": "IPY_MODEL_b8ea350f33cf4090accac7f5c0bb364b",
       "location": [
        44.055,
        -68.996
       ],
       "options": [
        "alt",
        "draggable",
        "keyboard",
        "rise_offset",
        "rise_on_hover",
        "rotation_angle",
        "rotation_origin",
        "title",
        "z_index_offset"
       ],
       "popup": "IPY_MODEL_47d01f81dd2d40248673f5f82cdca9c8"
      }
     },
     "339650bf0ff243a1915c53a1905d80a7": {
      "model_module": "jupyter-leaflet",
      "model_module_version": "^0.15.0",
      "model_name": "LeafletAwesomeIconModel",
      "state": {
       "_model_module_version": "^0.15.0",
       "_view_module_version": "^0.15.0",
       "icon_color": "white",
       "marker_color": "red",
       "name": "life-ring"
      }
     },
     "33a3cd9a3e724cfa98d2aeabcffc26b9": {
      "model_module": "jupyter-leaflet",
      "model_module_version": "^0.15.0",
      "model_name": "LeafletMarkerModel",
      "state": {
       "_model_module_version": "^0.15.0",
       "_view_module_version": "^0.15.0",
       "draggable": false,
       "icon": "IPY_MODEL_32c72114a0464a2b817fcd685762694f",
       "location": [
        52.972,
        -168.855
       ],
       "options": [
        "alt",
        "draggable",
        "keyboard",
        "rise_offset",
        "rise_on_hover",
        "rotation_angle",
        "rotation_origin",
        "title",
        "z_index_offset"
       ],
       "popup": "IPY_MODEL_340f66d4117c43cc815de0b3bfd0b052"
      }
     },
     "33bd0f1c18af49d8a734133741b81e62": {
      "model_module": "jupyter-leaflet",
      "model_module_version": "^0.15.0",
      "model_name": "LeafletAwesomeIconModel",
      "state": {
       "_model_module_version": "^0.15.0",
       "_view_module_version": "^0.15.0",
       "icon_color": "white",
       "marker_color": "red",
       "name": "life-ring"
      }
     },
     "33d156c3bb324912b54bae676645bbaa": {
      "model_module": "jupyter-leaflet",
      "model_module_version": "^0.15.0",
      "model_name": "LeafletAwesomeIconModel",
      "state": {
       "_model_module_version": "^0.15.0",
       "_view_module_version": "^0.15.0",
       "icon_color": "white",
       "marker_color": "orange",
       "name": "life-ring"
      }
     },
     "33db669fe2c841a4ba7fd434a904c7dc": {
      "model_module": "jupyter-leaflet",
      "model_module_version": "^0.15.0",
      "model_name": "LeafletMarkerModel",
      "state": {
       "_model_module_version": "^0.15.0",
       "_view_module_version": "^0.15.0",
       "draggable": false,
       "icon": "IPY_MODEL_6ceee183db22463eb50a43d24a87b92f",
       "location": [
        42.397,
        -86.331
       ],
       "options": [
        "alt",
        "draggable",
        "keyboard",
        "rise_offset",
        "rise_on_hover",
        "rotation_angle",
        "rotation_origin",
        "title",
        "z_index_offset"
       ],
       "popup": "IPY_MODEL_0d8643f9fd8b4580970a75aa4eca29db"
      }
     },
     "340f66d4117c43cc815de0b3bfd0b052": {
      "model_module": "@jupyter-widgets/controls",
      "model_module_version": "1.5.0",
      "model_name": "HTMLModel",
      "state": {
       "layout": "IPY_MODEL_6c5d16002a1f49cb9ccf1dfa1d8663bc",
       "style": "IPY_MODEL_5d84af8da7874ea8b492ab86beca6152",
       "value": "<table border=\"1\" class=\"dataframe table table-striped table-hover table-condensed table-responsive\">\n  <thead>\n    <tr style=\"text-align: right;\">\n      <th></th>\n      <th>nkla2</th>\n    </tr>\n  </thead>\n  <tbody>\n    <tr>\n      <th>met</th>\n      <td>34522.0</td>\n    </tr>\n    <tr>\n      <th>wave</th>\n      <td>0.0</td>\n    </tr>\n    <tr>\n      <th>type</th>\n      <td>fixed</td>\n    </tr>\n    <tr>\n      <th>name</th>\n      <td>Nikolski White Alice</td>\n    </tr>\n    <tr>\n      <th>pgm</th>\n      <td>IOOS Partners</td>\n    </tr>\n  </tbody>\n</table>"
      }
     },
     "34406a70ccfa4f8f97116aa4209be284": {
      "model_module": "@jupyter-widgets/controls",
      "model_module_version": "1.5.0",
      "model_name": "DescriptionStyleModel",
      "state": {
       "description_width": ""
      }
     },
     "3469a1de3e8741ab943b4dac42121690": {
      "model_module": "@jupyter-widgets/controls",
      "model_module_version": "1.5.0",
      "model_name": "HTMLModel",
      "state": {
       "layout": "IPY_MODEL_e954e98172884daabe311d208b6e58f7",
       "style": "IPY_MODEL_9cd4dfcebad2491a9618dce8c08e08f3",
       "value": "<table border=\"1\" class=\"dataframe table table-striped table-hover table-condensed table-responsive\">\n  <thead>\n    <tr style=\"text-align: right;\">\n      <th></th>\n      <th>45027</th>\n    </tr>\n  </thead>\n  <tbody>\n    <tr>\n      <th>met</th>\n      <td>31472.0</td>\n    </tr>\n    <tr>\n      <th>wave</th>\n      <td>31494.0</td>\n    </tr>\n    <tr>\n      <th>type</th>\n      <td>buoy</td>\n    </tr>\n    <tr>\n      <th>name</th>\n      <td>McQuade Harbor Nearshore, MN</td>\n    </tr>\n    <tr>\n      <th>pgm</th>\n      <td>IOOS Partners</td>\n    </tr>\n  </tbody>\n</table>"
      }
     },
     "3478c2d73fd0436591399ad048130371": {
      "model_module": "@jupyter-widgets/base",
      "model_module_version": "1.2.0",
      "model_name": "LayoutModel",
      "state": {}
     },
     "35070f8eaf884a9c95fee935f3c28e8f": {
      "model_module": "jupyter-leaflet",
      "model_module_version": "^0.15.0",
      "model_name": "LeafletAwesomeIconModel",
      "state": {
       "_model_module_version": "^0.15.0",
       "_view_module_version": "^0.15.0",
       "icon_color": "white",
       "marker_color": "orange",
       "name": "life-ring"
      }
     },
     "35386a24216c434bb24f1138ec9f7ac1": {
      "model_module": "@jupyter-widgets/controls",
      "model_module_version": "1.5.0",
      "model_name": "DescriptionStyleModel",
      "state": {
       "description_width": ""
      }
     },
     "36c413bface6421c9cb2f6e307bd50e4": {
      "model_module": "jupyter-leaflet",
      "model_module_version": "^0.15.0",
      "model_name": "LeafletMarkerModel",
      "state": {
       "_model_module_version": "^0.15.0",
       "_view_module_version": "^0.15.0",
       "draggable": false,
       "icon": "IPY_MODEL_33bd0f1c18af49d8a734133741b81e62",
       "location": [
        21.019,
        -156.422
       ],
       "options": [
        "alt",
        "draggable",
        "keyboard",
        "rise_offset",
        "rise_on_hover",
        "rotation_angle",
        "rotation_origin",
        "title",
        "z_index_offset"
       ],
       "popup": "IPY_MODEL_dc64fffb92024a79a9d7b798309315ef"
      }
     },
     "36d77b29ef2244f18eac9e9d2f6aa546": {
      "model_module": "@jupyter-widgets/base",
      "model_module_version": "1.2.0",
      "model_name": "LayoutModel",
      "state": {}
     },
     "37ef18a8a2cd4a29971ec4c246b04bca": {
      "model_module": "@jupyter-widgets/controls",
      "model_module_version": "1.5.0",
      "model_name": "HTMLModel",
      "state": {
       "layout": "IPY_MODEL_c2042220391b4dc5b3bd5e4f98f134b5",
       "style": "IPY_MODEL_9e10a523aa8b40ae8cdb6bba62ab7d94",
       "value": "<table border=\"1\" class=\"dataframe table table-striped table-hover table-condensed table-responsive\">\n  <thead>\n    <tr style=\"text-align: right;\">\n      <th></th>\n      <th>41024</th>\n    </tr>\n  </thead>\n  <tbody>\n    <tr>\n      <th>met</th>\n      <td>6220.0</td>\n    </tr>\n    <tr>\n      <th>wave</th>\n      <td>0.0</td>\n    </tr>\n    <tr>\n      <th>type</th>\n      <td>buoy</td>\n    </tr>\n    <tr>\n      <th>name</th>\n      <td>Sunset Nearshore, NC (SUN2)</td>\n    </tr>\n    <tr>\n      <th>pgm</th>\n      <td>IOOS Partners</td>\n    </tr>\n  </tbody>\n</table>"
      }
     },
     "383cf48e9f7548f0a21dcdf132515cd1": {
      "model_module": "@jupyter-widgets/base",
      "model_module_version": "1.2.0",
      "model_name": "LayoutModel",
      "state": {}
     },
     "38cc7efed2344b9997b6c15f2542507b": {
      "model_module": "@jupyter-widgets/base",
      "model_module_version": "1.2.0",
      "model_name": "LayoutModel",
      "state": {}
     },
     "38e76a524f7f4ec88283f20a3d87ffad": {
      "model_module": "@jupyter-widgets/base",
      "model_module_version": "1.2.0",
      "model_name": "LayoutModel",
      "state": {}
     },
     "38e805371c444924ba3e577923be6af0": {
      "model_module": "jupyter-leaflet",
      "model_module_version": "^0.15.0",
      "model_name": "LeafletAwesomeIconModel",
      "state": {
       "_model_module_version": "^0.15.0",
       "_view_module_version": "^0.15.0",
       "icon_color": "white",
       "marker_color": "orange",
       "name": "life-ring"
      }
     },
     "390c148b806748cfa5baccbc24d9e37e": {
      "model_module": "jupyter-leaflet",
      "model_module_version": "^0.15.0",
      "model_name": "LeafletAwesomeIconModel",
      "state": {
       "_model_module_version": "^0.15.0",
       "_view_module_version": "^0.15.0",
       "icon_color": "white",
       "marker_color": "orange",
       "name": "life-ring"
      }
     },
     "397d0783da414124ac32b85bac911ceb": {
      "model_module": "jupyter-leaflet",
      "model_module_version": "^0.15.0",
      "model_name": "LeafletAwesomeIconModel",
      "state": {
       "_model_module_version": "^0.15.0",
       "_view_module_version": "^0.15.0",
       "icon_color": "white",
       "marker_color": "orange",
       "name": "life-ring"
      }
     },
     "39c017649dec479ba904146f0794c5a5": {
      "model_module": "@jupyter-widgets/controls",
      "model_module_version": "1.5.0",
      "model_name": "DescriptionStyleModel",
      "state": {
       "description_width": ""
      }
     },
     "39c85711410f4860b6a226ce9827db0f": {
      "model_module": "jupyter-leaflet",
      "model_module_version": "^0.15.0",
      "model_name": "LeafletMarkerModel",
      "state": {
       "_model_module_version": "^0.15.0",
       "_view_module_version": "^0.15.0",
       "draggable": false,
       "icon": "IPY_MODEL_8cf2d3e425b54bf2ad92e51386681a28",
       "location": [
        58.54,
        -135.047
       ],
       "options": [
        "alt",
        "draggable",
        "keyboard",
        "rise_offset",
        "rise_on_hover",
        "rotation_angle",
        "rotation_origin",
        "title",
        "z_index_offset"
       ],
       "popup": "IPY_MODEL_c04f7d72a51d48d1a5e01fd71c2c6a1a"
      }
     },
     "39ff557949c747fc88f656cd458c55c8": {
      "model_module": "@jupyter-widgets/base",
      "model_module_version": "1.2.0",
      "model_name": "LayoutModel",
      "state": {}
     },
     "3a66650aad314494be2bf930a9d04fbb": {
      "model_module": "@jupyter-widgets/controls",
      "model_module_version": "1.5.0",
      "model_name": "DescriptionStyleModel",
      "state": {
       "description_width": ""
      }
     },
     "3a954e6128514f3eab3f0293134642c2": {
      "model_module": "jupyter-leaflet",
      "model_module_version": "^0.15.0",
      "model_name": "LeafletMarkerModel",
      "state": {
       "_model_module_version": "^0.15.0",
       "_view_module_version": "^0.15.0",
       "draggable": false,
       "icon": "IPY_MODEL_1e0175f5b10b4c5d994e2d2e4738b501",
       "location": [
        18.367,
        -67.251
       ],
       "options": [
        "alt",
        "draggable",
        "keyboard",
        "rise_offset",
        "rise_on_hover",
        "rotation_angle",
        "rotation_origin",
        "title",
        "z_index_offset"
       ],
       "popup": "IPY_MODEL_3216d579b6294f43b56878eee6096d87"
      }
     },
     "3ac29caa7aec43108cb59a77f0364873": {
      "model_module": "@jupyter-widgets/controls",
      "model_module_version": "1.5.0",
      "model_name": "HTMLModel",
      "state": {
       "layout": "IPY_MODEL_825263e72318408d8cf6ab957ab1126b",
       "style": "IPY_MODEL_75e901e112a74c89acf2a6e6676498e1",
       "value": "<table border=\"1\" class=\"dataframe table table-striped table-hover table-condensed table-responsive\">\n  <thead>\n    <tr style=\"text-align: right;\">\n      <th></th>\n      <th>44039</th>\n    </tr>\n  </thead>\n  <tbody>\n    <tr>\n      <th>met</th>\n      <td>2794.0</td>\n    </tr>\n    <tr>\n      <th>wave</th>\n      <td>2794.0</td>\n    </tr>\n    <tr>\n      <th>type</th>\n      <td>buoy</td>\n    </tr>\n    <tr>\n      <th>name</th>\n      <td>Central Long Island Sound</td>\n    </tr>\n    <tr>\n      <th>pgm</th>\n      <td>IOOS Partners</td>\n    </tr>\n  </tbody>\n</table>"
      }
     },
     "3af34bac37684ca2b2d74fb9aa657fff": {
      "model_module": "jupyter-leaflet",
      "model_module_version": "^0.15.0",
      "model_name": "LeafletMarkerModel",
      "state": {
       "_model_module_version": "^0.15.0",
       "_view_module_version": "^0.15.0",
       "draggable": false,
       "icon": "IPY_MODEL_aec82da7956440cf9cc7ccc18cb189ba",
       "location": [
        27.59,
        -82.931
       ],
       "options": [
        "alt",
        "draggable",
        "keyboard",
        "rise_offset",
        "rise_on_hover",
        "rotation_angle",
        "rotation_origin",
        "title",
        "z_index_offset"
       ],
       "popup": "IPY_MODEL_5ce6ef114a4f49e6ae6debcc4dfaba85"
      }
     },
     "3b0b9a0917cb4da5ab5cf14ba3a717f2": {
      "model_module": "jupyter-leaflet",
      "model_module_version": "^0.15.0",
      "model_name": "LeafletMarkerModel",
      "state": {
       "_model_module_version": "^0.15.0",
       "_view_module_version": "^0.15.0",
       "draggable": false,
       "icon": "IPY_MODEL_236adb77e3d64b76b69c43d1cf1876f9",
       "location": [
        58.971,
        -135.221
       ],
       "options": [
        "alt",
        "draggable",
        "keyboard",
        "rise_offset",
        "rise_on_hover",
        "rotation_angle",
        "rotation_origin",
        "title",
        "z_index_offset"
       ],
       "popup": "IPY_MODEL_7cf03c0140f34c60898ec21056dd5d8e"
      }
     },
     "3b1a2ad3512149769b1f1637866a583f": {
      "model_module": "jupyter-leaflet",
      "model_module_version": "^0.15.0",
      "model_name": "LeafletAwesomeIconModel",
      "state": {
       "_model_module_version": "^0.15.0",
       "_view_module_version": "^0.15.0",
       "icon_color": "white",
       "marker_color": "orange",
       "name": "life-ring"
      }
     },
     "3b52e6f8c9624ca38ce0095872c7dfc0": {
      "model_module": "@jupyter-widgets/controls",
      "model_module_version": "1.5.0",
      "model_name": "DescriptionStyleModel",
      "state": {
       "description_width": ""
      }
     },
     "3b5779948d20416398109b54d89dbec5": {
      "model_module": "@jupyter-widgets/controls",
      "model_module_version": "1.5.0",
      "model_name": "DescriptionStyleModel",
      "state": {
       "description_width": ""
      }
     },
     "3bb27c8604e44d92a4a94ea0a20f554d": {
      "model_module": "@jupyter-widgets/controls",
      "model_module_version": "1.5.0",
      "model_name": "DescriptionStyleModel",
      "state": {
       "description_width": ""
      }
     },
     "3c14cb2bbcef4d73acc6676eb7dc7138": {
      "model_module": "jupyter-leaflet",
      "model_module_version": "^0.15.0",
      "model_name": "LeafletAwesomeIconModel",
      "state": {
       "_model_module_version": "^0.15.0",
       "_view_module_version": "^0.15.0",
       "icon_color": "white",
       "marker_color": "orange",
       "name": "life-ring"
      }
     },
     "3c423e2901924a40b08883b8f279b5b8": {
      "model_module": "jupyter-leaflet",
      "model_module_version": "^0.15.0",
      "model_name": "LeafletAwesomeIconModel",
      "state": {
       "_model_module_version": "^0.15.0",
       "_view_module_version": "^0.15.0",
       "icon_color": "white",
       "marker_color": "orange",
       "name": "life-ring"
      }
     },
     "3ca1e3d1c83b43d2a3fd4e0bd9f27457": {
      "model_module": "@jupyter-widgets/controls",
      "model_module_version": "1.5.0",
      "model_name": "DescriptionStyleModel",
      "state": {
       "description_width": ""
      }
     },
     "3d447a8b60a54090aaa9b53bab680124": {
      "model_module": "jupyter-leaflet",
      "model_module_version": "^0.15.0",
      "model_name": "LeafletAwesomeIconModel",
      "state": {
       "_model_module_version": "^0.15.0",
       "_view_module_version": "^0.15.0",
       "icon_color": "white",
       "marker_color": "orange",
       "name": "life-ring"
      }
     },
     "3d5704868119473f93d6ef460bbe2b76": {
      "model_module": "jupyter-leaflet",
      "model_module_version": "^0.15.0",
      "model_name": "LeafletMarkerModel",
      "state": {
       "_model_module_version": "^0.15.0",
       "_view_module_version": "^0.15.0",
       "draggable": false,
       "icon": "IPY_MODEL_ab5e7a5d702d4877b9aca98e5c320bfb",
       "location": [
        27.48,
        -97.322
       ],
       "options": [
        "alt",
        "draggable",
        "keyboard",
        "rise_offset",
        "rise_on_hover",
        "rotation_angle",
        "rotation_origin",
        "title",
        "z_index_offset"
       ],
       "popup": "IPY_MODEL_282eaeeac3c74cf3a7e777f1f1855504"
      }
     },
     "3d92930b60b54b7e9b44b48e8a01ff47": {
      "model_module": "@jupyter-widgets/controls",
      "model_module_version": "1.5.0",
      "model_name": "DescriptionStyleModel",
      "state": {
       "description_width": ""
      }
     },
     "3db302372222478f91c591e18c9ad40e": {
      "model_module": "@jupyter-widgets/controls",
      "model_module_version": "1.5.0",
      "model_name": "HTMLModel",
      "state": {
       "layout": "IPY_MODEL_6328b5f572764b579d2acf1aca6065d6",
       "style": "IPY_MODEL_ff7718898e0a4da2847583e5b8b0974d",
       "value": "<table border=\"1\" class=\"dataframe table table-striped table-hover table-condensed table-responsive\">\n  <thead>\n    <tr style=\"text-align: right;\">\n      <th></th>\n      <th>haxa2</th>\n    </tr>\n  </thead>\n  <tbody>\n    <tr>\n      <th>met</th>\n      <td>34436.0</td>\n    </tr>\n    <tr>\n      <th>wave</th>\n      <td>0.0</td>\n    </tr>\n    <tr>\n      <th>type</th>\n      <td>fixed</td>\n    </tr>\n    <tr>\n      <th>name</th>\n      <td>Haines Harbor, AK</td>\n    </tr>\n    <tr>\n      <th>pgm</th>\n      <td>IOOS Partners</td>\n    </tr>\n  </tbody>\n</table>"
      }
     },
     "3dd43823c72e40cba15b4c34fb5983cf": {
      "model_module": "@jupyter-widgets/base",
      "model_module_version": "1.2.0",
      "model_name": "LayoutModel",
      "state": {}
     },
     "3deef7f0c2f54483bdc3cd139c16cf81": {
      "model_module": "@jupyter-widgets/base",
      "model_module_version": "1.2.0",
      "model_name": "LayoutModel",
      "state": {}
     },
     "3e1867d1f87e472c97a393dbb6aa45fb": {
      "model_module": "jupyter-leaflet",
      "model_module_version": "^0.15.0",
      "model_name": "LeafletMarkerModel",
      "state": {
       "_model_module_version": "^0.15.0",
       "_view_module_version": "^0.15.0",
       "draggable": false,
       "icon": "IPY_MODEL_7434769eb3984a82a52d20ff5c471c4f",
       "location": [
        27.297,
        -97.405
       ],
       "options": [
        "alt",
        "draggable",
        "keyboard",
        "rise_offset",
        "rise_on_hover",
        "rotation_angle",
        "rotation_origin",
        "title",
        "z_index_offset"
       ],
       "popup": "IPY_MODEL_9b373e0ae7b54f28b6d81e47b1478368"
      }
     },
     "3e43dc12af144c2cb6bd247c7b8ff9e2": {
      "model_module": "@jupyter-widgets/base",
      "model_module_version": "1.2.0",
      "model_name": "LayoutModel",
      "state": {}
     },
     "3e5eeac9a00b4128b3359723b05f7524": {
      "model_module": "@jupyter-widgets/controls",
      "model_module_version": "1.5.0",
      "model_name": "DescriptionStyleModel",
      "state": {
       "description_width": ""
      }
     },
     "3eb744cff4c3431e9356e642435bbd87": {
      "model_module": "@jupyter-widgets/controls",
      "model_module_version": "1.5.0",
      "model_name": "DescriptionStyleModel",
      "state": {
       "description_width": ""
      }
     },
     "3f2856b87a5145cab303c834a7d15cfb": {
      "model_module": "@jupyter-widgets/controls",
      "model_module_version": "1.5.0",
      "model_name": "HTMLModel",
      "state": {
       "layout": "IPY_MODEL_c94f7dd57d2446b58bc2013664c050ab",
       "style": "IPY_MODEL_3b5779948d20416398109b54d89dbec5",
       "value": "<table border=\"1\" class=\"dataframe table table-striped table-hover table-condensed table-responsive\">\n  <thead>\n    <tr style=\"text-align: right;\">\n      <th></th>\n      <th>emat2</th>\n    </tr>\n  </thead>\n  <tbody>\n    <tr>\n      <th>met</th>\n      <td>58326.0</td>\n    </tr>\n    <tr>\n      <th>wave</th>\n      <td>0.0</td>\n    </tr>\n    <tr>\n      <th>type</th>\n      <td>fixed</td>\n    </tr>\n    <tr>\n      <th>name</th>\n      <td>8773146 - Matagorda City, TX</td>\n    </tr>\n    <tr>\n      <th>pgm</th>\n      <td>IOOS Partners</td>\n    </tr>\n  </tbody>\n</table>"
      }
     },
     "3f75f43ea1cf4e84994a1eb5811a314a": {
      "model_module": "@jupyter-widgets/controls",
      "model_module_version": "1.5.0",
      "model_name": "DescriptionStyleModel",
      "state": {
       "description_width": ""
      }
     },
     "3f800a8a131d40bba4719ef2ebf78bab": {
      "model_module": "@jupyter-widgets/controls",
      "model_module_version": "1.5.0",
      "model_name": "DescriptionStyleModel",
      "state": {
       "description_width": ""
      }
     },
     "3fa6eecfd112457d942dc7b4e12b3ff1": {
      "model_module": "@jupyter-widgets/controls",
      "model_module_version": "1.5.0",
      "model_name": "HTMLModel",
      "state": {
       "layout": "IPY_MODEL_145ef4b394dc48488eba15801bc55998",
       "style": "IPY_MODEL_3e5eeac9a00b4128b3359723b05f7524",
       "value": "<table border=\"1\" class=\"dataframe table table-striped table-hover table-condensed table-responsive\">\n  <thead>\n    <tr style=\"text-align: right;\">\n      <th></th>\n      <th>jaki2</th>\n    </tr>\n  </thead>\n  <tbody>\n    <tr>\n      <th>met</th>\n      <td>5564.0</td>\n    </tr>\n    <tr>\n      <th>wave</th>\n      <td>0.0</td>\n    </tr>\n    <tr>\n      <th>type</th>\n      <td>fixed</td>\n    </tr>\n    <tr>\n      <th>name</th>\n      <td>63rd St., Chicago, IL</td>\n    </tr>\n    <tr>\n      <th>pgm</th>\n      <td>IOOS Partners</td>\n    </tr>\n  </tbody>\n</table>"
      }
     },
     "3fb8419f99ff43b5b198522acc7028c0": {
      "model_module": "@jupyter-widgets/base",
      "model_module_version": "1.2.0",
      "model_name": "LayoutModel",
      "state": {}
     },
     "401f15095564431abed258634e6cf010": {
      "model_module": "jupyter-leaflet",
      "model_module_version": "^0.15.0",
      "model_name": "LeafletMarkerModel",
      "state": {
       "_model_module_version": "^0.15.0",
       "_view_module_version": "^0.15.0",
       "draggable": false,
       "icon": "IPY_MODEL_bc50f7751f57413aad0d43fa55955237",
       "location": [
        30.058,
        -84.291
       ],
       "options": [
        "alt",
        "draggable",
        "keyboard",
        "rise_offset",
        "rise_on_hover",
        "rotation_angle",
        "rotation_origin",
        "title",
        "z_index_offset"
       ],
       "popup": "IPY_MODEL_f1b332647010410ab26acfca303cdd7d"
      }
     },
     "41b47c2edc4a4ce888b364ad4652134c": {
      "model_module": "@jupyter-widgets/controls",
      "model_module_version": "1.5.0",
      "model_name": "HTMLModel",
      "state": {
       "layout": "IPY_MODEL_6673e3df6734458ea9e80b7259636f56",
       "style": "IPY_MODEL_484a9251b97c44f5871ab13906f89431",
       "value": "<table border=\"1\" class=\"dataframe table table-striped table-hover table-condensed table-responsive\">\n  <thead>\n    <tr style=\"text-align: right;\">\n      <th></th>\n      <th>45028</th>\n    </tr>\n  </thead>\n  <tbody>\n    <tr>\n      <th>met</th>\n      <td>25870.0</td>\n    </tr>\n    <tr>\n      <th>wave</th>\n      <td>25870.0</td>\n    </tr>\n    <tr>\n      <th>type</th>\n      <td>buoy</td>\n    </tr>\n    <tr>\n      <th>name</th>\n      <td>Western Lake Superior</td>\n    </tr>\n    <tr>\n      <th>pgm</th>\n      <td>IOOS Partners</td>\n    </tr>\n  </tbody>\n</table>"
      }
     },
     "42536ce2ac94404eb033322f617889c8": {
      "model_module": "@jupyter-widgets/base",
      "model_module_version": "1.2.0",
      "model_name": "LayoutModel",
      "state": {}
     },
     "42bd06ff19a043eba30584398eba840b": {
      "model_module": "jupyter-leaflet",
      "model_module_version": "^0.15.0",
      "model_name": "LeafletAwesomeIconModel",
      "state": {
       "_model_module_version": "^0.15.0",
       "_view_module_version": "^0.15.0",
       "icon_color": "white",
       "marker_color": "green",
       "name": "life-ring"
      }
     },
     "431fe72cba0c46ccae8bfcfbb2b26ff1": {
      "model_module": "jupyter-leaflet",
      "model_module_version": "^0.15.0",
      "model_name": "LeafletAwesomeIconModel",
      "state": {
       "_model_module_version": "^0.15.0",
       "_view_module_version": "^0.15.0",
       "icon_color": "white",
       "marker_color": "orange",
       "name": "life-ring"
      }
     },
     "4381d80f4de640c0b45d11b676f693df": {
      "model_module": "@jupyter-widgets/controls",
      "model_module_version": "1.5.0",
      "model_name": "DescriptionStyleModel",
      "state": {
       "description_width": ""
      }
     },
     "43d2d52c5dc946379d8c3da2ec82517d": {
      "model_module": "@jupyter-widgets/controls",
      "model_module_version": "1.5.0",
      "model_name": "DescriptionStyleModel",
      "state": {
       "description_width": ""
      }
     },
     "444addc69b8245229494b57a9c811681": {
      "model_module": "@jupyter-widgets/controls",
      "model_module_version": "1.5.0",
      "model_name": "HTMLModel",
      "state": {
       "layout": "IPY_MODEL_a24c52fd6c8442488a0c7f64a3bbcb09",
       "style": "IPY_MODEL_5ed695b4fe814f088edecd70685331bf",
       "value": "<table border=\"1\" class=\"dataframe table table-striped table-hover table-condensed table-responsive\">\n  <thead>\n    <tr style=\"text-align: right;\">\n      <th></th>\n      <th>anpt2</th>\n    </tr>\n  </thead>\n  <tbody>\n    <tr>\n      <th>met</th>\n      <td>58680.0</td>\n    </tr>\n    <tr>\n      <th>wave</th>\n      <td>0.0</td>\n    </tr>\n    <tr>\n      <th>type</th>\n      <td>fixed</td>\n    </tr>\n    <tr>\n      <th>name</th>\n      <td>8775241 - Aransas, Aransas Pass, TX</td>\n    </tr>\n    <tr>\n      <th>pgm</th>\n      <td>IOOS Partners</td>\n    </tr>\n  </tbody>\n</table>"
      }
     },
     "4568cc31554f47f88a03373b4e98ad73": {
      "model_module": "jupyter-leaflet",
      "model_module_version": "^0.15.0",
      "model_name": "LeafletAwesomeIconModel",
      "state": {
       "_model_module_version": "^0.15.0",
       "_view_module_version": "^0.15.0",
       "icon_color": "white",
       "marker_color": "green",
       "name": "life-ring"
      }
     },
     "45ed3b9cc2e2476796656a84c81c52a5": {
      "model_module": "jupyter-leaflet",
      "model_module_version": "^0.15.0",
      "model_name": "LeafletAwesomeIconModel",
      "state": {
       "_model_module_version": "^0.15.0",
       "_view_module_version": "^0.15.0",
       "icon_color": "white",
       "marker_color": "orange",
       "name": "life-ring"
      }
     },
     "45ef7a0282984b088986349e736463c3": {
      "model_module": "jupyter-leaflet",
      "model_module_version": "^0.15.0",
      "model_name": "LeafletMarkerModel",
      "state": {
       "_model_module_version": "^0.15.0",
       "_view_module_version": "^0.15.0",
       "draggable": false,
       "icon": "IPY_MODEL_da89c7a8b0d04421851baf33f54f3b8b",
       "location": [
        37.892,
        -122.447
       ],
       "options": [
        "alt",
        "draggable",
        "keyboard",
        "rise_offset",
        "rise_on_hover",
        "rotation_angle",
        "rotation_origin",
        "title",
        "z_index_offset"
       ],
       "popup": "IPY_MODEL_e683b3d802224701a03fee56f50cce68"
      }
     },
     "4629d5d700fc490ea0ac833abe52198a": {
      "model_module": "@jupyter-widgets/controls",
      "model_module_version": "1.5.0",
      "model_name": "HTMLModel",
      "state": {
       "layout": "IPY_MODEL_69a8e97216434a7da94462bf2d817a14",
       "style": "IPY_MODEL_db751c8089324cd5af2ec5d15f821e44",
       "value": "<table border=\"1\" class=\"dataframe table table-striped table-hover table-condensed table-responsive\">\n  <thead>\n    <tr style=\"text-align: right;\">\n      <th></th>\n      <th>fpst2</th>\n    </tr>\n  </thead>\n  <tbody>\n    <tr>\n      <th>met</th>\n      <td>58672.0</td>\n    </tr>\n    <tr>\n      <th>wave</th>\n      <td>0.0</td>\n    </tr>\n    <tr>\n      <th>type</th>\n      <td>fixed</td>\n    </tr>\n    <tr>\n      <th>name</th>\n      <td>8772471 - Freeport SPIP, TX</td>\n    </tr>\n    <tr>\n      <th>pgm</th>\n      <td>IOOS Partners</td>\n    </tr>\n  </tbody>\n</table>"
      }
     },
     "46833bdaee6a404394508a36c872e88a": {
      "model_module": "@jupyter-widgets/base",
      "model_module_version": "1.2.0",
      "model_name": "LayoutModel",
      "state": {}
     },
     "4744d137d2ba4914ae7f0bba92c2ee32": {
      "model_module": "@jupyter-widgets/base",
      "model_module_version": "1.2.0",
      "model_name": "LayoutModel",
      "state": {}
     },
     "47a4a2ce245348818262d1eda4f9364d": {
      "model_module": "@jupyter-widgets/base",
      "model_module_version": "1.2.0",
      "model_name": "LayoutModel",
      "state": {}
     },
     "47d01f81dd2d40248673f5f82cdca9c8": {
      "model_module": "@jupyter-widgets/controls",
      "model_module_version": "1.5.0",
      "model_name": "HTMLModel",
      "state": {
       "layout": "IPY_MODEL_e66f6a009c854797b8c530a30ac2ccf1",
       "style": "IPY_MODEL_eec4f33b83904675abdab49acfcfc06d",
       "value": "<table border=\"1\" class=\"dataframe table table-striped table-hover table-condensed table-responsive\">\n  <thead>\n    <tr style=\"text-align: right;\">\n      <th></th>\n      <th>44033</th>\n    </tr>\n  </thead>\n  <tbody>\n    <tr>\n      <th>met</th>\n      <td>5834.0</td>\n    </tr>\n    <tr>\n      <th>wave</th>\n      <td>5792.0</td>\n    </tr>\n    <tr>\n      <th>type</th>\n      <td>buoy</td>\n    </tr>\n    <tr>\n      <th>name</th>\n      <td>Buoy F01 - Penobscot Bay</td>\n    </tr>\n    <tr>\n      <th>pgm</th>\n      <td>IOOS Partners</td>\n    </tr>\n  </tbody>\n</table>"
      }
     },
     "481ccb2dbe16400fbadc053008c87ca1": {
      "model_module": "@jupyter-widgets/controls",
      "model_module_version": "1.5.0",
      "model_name": "DescriptionStyleModel",
      "state": {
       "description_width": ""
      }
     },
     "481ef98dbb5c454fbed73d2da014b391": {
      "model_module": "@jupyter-widgets/controls",
      "model_module_version": "1.5.0",
      "model_name": "DescriptionStyleModel",
      "state": {
       "description_width": ""
      }
     },
     "484a9251b97c44f5871ab13906f89431": {
      "model_module": "@jupyter-widgets/controls",
      "model_module_version": "1.5.0",
      "model_name": "DescriptionStyleModel",
      "state": {
       "description_width": ""
      }
     },
     "494c6e6e884e47c39c6f393977c9640f": {
      "model_module": "@jupyter-widgets/base",
      "model_module_version": "1.2.0",
      "model_name": "LayoutModel",
      "state": {}
     },
     "49e1752eb8b0483d9683baba7f7d9819": {
      "model_module": "jupyter-leaflet",
      "model_module_version": "^0.15.0",
      "model_name": "LeafletMarkerModel",
      "state": {
       "_model_module_version": "^0.15.0",
       "_view_module_version": "^0.15.0",
       "draggable": false,
       "icon": "IPY_MODEL_fe6b33e84b124b3dbcdb347ae954e2ee",
       "location": [
        22.285,
        -159.574
       ],
       "options": [
        "alt",
        "draggable",
        "keyboard",
        "rise_offset",
        "rise_on_hover",
        "rotation_angle",
        "rotation_origin",
        "title",
        "z_index_offset"
       ],
       "popup": "IPY_MODEL_9ca86740febc49e395875c9a3e310819"
      }
     },
     "4c7a7bdd727c459b86fa5ccc52fa6710": {
      "model_module": "@jupyter-widgets/controls",
      "model_module_version": "1.5.0",
      "model_name": "HTMLModel",
      "state": {
       "layout": "IPY_MODEL_25d6b6ab9a564fd7b51396ecb1e50acf",
       "style": "IPY_MODEL_d96ab99c572e41e292ba4b10c7769e89",
       "value": "<table border=\"1\" class=\"dataframe table table-striped table-hover table-condensed table-responsive\">\n  <thead>\n    <tr style=\"text-align: right;\">\n      <th></th>\n      <th>41038</th>\n    </tr>\n  </thead>\n  <tbody>\n    <tr>\n      <th>met</th>\n      <td>5858.0</td>\n    </tr>\n    <tr>\n      <th>wave</th>\n      <td>0.0</td>\n    </tr>\n    <tr>\n      <th>type</th>\n      <td>buoy</td>\n    </tr>\n    <tr>\n      <th>name</th>\n      <td>Wrightsville Beach Nearshore, NC (ILM2)</td>\n    </tr>\n    <tr>\n      <th>pgm</th>\n      <td>IOOS Partners</td>\n    </tr>\n  </tbody>\n</table>"
      }
     },
     "4d6469bec3ab44ed8c70ae6cdf57ea60": {
      "model_module": "@jupyter-widgets/controls",
      "model_module_version": "1.5.0",
      "model_name": "DescriptionStyleModel",
      "state": {
       "description_width": ""
      }
     },
     "4d7ba79ffb6545328d5f0bcc937e2f23": {
      "model_module": "jupyter-leaflet",
      "model_module_version": "^0.15.0",
      "model_name": "LeafletAwesomeIconModel",
      "state": {
       "_model_module_version": "^0.15.0",
       "_view_module_version": "^0.15.0",
       "icon_color": "white",
       "marker_color": "orange",
       "name": "life-ring"
      }
     },
     "4e7ded05b73543c291337c279b472c7b": {
      "model_module": "@jupyter-widgets/controls",
      "model_module_version": "1.5.0",
      "model_name": "DescriptionStyleModel",
      "state": {
       "description_width": ""
      }
     },
     "4eb6a8f5ecd340d691fd6791bfae6a5d": {
      "model_module": "@jupyter-widgets/controls",
      "model_module_version": "1.5.0",
      "model_name": "DescriptionStyleModel",
      "state": {
       "description_width": ""
      }
     },
     "4ed422343af54c86ba9669c36536fa0c": {
      "model_module": "@jupyter-widgets/controls",
      "model_module_version": "1.5.0",
      "model_name": "HTMLModel",
      "state": {
       "layout": "IPY_MODEL_e91c38e0f48f4b6fb9c9ce2049eb8ed6",
       "style": "IPY_MODEL_8e3323d121474ec8819576476347990f",
       "value": "<table border=\"1\" class=\"dataframe table table-striped table-hover table-condensed table-responsive\">\n  <thead>\n    <tr style=\"text-align: right;\">\n      <th></th>\n      <th>tkea2</th>\n    </tr>\n  </thead>\n  <tbody>\n    <tr>\n      <th>met</th>\n      <td>34168.0</td>\n    </tr>\n    <tr>\n      <th>wave</th>\n      <td>0.0</td>\n    </tr>\n    <tr>\n      <th>type</th>\n      <td>fixed</td>\n    </tr>\n    <tr>\n      <th>name</th>\n      <td>Tenakee Springs, AK</td>\n    </tr>\n    <tr>\n      <th>pgm</th>\n      <td>IOOS Partners</td>\n    </tr>\n  </tbody>\n</table>"
      }
     },
     "4f8d1c359ada433f92dd5fac50f2ba02": {
      "model_module": "@jupyter-widgets/base",
      "model_module_version": "1.2.0",
      "model_name": "LayoutModel",
      "state": {}
     },
     "4f8f3462f3f649c4b7183a31276796d3": {
      "model_module": "jupyter-leaflet",
      "model_module_version": "^0.15.0",
      "model_name": "LeafletAwesomeIconModel",
      "state": {
       "_model_module_version": "^0.15.0",
       "_view_module_version": "^0.15.0",
       "icon_color": "white",
       "marker_color": "green",
       "name": "life-ring"
      }
     },
     "4f9893eab77a48338eb351b90f74c344": {
      "model_module": "jupyter-leaflet",
      "model_module_version": "^0.15.0",
      "model_name": "LeafletAwesomeIconModel",
      "state": {
       "_model_module_version": "^0.15.0",
       "_view_module_version": "^0.15.0",
       "icon_color": "white",
       "marker_color": "green",
       "name": "life-ring"
      }
     },
     "50694670fc5e4024a7b74e4d33adffd4": {
      "model_module": "jupyter-leaflet",
      "model_module_version": "^0.15.0",
      "model_name": "LeafletAwesomeIconModel",
      "state": {
       "_model_module_version": "^0.15.0",
       "_view_module_version": "^0.15.0",
       "icon_color": "white",
       "marker_color": "orange",
       "name": "life-ring"
      }
     },
     "51aaa5821223436c9cb816dfac60c093": {
      "model_module": "@jupyter-widgets/controls",
      "model_module_version": "1.5.0",
      "model_name": "DescriptionStyleModel",
      "state": {
       "description_width": ""
      }
     },
     "51afe6552d5d4e0abe218a86a309f5f2": {
      "model_module": "@jupyter-widgets/controls",
      "model_module_version": "1.5.0",
      "model_name": "DescriptionStyleModel",
      "state": {
       "description_width": ""
      }
     },
     "51d25f23ba4244bf979e87fe75b92c96": {
      "model_module": "jupyter-leaflet",
      "model_module_version": "^0.15.0",
      "model_name": "LeafletTileLayerModel",
      "state": {
       "_model_module_version": "^0.15.0",
       "_view_module_version": "^0.15.0",
       "attribution": "&copy; <a href=\"https://www.openstreetmap.org/copyright\">OpenStreetMap</a> contributors",
       "base": true,
       "max_native_zoom": 18,
       "max_zoom": 19,
       "min_native_zoom": 0,
       "min_zoom": 1,
       "name": "OpenStreetMap.Mapnik",
       "options": [
        "attribution",
        "detect_retina",
        "max_native_zoom",
        "max_zoom",
        "min_native_zoom",
        "min_zoom",
        "no_wrap",
        "tile_size",
        "tms"
       ],
       "url": "https://a.tile.openstreetmap.org/{z}/{x}/{y}.png"
      }
     },
     "534a3dccb18a439aac59e694ba1f3c6f": {
      "model_module": "@jupyter-widgets/controls",
      "model_module_version": "1.5.0",
      "model_name": "DescriptionStyleModel",
      "state": {
       "description_width": ""
      }
     },
     "5381b50cb0224b4c9f63b6bc5d37aa51": {
      "model_module": "@jupyter-widgets/controls",
      "model_module_version": "1.5.0",
      "model_name": "DescriptionStyleModel",
      "state": {
       "description_width": ""
      }
     },
     "53b24d9148a94c3681989947c3406183": {
      "model_module": "jupyter-leaflet",
      "model_module_version": "^0.15.0",
      "model_name": "LeafletMarkerModel",
      "state": {
       "_model_module_version": "^0.15.0",
       "_view_module_version": "^0.15.0",
       "draggable": false,
       "icon": "IPY_MODEL_929ccbbe087d4d9e9486ea068ff04263",
       "location": [
        35.17,
        -120.741
       ],
       "options": [
        "alt",
        "draggable",
        "keyboard",
        "rise_offset",
        "rise_on_hover",
        "rotation_angle",
        "rotation_origin",
        "title",
        "z_index_offset"
       ],
       "popup": "IPY_MODEL_07cb49013bc745ff8fc46c3db87b3df2"
      }
     },
     "53ea4f03c10d4748b43148d48145a878": {
      "model_module": "jupyter-leaflet",
      "model_module_version": "^0.15.0",
      "model_name": "LeafletMarkerModel",
      "state": {
       "_model_module_version": "^0.15.0",
       "_view_module_version": "^0.15.0",
       "draggable": false,
       "icon": "IPY_MODEL_aaadd420eec24079ab9550794e68685b",
       "location": [
        26.01,
        -83.086
       ],
       "options": [
        "alt",
        "draggable",
        "keyboard",
        "rise_offset",
        "rise_on_hover",
        "rotation_angle",
        "rotation_origin",
        "title",
        "z_index_offset"
       ],
       "popup": "IPY_MODEL_556cf6d9910b45c1b15215521c4ad7a5"
      }
     },
     "54a4e338efd54028b1dfcfdf055aff08": {
      "model_module": "@jupyter-widgets/base",
      "model_module_version": "1.2.0",
      "model_name": "LayoutModel",
      "state": {}
     },
     "556cf6d9910b45c1b15215521c4ad7a5": {
      "model_module": "@jupyter-widgets/controls",
      "model_module_version": "1.5.0",
      "model_name": "HTMLModel",
      "state": {
       "layout": "IPY_MODEL_0c72fdc8c410420da08ccb641e3d4031",
       "style": "IPY_MODEL_15700266102c4ea78c80a317c6a96766",
       "value": "<table border=\"1\" class=\"dataframe table table-striped table-hover table-condensed table-responsive\">\n  <thead>\n    <tr style=\"text-align: right;\">\n      <th></th>\n      <th>42023</th>\n    </tr>\n  </thead>\n  <tbody>\n    <tr>\n      <th>met</th>\n      <td>11744.0</td>\n    </tr>\n    <tr>\n      <th>wave</th>\n      <td>0.0</td>\n    </tr>\n    <tr>\n      <th>type</th>\n      <td>buoy</td>\n    </tr>\n    <tr>\n      <th>name</th>\n      <td>C13 - WFS South Buoy, 50m Isobath</td>\n    </tr>\n    <tr>\n      <th>pgm</th>\n      <td>IOOS Partners</td>\n    </tr>\n  </tbody>\n</table>"
      }
     },
     "564204ce304944be82d1f71c0ebcca8b": {
      "model_module": "@jupyter-widgets/controls",
      "model_module_version": "1.5.0",
      "model_name": "HTMLModel",
      "state": {
       "layout": "IPY_MODEL_b3b9e3ec5c564cff8006fde3b655ea43",
       "style": "IPY_MODEL_51aaa5821223436c9cb816dfac60c093",
       "value": "<table border=\"1\" class=\"dataframe table table-striped table-hover table-condensed table-responsive\">\n  <thead>\n    <tr style=\"text-align: right;\">\n      <th></th>\n      <th>41110</th>\n    </tr>\n  </thead>\n  <tbody>\n    <tr>\n      <th>met</th>\n      <td>0.0</td>\n    </tr>\n    <tr>\n      <th>wave</th>\n      <td>11730.0</td>\n    </tr>\n    <tr>\n      <th>type</th>\n      <td>buoy</td>\n    </tr>\n    <tr>\n      <th>name</th>\n      <td>Masonboro Inlet, ILM2, NC (150)</td>\n    </tr>\n    <tr>\n      <th>pgm</th>\n      <td>IOOS Partners</td>\n    </tr>\n  </tbody>\n</table>"
      }
     },
     "5644343070b14fcb9df0e56e2fb117d7": {
      "model_module": "@jupyter-widgets/base",
      "model_module_version": "1.2.0",
      "model_name": "LayoutModel",
      "state": {}
     },
     "56649fd7a66e4d0b8b0addc04f9147a5": {
      "model_module": "jupyter-leaflet",
      "model_module_version": "^0.15.0",
      "model_name": "LeafletAwesomeIconModel",
      "state": {
       "_model_module_version": "^0.15.0",
       "_view_module_version": "^0.15.0",
       "icon_color": "white",
       "marker_color": "red",
       "name": "life-ring"
      }
     },
     "572736b3be1d4ab0bde2c263f662db82": {
      "model_module": "@jupyter-widgets/base",
      "model_module_version": "1.2.0",
      "model_name": "LayoutModel",
      "state": {}
     },
     "57784a413b4e424ea3a6f5bc67d7a918": {
      "model_module": "@jupyter-widgets/controls",
      "model_module_version": "1.5.0",
      "model_name": "HTMLModel",
      "state": {
       "layout": "IPY_MODEL_09d38d6a5efd4ffeb563454369005776",
       "style": "IPY_MODEL_914e739784074eb9865bb6b88fb70754",
       "value": "<table border=\"1\" class=\"dataframe table table-striped table-hover table-condensed table-responsive\">\n  <thead>\n    <tr style=\"text-align: right;\">\n      <th></th>\n      <th>52200</th>\n    </tr>\n  </thead>\n  <tbody>\n    <tr>\n      <th>met</th>\n      <td>0.0</td>\n    </tr>\n    <tr>\n      <th>wave</th>\n      <td>11534.0</td>\n    </tr>\n    <tr>\n      <th>type</th>\n      <td>buoy</td>\n    </tr>\n    <tr>\n      <th>name</th>\n      <td>Ipan, Guam (121)</td>\n    </tr>\n    <tr>\n      <th>pgm</th>\n      <td>IOOS Partners</td>\n    </tr>\n  </tbody>\n</table>"
      }
     },
     "587a792395414df4a5fc044640414e19": {
      "model_module": "@jupyter-widgets/controls",
      "model_module_version": "1.5.0",
      "model_name": "DescriptionStyleModel",
      "state": {
       "description_width": ""
      }
     },
     "59126a2e4da247408cc0756472147727": {
      "model_module": "@jupyter-widgets/controls",
      "model_module_version": "1.5.0",
      "model_name": "HTMLModel",
      "state": {
       "layout": "IPY_MODEL_825a365995784096a6d439e605149551",
       "style": "IPY_MODEL_0b35ea44bd214078b740214542772d44",
       "value": "<table border=\"1\" class=\"dataframe table table-striped table-hover table-condensed table-responsive\">\n  <thead>\n    <tr style=\"text-align: right;\">\n      <th></th>\n      <th>fhpf1</th>\n    </tr>\n  </thead>\n  <tbody>\n    <tr>\n      <th>met</th>\n      <td>58172.0</td>\n    </tr>\n    <tr>\n      <th>wave</th>\n      <td>0.0</td>\n    </tr>\n    <tr>\n      <th>type</th>\n      <td>fixed</td>\n    </tr>\n    <tr>\n      <th>name</th>\n      <td>FHP - Fred Howard Park, FL</td>\n    </tr>\n    <tr>\n      <th>pgm</th>\n      <td>IOOS Partners</td>\n    </tr>\n  </tbody>\n</table>"
      }
     },
     "591c03647af648f8b4e8fd2c6a40bc20": {
      "model_module": "@jupyter-widgets/controls",
      "model_module_version": "1.5.0",
      "model_name": "DescriptionStyleModel",
      "state": {
       "description_width": ""
      }
     },
     "59d7d20a30714053a563f3da54e5636a": {
      "model_module": "@jupyter-widgets/controls",
      "model_module_version": "1.5.0",
      "model_name": "DescriptionStyleModel",
      "state": {
       "description_width": ""
      }
     },
     "5a7bdec12dd34693b11ef46accb8205f": {
      "model_module": "@jupyter-widgets/controls",
      "model_module_version": "1.5.0",
      "model_name": "DescriptionStyleModel",
      "state": {
       "description_width": ""
      }
     },
     "5a8a6397a9ff4109925d48f03c208739": {
      "model_module": "@jupyter-widgets/controls",
      "model_module_version": "1.5.0",
      "model_name": "HTMLModel",
      "state": {
       "layout": "IPY_MODEL_2b6f64bc496b4eebbb24e08f30e4b535",
       "style": "IPY_MODEL_3f75f43ea1cf4e84994a1eb5811a314a",
       "value": "<table border=\"1\" class=\"dataframe table table-striped table-hover table-condensed table-responsive\">\n  <thead>\n    <tr style=\"text-align: right;\">\n      <th></th>\n      <th>41029</th>\n    </tr>\n  </thead>\n  <tbody>\n    <tr>\n      <th>met</th>\n      <td>6268.0</td>\n    </tr>\n    <tr>\n      <th>wave</th>\n      <td>0.0</td>\n    </tr>\n    <tr>\n      <th>type</th>\n      <td>buoy</td>\n    </tr>\n    <tr>\n      <th>name</th>\n      <td>Capers Nearshore, SC (CAP2)</td>\n    </tr>\n    <tr>\n      <th>pgm</th>\n      <td>IOOS Partners</td>\n    </tr>\n  </tbody>\n</table>"
      }
     },
     "5ad8ad6e6e7e40dab228dc919796bf3c": {
      "model_module": "@jupyter-widgets/controls",
      "model_module_version": "1.5.0",
      "model_name": "HTMLModel",
      "state": {
       "layout": "IPY_MODEL_46833bdaee6a404394508a36c872e88a",
       "style": "IPY_MODEL_af01eb76531e42fab5633f87ecd7adc4",
       "value": "<table border=\"1\" class=\"dataframe table table-striped table-hover table-condensed table-responsive\">\n  <thead>\n    <tr style=\"text-align: right;\">\n      <th></th>\n      <th>guxa2</th>\n    </tr>\n  </thead>\n  <tbody>\n    <tr>\n      <th>met</th>\n      <td>34278.0</td>\n    </tr>\n    <tr>\n      <th>wave</th>\n      <td>0.0</td>\n    </tr>\n    <tr>\n      <th>type</th>\n      <td>fixed</td>\n    </tr>\n    <tr>\n      <th>name</th>\n      <td>Gustavus Dock, AK</td>\n    </tr>\n    <tr>\n      <th>pgm</th>\n      <td>IOOS Partners</td>\n    </tr>\n  </tbody>\n</table>"
      }
     },
     "5b73be21baa74d4a8e6cd5f62b183c29": {
      "model_module": "@jupyter-widgets/base",
      "model_module_version": "1.2.0",
      "model_name": "LayoutModel",
      "state": {}
     },
     "5c89ae71aebe4a34bd375e70792c82fa": {
      "model_module": "jupyter-leaflet",
      "model_module_version": "^0.15.0",
      "model_name": "LeafletMarkerModel",
      "state": {
       "_model_module_version": "^0.15.0",
       "_view_module_version": "^0.15.0",
       "draggable": false,
       "icon": "IPY_MODEL_115e0b8315a64e7f9254c07b60802847",
       "location": [
        28.433,
        -82.667
       ],
       "options": [
        "alt",
        "draggable",
        "keyboard",
        "rise_offset",
        "rise_on_hover",
        "rotation_angle",
        "rotation_origin",
        "title",
        "z_index_offset"
       ],
       "popup": "IPY_MODEL_b7e9f0ce537542f188fdac9812d2a039"
      }
     },
     "5ce40c1d26b1444a95a92f4446bfd3b1": {
      "model_module": "@jupyter-widgets/base",
      "model_module_version": "1.2.0",
      "model_name": "LayoutModel",
      "state": {}
     },
     "5ce6ef114a4f49e6ae6debcc4dfaba85": {
      "model_module": "@jupyter-widgets/controls",
      "model_module_version": "1.5.0",
      "model_name": "HTMLModel",
      "state": {
       "layout": "IPY_MODEL_39ff557949c747fc88f656cd458c55c8",
       "style": "IPY_MODEL_c6690f4fa65f4dfa9f851ecc5e757ba5",
       "value": "<table border=\"1\" class=\"dataframe table table-striped table-hover table-condensed table-responsive\">\n  <thead>\n    <tr style=\"text-align: right;\">\n      <th></th>\n      <th>42098</th>\n    </tr>\n  </thead>\n  <tbody>\n    <tr>\n      <th>met</th>\n      <td>0.0</td>\n    </tr>\n    <tr>\n      <th>wave</th>\n      <td>11480.0</td>\n    </tr>\n    <tr>\n      <th>type</th>\n      <td>buoy</td>\n    </tr>\n    <tr>\n      <th>name</th>\n      <td>Egmont Channel Entrance, FL (214)</td>\n    </tr>\n    <tr>\n      <th>pgm</th>\n      <td>IOOS Partners</td>\n    </tr>\n  </tbody>\n</table>"
      }
     },
     "5d347fd92e3749f1a0e1e53d0d094b8e": {
      "model_module": "jupyter-leaflet",
      "model_module_version": "^0.15.0",
      "model_name": "LeafletAwesomeIconModel",
      "state": {
       "_model_module_version": "^0.15.0",
       "_view_module_version": "^0.15.0",
       "icon_color": "white",
       "marker_color": "red",
       "name": "life-ring"
      }
     },
     "5d84af8da7874ea8b492ab86beca6152": {
      "model_module": "@jupyter-widgets/controls",
      "model_module_version": "1.5.0",
      "model_name": "DescriptionStyleModel",
      "state": {
       "description_width": ""
      }
     },
     "5dae40798a364b8d9e59560fedc8aee5": {
      "model_module": "@jupyter-widgets/controls",
      "model_module_version": "1.5.0",
      "model_name": "HTMLModel",
      "state": {
       "layout": "IPY_MODEL_edc74826f64f4e89918b46f70762abdd",
       "style": "IPY_MODEL_5dfcebf7a01543dfa30e27b0f1d6837c",
       "value": "<table border=\"1\" class=\"dataframe table table-striped table-hover table-condensed table-responsive\">\n  <thead>\n    <tr style=\"text-align: right;\">\n      <th></th>\n      <th>44034</th>\n    </tr>\n  </thead>\n  <tbody>\n    <tr>\n      <th>met</th>\n      <td>5794.0</td>\n    </tr>\n    <tr>\n      <th>wave</th>\n      <td>5702.0</td>\n    </tr>\n    <tr>\n      <th>type</th>\n      <td>buoy</td>\n    </tr>\n    <tr>\n      <th>name</th>\n      <td>Buoy I01 - Eastern Maine Shelf</td>\n    </tr>\n    <tr>\n      <th>pgm</th>\n      <td>IOOS Partners</td>\n    </tr>\n  </tbody>\n</table>"
      }
     },
     "5dfcebf7a01543dfa30e27b0f1d6837c": {
      "model_module": "@jupyter-widgets/controls",
      "model_module_version": "1.5.0",
      "model_name": "DescriptionStyleModel",
      "state": {
       "description_width": ""
      }
     },
     "5ed695b4fe814f088edecd70685331bf": {
      "model_module": "@jupyter-widgets/controls",
      "model_module_version": "1.5.0",
      "model_name": "DescriptionStyleModel",
      "state": {
       "description_width": ""
      }
     },
     "5f6410155bc14e258b2e10eb19accd4a": {
      "model_module": "@jupyter-widgets/controls",
      "model_module_version": "1.5.0",
      "model_name": "HTMLModel",
      "state": {
       "layout": "IPY_MODEL_fcf06edc960a44b0aa5a1ac5f40522fb",
       "style": "IPY_MODEL_6d0bad2514d64a15857c1a585b5c8c2b",
       "value": "<table border=\"1\" class=\"dataframe table table-striped table-hover table-condensed table-responsive\">\n  <thead>\n    <tr style=\"text-align: right;\">\n      <th></th>\n      <th>46246</th>\n    </tr>\n  </thead>\n  <tbody>\n    <tr>\n      <th>met</th>\n      <td>0.0</td>\n    </tr>\n    <tr>\n      <th>wave</th>\n      <td>11732.0</td>\n    </tr>\n    <tr>\n      <th>type</th>\n      <td>buoy</td>\n    </tr>\n    <tr>\n      <th>name</th>\n      <td>Ocean Station PAPA  (166)</td>\n    </tr>\n    <tr>\n      <th>pgm</th>\n      <td>IOOS Partners</td>\n    </tr>\n  </tbody>\n</table>"
      }
     },
     "5f6b94a0e06045d999a9364ef5f90d13": {
      "model_module": "@jupyter-widgets/controls",
      "model_module_version": "1.5.0",
      "model_name": "DescriptionStyleModel",
      "state": {
       "description_width": ""
      }
     },
     "5fc3599f71784d3da63d2e35c62d9e2f": {
      "model_module": "@jupyter-widgets/base",
      "model_module_version": "1.2.0",
      "model_name": "LayoutModel",
      "state": {}
     },
     "5ffac3e717f54700b79902bcda03524c": {
      "model_module": "@jupyter-widgets/controls",
      "model_module_version": "1.5.0",
      "model_name": "DescriptionStyleModel",
      "state": {
       "description_width": ""
      }
     },
     "60a7d41b3bb74c6bae491c5ba3e410c2": {
      "model_module": "jupyter-leaflet",
      "model_module_version": "^0.15.0",
      "model_name": "LeafletMarkerModel",
      "state": {
       "_model_module_version": "^0.15.0",
       "_view_module_version": "^0.15.0",
       "draggable": false,
       "icon": "IPY_MODEL_0a30d19d950748bdb2d87a678f0e151f",
       "location": [
        29.689,
        -93.842
       ],
       "options": [
        "alt",
        "draggable",
        "keyboard",
        "rise_offset",
        "rise_on_hover",
        "rotation_angle",
        "rotation_origin",
        "title",
        "z_index_offset"
       ],
       "popup": "IPY_MODEL_f9ee2ec228f64c1b9dec9f851816bd76"
      }
     },
     "60d9738a4164460a86ec936457dcf29f": {
      "model_module": "jupyter-leaflet",
      "model_module_version": "^0.15.0",
      "model_name": "LeafletAwesomeIconModel",
      "state": {
       "_model_module_version": "^0.15.0",
       "_view_module_version": "^0.15.0",
       "icon_color": "white",
       "marker_color": "orange",
       "name": "life-ring"
      }
     },
     "626f556a88d74d79a84248cd9daf5114": {
      "model_module": "jupyter-leaflet",
      "model_module_version": "^0.15.0",
      "model_name": "LeafletAwesomeIconModel",
      "state": {
       "_model_module_version": "^0.15.0",
       "_view_module_version": "^0.15.0",
       "icon_color": "white",
       "marker_color": "orange",
       "name": "life-ring"
      }
     },
     "62c402d9a45a4e3eb74c7a55de1637b1": {
      "model_module": "jupyter-leaflet",
      "model_module_version": "^0.15.0",
      "model_name": "LeafletMarkerModel",
      "state": {
       "_model_module_version": "^0.15.0",
       "_view_module_version": "^0.15.0",
       "draggable": false,
       "icon": "IPY_MODEL_35070f8eaf884a9c95fee935f3c28e8f",
       "location": [
        28.153,
        -82.801
       ],
       "options": [
        "alt",
        "draggable",
        "keyboard",
        "rise_offset",
        "rise_on_hover",
        "rotation_angle",
        "rotation_origin",
        "title",
        "z_index_offset"
       ],
       "popup": "IPY_MODEL_59126a2e4da247408cc0756472147727"
      }
     },
     "630434e60b32427e8f74c7120a34a4d5": {
      "model_module": "jupyter-leaflet",
      "model_module_version": "^0.15.0",
      "model_name": "LeafletMarkerModel",
      "state": {
       "_model_module_version": "^0.15.0",
       "_view_module_version": "^0.15.0",
       "draggable": false,
       "icon": "IPY_MODEL_95bd6a7900be4b28a780c283a010a903",
       "location": [
        55.352,
        -131.684
       ],
       "options": [
        "alt",
        "draggable",
        "keyboard",
        "rise_offset",
        "rise_on_hover",
        "rotation_angle",
        "rotation_origin",
        "title",
        "z_index_offset"
       ],
       "popup": "IPY_MODEL_24961e287b78443b83d110816341af03"
      }
     },
     "6307599ec7c4497cbcfd5b07f5e7f315": {
      "model_module": "jupyter-leaflet",
      "model_module_version": "^0.15.0",
      "model_name": "LeafletAwesomeIconModel",
      "state": {
       "_model_module_version": "^0.15.0",
       "_view_module_version": "^0.15.0",
       "icon_color": "white",
       "marker_color": "orange",
       "name": "life-ring"
      }
     },
     "63202ff41c61412ba92d17c2dafb6ffb": {
      "model_module": "jupyter-leaflet",
      "model_module_version": "^0.15.0",
      "model_name": "LeafletMarkerModel",
      "state": {
       "_model_module_version": "^0.15.0",
       "_view_module_version": "^0.15.0",
       "draggable": false,
       "icon": "IPY_MODEL_90966f0bc5744c8285c9a9620e708552",
       "location": [
        28.71,
        -95.914
       ],
       "options": [
        "alt",
        "draggable",
        "keyboard",
        "rise_offset",
        "rise_on_hover",
        "rotation_angle",
        "rotation_origin",
        "title",
        "z_index_offset"
       ],
       "popup": "IPY_MODEL_3f2856b87a5145cab303c834a7d15cfb"
      }
     },
     "6328b5f572764b579d2acf1aca6065d6": {
      "model_module": "@jupyter-widgets/base",
      "model_module_version": "1.2.0",
      "model_name": "LayoutModel",
      "state": {}
     },
     "63e56c7d80644108a9679d5241e78fbf": {
      "model_module": "jupyter-leaflet",
      "model_module_version": "^0.15.0",
      "model_name": "LeafletAwesomeIconModel",
      "state": {
       "_model_module_version": "^0.15.0",
       "_view_module_version": "^0.15.0",
       "icon_color": "white",
       "marker_color": "orange",
       "name": "life-ring"
      }
     },
     "6406c1449e1a4f82b29cc3227f6fa125": {
      "model_module": "@jupyter-widgets/controls",
      "model_module_version": "1.5.0",
      "model_name": "DescriptionStyleModel",
      "state": {
       "description_width": ""
      }
     },
     "64268298c0d943b68919971801686c54": {
      "model_module": "jupyter-leaflet",
      "model_module_version": "^0.15.0",
      "model_name": "LeafletMarkerModel",
      "state": {
       "_model_module_version": "^0.15.0",
       "_view_module_version": "^0.15.0",
       "draggable": false,
       "icon": "IPY_MODEL_e6aa52ab50be4ea7b5e9cce63d40a2e7",
       "location": [
        32.279,
        -80.406
       ],
       "options": [
        "alt",
        "draggable",
        "keyboard",
        "rise_offset",
        "rise_on_hover",
        "rotation_angle",
        "rotation_origin",
        "title",
        "z_index_offset"
       ],
       "popup": "IPY_MODEL_b9a700ca6cc8407e8cfc9543a506e8a8"
      }
     },
     "64752bc1d5db4fa190039d1c4358405c": {
      "model_module": "jupyter-leaflet",
      "model_module_version": "^0.15.0",
      "model_name": "LeafletMarkerModel",
      "state": {
       "_model_module_version": "^0.15.0",
       "_view_module_version": "^0.15.0",
       "draggable": false,
       "icon": "IPY_MODEL_82b2a07ca08a456b834b4ace29067ae5",
       "location": [
        21.323,
        -158.149
       ],
       "options": [
        "alt",
        "draggable",
        "keyboard",
        "rise_offset",
        "rise_on_hover",
        "rotation_angle",
        "rotation_origin",
        "title",
        "z_index_offset"
       ],
       "popup": "IPY_MODEL_031d0ad78d0b4dd487c47ec529239239"
      }
     },
     "64a5c3f4fd404917bb63ceb1af47e104": {
      "model_module": "@jupyter-widgets/base",
      "model_module_version": "1.2.0",
      "model_name": "LayoutModel",
      "state": {}
     },
     "64b64cb3a6c54a809f3d29b12b6496df": {
      "model_module": "jupyter-leaflet",
      "model_module_version": "^0.15.0",
      "model_name": "LeafletAwesomeIconModel",
      "state": {
       "_model_module_version": "^0.15.0",
       "_view_module_version": "^0.15.0",
       "icon_color": "white",
       "marker_color": "orange",
       "name": "life-ring"
      }
     },
     "650de32ed0db4f6ca17efa2366b0e2f6": {
      "model_module": "jupyter-leaflet",
      "model_module_version": "^0.15.0",
      "model_name": "LeafletMarkerModel",
      "state": {
       "_model_module_version": "^0.15.0",
       "_view_module_version": "^0.15.0",
       "draggable": false,
       "icon": "IPY_MODEL_cb9cc36620244c499628cd6b555b1222",
       "location": [
        46.969,
        -88.398
       ],
       "options": [
        "alt",
        "draggable",
        "keyboard",
        "rise_offset",
        "rise_on_hover",
        "rotation_angle",
        "rotation_origin",
        "title",
        "z_index_offset"
       ],
       "popup": "IPY_MODEL_1f8519be4dbe4b66b2cca0187a81c542"
      }
     },
     "65555d9bc75448ad9aeac85497dd3f56": {
      "model_module": "jupyter-leaflet",
      "model_module_version": "^0.15.0",
      "model_name": "LeafletMarkerModel",
      "state": {
       "_model_module_version": "^0.15.0",
       "_view_module_version": "^0.15.0",
       "draggable": false,
       "icon": "IPY_MODEL_626f556a88d74d79a84248cd9daf5114",
       "location": [
        58.198,
        -134.257
       ],
       "options": [
        "alt",
        "draggable",
        "keyboard",
        "rise_offset",
        "rise_on_hover",
        "rotation_angle",
        "rotation_origin",
        "title",
        "z_index_offset"
       ],
       "popup": "IPY_MODEL_8e3581163dbd401886da8c869c5fd67a"
      }
     },
     "66209fa008f147aca4dc244a7f68d9db": {
      "model_module": "@jupyter-widgets/base",
      "model_module_version": "1.2.0",
      "model_name": "LayoutModel",
      "state": {}
     },
     "6673e3df6734458ea9e80b7259636f56": {
      "model_module": "@jupyter-widgets/base",
      "model_module_version": "1.2.0",
      "model_name": "LayoutModel",
      "state": {}
     },
     "6788f9f1645e4fd5a5c95d697b1c22da": {
      "model_module": "@jupyter-widgets/base",
      "model_module_version": "1.2.0",
      "model_name": "LayoutModel",
      "state": {}
     },
     "68b5880d285c479fa6e8fce26bf130f5": {
      "model_module": "@jupyter-widgets/base",
      "model_module_version": "1.2.0",
      "model_name": "LayoutModel",
      "state": {}
     },
     "6956dc5de40e4240a723b045e332881a": {
      "model_module": "jupyter-leaflet",
      "model_module_version": "^0.15.0",
      "model_name": "LeafletMarkerModel",
      "state": {
       "_model_module_version": "^0.15.0",
       "_view_module_version": "^0.15.0",
       "draggable": false,
       "icon": "IPY_MODEL_a25ef65fb67f470187a715783bf7f750",
       "location": [
        33.988,
        -77.362
       ],
       "options": [
        "alt",
        "draggable",
        "keyboard",
        "rise_offset",
        "rise_on_hover",
        "rotation_angle",
        "rotation_origin",
        "title",
        "z_index_offset"
       ],
       "popup": "IPY_MODEL_1e347c07a81a4081b2a26075d2f7c1c6"
      }
     },
     "69657385e73b438fb52290966ad6ff66": {
      "model_module": "@jupyter-widgets/base",
      "model_module_version": "1.2.0",
      "model_name": "LayoutModel",
      "state": {}
     },
     "696eb947d7e14287bcdc8977fd41b13e": {
      "model_module": "jupyter-leaflet",
      "model_module_version": "^0.15.0",
      "model_name": "LeafletMarkerModel",
      "state": {
       "_model_module_version": "^0.15.0",
       "_view_module_version": "^0.15.0",
       "draggable": false,
       "icon": "IPY_MODEL_8df910d0241a4916a9ff108d90247e2e",
       "location": [
        36.751,
        -122.029
       ],
       "options": [
        "alt",
        "draggable",
        "keyboard",
        "rise_offset",
        "rise_on_hover",
        "rotation_angle",
        "rotation_origin",
        "title",
        "z_index_offset"
       ],
       "popup": "IPY_MODEL_8d7cb15286e94e0eb7ab78bc8ca198cf"
      }
     },
     "6985de22813b4961b1f369174c112b1f": {
      "model_module": "@jupyter-widgets/base",
      "model_module_version": "1.2.0",
      "model_name": "LayoutModel",
      "state": {}
     },
     "699fee6fa5d24e4bb215ba481dbcc82b": {
      "model_module": "@jupyter-widgets/controls",
      "model_module_version": "1.5.0",
      "model_name": "DescriptionStyleModel",
      "state": {
       "description_width": ""
      }
     },
     "69a8e97216434a7da94462bf2d817a14": {
      "model_module": "@jupyter-widgets/base",
      "model_module_version": "1.2.0",
      "model_name": "LayoutModel",
      "state": {}
     },
     "69d053d33cd048598873ad17218be521": {
      "model_module": "@jupyter-widgets/base",
      "model_module_version": "1.2.0",
      "model_name": "LayoutModel",
      "state": {}
     },
     "69e2c293af3c48039c04898131925f56": {
      "model_module": "@jupyter-widgets/controls",
      "model_module_version": "1.5.0",
      "model_name": "DescriptionStyleModel",
      "state": {
       "description_width": ""
      }
     },
     "69f654ee902f4b1c827e0a86fdcd4c47": {
      "model_module": "@jupyter-widgets/base",
      "model_module_version": "1.2.0",
      "model_name": "LayoutModel",
      "state": {}
     },
     "6ab91ebe492d40a8b0a9bd667e152827": {
      "model_module": "jupyter-leaflet",
      "model_module_version": "^0.15.0",
      "model_name": "LeafletAwesomeIconModel",
      "state": {
       "_model_module_version": "^0.15.0",
       "_view_module_version": "^0.15.0",
       "icon_color": "white",
       "marker_color": "orange",
       "name": "life-ring"
      }
     },
     "6b47db7904ef487c8cde81050efd24e6": {
      "model_module": "jupyter-leaflet",
      "model_module_version": "^0.15.0",
      "model_name": "LeafletMarkerModel",
      "state": {
       "_model_module_version": "^0.15.0",
       "_view_module_version": "^0.15.0",
       "draggable": false,
       "icon": "IPY_MODEL_a4a79cd3a9fc43498843ce27d7fd93a1",
       "location": [
        41.702,
        -83.261
       ],
       "options": [
        "alt",
        "draggable",
        "keyboard",
        "rise_offset",
        "rise_on_hover",
        "rotation_angle",
        "rotation_origin",
        "title",
        "z_index_offset"
       ],
       "popup": "IPY_MODEL_d2d9384a20b046acb5daa9f45bff2700"
      }
     },
     "6c5d16002a1f49cb9ccf1dfa1d8663bc": {
      "model_module": "@jupyter-widgets/base",
      "model_module_version": "1.2.0",
      "model_name": "LayoutModel",
      "state": {}
     },
     "6ceee183db22463eb50a43d24a87b92f": {
      "model_module": "jupyter-leaflet",
      "model_module_version": "^0.15.0",
      "model_name": "LeafletAwesomeIconModel",
      "state": {
       "_model_module_version": "^0.15.0",
       "_view_module_version": "^0.15.0",
       "icon_color": "white",
       "marker_color": "green",
       "name": "life-ring"
      }
     },
     "6d0bad2514d64a15857c1a585b5c8c2b": {
      "model_module": "@jupyter-widgets/controls",
      "model_module_version": "1.5.0",
      "model_name": "DescriptionStyleModel",
      "state": {
       "description_width": ""
      }
     },
     "6d94efa38a5b41c9bba79220ab4238c4": {
      "model_module": "@jupyter-widgets/controls",
      "model_module_version": "1.5.0",
      "model_name": "HTMLModel",
      "state": {
       "layout": "IPY_MODEL_69d053d33cd048598873ad17218be521",
       "style": "IPY_MODEL_b0c1d031096848de83bcc535fe12baf3",
       "value": "<table border=\"1\" class=\"dataframe table table-striped table-hover table-condensed table-responsive\">\n  <thead>\n    <tr style=\"text-align: right;\">\n      <th></th>\n      <th>mlsc1</th>\n    </tr>\n  </thead>\n  <tbody>\n    <tr>\n      <th>met</th>\n      <td>43720.0</td>\n    </tr>\n    <tr>\n      <th>wave</th>\n      <td>0.0</td>\n    </tr>\n    <tr>\n      <th>type</th>\n      <td>fixed</td>\n    </tr>\n    <tr>\n      <th>name</th>\n      <td>Moss Landing, South Harbor, CA</td>\n    </tr>\n    <tr>\n      <th>pgm</th>\n      <td>IOOS Partners</td>\n    </tr>\n  </tbody>\n</table>"
      }
     },
     "6da33069fc594efbbc8a94d4864d856d": {
      "model_module": "@jupyter-widgets/controls",
      "model_module_version": "1.5.0",
      "model_name": "DescriptionStyleModel",
      "state": {
       "description_width": ""
      }
     },
     "6de089486adb48e399d1106780aeaade": {
      "model_module": "@jupyter-widgets/base",
      "model_module_version": "1.2.0",
      "model_name": "LayoutModel",
      "state": {}
     },
     "6e46ca9763e44a7c96a796c81228d594": {
      "model_module": "jupyter-leaflet",
      "model_module_version": "^0.15.0",
      "model_name": "LeafletMapStyleModel",
      "state": {
       "_model_module_version": "^0.15.0"
      }
     },
     "6e8a4309398a4d37b1375f059b9eebcb": {
      "model_module": "@jupyter-widgets/controls",
      "model_module_version": "1.5.0",
      "model_name": "DescriptionStyleModel",
      "state": {
       "description_width": ""
      }
     },
     "6fc65f28102247449d75641cf3f234b0": {
      "model_module": "jupyter-leaflet",
      "model_module_version": "^0.15.0",
      "model_name": "LeafletMarkerModel",
      "state": {
       "_model_module_version": "^0.15.0",
       "_view_module_version": "^0.15.0",
       "draggable": false,
       "icon": "IPY_MODEL_c6c2bb26490b447b82bac69ef1a0de64",
       "location": [
        26.067,
        -97.155
       ],
       "options": [
        "alt",
        "draggable",
        "keyboard",
        "rise_offset",
        "rise_on_hover",
        "rotation_angle",
        "rotation_origin",
        "title",
        "z_index_offset"
       ],
       "popup": "IPY_MODEL_11df289334f9491f921ca2fa086c682a"
      }
     },
     "7009991f9c534a308e53f6b5d7814c14": {
      "model_module": "jupyter-leaflet",
      "model_module_version": "^0.15.0",
      "model_name": "LeafletMarkerModel",
      "state": {
       "_model_module_version": "^0.15.0",
       "_view_module_version": "^0.15.0",
       "draggable": false,
       "icon": "IPY_MODEL_d391f6a2dc2342adbbd9184621a54154",
       "location": [
        59.448,
        -135.326
       ],
       "options": [
        "alt",
        "draggable",
        "keyboard",
        "rise_offset",
        "rise_on_hover",
        "rotation_angle",
        "rotation_origin",
        "title",
        "z_index_offset"
       ],
       "popup": "IPY_MODEL_c87100130ccd4c5192d6700ce3757c4f"
      }
     },
     "705d22fa359e4dc9be1c658f7d9521db": {
      "model_module": "jupyter-leaflet",
      "model_module_version": "^0.15.0",
      "model_name": "LeafletAwesomeIconModel",
      "state": {
       "_model_module_version": "^0.15.0",
       "_view_module_version": "^0.15.0",
       "icon_color": "white",
       "marker_color": "red",
       "name": "life-ring"
      }
     },
     "706a09f07f4a4097bf9f2da70cd8bbc4": {
      "model_module": "jupyter-leaflet",
      "model_module_version": "^0.15.0",
      "model_name": "LeafletAwesomeIconModel",
      "state": {
       "_model_module_version": "^0.15.0",
       "_view_module_version": "^0.15.0",
       "icon_color": "white",
       "marker_color": "green",
       "name": "life-ring"
      }
     },
     "70d3d04d806647deab35874152164f7b": {
      "model_module": "@jupyter-widgets/controls",
      "model_module_version": "1.5.0",
      "model_name": "HTMLModel",
      "state": {
       "layout": "IPY_MODEL_dfc4bcdee5b745109f10281c56745183",
       "style": "IPY_MODEL_ed418a3a26f8426096aecfcdc5daf77c",
       "value": "<table border=\"1\" class=\"dataframe table table-striped table-hover table-condensed table-responsive\">\n  <thead>\n    <tr style=\"text-align: right;\">\n      <th></th>\n      <th>hmsa2</th>\n    </tr>\n  </thead>\n  <tbody>\n    <tr>\n      <th>met</th>\n      <td>34298.0</td>\n    </tr>\n    <tr>\n      <th>wave</th>\n      <td>0.0</td>\n    </tr>\n    <tr>\n      <th>type</th>\n      <td>fixed</td>\n    </tr>\n    <tr>\n      <th>name</th>\n      <td>Homer Spit, AK</td>\n    </tr>\n    <tr>\n      <th>pgm</th>\n      <td>IOOS Partners</td>\n    </tr>\n  </tbody>\n</table>"
      }
     },
     "70ddaac2915b42bca59d5f7cf90d3eed": {
      "model_module": "jupyter-leaflet",
      "model_module_version": "^0.15.0",
      "model_name": "LeafletAwesomeIconModel",
      "state": {
       "_model_module_version": "^0.15.0",
       "_view_module_version": "^0.15.0",
       "icon_color": "white",
       "marker_color": "orange",
       "name": "life-ring"
      }
     },
     "70e074d51d09485aa3372ebb897bc3aa": {
      "model_module": "@jupyter-widgets/base",
      "model_module_version": "1.2.0",
      "model_name": "LayoutModel",
      "state": {}
     },
     "70ecb3eb317b4f9199310b3be2ba9246": {
      "model_module": "@jupyter-widgets/controls",
      "model_module_version": "1.5.0",
      "model_name": "DescriptionStyleModel",
      "state": {
       "description_width": ""
      }
     },
     "710fbcbc32f64c61be00ec5d1a605677": {
      "model_module": "@jupyter-widgets/controls",
      "model_module_version": "1.5.0",
      "model_name": "HTMLModel",
      "state": {
       "layout": "IPY_MODEL_bfdc2179b1d24309a17729324e00d437",
       "style": "IPY_MODEL_b069c757dc144aa38ecc3c5d75699848",
       "value": "<table border=\"1\" class=\"dataframe table table-striped table-hover table-condensed table-responsive\">\n  <thead>\n    <tr style=\"text-align: right;\">\n      <th></th>\n      <th>arop4</th>\n    </tr>\n  </thead>\n  <tbody>\n    <tr>\n      <th>met</th>\n      <td>58490.0</td>\n    </tr>\n    <tr>\n      <th>wave</th>\n      <td>0.0</td>\n    </tr>\n    <tr>\n      <th>type</th>\n      <td>fixed</td>\n    </tr>\n    <tr>\n      <th>name</th>\n      <td>9757809 - Arecibo, PR</td>\n    </tr>\n    <tr>\n      <th>pgm</th>\n      <td>IOOS Partners</td>\n    </tr>\n  </tbody>\n</table>"
      }
     },
     "7120c516947e47969938bf60ae94cae1": {
      "model_module": "jupyter-leaflet",
      "model_module_version": "^0.15.0",
      "model_name": "LeafletMarkerModel",
      "state": {
       "_model_module_version": "^0.15.0",
       "_view_module_version": "^0.15.0",
       "draggable": false,
       "icon": "IPY_MODEL_33d156c3bb324912b54bae676645bbaa",
       "location": [
        28.407,
        -96.712
       ],
       "options": [
        "alt",
        "draggable",
        "keyboard",
        "rise_offset",
        "rise_on_hover",
        "rotation_angle",
        "rotation_origin",
        "title",
        "z_index_offset"
       ],
       "popup": "IPY_MODEL_96edd6b97a02463898bde8e77fc1d28f"
      }
     },
     "7217ca177a9d411abe157a4432bb21e6": {
      "model_module": "jupyter-leaflet",
      "model_module_version": "^0.15.0",
      "model_name": "LeafletAwesomeIconModel",
      "state": {
       "_model_module_version": "^0.15.0",
       "_view_module_version": "^0.15.0",
       "icon_color": "white",
       "marker_color": "orange",
       "name": "life-ring"
      }
     },
     "72d69373202c4be2988d1959076f812e": {
      "model_module": "jupyter-leaflet",
      "model_module_version": "^0.15.0",
      "model_name": "LeafletAwesomeIconModel",
      "state": {
       "_model_module_version": "^0.15.0",
       "_view_module_version": "^0.15.0",
       "icon_color": "white",
       "marker_color": "orange",
       "name": "life-ring"
      }
     },
     "72d8cd78ae264a1dbef8940f26946d14": {
      "model_module": "jupyter-leaflet",
      "model_module_version": "^0.15.0",
      "model_name": "LeafletAwesomeIconModel",
      "state": {
       "_model_module_version": "^0.15.0",
       "_view_module_version": "^0.15.0",
       "icon_color": "white",
       "marker_color": "orange",
       "name": "life-ring"
      }
     },
     "730dbe5245dc4ac1a1a335c8de550d6f": {
      "model_module": "@jupyter-widgets/controls",
      "model_module_version": "1.5.0",
      "model_name": "DescriptionStyleModel",
      "state": {
       "description_width": ""
      }
     },
     "731cd434727c410d99236e50064bcedc": {
      "model_module": "jupyter-leaflet",
      "model_module_version": "^0.15.0",
      "model_name": "LeafletZoomControlModel",
      "state": {
       "_model_module_version": "^0.15.0",
       "_view_module_version": "^0.15.0",
       "options": [
        "position",
        "zoom_in_text",
        "zoom_in_title",
        "zoom_out_text",
        "zoom_out_title"
       ]
      }
     },
     "7434769eb3984a82a52d20ff5c471c4f": {
      "model_module": "jupyter-leaflet",
      "model_module_version": "^0.15.0",
      "model_name": "LeafletAwesomeIconModel",
      "state": {
       "_model_module_version": "^0.15.0",
       "_view_module_version": "^0.15.0",
       "icon_color": "white",
       "marker_color": "orange",
       "name": "life-ring"
      }
     },
     "74977ac038e7486e91269f2fdbdec3f7": {
      "model_module": "jupyter-leaflet",
      "model_module_version": "^0.15.0",
      "model_name": "LeafletMarkerModel",
      "state": {
       "_model_module_version": "^0.15.0",
       "_view_module_version": "^0.15.0",
       "draggable": false,
       "icon": "IPY_MODEL_29ef32c237cd4f638400a340ab74e466",
       "location": [
        42.523,
        -70.566
       ],
       "options": [
        "alt",
        "draggable",
        "keyboard",
        "rise_offset",
        "rise_on_hover",
        "rotation_angle",
        "rotation_origin",
        "title",
        "z_index_offset"
       ],
       "popup": "IPY_MODEL_aec40fb0432b48a79b46344b7264bc49"
      }
     },
     "75d9da13cdd645b99638391d9fd43b76": {
      "model_module": "@jupyter-widgets/base",
      "model_module_version": "1.2.0",
      "model_name": "LayoutModel",
      "state": {}
     },
     "75e901e112a74c89acf2a6e6676498e1": {
      "model_module": "@jupyter-widgets/controls",
      "model_module_version": "1.5.0",
      "model_name": "DescriptionStyleModel",
      "state": {
       "description_width": ""
      }
     },
     "767908092d454293a69bb7093550db71": {
      "model_module": "@jupyter-widgets/controls",
      "model_module_version": "1.5.0",
      "model_name": "DescriptionStyleModel",
      "state": {
       "description_width": ""
      }
     },
     "7887615f330c48c5a7e3a964a607f40b": {
      "model_module": "@jupyter-widgets/base",
      "model_module_version": "1.2.0",
      "model_name": "LayoutModel",
      "state": {}
     },
     "78bce01de9c548cdb5f55d926625d084": {
      "model_module": "@jupyter-widgets/controls",
      "model_module_version": "1.5.0",
      "model_name": "HTMLModel",
      "state": {
       "layout": "IPY_MODEL_7b1a60415faf4ede80ae5a81ea8cc4c6",
       "style": "IPY_MODEL_7cb905f2cae24cbf853d0cce799a43fb",
       "value": "<table border=\"1\" class=\"dataframe table table-striped table-hover table-condensed table-responsive\">\n  <thead>\n    <tr style=\"text-align: right;\">\n      <th></th>\n      <th>rtat2</th>\n    </tr>\n  </thead>\n  <tbody>\n    <tr>\n      <th>met</th>\n      <td>58756.0</td>\n    </tr>\n    <tr>\n      <th>wave</th>\n      <td>0.0</td>\n    </tr>\n    <tr>\n      <th>type</th>\n      <td>fixed</td>\n    </tr>\n    <tr>\n      <th>name</th>\n      <td>8775237 - Port Aransas, TX</td>\n    </tr>\n    <tr>\n      <th>pgm</th>\n      <td>IOOS Partners</td>\n    </tr>\n  </tbody>\n</table>"
      }
     },
     "7920e81f638a4785b2cb9718117e365b": {
      "model_module": "jupyter-leaflet",
      "model_module_version": "^0.15.0",
      "model_name": "LeafletMarkerModel",
      "state": {
       "_model_module_version": "^0.15.0",
       "_view_module_version": "^0.15.0",
       "draggable": false,
       "icon": "IPY_MODEL_bd4497dcd8fe4d89934a49696b69b974",
       "location": [
        42.325,
        -65.909
       ],
       "options": [
        "alt",
        "draggable",
        "keyboard",
        "rise_offset",
        "rise_on_hover",
        "rotation_angle",
        "rotation_origin",
        "title",
        "z_index_offset"
       ],
       "popup": "IPY_MODEL_9ffd90e105ee4ea8a287e683b6d0fe02"
      }
     },
     "797b56b85811448b800422d280126e81": {
      "model_module": "@jupyter-widgets/controls",
      "model_module_version": "1.5.0",
      "model_name": "HTMLModel",
      "state": {
       "layout": "IPY_MODEL_2deb4ef8fe264eb799e76b852756ac5d",
       "style": "IPY_MODEL_4381d80f4de640c0b45d11b676f693df",
       "value": "<table border=\"1\" class=\"dataframe table table-striped table-hover table-condensed table-responsive\">\n  <thead>\n    <tr style=\"text-align: right;\">\n      <th></th>\n      <th>pgxa2</th>\n    </tr>\n  </thead>\n  <tbody>\n    <tr>\n      <th>met</th>\n      <td>34194.0</td>\n    </tr>\n    <tr>\n      <th>wave</th>\n      <td>0.0</td>\n    </tr>\n    <tr>\n      <th>type</th>\n      <td>fixed</td>\n    </tr>\n    <tr>\n      <th>name</th>\n      <td>Point Gardner</td>\n    </tr>\n    <tr>\n      <th>pgm</th>\n      <td>IOOS Partners</td>\n    </tr>\n  </tbody>\n</table>"
      }
     },
     "798b7c30cf9d4c879f482ee2a74bb7e8": {
      "model_module": "@jupyter-widgets/controls",
      "model_module_version": "1.5.0",
      "model_name": "HTMLModel",
      "state": {
       "layout": "IPY_MODEL_66209fa008f147aca4dc244a7f68d9db",
       "style": "IPY_MODEL_59d7d20a30714053a563f3da54e5636a",
       "value": "<table border=\"1\" class=\"dataframe table table-striped table-hover table-condensed table-responsive\">\n  <thead>\n    <tr style=\"text-align: right;\">\n      <th></th>\n      <th>45186</th>\n    </tr>\n  </thead>\n  <tbody>\n    <tr>\n      <th>met</th>\n      <td>25606.0</td>\n    </tr>\n    <tr>\n      <th>wave</th>\n      <td>27616.0</td>\n    </tr>\n    <tr>\n      <th>type</th>\n      <td>buoy</td>\n    </tr>\n    <tr>\n      <th>name</th>\n      <td>Waukegan Buoy, IL</td>\n    </tr>\n    <tr>\n      <th>pgm</th>\n      <td>IOOS Partners</td>\n    </tr>\n  </tbody>\n</table>"
      }
     },
     "7a9a7f251ae448299e55ac0c42eb8dc8": {
      "model_module": "jupyter-leaflet",
      "model_module_version": "^0.15.0",
      "model_name": "LeafletMarkerModel",
      "state": {
       "_model_module_version": "^0.15.0",
       "_view_module_version": "^0.15.0",
       "draggable": false,
       "icon": "IPY_MODEL_eb153a511a3f496a869f30f2b1f8b3d8",
       "location": [
        44.795,
        -87.759
       ],
       "options": [
        "alt",
        "draggable",
        "keyboard",
        "rise_offset",
        "rise_on_hover",
        "rotation_angle",
        "rotation_origin",
        "title",
        "z_index_offset"
       ],
       "popup": "IPY_MODEL_e01409f263774dfa837afb99215e25fe"
      }
     },
     "7b1a60415faf4ede80ae5a81ea8cc4c6": {
      "model_module": "@jupyter-widgets/base",
      "model_module_version": "1.2.0",
      "model_name": "LayoutModel",
      "state": {}
     },
     "7b351c77e3bc4f76a8074d9f651b2abd": {
      "model_module": "jupyter-leaflet",
      "model_module_version": "^0.15.0",
      "model_name": "LeafletAwesomeIconModel",
      "state": {
       "_model_module_version": "^0.15.0",
       "_view_module_version": "^0.15.0",
       "icon_color": "white",
       "marker_color": "green",
       "name": "life-ring"
      }
     },
     "7bdf4c86620e4cfeb3cc9ba3f7422a1d": {
      "model_module": "jupyter-leaflet",
      "model_module_version": "^0.15.0",
      "model_name": "LeafletAwesomeIconModel",
      "state": {
       "_model_module_version": "^0.15.0",
       "_view_module_version": "^0.15.0",
       "icon_color": "white",
       "marker_color": "green",
       "name": "life-ring"
      }
     },
     "7cb905f2cae24cbf853d0cce799a43fb": {
      "model_module": "@jupyter-widgets/controls",
      "model_module_version": "1.5.0",
      "model_name": "DescriptionStyleModel",
      "state": {
       "description_width": ""
      }
     },
     "7cedd20a7b774b0e983f15db7823d012": {
      "model_module": "jupyter-leaflet",
      "model_module_version": "^0.15.0",
      "model_name": "LeafletMarkerModel",
      "state": {
       "_model_module_version": "^0.15.0",
       "_view_module_version": "^0.15.0",
       "draggable": false,
       "icon": "IPY_MODEL_18a094c4dd164337b6fdd0d52ba96c7d",
       "location": [
        58.298,
        -134.405
       ],
       "options": [
        "alt",
        "draggable",
        "keyboard",
        "rise_offset",
        "rise_on_hover",
        "rotation_angle",
        "rotation_origin",
        "title",
        "z_index_offset"
       ],
       "popup": "IPY_MODEL_2fc39a839d50497f981ccb9ffeb28073"
      }
     },
     "7cf03c0140f34c60898ec21056dd5d8e": {
      "model_module": "@jupyter-widgets/controls",
      "model_module_version": "1.5.0",
      "model_name": "HTMLModel",
      "state": {
       "layout": "IPY_MODEL_5644343070b14fcb9df0e56e2fb117d7",
       "style": "IPY_MODEL_4d6469bec3ab44ed8c70ae6cdf57ea60",
       "value": "<table border=\"1\" class=\"dataframe table table-striped table-hover table-condensed table-responsive\">\n  <thead>\n    <tr style=\"text-align: right;\">\n      <th></th>\n      <th>erxa2</th>\n    </tr>\n  </thead>\n  <tbody>\n    <tr>\n      <th>met</th>\n      <td>34312.0</td>\n    </tr>\n    <tr>\n      <th>wave</th>\n      <td>0.0</td>\n    </tr>\n    <tr>\n      <th>type</th>\n      <td>fixed</td>\n    </tr>\n    <tr>\n      <th>name</th>\n      <td>Eldred Rock MXAK, AK</td>\n    </tr>\n    <tr>\n      <th>pgm</th>\n      <td>IOOS Partners</td>\n    </tr>\n  </tbody>\n</table>"
      }
     },
     "7d3b7a5f367c4e50a3ab971c3f63d59f": {
      "model_module": "jupyter-leaflet",
      "model_module_version": "^0.15.0",
      "model_name": "LeafletAwesomeIconModel",
      "state": {
       "_model_module_version": "^0.15.0",
       "_view_module_version": "^0.15.0",
       "icon_color": "white",
       "marker_color": "orange",
       "name": "life-ring"
      }
     },
     "7d5e14f80af24638bfeb52b7df6c3644": {
      "model_module": "@jupyter-widgets/controls",
      "model_module_version": "1.5.0",
      "model_name": "HTMLModel",
      "state": {
       "layout": "IPY_MODEL_e0c3598838434cf5ad28f275812f457e",
       "style": "IPY_MODEL_b38bb284ca2e414191db949fbf6e818c",
       "value": "<table border=\"1\" class=\"dataframe table table-striped table-hover table-condensed table-responsive\">\n  <thead>\n    <tr style=\"text-align: right;\">\n      <th></th>\n      <th>44095</th>\n    </tr>\n  </thead>\n  <tbody>\n    <tr>\n      <th>met</th>\n      <td>0.0</td>\n    </tr>\n    <tr>\n      <th>wave</th>\n      <td>11662.0</td>\n    </tr>\n    <tr>\n      <th>type</th>\n      <td>buoy</td>\n    </tr>\n    <tr>\n      <th>name</th>\n      <td>Oregon Inlet, NC (192)</td>\n    </tr>\n    <tr>\n      <th>pgm</th>\n      <td>IOOS Partners</td>\n    </tr>\n  </tbody>\n</table>"
      }
     },
     "7e3f394d932d4333ba206aadb50f100d": {
      "model_module": "@jupyter-widgets/controls",
      "model_module_version": "1.5.0",
      "model_name": "HTMLModel",
      "state": {
       "layout": "IPY_MODEL_383cf48e9f7548f0a21dcdf132515cd1",
       "style": "IPY_MODEL_c2d31f0d310e49a0b251cb6b460f5608",
       "value": "<table border=\"1\" class=\"dataframe table table-striped table-hover table-condensed table-responsive\">\n  <thead>\n    <tr style=\"text-align: right;\">\n      <th></th>\n      <th>rlit2</th>\n    </tr>\n  </thead>\n  <tbody>\n    <tr>\n      <th>met</th>\n      <td>58590.0</td>\n    </tr>\n    <tr>\n      <th>wave</th>\n      <td>0.0</td>\n    </tr>\n    <tr>\n      <th>type</th>\n      <td>fixed</td>\n    </tr>\n    <tr>\n      <th>name</th>\n      <td>8779280 - Realitos Peninsula, TX</td>\n    </tr>\n    <tr>\n      <th>pgm</th>\n      <td>IOOS Partners</td>\n    </tr>\n  </tbody>\n</table>"
      }
     },
     "7f09d04deb6344909b9d2797321126e0": {
      "model_module": "@jupyter-widgets/base",
      "model_module_version": "1.2.0",
      "model_name": "LayoutModel",
      "state": {}
     },
     "7f64fb6c8ed14a1e877ccc3275cce16b": {
      "model_module": "@jupyter-widgets/controls",
      "model_module_version": "1.5.0",
      "model_name": "DescriptionStyleModel",
      "state": {
       "description_width": ""
      }
     },
     "7fa72ec340e642689a4dcf8f04f0d997": {
      "model_module": "@jupyter-widgets/base",
      "model_module_version": "1.2.0",
      "model_name": "LayoutModel",
      "state": {}
     },
     "80f4489217aa481797d55ace09125fc5": {
      "model_module": "jupyter-leaflet",
      "model_module_version": "^0.15.0",
      "model_name": "LeafletMarkerModel",
      "state": {
       "_model_module_version": "^0.15.0",
       "_view_module_version": "^0.15.0",
       "draggable": false,
       "icon": "IPY_MODEL_df90312924424677965375804726518c",
       "location": [
        30.329,
        -87.829
       ],
       "options": [
        "alt",
        "draggable",
        "keyboard",
        "rise_offset",
        "rise_on_hover",
        "rotation_angle",
        "rotation_origin",
        "title",
        "z_index_offset"
       ],
       "popup": "IPY_MODEL_930dd8a019624fe69cfe047e66e41d0c"
      }
     },
     "817c4d3ed888468ca3028da1ec8507d1": {
      "model_module": "jupyter-leaflet",
      "model_module_version": "^0.15.0",
      "model_name": "LeafletMarkerModel",
      "state": {
       "_model_module_version": "^0.15.0",
       "_view_module_version": "^0.15.0",
       "draggable": false,
       "icon": "IPY_MODEL_397d0783da414124ac32b85bac911ceb",
       "location": [
        55.34,
        -131.644
       ],
       "options": [
        "alt",
        "draggable",
        "keyboard",
        "rise_offset",
        "rise_on_hover",
        "rotation_angle",
        "rotation_origin",
        "title",
        "z_index_offset"
       ],
       "popup": "IPY_MODEL_f089c5fd344c4452b2ad00540d76a02f"
      }
     },
     "81fbe45bfbdf4b669f06f3c29b8ab88c": {
      "model_module": "@jupyter-widgets/base",
      "model_module_version": "1.2.0",
      "model_name": "LayoutModel",
      "state": {}
     },
     "825263e72318408d8cf6ab957ab1126b": {
      "model_module": "@jupyter-widgets/base",
      "model_module_version": "1.2.0",
      "model_name": "LayoutModel",
      "state": {}
     },
     "825a365995784096a6d439e605149551": {
      "model_module": "@jupyter-widgets/base",
      "model_module_version": "1.2.0",
      "model_name": "LayoutModel",
      "state": {}
     },
     "82b2a07ca08a456b834b4ace29067ae5": {
      "model_module": "jupyter-leaflet",
      "model_module_version": "^0.15.0",
      "model_name": "LeafletAwesomeIconModel",
      "state": {
       "_model_module_version": "^0.15.0",
       "_view_module_version": "^0.15.0",
       "icon_color": "white",
       "marker_color": "red",
       "name": "life-ring"
      }
     },
     "830a213d249143fdab46463e446d9038": {
      "model_module": "jupyter-leaflet",
      "model_module_version": "^0.15.0",
      "model_name": "LeafletAwesomeIconModel",
      "state": {
       "_model_module_version": "^0.15.0",
       "_view_module_version": "^0.15.0",
       "icon_color": "white",
       "marker_color": "orange",
       "name": "life-ring"
      }
     },
     "8318524434b243459d4d26dc1e02b3e2": {
      "model_module": "@jupyter-widgets/controls",
      "model_module_version": "1.5.0",
      "model_name": "HTMLModel",
      "state": {
       "layout": "IPY_MODEL_cada9ebeedb74715a721c425784c45e4",
       "style": "IPY_MODEL_cd20cace2993490f9f788f668b3535dc",
       "value": "<table border=\"1\" class=\"dataframe table table-striped table-hover table-condensed table-responsive\">\n  <thead>\n    <tr style=\"text-align: right;\">\n      <th></th>\n      <th>51202</th>\n    </tr>\n  </thead>\n  <tbody>\n    <tr>\n      <th>met</th>\n      <td>0.0</td>\n    </tr>\n    <tr>\n      <th>wave</th>\n      <td>1622.0</td>\n    </tr>\n    <tr>\n      <th>type</th>\n      <td>buoy</td>\n    </tr>\n    <tr>\n      <th>name</th>\n      <td>Mokapu Point, HI (098)</td>\n    </tr>\n    <tr>\n      <th>pgm</th>\n      <td>IOOS Partners</td>\n    </tr>\n  </tbody>\n</table>"
      }
     },
     "834376bd8dd0438bb453846b74c28cc2": {
      "model_module": "@jupyter-widgets/base",
      "model_module_version": "1.2.0",
      "model_name": "LayoutModel",
      "state": {}
     },
     "83e333fbf20a49a4b6f745da78f9dfa1": {
      "model_module": "@jupyter-widgets/base",
      "model_module_version": "1.2.0",
      "model_name": "LayoutModel",
      "state": {}
     },
     "8429a09a91e44460981cbb67b8a6b797": {
      "model_module": "jupyter-leaflet",
      "model_module_version": "^0.15.0",
      "model_name": "LeafletMarkerModel",
      "state": {
       "_model_module_version": "^0.15.0",
       "_view_module_version": "^0.15.0",
       "draggable": false,
       "icon": "IPY_MODEL_4d7ba79ffb6545328d5f0bcc937e2f23",
       "location": [
        34.141,
        -77.715
       ],
       "options": [
        "alt",
        "draggable",
        "keyboard",
        "rise_offset",
        "rise_on_hover",
        "rotation_angle",
        "rotation_origin",
        "title",
        "z_index_offset"
       ],
       "popup": "IPY_MODEL_4c7a7bdd727c459b86fa5ccc52fa6710"
      }
     },
     "846bd3942b2a416e9a341488769de864": {
      "model_module": "jupyter-leaflet",
      "model_module_version": "^0.15.0",
      "model_name": "LeafletMarkerModel",
      "state": {
       "_model_module_version": "^0.15.0",
       "_view_module_version": "^0.15.0",
       "draggable": false,
       "icon": "IPY_MODEL_e67afebf327746048f328733ac72dad5",
       "location": [
        27.84,
        -97.072
       ],
       "options": [
        "alt",
        "draggable",
        "keyboard",
        "rise_offset",
        "rise_on_hover",
        "rotation_angle",
        "rotation_origin",
        "title",
        "z_index_offset"
       ],
       "popup": "IPY_MODEL_78bce01de9c548cdb5f55d926625d084"
      }
     },
     "8667a3167f114b1880f91077d3736d52": {
      "model_module": "@jupyter-widgets/controls",
      "model_module_version": "1.5.0",
      "model_name": "DescriptionStyleModel",
      "state": {
       "description_width": ""
      }
     },
     "867198fbe3c54f228cdde5eb6d364629": {
      "model_module": "@jupyter-widgets/base",
      "model_module_version": "1.2.0",
      "model_name": "LayoutModel",
      "state": {}
     },
     "873819b5866c46c2a0f20de6617c5907": {
      "model_module": "@jupyter-widgets/controls",
      "model_module_version": "1.5.0",
      "model_name": "HTMLModel",
      "state": {
       "layout": "IPY_MODEL_6de089486adb48e399d1106780aeaade",
       "style": "IPY_MODEL_e665b2b3be5a4dd0b03b1bc3fc684d23",
       "value": "<table border=\"1\" class=\"dataframe table table-striped table-hover table-condensed table-responsive\">\n  <thead>\n    <tr style=\"text-align: right;\">\n      <th></th>\n      <th>42022</th>\n    </tr>\n  </thead>\n  <tbody>\n    <tr>\n      <th>met</th>\n      <td>11744.0</td>\n    </tr>\n    <tr>\n      <th>wave</th>\n      <td>0.0</td>\n    </tr>\n    <tr>\n      <th>type</th>\n      <td>buoy</td>\n    </tr>\n    <tr>\n      <th>name</th>\n      <td>C12 - WFS Central Buoy, 50m Isobath</td>\n    </tr>\n    <tr>\n      <th>pgm</th>\n      <td>IOOS Partners</td>\n    </tr>\n  </tbody>\n</table>"
      }
     },
     "8789a932497d4e4db96e5703397b8e79": {
      "model_module": "@jupyter-widgets/controls",
      "model_module_version": "1.5.0",
      "model_name": "DescriptionStyleModel",
      "state": {
       "description_width": ""
      }
     },
     "87f40df2d9e64235bba395a14440031f": {
      "model_module": "@jupyter-widgets/controls",
      "model_module_version": "1.5.0",
      "model_name": "HTMLModel",
      "state": {
       "layout": "IPY_MODEL_3dd43823c72e40cba15b4c34fb5983cf",
       "style": "IPY_MODEL_05188ed68cfc450c900226a0ad582d6f",
       "value": "<table border=\"1\" class=\"dataframe table table-striped table-hover table-condensed table-responsive\">\n  <thead>\n    <tr style=\"text-align: right;\">\n      <th></th>\n      <th>rlot2</th>\n    </tr>\n  </thead>\n  <tbody>\n    <tr>\n      <th>met</th>\n      <td>58756.0</td>\n    </tr>\n    <tr>\n      <th>wave</th>\n      <td>0.0</td>\n    </tr>\n    <tr>\n      <th>type</th>\n      <td>fixed</td>\n    </tr>\n    <tr>\n      <th>name</th>\n      <td>8770971 - Rollover Pass, TX</td>\n    </tr>\n    <tr>\n      <th>pgm</th>\n      <td>IOOS Partners</td>\n    </tr>\n  </tbody>\n</table>"
      }
     },
     "88797af9a19844fa9b0edf0586063e39": {
      "model_module": "jupyter-leaflet",
      "model_module_version": "^0.15.0",
      "model_name": "LeafletAwesomeIconModel",
      "state": {
       "_model_module_version": "^0.15.0",
       "_view_module_version": "^0.15.0",
       "icon_color": "white",
       "marker_color": "green",
       "name": "life-ring"
      }
     },
     "888aa5e9855c456fb11c842ef03e6eb9": {
      "model_module": "jupyter-leaflet",
      "model_module_version": "^0.15.0",
      "model_name": "LeafletMarkerModel",
      "state": {
       "_model_module_version": "^0.15.0",
       "_view_module_version": "^0.15.0",
       "draggable": false,
       "icon": "IPY_MODEL_14be5f9adf1b4b8b998043ec359b68b5",
       "location": [
        27.173,
        -82.924
       ],
       "options": [
        "alt",
        "draggable",
        "keyboard",
        "rise_offset",
        "rise_on_hover",
        "rotation_angle",
        "rotation_origin",
        "title",
        "z_index_offset"
       ],
       "popup": "IPY_MODEL_3105715a84954069ac5825c0cf0f6304"
      }
     },
     "88f448ac318e467e94623ade583f0354": {
      "model_module": "jupyter-leaflet",
      "model_module_version": "^0.15.0",
      "model_name": "LeafletAwesomeIconModel",
      "state": {
       "_model_module_version": "^0.15.0",
       "_view_module_version": "^0.15.0",
       "icon_color": "white",
       "marker_color": "orange",
       "name": "life-ring"
      }
     },
     "8922397ad9bb4eb8a1a0a4dcb9297d05": {
      "model_module": "jupyter-leaflet",
      "model_module_version": "^0.15.0",
      "model_name": "LeafletAwesomeIconModel",
      "state": {
       "_model_module_version": "^0.15.0",
       "_view_module_version": "^0.15.0",
       "icon_color": "white",
       "marker_color": "orange",
       "name": "life-ring"
      }
     },
     "895ecf368a4f4ac59d63b10ee6f2ae78": {
      "model_module": "jupyter-leaflet",
      "model_module_version": "^0.15.0",
      "model_name": "LeafletAwesomeIconModel",
      "state": {
       "_model_module_version": "^0.15.0",
       "_view_module_version": "^0.15.0",
       "icon_color": "white",
       "marker_color": "green",
       "name": "life-ring"
      }
     },
     "8a24a8d6af1f415bbf930cfc8a36662b": {
      "model_module": "jupyter-leaflet",
      "model_module_version": "^0.15.0",
      "model_name": "LeafletMarkerModel",
      "state": {
       "_model_module_version": "^0.15.0",
       "_view_module_version": "^0.15.0",
       "draggable": false,
       "icon": "IPY_MODEL_5d347fd92e3749f1a0e1e53d0d094b8e",
       "location": [
        34.213,
        -76.949
       ],
       "options": [
        "alt",
        "draggable",
        "keyboard",
        "rise_offset",
        "rise_on_hover",
        "rotation_angle",
        "rotation_origin",
        "title",
        "z_index_offset"
       ],
       "popup": "IPY_MODEL_d330bdeab44145d4838cb7bff87af679"
      }
     },
     "8aeb09b637b34d1d91e6ba79776d69a4": {
      "model_module": "jupyter-leaflet",
      "model_module_version": "^0.15.0",
      "model_name": "LeafletAwesomeIconModel",
      "state": {
       "_model_module_version": "^0.15.0",
       "_view_module_version": "^0.15.0",
       "icon_color": "white",
       "marker_color": "orange",
       "name": "life-ring"
      }
     },
     "8c08a2d01ee648669d1faa88b5b31dc0": {
      "model_module": "jupyter-leaflet",
      "model_module_version": "^0.15.0",
      "model_name": "LeafletAwesomeIconModel",
      "state": {
       "_model_module_version": "^0.15.0",
       "_view_module_version": "^0.15.0",
       "icon_color": "white",
       "marker_color": "orange",
       "name": "life-ring"
      }
     },
     "8c4b2d31bd054d139555fc612729d83c": {
      "model_module": "@jupyter-widgets/base",
      "model_module_version": "1.2.0",
      "model_name": "LayoutModel",
      "state": {}
     },
     "8cc518b2ae9e42cf91f547cd74974a18": {
      "model_module": "@jupyter-widgets/controls",
      "model_module_version": "1.5.0",
      "model_name": "DescriptionStyleModel",
      "state": {
       "description_width": ""
      }
     },
     "8cf2d3e425b54bf2ad92e51386681a28": {
      "model_module": "jupyter-leaflet",
      "model_module_version": "^0.15.0",
      "model_name": "LeafletAwesomeIconModel",
      "state": {
       "_model_module_version": "^0.15.0",
       "_view_module_version": "^0.15.0",
       "icon_color": "white",
       "marker_color": "orange",
       "name": "life-ring"
      }
     },
     "8d0f5d5278974bbeaf350e077a5c2f4d": {
      "model_module": "jupyter-leaflet",
      "model_module_version": "^0.15.0",
      "model_name": "LeafletAwesomeIconModel",
      "state": {
       "_model_module_version": "^0.15.0",
       "_view_module_version": "^0.15.0",
       "icon_color": "white",
       "marker_color": "green",
       "name": "life-ring"
      }
     },
     "8d3dd68b71054e8097b563183599a600": {
      "model_module": "@jupyter-widgets/controls",
      "model_module_version": "1.5.0",
      "model_name": "DescriptionStyleModel",
      "state": {
       "description_width": ""
      }
     },
     "8d54b9bb2ff049ba8b70c9fc0d6a29e5": {
      "model_module": "@jupyter-widgets/base",
      "model_module_version": "1.2.0",
      "model_name": "LayoutModel",
      "state": {}
     },
     "8d7cb15286e94e0eb7ab78bc8ca198cf": {
      "model_module": "@jupyter-widgets/controls",
      "model_module_version": "1.5.0",
      "model_name": "HTMLModel",
      "state": {
       "layout": "IPY_MODEL_ef59c05ce4144bd6978107918bddf768",
       "style": "IPY_MODEL_5ffac3e717f54700b79902bcda03524c",
       "value": "<table border=\"1\" class=\"dataframe table table-striped table-hover table-condensed table-responsive\">\n  <thead>\n    <tr style=\"text-align: right;\">\n      <th></th>\n      <th>46092</th>\n    </tr>\n  </thead>\n  <tbody>\n    <tr>\n      <th>met</th>\n      <td>5698.0</td>\n    </tr>\n    <tr>\n      <th>wave</th>\n      <td>0.0</td>\n    </tr>\n    <tr>\n      <th>type</th>\n      <td>buoy</td>\n    </tr>\n    <tr>\n      <th>name</th>\n      <td>MBM1</td>\n    </tr>\n    <tr>\n      <th>pgm</th>\n      <td>IOOS Partners</td>\n    </tr>\n  </tbody>\n</table>"
      }
     },
     "8df910d0241a4916a9ff108d90247e2e": {
      "model_module": "jupyter-leaflet",
      "model_module_version": "^0.15.0",
      "model_name": "LeafletAwesomeIconModel",
      "state": {
       "_model_module_version": "^0.15.0",
       "_view_module_version": "^0.15.0",
       "icon_color": "white",
       "marker_color": "orange",
       "name": "life-ring"
      }
     },
     "8e3323d121474ec8819576476347990f": {
      "model_module": "@jupyter-widgets/controls",
      "model_module_version": "1.5.0",
      "model_name": "DescriptionStyleModel",
      "state": {
       "description_width": ""
      }
     },
     "8e3581163dbd401886da8c869c5fd67a": {
      "model_module": "@jupyter-widgets/controls",
      "model_module_version": "1.5.0",
      "model_name": "HTMLModel",
      "state": {
       "layout": "IPY_MODEL_5b73be21baa74d4a8e6cd5f62b183c29",
       "style": "IPY_MODEL_c66c4f1c8ced4704b99ea66497f9d6ff",
       "value": "<table border=\"1\" class=\"dataframe table table-striped table-hover table-condensed table-responsive\">\n  <thead>\n    <tr style=\"text-align: right;\">\n      <th></th>\n      <th>mrna2</th>\n    </tr>\n  </thead>\n  <tbody>\n    <tr>\n      <th>met</th>\n      <td>34234.0</td>\n    </tr>\n    <tr>\n      <th>wave</th>\n      <td>0.0</td>\n    </tr>\n    <tr>\n      <th>type</th>\n      <td>fixed</td>\n    </tr>\n    <tr>\n      <th>name</th>\n      <td>Marmion Island, AK</td>\n    </tr>\n    <tr>\n      <th>pgm</th>\n      <td>IOOS Partners</td>\n    </tr>\n  </tbody>\n</table>"
      }
     },
     "8ee72dedb89c4702a017f0ab3e6dd5b6": {
      "model_module": "@jupyter-widgets/controls",
      "model_module_version": "1.5.0",
      "model_name": "HTMLModel",
      "state": {
       "layout": "IPY_MODEL_167b77912bae442182f59e48389cb1be",
       "style": "IPY_MODEL_d6be67a9d5a94326b1e8c3d3b9a42f5f",
       "value": "<table border=\"1\" class=\"dataframe table table-striped table-hover table-condensed table-responsive\">\n  <thead>\n    <tr style=\"text-align: right;\">\n      <th></th>\n      <th>jmla2</th>\n    </tr>\n  </thead>\n  <tbody>\n    <tr>\n      <th>met</th>\n      <td>34354.0</td>\n    </tr>\n    <tr>\n      <th>wave</th>\n      <td>0.0</td>\n    </tr>\n    <tr>\n      <th>type</th>\n      <td>fixed</td>\n    </tr>\n    <tr>\n      <th>name</th>\n      <td>Juneau AML Dock</td>\n    </tr>\n    <tr>\n      <th>pgm</th>\n      <td>IOOS Partners</td>\n    </tr>\n  </tbody>\n</table>"
      }
     },
     "8f2cf9299c944367984b7c0f1a167b41": {
      "model_module": "@jupyter-widgets/base",
      "model_module_version": "1.2.0",
      "model_name": "LayoutModel",
      "state": {}
     },
     "8f40b9548ea24229905efbe29715efb8": {
      "model_module": "@jupyter-widgets/controls",
      "model_module_version": "1.5.0",
      "model_name": "HTMLModel",
      "state": {
       "layout": "IPY_MODEL_6985de22813b4961b1f369174c112b1f",
       "style": "IPY_MODEL_9edcf64f4bbf4e82aec458a426eec86b",
       "value": "<table border=\"1\" class=\"dataframe table table-striped table-hover table-condensed table-responsive\">\n  <thead>\n    <tr style=\"text-align: right;\">\n      <th></th>\n      <th>luit2</th>\n    </tr>\n  </thead>\n  <tbody>\n    <tr>\n      <th>met</th>\n      <td>58696.0</td>\n    </tr>\n    <tr>\n      <th>wave</th>\n      <td>0.0</td>\n    </tr>\n    <tr>\n      <th>type</th>\n      <td>fixed</td>\n    </tr>\n    <tr>\n      <th>name</th>\n      <td>8771972 - San Luis Pass, TX</td>\n    </tr>\n    <tr>\n      <th>pgm</th>\n      <td>IOOS Partners</td>\n    </tr>\n  </tbody>\n</table>"
      }
     },
     "8f6db0b04a7f42be86e66932029a65aa": {
      "model_module": "jupyter-leaflet",
      "model_module_version": "^0.15.0",
      "model_name": "LeafletAwesomeIconModel",
      "state": {
       "_model_module_version": "^0.15.0",
       "_view_module_version": "^0.15.0",
       "icon_color": "white",
       "marker_color": "green",
       "name": "life-ring"
      }
     },
     "908882f2e9314a51a11635589375a574": {
      "model_module": "@jupyter-widgets/base",
      "model_module_version": "1.2.0",
      "model_name": "LayoutModel",
      "state": {}
     },
     "90966f0bc5744c8285c9a9620e708552": {
      "model_module": "jupyter-leaflet",
      "model_module_version": "^0.15.0",
      "model_name": "LeafletAwesomeIconModel",
      "state": {
       "_model_module_version": "^0.15.0",
       "_view_module_version": "^0.15.0",
       "icon_color": "white",
       "marker_color": "orange",
       "name": "life-ring"
      }
     },
     "90cad65f0c7e4720b763fca8acd14a7c": {
      "model_module": "jupyter-leaflet",
      "model_module_version": "^0.15.0",
      "model_name": "LeafletMarkerModel",
      "state": {
       "_model_module_version": "^0.15.0",
       "_view_module_version": "^0.15.0",
       "draggable": false,
       "icon": "IPY_MODEL_1f8a0ff38f1340bf8a16582b58166a74",
       "location": [
        33.838,
        -78.484
       ],
       "options": [
        "alt",
        "draggable",
        "keyboard",
        "rise_offset",
        "rise_on_hover",
        "rotation_angle",
        "rotation_origin",
        "title",
        "z_index_offset"
       ],
       "popup": "IPY_MODEL_0381c25b93654f16914080c9f7a1a197"
      }
     },
     "90e831a3970a4f14964fdf4e4ec062ba": {
      "model_module": "@jupyter-widgets/controls",
      "model_module_version": "1.5.0",
      "model_name": "HTMLModel",
      "state": {
       "layout": "IPY_MODEL_54a4e338efd54028b1dfcfdf055aff08",
       "style": "IPY_MODEL_a0f12c224e2f4b51a6bcff4953755b73",
       "value": "<table border=\"1\" class=\"dataframe table table-striped table-hover table-condensed table-responsive\">\n  <thead>\n    <tr style=\"text-align: right;\">\n      <th></th>\n      <th>pmnt2</th>\n    </tr>\n  </thead>\n  <tbody>\n    <tr>\n      <th>met</th>\n      <td>58684.0</td>\n    </tr>\n    <tr>\n      <th>wave</th>\n      <td>0.0</td>\n    </tr>\n    <tr>\n      <th>type</th>\n      <td>fixed</td>\n    </tr>\n    <tr>\n      <th>name</th>\n      <td>8778490 - Port Mansfield, TX</td>\n    </tr>\n    <tr>\n      <th>pgm</th>\n      <td>IOOS Partners</td>\n    </tr>\n  </tbody>\n</table>"
      }
     },
     "911eb064acf04890bb13e670e651d4ee": {
      "model_module": "jupyter-leaflet",
      "model_module_version": "^0.15.0",
      "model_name": "LeafletMarkerModel",
      "state": {
       "_model_module_version": "^0.15.0",
       "_view_module_version": "^0.15.0",
       "draggable": false,
       "icon": "IPY_MODEL_c80fd1804ef04549963f94ed6fbb8302",
       "location": [
        17.869,
        -66.532
       ],
       "options": [
        "alt",
        "draggable",
        "keyboard",
        "rise_offset",
        "rise_on_hover",
        "rotation_angle",
        "rotation_origin",
        "title",
        "z_index_offset"
       ],
       "popup": "IPY_MODEL_01bfcc394f0b45bda0907fbcca17c532"
      }
     },
     "914e739784074eb9865bb6b88fb70754": {
      "model_module": "@jupyter-widgets/controls",
      "model_module_version": "1.5.0",
      "model_name": "DescriptionStyleModel",
      "state": {
       "description_width": ""
      }
     },
     "91ad9fa9917248fd86237a787e142c41": {
      "model_module": "jupyter-leaflet",
      "model_module_version": "^0.15.0",
      "model_name": "LeafletMarkerModel",
      "state": {
       "_model_module_version": "^0.15.0",
       "_view_module_version": "^0.15.0",
       "draggable": false,
       "icon": "IPY_MODEL_b9c6c0f97cce4e11a490b172401bc68a",
       "location": [
        18.261,
        -65.464
       ],
       "options": [
        "alt",
        "draggable",
        "keyboard",
        "rise_offset",
        "rise_on_hover",
        "rotation_angle",
        "rotation_origin",
        "title",
        "z_index_offset"
       ],
       "popup": "IPY_MODEL_c21116305ee746108b0db4fd1d76ffbd"
      }
     },
     "91b02862e59d4aacac7ff9e094106e7c": {
      "model_module": "jupyter-leaflet",
      "model_module_version": "^0.15.0",
      "model_name": "LeafletAwesomeIconModel",
      "state": {
       "_model_module_version": "^0.15.0",
       "_view_module_version": "^0.15.0",
       "icon_color": "white",
       "marker_color": "red",
       "name": "life-ring"
      }
     },
     "929351c6d00c4958be04c8806972dd63": {
      "model_module": "jupyter-leaflet",
      "model_module_version": "^0.15.0",
      "model_name": "LeafletMarkerModel",
      "state": {
       "_model_module_version": "^0.15.0",
       "_view_module_version": "^0.15.0",
       "draggable": false,
       "icon": "IPY_MODEL_6ab91ebe492d40a8b0a9bd667e152827",
       "location": [
        29.302,
        -94.896
       ],
       "options": [
        "alt",
        "draggable",
        "keyboard",
        "rise_offset",
        "rise_on_hover",
        "rotation_angle",
        "rotation_origin",
        "title",
        "z_index_offset"
       ],
       "popup": "IPY_MODEL_c7539260a00e41af868283083ff89839"
      }
     },
     "929ccbbe087d4d9e9486ea068ff04263": {
      "model_module": "jupyter-leaflet",
      "model_module_version": "^0.15.0",
      "model_name": "LeafletAwesomeIconModel",
      "state": {
       "_model_module_version": "^0.15.0",
       "_view_module_version": "^0.15.0",
       "icon_color": "white",
       "marker_color": "orange",
       "name": "life-ring"
      }
     },
     "930dd8a019624fe69cfe047e66e41d0c": {
      "model_module": "@jupyter-widgets/controls",
      "model_module_version": "1.5.0",
      "model_name": "HTMLModel",
      "state": {
       "layout": "IPY_MODEL_aa252800f9d744be92c82de819c252d1",
       "style": "IPY_MODEL_4eb6a8f5ecd340d691fd6791bfae6a5d",
       "value": "<table border=\"1\" class=\"dataframe table table-striped table-hover table-condensed table-responsive\">\n  <thead>\n    <tr style=\"text-align: right;\">\n      <th></th>\n      <th>bsca1</th>\n    </tr>\n  </thead>\n  <tbody>\n    <tr>\n      <th>met</th>\n      <td>3854.0</td>\n    </tr>\n    <tr>\n      <th>wave</th>\n      <td>0.0</td>\n    </tr>\n    <tr>\n      <th>type</th>\n      <td>fixed</td>\n    </tr>\n    <tr>\n      <th>name</th>\n      <td>Bon Secour, AL</td>\n    </tr>\n    <tr>\n      <th>pgm</th>\n      <td>IOOS Partners</td>\n    </tr>\n  </tbody>\n</table>"
      }
     },
     "931337a85d524a4698aa77a4307e9f56": {
      "model_module": "@jupyter-widgets/controls",
      "model_module_version": "1.5.0",
      "model_name": "HTMLModel",
      "state": {
       "layout": "IPY_MODEL_ddddc0db8e3b46c495ab3ebc7fe67151",
       "style": "IPY_MODEL_43d2d52c5dc946379d8c3da2ec82517d",
       "value": "<table border=\"1\" class=\"dataframe table table-striped table-hover table-condensed table-responsive\">\n  <thead>\n    <tr style=\"text-align: right;\">\n      <th></th>\n      <th>44098</th>\n    </tr>\n  </thead>\n  <tbody>\n    <tr>\n      <th>met</th>\n      <td>0.0</td>\n    </tr>\n    <tr>\n      <th>wave</th>\n      <td>11516.0</td>\n    </tr>\n    <tr>\n      <th>type</th>\n      <td>buoy</td>\n    </tr>\n    <tr>\n      <th>name</th>\n      <td>Jeffrey's Ledge, NH (160)</td>\n    </tr>\n    <tr>\n      <th>pgm</th>\n      <td>IOOS Partners</td>\n    </tr>\n  </tbody>\n</table>"
      }
     },
     "940a279ab7054be597e909ffa286e349": {
      "model_module": "jupyter-leaflet",
      "model_module_version": "^0.15.0",
      "model_name": "LeafletAwesomeIconModel",
      "state": {
       "_model_module_version": "^0.15.0",
       "_view_module_version": "^0.15.0",
       "icon_color": "white",
       "marker_color": "red",
       "name": "life-ring"
      }
     },
     "94bc97f582d542bd958edc8744532a40": {
      "model_module": "@jupyter-widgets/controls",
      "model_module_version": "1.5.0",
      "model_name": "HTMLModel",
      "state": {
       "layout": "IPY_MODEL_03d6e69f7d8c421ba9f837be8f8564a6",
       "style": "IPY_MODEL_699fee6fa5d24e4bb215ba481dbcc82b",
       "value": "<table border=\"1\" class=\"dataframe table table-striped table-hover table-condensed table-responsive\">\n  <thead>\n    <tr style=\"text-align: right;\">\n      <th></th>\n      <th>ncht2</th>\n    </tr>\n  </thead>\n  <tbody>\n    <tr>\n      <th>met</th>\n      <td>58544.0</td>\n    </tr>\n    <tr>\n      <th>wave</th>\n      <td>0.0</td>\n    </tr>\n    <tr>\n      <th>type</th>\n      <td>fixed</td>\n    </tr>\n    <tr>\n      <th>name</th>\n      <td>8770777 - Manchester, TX</td>\n    </tr>\n    <tr>\n      <th>pgm</th>\n      <td>IOOS Partners</td>\n    </tr>\n  </tbody>\n</table>"
      }
     },
     "94d6e917ecb84be1a4e6b8e356231fb8": {
      "model_module": "jupyter-leaflet",
      "model_module_version": "^0.15.0",
      "model_name": "LeafletAwesomeIconModel",
      "state": {
       "_model_module_version": "^0.15.0",
       "_view_module_version": "^0.15.0",
       "icon_color": "white",
       "marker_color": "orange",
       "name": "life-ring"
      }
     },
     "9544d2e5955e41a982d21999bdbe4131": {
      "model_module": "jupyter-leaflet",
      "model_module_version": "^0.15.0",
      "model_name": "LeafletMapStyleModel",
      "state": {
       "_model_module_version": "^0.15.0"
      }
     },
     "95bd6a7900be4b28a780c283a010a903": {
      "model_module": "jupyter-leaflet",
      "model_module_version": "^0.15.0",
      "model_name": "LeafletAwesomeIconModel",
      "state": {
       "_model_module_version": "^0.15.0",
       "_view_module_version": "^0.15.0",
       "icon_color": "white",
       "marker_color": "orange",
       "name": "life-ring"
      }
     },
     "95db190f2ba243e79eb87d840f39c200": {
      "model_module": "jupyter-leaflet",
      "model_module_version": "^0.15.0",
      "model_name": "LeafletMarkerModel",
      "state": {
       "_model_module_version": "^0.15.0",
       "_view_module_version": "^0.15.0",
       "draggable": false,
       "icon": "IPY_MODEL_afdd1c50e1554703a3fc640e7f5a4985",
       "location": [
        59.596,
        -151.829
       ],
       "options": [
        "alt",
        "draggable",
        "keyboard",
        "rise_offset",
        "rise_on_hover",
        "rotation_angle",
        "rotation_origin",
        "title",
        "z_index_offset"
       ],
       "popup": "IPY_MODEL_1291fe07d3af4370b059ca8ec42f3be4"
      }
     },
     "95df5a252a944db59b83ab56ee9021c1": {
      "model_module": "@jupyter-widgets/controls",
      "model_module_version": "1.5.0",
      "model_name": "DescriptionStyleModel",
      "state": {
       "description_width": ""
      }
     },
     "961a2b170d2245e4b11cbe910aa00367": {
      "model_module": "@jupyter-widgets/controls",
      "model_module_version": "1.5.0",
      "model_name": "DescriptionStyleModel",
      "state": {
       "description_width": ""
      }
     },
     "96edd6b97a02463898bde8e77fc1d28f": {
      "model_module": "@jupyter-widgets/controls",
      "model_module_version": "1.5.0",
      "model_name": "HTMLModel",
      "state": {
       "layout": "IPY_MODEL_31f504c86a88475882d45722bc3a1781",
       "style": "IPY_MODEL_8667a3167f114b1880f91077d3736d52",
       "value": "<table border=\"1\" class=\"dataframe table table-striped table-hover table-condensed table-responsive\">\n  <thead>\n    <tr style=\"text-align: right;\">\n      <th></th>\n      <th>sdrt2</th>\n    </tr>\n  </thead>\n  <tbody>\n    <tr>\n      <th>met</th>\n      <td>58480.0</td>\n    </tr>\n    <tr>\n      <th>wave</th>\n      <td>0.0</td>\n    </tr>\n    <tr>\n      <th>type</th>\n      <td>fixed</td>\n    </tr>\n    <tr>\n      <th>name</th>\n      <td>8773037 - Seadrift, TX</td>\n    </tr>\n    <tr>\n      <th>pgm</th>\n      <td>IOOS Partners</td>\n    </tr>\n  </tbody>\n</table>"
      }
     },
     "96ee5fd83c54485e9d35dd1b8f7e198b": {
      "model_module": "jupyter-leaflet",
      "model_module_version": "^0.15.0",
      "model_name": "LeafletAwesomeIconModel",
      "state": {
       "_model_module_version": "^0.15.0",
       "_view_module_version": "^0.15.0",
       "icon_color": "white",
       "marker_color": "orange",
       "name": "life-ring"
      }
     },
     "975235b6951a439c83ac87d4438e9006": {
      "model_module": "@jupyter-widgets/controls",
      "model_module_version": "1.5.0",
      "model_name": "HTMLModel",
      "state": {
       "layout": "IPY_MODEL_a3bef438c6db429bbc6ba0b815cacc60",
       "style": "IPY_MODEL_d6ead2cdc0e5423e9613c730a99cfdc6",
       "value": "<table border=\"1\" class=\"dataframe table table-striped table-hover table-condensed table-responsive\">\n  <thead>\n    <tr style=\"text-align: right;\">\n      <th></th>\n      <th>51213</th>\n    </tr>\n  </thead>\n  <tbody>\n    <tr>\n      <th>met</th>\n      <td>0.0</td>\n    </tr>\n    <tr>\n      <th>wave</th>\n      <td>2338.0</td>\n    </tr>\n    <tr>\n      <th>type</th>\n      <td>buoy</td>\n    </tr>\n    <tr>\n      <th>name</th>\n      <td>Kaumalapau Southwest, Lanai, HI (239)</td>\n    </tr>\n    <tr>\n      <th>pgm</th>\n      <td>IOOS Partners</td>\n    </tr>\n  </tbody>\n</table>"
      }
     },
     "975305a7ffeb4e6e9ee36d4dbd4bdbdc": {
      "model_module": "@jupyter-widgets/controls",
      "model_module_version": "1.5.0",
      "model_name": "DescriptionStyleModel",
      "state": {
       "description_width": ""
      }
     },
     "9778672a7b5d43eea356391b0c3f3bb9": {
      "model_module": "jupyter-leaflet",
      "model_module_version": "^0.15.0",
      "model_name": "LeafletAwesomeIconModel",
      "state": {
       "_model_module_version": "^0.15.0",
       "_view_module_version": "^0.15.0",
       "icon_color": "white",
       "marker_color": "orange",
       "name": "life-ring"
      }
     },
     "97a076e3714f49f985923767a3da0b73": {
      "model_module": "@jupyter-widgets/controls",
      "model_module_version": "1.5.0",
      "model_name": "DescriptionStyleModel",
      "state": {
       "description_width": ""
      }
     },
     "9a8742e8f26a481b8bc5f50238f3a59a": {
      "model_module": "jupyter-leaflet",
      "model_module_version": "^0.15.0",
      "model_name": "LeafletMarkerModel",
      "state": {
       "_model_module_version": "^0.15.0",
       "_view_module_version": "^0.15.0",
       "draggable": false,
       "icon": "IPY_MODEL_f776583653cf4007ba2abc8290fae644",
       "location": [
        50.017,
        -145.17
       ],
       "options": [
        "alt",
        "draggable",
        "keyboard",
        "rise_offset",
        "rise_on_hover",
        "rotation_angle",
        "rotation_origin",
        "title",
        "z_index_offset"
       ],
       "popup": "IPY_MODEL_5f6410155bc14e258b2e10eb19accd4a"
      }
     },
     "9b32c6445b454390b5b021f01c283ac9": {
      "model_module": "jupyter-leaflet",
      "model_module_version": "^0.15.0",
      "model_name": "LeafletMarkerModel",
      "state": {
       "_model_module_version": "^0.15.0",
       "_view_module_version": "^0.15.0",
       "draggable": false,
       "icon": "IPY_MODEL_7d3b7a5f367c4e50a3ab971c3f63d59f",
       "location": [
        41.306,
        -72.077
       ],
       "options": [
        "alt",
        "draggable",
        "keyboard",
        "rise_offset",
        "rise_on_hover",
        "rotation_angle",
        "rotation_origin",
        "title",
        "z_index_offset"
       ],
       "popup": "IPY_MODEL_ce47d5eb56734a059610ccea3cde2026"
      }
     },
     "9b373e0ae7b54f28b6d81e47b1478368": {
      "model_module": "@jupyter-widgets/controls",
      "model_module_version": "1.5.0",
      "model_name": "HTMLModel",
      "state": {
       "layout": "IPY_MODEL_e097371eb42d426eac719397818fc283",
       "style": "IPY_MODEL_2186c6587ac14fc1bedbac9577cd701d",
       "value": "<table border=\"1\" class=\"dataframe table table-striped table-hover table-condensed table-responsive\">\n  <thead>\n    <tr style=\"text-align: right;\">\n      <th></th>\n      <th>babt2</th>\n    </tr>\n  </thead>\n  <tbody>\n    <tr>\n      <th>met</th>\n      <td>58576.0</td>\n    </tr>\n    <tr>\n      <th>wave</th>\n      <td>0.0</td>\n    </tr>\n    <tr>\n      <th>type</th>\n      <td>fixed</td>\n    </tr>\n    <tr>\n      <th>name</th>\n      <td>8776604 - Baffin Bay, TX</td>\n    </tr>\n    <tr>\n      <th>pgm</th>\n      <td>IOOS Partners</td>\n    </tr>\n  </tbody>\n</table>"
      }
     },
     "9b95886d556d44589b67f8614126e4e3": {
      "model_module": "jupyter-leaflet",
      "model_module_version": "^0.15.0",
      "model_name": "LeafletMarkerModel",
      "state": {
       "_model_module_version": "^0.15.0",
       "_view_module_version": "^0.15.0",
       "draggable": false,
       "icon": "IPY_MODEL_56649fd7a66e4d0b8b0addc04f9147a5",
       "location": [
        21.297,
        -157.959
       ],
       "options": [
        "alt",
        "draggable",
        "keyboard",
        "rise_offset",
        "rise_on_hover",
        "rotation_angle",
        "rotation_origin",
        "title",
        "z_index_offset"
       ],
       "popup": "IPY_MODEL_2b194adb24124dd49ed530e1f5c05238"
      }
     },
     "9ca86740febc49e395875c9a3e310819": {
      "model_module": "@jupyter-widgets/controls",
      "model_module_version": "1.5.0",
      "model_name": "HTMLModel",
      "state": {
       "layout": "IPY_MODEL_42536ce2ac94404eb033322f617889c8",
       "style": "IPY_MODEL_fa4555e08879415980146d56f6cd01b6",
       "value": "<table border=\"1\" class=\"dataframe table table-striped table-hover table-condensed table-responsive\">\n  <thead>\n    <tr style=\"text-align: right;\">\n      <th></th>\n      <th>51208</th>\n    </tr>\n  </thead>\n  <tbody>\n    <tr>\n      <th>met</th>\n      <td>0.0</td>\n    </tr>\n    <tr>\n      <th>wave</th>\n      <td>11508.0</td>\n    </tr>\n    <tr>\n      <th>type</th>\n      <td>buoy</td>\n    </tr>\n    <tr>\n      <th>name</th>\n      <td>Hanalei, Kauai, HI (202)</td>\n    </tr>\n    <tr>\n      <th>pgm</th>\n      <td>IOOS Partners</td>\n    </tr>\n  </tbody>\n</table>"
      }
     },
     "9cd4dfcebad2491a9618dce8c08e08f3": {
      "model_module": "@jupyter-widgets/controls",
      "model_module_version": "1.5.0",
      "model_name": "DescriptionStyleModel",
      "state": {
       "description_width": ""
      }
     },
     "9d2f447ec1c04c178bc5006aba10f5d8": {
      "model_module": "jupyter-leaflet",
      "model_module_version": "^0.15.0",
      "model_name": "LeafletMarkerModel",
      "state": {
       "_model_module_version": "^0.15.0",
       "_view_module_version": "^0.15.0",
       "draggable": false,
       "icon": "IPY_MODEL_ac89bb84a5c449ef9fe05a0a70934154",
       "location": [
        42.8,
        -70.171
       ],
       "options": [
        "alt",
        "draggable",
        "keyboard",
        "rise_offset",
        "rise_on_hover",
        "rotation_angle",
        "rotation_origin",
        "title",
        "z_index_offset"
       ],
       "popup": "IPY_MODEL_931337a85d524a4698aa77a4307e9f56"
      }
     },
     "9d487a938ab147ee9ed0059d3fdb0e12": {
      "model_module": "@jupyter-widgets/controls",
      "model_module_version": "1.5.0",
      "model_name": "HTMLModel",
      "state": {
       "layout": "IPY_MODEL_195b71ebc6514c56ba694ad56a3df12a",
       "style": "IPY_MODEL_3ca1e3d1c83b43d2a3fd4e0bd9f27457",
       "value": "<table border=\"1\" class=\"dataframe table table-striped table-hover table-condensed table-responsive\">\n  <thead>\n    <tr style=\"text-align: right;\">\n      <th></th>\n      <th>45174</th>\n    </tr>\n  </thead>\n  <tbody>\n    <tr>\n      <th>met</th>\n      <td>33104.0</td>\n    </tr>\n    <tr>\n      <th>wave</th>\n      <td>33102.0</td>\n    </tr>\n    <tr>\n      <th>type</th>\n      <td>buoy</td>\n    </tr>\n    <tr>\n      <th>name</th>\n      <td>Wilmette Buoy, IL</td>\n    </tr>\n    <tr>\n      <th>pgm</th>\n      <td>IOOS Partners</td>\n    </tr>\n  </tbody>\n</table>"
      }
     },
     "9d8b0b52f2ee493695d29e0252450d85": {
      "model_module": "@jupyter-widgets/base",
      "model_module_version": "1.2.0",
      "model_name": "LayoutModel",
      "state": {}
     },
     "9dc4fa1632ef405fa88ddb13302dd4b6": {
      "model_module": "jupyter-leaflet",
      "model_module_version": "^0.15.0",
      "model_name": "LeafletMarkerModel",
      "state": {
       "_model_module_version": "^0.15.0",
       "_view_module_version": "^0.15.0",
       "draggable": false,
       "icon": "IPY_MODEL_45ed3b9cc2e2476796656a84c81c52a5",
       "location": [
        27.634,
        -97.237
       ],
       "options": [
        "alt",
        "draggable",
        "keyboard",
        "rise_offset",
        "rise_on_hover",
        "rotation_angle",
        "rotation_origin",
        "title",
        "z_index_offset"
       ],
       "popup": "IPY_MODEL_b3c11c5ad8e4447b811bc4a4e651f8b8"
      }
     },
     "9dd4eacd7027485788f0efb803c4f370": {
      "model_module": "@jupyter-widgets/controls",
      "model_module_version": "1.5.0",
      "model_name": "DescriptionStyleModel",
      "state": {
       "description_width": ""
      }
     },
     "9e10a523aa8b40ae8cdb6bba62ab7d94": {
      "model_module": "@jupyter-widgets/controls",
      "model_module_version": "1.5.0",
      "model_name": "DescriptionStyleModel",
      "state": {
       "description_width": ""
      }
     },
     "9e43ace3173848008db38a405c985a61": {
      "model_module": "@jupyter-widgets/base",
      "model_module_version": "1.2.0",
      "model_name": "LayoutModel",
      "state": {}
     },
     "9e48f7b138f64ad6a18f47ae064f629d": {
      "model_module": "@jupyter-widgets/base",
      "model_module_version": "1.2.0",
      "model_name": "LayoutModel",
      "state": {}
     },
     "9edcf64f4bbf4e82aec458a426eec86b": {
      "model_module": "@jupyter-widgets/controls",
      "model_module_version": "1.5.0",
      "model_name": "DescriptionStyleModel",
      "state": {
       "description_width": ""
      }
     },
     "9f0a01bd9b0d4913afbc254c1fa81216": {
      "model_module": "jupyter-leaflet",
      "model_module_version": "^0.15.0",
      "model_name": "LeafletMarkerModel",
      "state": {
       "_model_module_version": "^0.15.0",
       "_view_module_version": "^0.15.0",
       "draggable": false,
       "icon": "IPY_MODEL_4f8f3462f3f649c4b7183a31276796d3",
       "location": [
        18.249,
        -64.763
       ],
       "options": [
        "alt",
        "draggable",
        "keyboard",
        "rise_offset",
        "rise_on_hover",
        "rotation_angle",
        "rotation_origin",
        "title",
        "z_index_offset"
       ],
       "popup": "IPY_MODEL_2b472625007e422489f29609073a92fd"
      }
     },
     "9ffd90e105ee4ea8a287e683b6d0fe02": {
      "model_module": "@jupyter-widgets/controls",
      "model_module_version": "1.5.0",
      "model_name": "HTMLModel",
      "state": {
       "layout": "IPY_MODEL_a5b3d706353f401bb893c6db322c1b8c",
       "style": "IPY_MODEL_70ecb3eb317b4f9199310b3be2ba9246",
       "value": "<table border=\"1\" class=\"dataframe table table-striped table-hover table-condensed table-responsive\">\n  <thead>\n    <tr style=\"text-align: right;\">\n      <th></th>\n      <th>44024</th>\n    </tr>\n  </thead>\n  <tbody>\n    <tr>\n      <th>met</th>\n      <td>4828.0</td>\n    </tr>\n    <tr>\n      <th>wave</th>\n      <td>4708.0</td>\n    </tr>\n    <tr>\n      <th>type</th>\n      <td>buoy</td>\n    </tr>\n    <tr>\n      <th>name</th>\n      <td>Buoy N01 - Northeast Channel</td>\n    </tr>\n    <tr>\n      <th>pgm</th>\n      <td>IOOS Partners</td>\n    </tr>\n  </tbody>\n</table>"
      }
     },
     "a057014d384c43168ba12989dfd6159d": {
      "model_module": "jupyter-leaflet",
      "model_module_version": "^0.15.0",
      "model_name": "LeafletMarkerModel",
      "state": {
       "_model_module_version": "^0.15.0",
       "_view_module_version": "^0.15.0",
       "draggable": false,
       "icon": "IPY_MODEL_72d8cd78ae264a1dbef8940f26946d14",
       "location": [
        41.912,
        -87.624
       ],
       "options": [
        "alt",
        "draggable",
        "keyboard",
        "rise_offset",
        "rise_on_hover",
        "rotation_angle",
        "rotation_origin",
        "title",
        "z_index_offset"
       ],
       "popup": "IPY_MODEL_c053d3102adc4f7ab05d0813ce242af0"
      }
     },
     "a0583dac615f4ec1b5f884094e24a37a": {
      "model_module": "jupyter-leaflet",
      "model_module_version": "^0.15.0",
      "model_name": "LeafletAwesomeIconModel",
      "state": {
       "_model_module_version": "^0.15.0",
       "_view_module_version": "^0.15.0",
       "icon_color": "white",
       "marker_color": "green",
       "name": "life-ring"
      }
     },
     "a05ca35494be491f88643b6438acff56": {
      "model_module": "@jupyter-widgets/controls",
      "model_module_version": "1.5.0",
      "model_name": "DescriptionStyleModel",
      "state": {
       "description_width": ""
      }
     },
     "a061c23c26714a878d3f47ce3d5ce887": {
      "model_module": "jupyter-leaflet",
      "model_module_version": "^0.15.0",
      "model_name": "LeafletAwesomeIconModel",
      "state": {
       "_model_module_version": "^0.15.0",
       "_view_module_version": "^0.15.0",
       "icon_color": "white",
       "marker_color": "orange",
       "name": "life-ring"
      }
     },
     "a064b22e7ab84996a79b61a9f793092d": {
      "model_module": "@jupyter-widgets/base",
      "model_module_version": "1.2.0",
      "model_name": "LayoutModel",
      "state": {}
     },
     "a0e6c0c1bc6c42bebd9399ac9d6be397": {
      "model_module": "jupyter-leaflet",
      "model_module_version": "^0.15.0",
      "model_name": "LeafletMarkerModel",
      "state": {
       "_model_module_version": "^0.15.0",
       "_view_module_version": "^0.15.0",
       "draggable": false,
       "icon": "IPY_MODEL_3b1a2ad3512149769b1f1637866a583f",
       "location": [
        58.177,
        -135.052
       ],
       "options": [
        "alt",
        "draggable",
        "keyboard",
        "rise_offset",
        "rise_on_hover",
        "rotation_angle",
        "rotation_origin",
        "title",
        "z_index_offset"
       ],
       "popup": "IPY_MODEL_07b59b9a79ce488296686a47105047a4"
      }
     },
     "a0f12c224e2f4b51a6bcff4953755b73": {
      "model_module": "@jupyter-widgets/controls",
      "model_module_version": "1.5.0",
      "model_name": "DescriptionStyleModel",
      "state": {
       "description_width": ""
      }
     },
     "a154ef78194b427085f0352f088f1b5e": {
      "model_module": "jupyter-leaflet",
      "model_module_version": "^0.15.0",
      "model_name": "LeafletMapModel",
      "state": {
       "_model_module_version": "^0.15.0",
       "_view_module_version": "^0.15.0",
       "bottom": 1822,
       "center": [
        35,
        -95
       ],
       "controls": [
        "IPY_MODEL_731cd434727c410d99236e50064bcedc",
        "IPY_MODEL_a547b687a8f542c082e35bcd44337273",
        "IPY_MODEL_01420990afdf47e2817a2db6826687b3",
        "IPY_MODEL_d0d356f196544b00a1e73a82b523e096"
       ],
       "default_style": "IPY_MODEL_9544d2e5955e41a982d21999bdbe4131",
       "dragging_style": "IPY_MODEL_03471ea6e847438e971677ecc2892ff0",
       "east": -53.70117187500001,
       "fullscreen": false,
       "interpolation": "bilinear",
       "layers": [
        "IPY_MODEL_51d25f23ba4244bf979e87fe75b92c96",
        "IPY_MODEL_190d0d111f76484c99505e32415a7196",
        "IPY_MODEL_f455e7ed37594b40b78722763757ef66",
        "IPY_MODEL_64268298c0d943b68919971801686c54",
        "IPY_MODEL_6956dc5de40e4240a723b045e332881a",
        "IPY_MODEL_8429a09a91e44460981cbb67b8a6b797",
        "IPY_MODEL_9f0a01bd9b0d4913afbc254c1fa81216",
        "IPY_MODEL_a586459bc5fb4da4a59142ae92bb6d01",
        "IPY_MODEL_91ad9fa9917248fd86237a787e142c41",
        "IPY_MODEL_2ced7bf5106046a4907cdfd8496638cc",
        "IPY_MODEL_e98e1eefe4b14a6d85263980b4b24f54",
        "IPY_MODEL_0f370e08eea24be9a2bcca2a573831b6",
        "IPY_MODEL_8a24a8d6af1f415bbf930cfc8a36662b",
        "IPY_MODEL_888aa5e9855c456fb11c842ef03e6eb9",
        "IPY_MODEL_f344101bd2f84b87840a31bc234d1e71",
        "IPY_MODEL_53ea4f03c10d4748b43148d48145a878",
        "IPY_MODEL_911eb064acf04890bb13e670e651d4ee",
        "IPY_MODEL_3af34bac37684ca2b2d74fb9aa657fff",
        "IPY_MODEL_df4f3928c48c49ab831a02f01b3ed4bf",
        "IPY_MODEL_7920e81f638a4785b2cb9718117e365b",
        "IPY_MODEL_74977ac038e7486e91269f2fdbdec3f7",
        "IPY_MODEL_00c775c8504a479ab0e21f50c2c85d73",
        "IPY_MODEL_a6ce193b9fc64373b97328faa7fbcc3e",
        "IPY_MODEL_3370ae4389d94764b66e97ea57a05ea0",
        "IPY_MODEL_2b21847cef704192b399b5b9cd1ba11d",
        "IPY_MODEL_ae1ff070be10438aaf31c4568d9f0b8e",
        "IPY_MODEL_d889fe28695e4d1f8e67ff214406a54d",
        "IPY_MODEL_df037d5a82094cf0bd402e03594b6155",
        "IPY_MODEL_be03699274d64dc8b578da6d0bbf3fcf",
        "IPY_MODEL_9d2f447ec1c04c178bc5006aba10f5d8",
        "IPY_MODEL_2b287e3ebef341728c0adcb9a97499e8",
        "IPY_MODEL_7a9a7f251ae448299e55ac0c42eb8dc8",
        "IPY_MODEL_d3c8aa55defa4acebd9b67ceeb10072e",
        "IPY_MODEL_eb3874d036a74285b9470f718b6628bf",
        "IPY_MODEL_e695e915b1814abea7bf288094f29fd5",
        "IPY_MODEL_650de32ed0db4f6ca17efa2366b0e2f6",
        "IPY_MODEL_a569ffb1fb244b80b381265fdf4f2ebb",
        "IPY_MODEL_c8df7ef0339e4aea8bc16320c982c341",
        "IPY_MODEL_320030029cc0473a8dfa0179cc06dbb9",
        "IPY_MODEL_318ae17f22f240e2998dca98effddff3",
        "IPY_MODEL_0cadf3f7520e47f79d05a66cde709a80",
        "IPY_MODEL_6b47db7904ef487c8cde81050efd24e6",
        "IPY_MODEL_ffe2d148b0cf4a7a8d8c5d5348d85ccf",
        "IPY_MODEL_33db669fe2c841a4ba7fd434a904c7dc",
        "IPY_MODEL_332d2126d24a4237921a32ea0ae64e35",
        "IPY_MODEL_eba30de8c81849f68900efb0cea0ffbb",
        "IPY_MODEL_fcadadae900146c6998b95554cf79d81",
        "IPY_MODEL_d6cdc963e9be4ae38972c8dc8492ad84",
        "IPY_MODEL_0120d43abbd647e88940a6a6e4ce4bb3",
        "IPY_MODEL_696eb947d7e14287bcdc8977fd41b13e",
        "IPY_MODEL_95db190f2ba243e79eb87d840f39c200",
        "IPY_MODEL_9a8742e8f26a481b8bc5f50238f3a59a",
        "IPY_MODEL_27c78a5f33cf4f7698dffb4caac8ca89",
        "IPY_MODEL_329e41aac98d407d94af39395c9f9c00",
        "IPY_MODEL_32c95650788b4abe87e927bbb26a63c2",
        "IPY_MODEL_36c413bface6421c9cb2f6e307bd50e4",
        "IPY_MODEL_edda050f5ff14643a715b14e0b673e82",
        "IPY_MODEL_49e1752eb8b0483d9683baba7f7d9819",
        "IPY_MODEL_ad4172a585794445a1c30539921594da",
        "IPY_MODEL_9b95886d556d44589b67f8614126e4e3",
        "IPY_MODEL_64752bc1d5db4fa190039d1c4358405c",
        "IPY_MODEL_cfde650d0153453d854b16701be720af",
        "IPY_MODEL_dee8815a445943928e8a19af172bce3e",
        "IPY_MODEL_bfb3929e3505498c81f4a0f8dcb5a9e8",
        "IPY_MODEL_cd6bcb8281584e1d92c4bbe22da69537",
        "IPY_MODEL_5c89ae71aebe4a34bd375e70792c82fa",
        "IPY_MODEL_da9890ccb5cd4f1cb3e7c98e2773d8db",
        "IPY_MODEL_3e1867d1f87e472c97a393dbb6aa45fb",
        "IPY_MODEL_d03f17d85d1143e68f8a816a5218eb97",
        "IPY_MODEL_80f4489217aa481797d55ace09125fc5",
        "IPY_MODEL_6fc65f28102247449d75641cf3f234b0",
        "IPY_MODEL_e26aa1fb92854228ba697244dd864c14",
        "IPY_MODEL_b5ff7841192446e1ba701626ec675093",
        "IPY_MODEL_53b24d9148a94c3681989947c3406183",
        "IPY_MODEL_63202ff41c61412ba92d17c2dafb6ffb",
        "IPY_MODEL_3b0b9a0917cb4da5ab5cf14ba3a717f2",
        "IPY_MODEL_62c402d9a45a4e3eb74c7a55de1637b1",
        "IPY_MODEL_1e2335b3d9e44a31abe2d96f4a766db0",
        "IPY_MODEL_fac41b2f4e764b698d65dd4e33c6d072",
        "IPY_MODEL_d833b926e7034bee809da13c7180b7cb",
        "IPY_MODEL_929351c6d00c4958be04c8806972dd63",
        "IPY_MODEL_ce1bad65015547729513552592d54852",
        "IPY_MODEL_b2b370f548ba4cedaafc4af1504e77d8",
        "IPY_MODEL_06cf282d8882429583b2c971f70e82d3",
        "IPY_MODEL_b5b3dd3b626147eea011f79f83710580",
        "IPY_MODEL_b1641704f52046cfa502ce95c0ef6950",
        "IPY_MODEL_3d5704868119473f93d6ef460bbe2b76",
        "IPY_MODEL_f82abdcdce3748b4a7be84addad8fe94",
        "IPY_MODEL_7cedd20a7b774b0e983f15db7823d012",
        "IPY_MODEL_07261a4e52734a21a04e945bc6494d19",
        "IPY_MODEL_630434e60b32427e8f74c7120a34a4d5",
        "IPY_MODEL_9b32c6445b454390b5b021f01c283ac9",
        "IPY_MODEL_39c85711410f4860b6a226ce9827db0f",
        "IPY_MODEL_25c6d73800904d0f98bba3b8cabb280e",
        "IPY_MODEL_0b98f67ab983459499d7db1450923e5d",
        "IPY_MODEL_0e68f187099a41c788f804ece580f4c4",
        "IPY_MODEL_65555d9bc75448ad9aeac85497dd3f56",
        "IPY_MODEL_d1a3ed3f227d4711bbaecc029dff1c9b",
        "IPY_MODEL_af85f5114a7046b9a9e26049743fad3b",
        "IPY_MODEL_1546cb05fc634f2e8f4c64adb41fd125",
        "IPY_MODEL_a78ffe9274f44ba19aa432ccac45f830",
        "IPY_MODEL_33a3cd9a3e724cfa98d2aeabcffc26b9",
        "IPY_MODEL_a1d874f1f80b421183bf0f2c1f2b1725",
        "IPY_MODEL_09bdd690e9f043a3bd607a49ce86be46",
        "IPY_MODEL_a057014d384c43168ba12989dfd6159d",
        "IPY_MODEL_9dc4fa1632ef405fa88ddb13302dd4b6",
        "IPY_MODEL_3228fb1cf9a7478c92e40ff871302689",
        "IPY_MODEL_e08fa70a1e3d428aba184fb9f304977e",
        "IPY_MODEL_21dfbccf804a4b20baee54296445f37d",
        "IPY_MODEL_f56e77c6b8e14c71bc1383b9ed98dd81",
        "IPY_MODEL_a8503b199db748e4aa6c5b8e53b9e6ba",
        "IPY_MODEL_25d880228a214c8589bdce088018d3cf",
        "IPY_MODEL_22f48ff35031406783ba36d433107bde",
        "IPY_MODEL_3a954e6128514f3eab3f0293134642c2",
        "IPY_MODEL_a0e6c0c1bc6c42bebd9399ac9d6be397",
        "IPY_MODEL_b638415cc59a4817b47bf65e0a785a8a",
        "IPY_MODEL_0296f7b0a13f401ebe48a29b1cc4ddb1",
        "IPY_MODEL_20f0d23d9bbb4a47ac0d09a47f562ef8",
        "IPY_MODEL_846bd3942b2a416e9a341488769de864",
        "IPY_MODEL_c31e4e2338214c7c8bdd5145bba8e438",
        "IPY_MODEL_7120c516947e47969938bf60ae94cae1",
        "IPY_MODEL_b6f8989df2894419a1cf7c93d6da6ce0",
        "IPY_MODEL_401f15095564431abed258634e6cf010",
        "IPY_MODEL_2fc9f15e41d748d0b27b872320de5b7a",
        "IPY_MODEL_7009991f9c534a308e53f6b5d7814c14",
        "IPY_MODEL_817c4d3ed888468ca3028da1ec8507d1",
        "IPY_MODEL_90cad65f0c7e4720b763fca8acd14a7c",
        "IPY_MODEL_f52456403b99417ab585c1e0c2f4c4cf",
        "IPY_MODEL_b5ff8c5a1c3646eb885e59b57cc325e1",
        "IPY_MODEL_45ef7a0282984b088986349e736463c3",
        "IPY_MODEL_c55c4779321d4a2193ff69111f78e88a",
        "IPY_MODEL_b87d916b0dd740bfb64415cf054be6af",
        "IPY_MODEL_60a7d41b3bb74c6bae491c5ba3e410c2",
        "IPY_MODEL_18a166b0232e4f1c8f3a0f58618db2bd"
       ],
       "layout": "IPY_MODEL_fb625e5179f44a44b44d34a94ec98ef0",
       "left": 498,
       "modisdate": "2022-02-21",
       "north": 48.10743118848039,
       "options": [
        "bounce_at_zoom_limits",
        "box_zoom",
        "center",
        "close_popup_on_click",
        "double_click_zoom",
        "dragging",
        "fullscreen",
        "inertia",
        "inertia_deceleration",
        "inertia_max_speed",
        "interpolation",
        "keyboard",
        "keyboard_pan_offset",
        "keyboard_zoom_offset",
        "max_zoom",
        "min_zoom",
        "prefer_canvas",
        "scroll_wheel_zoom",
        "tap",
        "tap_tolerance",
        "touch_zoom",
        "world_copy_jump",
        "zoom",
        "zoom_animation_threshold",
        "zoom_delta",
        "zoom_snap",
        "zoom_start"
       ],
       "prefer_canvas": false,
       "right": 1437,
       "south": 19.476950206488414,
       "style": "IPY_MODEL_6e46ca9763e44a7c96a796c81228d594",
       "top": 1422,
       "west": -136.23046875000003,
       "window_url": "http://127.0.0.1:8888/notebooks/data_management_notebooks/2020-10-10-GTS.ipynb#",
       "zoom": 4
      }
     },
     "a1d874f1f80b421183bf0f2c1f2b1725": {
      "model_module": "jupyter-leaflet",
      "model_module_version": "^0.15.0",
      "model_name": "LeafletMarkerModel",
      "state": {
       "_model_module_version": "^0.15.0",
       "_view_module_version": "^0.15.0",
       "draggable": false,
       "icon": "IPY_MODEL_b367a25e28fd40e29e07e72082033757",
       "location": [
        58.255,
        -134.945
       ],
       "options": [
        "alt",
        "draggable",
        "keyboard",
        "rise_offset",
        "rise_on_hover",
        "rotation_angle",
        "rotation_origin",
        "title",
        "z_index_offset"
       ],
       "popup": "IPY_MODEL_025029d7f8894d979698b9d9cbc5782c"
      }
     },
     "a24c52fd6c8442488a0c7f64a3bbcb09": {
      "model_module": "@jupyter-widgets/base",
      "model_module_version": "1.2.0",
      "model_name": "LayoutModel",
      "state": {}
     },
     "a25ef65fb67f470187a715783bf7f750": {
      "model_module": "jupyter-leaflet",
      "model_module_version": "^0.15.0",
      "model_name": "LeafletAwesomeIconModel",
      "state": {
       "_model_module_version": "^0.15.0",
       "_view_module_version": "^0.15.0",
       "icon_color": "white",
       "marker_color": "orange",
       "name": "life-ring"
      }
     },
     "a2bf735272b44c9cba5da195528e5a1c": {
      "model_module": "@jupyter-widgets/controls",
      "model_module_version": "1.5.0",
      "model_name": "HTMLModel",
      "state": {
       "layout": "IPY_MODEL_33420eed0d4c475eb52b0a9dc89bd214",
       "style": "IPY_MODEL_1478d1de59784ad68230ea8b98bf17d0",
       "value": "<table border=\"1\" class=\"dataframe table table-striped table-hover table-condensed table-responsive\">\n  <thead>\n    <tr style=\"text-align: right;\">\n      <th></th>\n      <th>41053</th>\n    </tr>\n  </thead>\n  <tbody>\n    <tr>\n      <th>met</th>\n      <td>35188.0</td>\n    </tr>\n    <tr>\n      <th>wave</th>\n      <td>5886.0</td>\n    </tr>\n    <tr>\n      <th>type</th>\n      <td>buoy</td>\n    </tr>\n    <tr>\n      <th>name</th>\n      <td>San Juan, PR</td>\n    </tr>\n    <tr>\n      <th>pgm</th>\n      <td>IOOS Partners</td>\n    </tr>\n  </tbody>\n</table>"
      }
     },
     "a326a4965e2545cbb1d72ba1fd08f2d8": {
      "model_module": "@jupyter-widgets/controls",
      "model_module_version": "1.5.0",
      "model_name": "HTMLModel",
      "state": {
       "layout": "IPY_MODEL_3fb8419f99ff43b5b198522acc7028c0",
       "style": "IPY_MODEL_0646fc78573f4d2483a961a8d2534abe",
       "value": "<table border=\"1\" class=\"dataframe table table-striped table-hover table-condensed table-responsive\">\n  <thead>\n    <tr style=\"text-align: right;\">\n      <th></th>\n      <th>45029</th>\n    </tr>\n  </thead>\n  <tbody>\n    <tr>\n      <th>met</th>\n      <td>28266.0</td>\n    </tr>\n    <tr>\n      <th>wave</th>\n      <td>28304.0</td>\n    </tr>\n    <tr>\n      <th>type</th>\n      <td>buoy</td>\n    </tr>\n    <tr>\n      <th>name</th>\n      <td>Holland Buoy, MI</td>\n    </tr>\n    <tr>\n      <th>pgm</th>\n      <td>IOOS Partners</td>\n    </tr>\n  </tbody>\n</table>"
      }
     },
     "a3bef438c6db429bbc6ba0b815cacc60": {
      "model_module": "@jupyter-widgets/base",
      "model_module_version": "1.2.0",
      "model_name": "LayoutModel",
      "state": {}
     },
     "a4a79cd3a9fc43498843ce27d7fd93a1": {
      "model_module": "jupyter-leaflet",
      "model_module_version": "^0.15.0",
      "model_name": "LeafletAwesomeIconModel",
      "state": {
       "_model_module_version": "^0.15.0",
       "_view_module_version": "^0.15.0",
       "icon_color": "white",
       "marker_color": "green",
       "name": "life-ring"
      }
     },
     "a547b687a8f542c082e35bcd44337273": {
      "model_module": "jupyter-leaflet",
      "model_module_version": "^0.15.0",
      "model_name": "LeafletAttributionControlModel",
      "state": {
       "_model_module_version": "^0.15.0",
       "_view_module_version": "^0.15.0",
       "options": [
        "position",
        "prefix"
       ],
       "position": "bottomright",
       "prefix": "ipyleaflet"
      }
     },
     "a569ffb1fb244b80b381265fdf4f2ebb": {
      "model_module": "jupyter-leaflet",
      "model_module_version": "^0.15.0",
      "model_name": "LeafletMarkerModel",
      "state": {
       "_model_module_version": "^0.15.0",
       "_view_module_version": "^0.15.0",
       "draggable": false,
       "icon": "IPY_MODEL_7b351c77e3bc4f76a8074d9f651b2abd",
       "location": [
        41.982,
        -86.619
       ],
       "options": [
        "alt",
        "draggable",
        "keyboard",
        "rise_offset",
        "rise_on_hover",
        "rotation_angle",
        "rotation_origin",
        "title",
        "z_index_offset"
       ],
       "popup": "IPY_MODEL_181008ec53e54aceb84ca3550df547ba"
      }
     },
     "a586459bc5fb4da4a59142ae92bb6d01": {
      "model_module": "jupyter-leaflet",
      "model_module_version": "^0.15.0",
      "model_name": "LeafletMarkerModel",
      "state": {
       "_model_module_version": "^0.15.0",
       "_view_module_version": "^0.15.0",
       "draggable": false,
       "icon": "IPY_MODEL_30c6c55f6bac479c90b1dec93240740f",
       "location": [
        18.474,
        -66.099
       ],
       "options": [
        "alt",
        "draggable",
        "keyboard",
        "rise_offset",
        "rise_on_hover",
        "rotation_angle",
        "rotation_origin",
        "title",
        "z_index_offset"
       ],
       "popup": "IPY_MODEL_a2bf735272b44c9cba5da195528e5a1c"
      }
     },
     "a5b3d706353f401bb893c6db322c1b8c": {
      "model_module": "@jupyter-widgets/base",
      "model_module_version": "1.2.0",
      "model_name": "LayoutModel",
      "state": {}
     },
     "a6067c4c56a54032b1760e703056bc64": {
      "model_module": "jupyter-leaflet",
      "model_module_version": "^0.15.0",
      "model_name": "LeafletAwesomeIconModel",
      "state": {
       "_model_module_version": "^0.15.0",
       "_view_module_version": "^0.15.0",
       "icon_color": "white",
       "marker_color": "green",
       "name": "life-ring"
      }
     },
     "a6ce193b9fc64373b97328faa7fbcc3e": {
      "model_module": "jupyter-leaflet",
      "model_module_version": "^0.15.0",
      "model_name": "LeafletMarkerModel",
      "state": {
       "_model_module_version": "^0.15.0",
       "_view_module_version": "^0.15.0",
       "draggable": false,
       "icon": "IPY_MODEL_706a09f07f4a4097bf9f2da70cd8bbc4",
       "location": [
        43.715,
        -69.355
       ],
       "options": [
        "alt",
        "draggable",
        "keyboard",
        "rise_offset",
        "rise_on_hover",
        "rotation_angle",
        "rotation_origin",
        "title",
        "z_index_offset"
       ],
       "popup": "IPY_MODEL_2f6149c7d7ab42ebba67c68a7c4abb1a"
      }
     },
     "a761d3ec89a54faaa73dea6194c58793": {
      "model_module": "jupyter-leaflet",
      "model_module_version": "^0.15.0",
      "model_name": "LeafletAwesomeIconModel",
      "state": {
       "_model_module_version": "^0.15.0",
       "_view_module_version": "^0.15.0",
       "icon_color": "white",
       "marker_color": "red",
       "name": "life-ring"
      }
     },
     "a78ffe9274f44ba19aa432ccac45f830": {
      "model_module": "jupyter-leaflet",
      "model_module_version": "^0.15.0",
      "model_name": "LeafletMarkerModel",
      "state": {
       "_model_module_version": "^0.15.0",
       "_view_module_version": "^0.15.0",
       "draggable": false,
       "icon": "IPY_MODEL_8c08a2d01ee648669d1faa88b5b31dc0",
       "location": [
        29.726,
        -95.266
       ],
       "options": [
        "alt",
        "draggable",
        "keyboard",
        "rise_offset",
        "rise_on_hover",
        "rotation_angle",
        "rotation_origin",
        "title",
        "z_index_offset"
       ],
       "popup": "IPY_MODEL_94bc97f582d542bd958edc8744532a40"
      }
     },
     "a7cbb337ebb2482bb421bff0af3290b2": {
      "model_module": "@jupyter-widgets/controls",
      "model_module_version": "1.5.0",
      "model_name": "HTMLModel",
      "state": {
       "layout": "IPY_MODEL_83e333fbf20a49a4b6f745da78f9dfa1",
       "style": "IPY_MODEL_51afe6552d5d4e0abe218a86a309f5f2",
       "value": "<table border=\"1\" class=\"dataframe table table-striped table-hover table-condensed table-responsive\">\n  <thead>\n    <tr style=\"text-align: right;\">\n      <th></th>\n      <th>51201</th>\n    </tr>\n  </thead>\n  <tbody>\n    <tr>\n      <th>met</th>\n      <td>0.0</td>\n    </tr>\n    <tr>\n      <th>wave</th>\n      <td>11520.0</td>\n    </tr>\n    <tr>\n      <th>type</th>\n      <td>buoy</td>\n    </tr>\n    <tr>\n      <th>name</th>\n      <td>Waimea Bay, HI (106)</td>\n    </tr>\n    <tr>\n      <th>pgm</th>\n      <td>IOOS Partners</td>\n    </tr>\n  </tbody>\n</table>"
      }
     },
     "a8503b199db748e4aa6c5b8e53b9e6ba": {
      "model_module": "jupyter-leaflet",
      "model_module_version": "^0.15.0",
      "model_name": "LeafletMarkerModel",
      "state": {
       "_model_module_version": "^0.15.0",
       "_view_module_version": "^0.15.0",
       "draggable": false,
       "icon": "IPY_MODEL_50694670fc5e4024a7b74e4d33adffd4",
       "location": [
        26.559,
        -97.424
       ],
       "options": [
        "alt",
        "draggable",
        "keyboard",
        "rise_offset",
        "rise_on_hover",
        "rotation_angle",
        "rotation_origin",
        "title",
        "z_index_offset"
       ],
       "popup": "IPY_MODEL_90e831a3970a4f14964fdf4e4ec062ba"
      }
     },
     "a8fa78af978e4beeba09e3db6ccd0c8e": {
      "model_module": "jupyter-leaflet",
      "model_module_version": "^0.15.0",
      "model_name": "LeafletAwesomeIconModel",
      "state": {
       "_model_module_version": "^0.15.0",
       "_view_module_version": "^0.15.0",
       "icon_color": "white",
       "marker_color": "orange",
       "name": "life-ring"
      }
     },
     "a9b7cfb36611493e81a36776ff4dcb76": {
      "model_module": "jupyter-leaflet",
      "model_module_version": "^0.15.0",
      "model_name": "LeafletAwesomeIconModel",
      "state": {
       "_model_module_version": "^0.15.0",
       "_view_module_version": "^0.15.0",
       "icon_color": "white",
       "marker_color": "green",
       "name": "life-ring"
      }
     },
     "aa070656d7574979aed5b2d6b569bd5f": {
      "model_module": "@jupyter-widgets/base",
      "model_module_version": "1.2.0",
      "model_name": "LayoutModel",
      "state": {}
     },
     "aa252800f9d744be92c82de819c252d1": {
      "model_module": "@jupyter-widgets/base",
      "model_module_version": "1.2.0",
      "model_name": "LayoutModel",
      "state": {}
     },
     "aa41e745d2f84017aaa9c9d0fdf24d82": {
      "model_module": "@jupyter-widgets/base",
      "model_module_version": "1.2.0",
      "model_name": "LayoutModel",
      "state": {}
     },
     "aa5f530c99924703b306caa85a4f87b5": {
      "model_module": "@jupyter-widgets/controls",
      "model_module_version": "1.5.0",
      "model_name": "DescriptionStyleModel",
      "state": {
       "description_width": ""
      }
     },
     "aaadd420eec24079ab9550794e68685b": {
      "model_module": "jupyter-leaflet",
      "model_module_version": "^0.15.0",
      "model_name": "LeafletAwesomeIconModel",
      "state": {
       "_model_module_version": "^0.15.0",
       "_view_module_version": "^0.15.0",
       "icon_color": "white",
       "marker_color": "orange",
       "name": "life-ring"
      }
     },
     "ab383e752a9d4dafb7633eb1c460725d": {
      "model_module": "@jupyter-widgets/controls",
      "model_module_version": "1.5.0",
      "model_name": "DescriptionStyleModel",
      "state": {
       "description_width": ""
      }
     },
     "ab5e7a5d702d4877b9aca98e5c320bfb": {
      "model_module": "jupyter-leaflet",
      "model_module_version": "^0.15.0",
      "model_name": "LeafletAwesomeIconModel",
      "state": {
       "_model_module_version": "^0.15.0",
       "_view_module_version": "^0.15.0",
       "icon_color": "white",
       "marker_color": "orange",
       "name": "life-ring"
      }
     },
     "ac574eca2bcc47858c477977e4e6ceda": {
      "model_module": "@jupyter-widgets/base",
      "model_module_version": "1.2.0",
      "model_name": "LayoutModel",
      "state": {}
     },
     "ac89bb84a5c449ef9fe05a0a70934154": {
      "model_module": "jupyter-leaflet",
      "model_module_version": "^0.15.0",
      "model_name": "LeafletAwesomeIconModel",
      "state": {
       "_model_module_version": "^0.15.0",
       "_view_module_version": "^0.15.0",
       "icon_color": "white",
       "marker_color": "red",
       "name": "life-ring"
      }
     },
     "ad4172a585794445a1c30539921594da": {
      "model_module": "jupyter-leaflet",
      "model_module_version": "^0.15.0",
      "model_name": "LeafletMarkerModel",
      "state": {
       "_model_module_version": "^0.15.0",
       "_view_module_version": "^0.15.0",
       "draggable": false,
       "icon": "IPY_MODEL_940a279ab7054be597e909ffa286e349",
       "location": [
        -14.273,
        -170.5
       ],
       "options": [
        "alt",
        "draggable",
        "keyboard",
        "rise_offset",
        "rise_on_hover",
        "rotation_angle",
        "rotation_origin",
        "title",
        "z_index_offset"
       ],
       "popup": "IPY_MODEL_e8a5de4475844b3a8f135d38925e7626"
      }
     },
     "adcebad521a84c3fa0264527b7147971": {
      "model_module": "@jupyter-widgets/base",
      "model_module_version": "1.2.0",
      "model_name": "LayoutModel",
      "state": {}
     },
     "addaf45f58f8494fa384b9b3f4b6356c": {
      "model_module": "@jupyter-widgets/controls",
      "model_module_version": "1.5.0",
      "model_name": "DescriptionStyleModel",
      "state": {
       "description_width": ""
      }
     },
     "ae1ff070be10438aaf31c4568d9f0b8e": {
      "model_module": "jupyter-leaflet",
      "model_module_version": "^0.15.0",
      "model_name": "LeafletMarkerModel",
      "state": {
       "_model_module_version": "^0.15.0",
       "_view_module_version": "^0.15.0",
       "draggable": false,
       "icon": "IPY_MODEL_f3b824fcce9f4cb1b63eb3f01342d4b9",
       "location": [
        43.497,
        -67.876
       ],
       "options": [
        "alt",
        "draggable",
        "keyboard",
        "rise_offset",
        "rise_on_hover",
        "rotation_angle",
        "rotation_origin",
        "title",
        "z_index_offset"
       ],
       "popup": "IPY_MODEL_f1bf199431da463880e4110e9ea65d8a"
      }
     },
     "aec40fb0432b48a79b46344b7264bc49": {
      "model_module": "@jupyter-widgets/controls",
      "model_module_version": "1.5.0",
      "model_name": "HTMLModel",
      "state": {
       "layout": "IPY_MODEL_0c131c9a43394629a2666f26204dedc4",
       "style": "IPY_MODEL_2a2213043e744004b09fb7774f92567f",
       "value": "<table border=\"1\" class=\"dataframe table table-striped table-hover table-condensed table-responsive\">\n  <thead>\n    <tr style=\"text-align: right;\">\n      <th></th>\n      <th>44029</th>\n    </tr>\n  </thead>\n  <tbody>\n    <tr>\n      <th>met</th>\n      <td>5844.0</td>\n    </tr>\n    <tr>\n      <th>wave</th>\n      <td>5706.0</td>\n    </tr>\n    <tr>\n      <th>type</th>\n      <td>buoy</td>\n    </tr>\n    <tr>\n      <th>name</th>\n      <td>Buoy A01 - Massachusetts Bay</td>\n    </tr>\n    <tr>\n      <th>pgm</th>\n      <td>IOOS Partners</td>\n    </tr>\n  </tbody>\n</table>"
      }
     },
     "aec82da7956440cf9cc7ccc18cb189ba": {
      "model_module": "jupyter-leaflet",
      "model_module_version": "^0.15.0",
      "model_name": "LeafletAwesomeIconModel",
      "state": {
       "_model_module_version": "^0.15.0",
       "_view_module_version": "^0.15.0",
       "icon_color": "white",
       "marker_color": "red",
       "name": "life-ring"
      }
     },
     "aef9ddbe3f494aa2a2bd1ac88fb48909": {
      "model_module": "@jupyter-widgets/base",
      "model_module_version": "1.2.0",
      "model_name": "LayoutModel",
      "state": {}
     },
     "af01eb76531e42fab5633f87ecd7adc4": {
      "model_module": "@jupyter-widgets/controls",
      "model_module_version": "1.5.0",
      "model_name": "DescriptionStyleModel",
      "state": {
       "description_width": ""
      }
     },
     "af85f5114a7046b9a9e26049743fad3b": {
      "model_module": "jupyter-leaflet",
      "model_module_version": "^0.15.0",
      "model_name": "LeafletMarkerModel",
      "state": {
       "_model_module_version": "^0.15.0",
       "_view_module_version": "^0.15.0",
       "draggable": false,
       "icon": "IPY_MODEL_431fe72cba0c46ccae8bfcfbb2b26ff1",
       "location": [
        58.364,
        -134.606
       ],
       "options": [
        "alt",
        "draggable",
        "keyboard",
        "rise_offset",
        "rise_on_hover",
        "rotation_angle",
        "rotation_origin",
        "title",
        "z_index_offset"
       ],
       "popup": "IPY_MODEL_c0c54b3b6d1b43328e61c5d4997f5a68"
      }
     },
     "afd266ed6de6446ab6143af00e6ab566": {
      "model_module": "jupyter-leaflet",
      "model_module_version": "^0.15.0",
      "model_name": "LeafletAwesomeIconModel",
      "state": {
       "_model_module_version": "^0.15.0",
       "_view_module_version": "^0.15.0",
       "icon_color": "white",
       "marker_color": "orange",
       "name": "life-ring"
      }
     },
     "afdd1c50e1554703a3fc640e7f5a4985": {
      "model_module": "jupyter-leaflet",
      "model_module_version": "^0.15.0",
      "model_name": "LeafletAwesomeIconModel",
      "state": {
       "_model_module_version": "^0.15.0",
       "_view_module_version": "^0.15.0",
       "icon_color": "white",
       "marker_color": "red",
       "name": "life-ring"
      }
     },
     "b01e0bd75b1840a8ac2244aeb502afe5": {
      "model_module": "jupyter-leaflet",
      "model_module_version": "^0.15.0",
      "model_name": "LeafletAwesomeIconModel",
      "state": {
       "_model_module_version": "^0.15.0",
       "_view_module_version": "^0.15.0",
       "icon_color": "white",
       "marker_color": "orange",
       "name": "life-ring"
      }
     },
     "b069c757dc144aa38ecc3c5d75699848": {
      "model_module": "@jupyter-widgets/controls",
      "model_module_version": "1.5.0",
      "model_name": "DescriptionStyleModel",
      "state": {
       "description_width": ""
      }
     },
     "b09b1f3a912a44cc9a92e81e4fb593fd": {
      "model_module": "@jupyter-widgets/controls",
      "model_module_version": "1.5.0",
      "model_name": "DescriptionStyleModel",
      "state": {
       "description_width": ""
      }
     },
     "b0c1d031096848de83bcc535fe12baf3": {
      "model_module": "@jupyter-widgets/controls",
      "model_module_version": "1.5.0",
      "model_name": "DescriptionStyleModel",
      "state": {
       "description_width": ""
      }
     },
     "b1641704f52046cfa502ce95c0ef6950": {
      "model_module": "jupyter-leaflet",
      "model_module_version": "^0.15.0",
      "model_name": "LeafletMarkerModel",
      "state": {
       "_model_module_version": "^0.15.0",
       "_view_module_version": "^0.15.0",
       "draggable": false,
       "icon": "IPY_MODEL_afd266ed6de6446ab6143af00e6ab566",
       "location": [
        59.927,
        -141.359
       ],
       "options": [
        "alt",
        "draggable",
        "keyboard",
        "rise_offset",
        "rise_on_hover",
        "rotation_angle",
        "rotation_origin",
        "title",
        "z_index_offset"
       ],
       "popup": "IPY_MODEL_d22e7ebb9f13415d8847f4d706fe2795"
      }
     },
     "b1c134c06ee041d9b6da02be56875080": {
      "model_module": "@jupyter-widgets/controls",
      "model_module_version": "1.5.0",
      "model_name": "HTMLModel",
      "state": {
       "layout": "IPY_MODEL_3478c2d73fd0436591399ad048130371",
       "style": "IPY_MODEL_26a02227e35c4cc9bb5a5f5770e8985f",
       "value": "<table border=\"1\" class=\"dataframe table table-striped table-hover table-condensed table-responsive\">\n  <thead>\n    <tr style=\"text-align: right;\">\n      <th></th>\n      <th>mxxa2</th>\n    </tr>\n  </thead>\n  <tbody>\n    <tr>\n      <th>met</th>\n      <td>34176.0</td>\n    </tr>\n    <tr>\n      <th>wave</th>\n      <td>0.0</td>\n    </tr>\n    <tr>\n      <th>type</th>\n      <td>fixed</td>\n    </tr>\n    <tr>\n      <th>name</th>\n      <td>MXAK Office, AK</td>\n    </tr>\n    <tr>\n      <th>pgm</th>\n      <td>IOOS Partners</td>\n    </tr>\n  </tbody>\n</table>"
      }
     },
     "b1f3a66002fd41158e46864b856172d6": {
      "model_module": "@jupyter-widgets/base",
      "model_module_version": "1.2.0",
      "model_name": "LayoutModel",
      "state": {}
     },
     "b1f4c07e92bf4d5b9ecdb0c1b3121341": {
      "model_module": "jupyter-leaflet",
      "model_module_version": "^0.15.0",
      "model_name": "LeafletAwesomeIconModel",
      "state": {
       "_model_module_version": "^0.15.0",
       "_view_module_version": "^0.15.0",
       "icon_color": "white",
       "marker_color": "orange",
       "name": "life-ring"
      }
     },
     "b256d26039494940a24d57ead93e572d": {
      "model_module": "@jupyter-widgets/controls",
      "model_module_version": "1.5.0",
      "model_name": "HTMLModel",
      "state": {
       "layout": "IPY_MODEL_aa070656d7574979aed5b2d6b569bd5f",
       "style": "IPY_MODEL_591c03647af648f8b4e8fd2c6a40bc20",
       "value": "<table border=\"1\" class=\"dataframe table table-striped table-hover table-condensed table-responsive\">\n  <thead>\n    <tr style=\"text-align: right;\">\n      <th></th>\n      <th>vcat2</th>\n    </tr>\n  </thead>\n  <tbody>\n    <tr>\n      <th>met</th>\n      <td>58474.0</td>\n    </tr>\n    <tr>\n      <th>wave</th>\n      <td>0.0</td>\n    </tr>\n    <tr>\n      <th>type</th>\n      <td>fixed</td>\n    </tr>\n    <tr>\n      <th>name</th>\n      <td>8773259 - Port Lavaca, TX</td>\n    </tr>\n    <tr>\n      <th>pgm</th>\n      <td>IOOS Partners</td>\n    </tr>\n  </tbody>\n</table>"
      }
     },
     "b2b370f548ba4cedaafc4af1504e77d8": {
      "model_module": "jupyter-leaflet",
      "model_module_version": "^0.15.0",
      "model_name": "LeafletMarkerModel",
      "state": {
       "_model_module_version": "^0.15.0",
       "_view_module_version": "^0.15.0",
       "draggable": false,
       "icon": "IPY_MODEL_3d447a8b60a54090aaa9b53bab680124",
       "location": [
        59.234,
        -135.442
       ],
       "options": [
        "alt",
        "draggable",
        "keyboard",
        "rise_offset",
        "rise_on_hover",
        "rotation_angle",
        "rotation_origin",
        "title",
        "z_index_offset"
       ],
       "popup": "IPY_MODEL_3db302372222478f91c591e18c9ad40e"
      }
     },
     "b3635b1a90164a78a986200e24bc7048": {
      "model_module": "@jupyter-widgets/controls",
      "model_module_version": "1.5.0",
      "model_name": "HTMLModel",
      "state": {
       "layout": "IPY_MODEL_cdf42275aca44d518b5066d662de75dc",
       "style": "IPY_MODEL_1e63ee75b24d444e98c9e5ec83a8d381",
       "value": "<table border=\"1\" class=\"dataframe table table-striped table-hover table-condensed table-responsive\">\n  <thead>\n    <tr style=\"text-align: right;\">\n      <th></th>\n      <th>45024</th>\n    </tr>\n  </thead>\n  <tbody>\n    <tr>\n      <th>met</th>\n      <td>30874.0</td>\n    </tr>\n    <tr>\n      <th>wave</th>\n      <td>30874.0</td>\n    </tr>\n    <tr>\n      <th>type</th>\n      <td>buoy</td>\n    </tr>\n    <tr>\n      <th>name</th>\n      <td>Ludington Buoy, MI</td>\n    </tr>\n    <tr>\n      <th>pgm</th>\n      <td>IOOS Partners</td>\n    </tr>\n  </tbody>\n</table>"
      }
     },
     "b367a25e28fd40e29e07e72082033757": {
      "model_module": "jupyter-leaflet",
      "model_module_version": "^0.15.0",
      "model_name": "LeafletAwesomeIconModel",
      "state": {
       "_model_module_version": "^0.15.0",
       "_view_module_version": "^0.15.0",
       "icon_color": "white",
       "marker_color": "orange",
       "name": "life-ring"
      }
     },
     "b38bb284ca2e414191db949fbf6e818c": {
      "model_module": "@jupyter-widgets/controls",
      "model_module_version": "1.5.0",
      "model_name": "DescriptionStyleModel",
      "state": {
       "description_width": ""
      }
     },
     "b3b9e3ec5c564cff8006fde3b655ea43": {
      "model_module": "@jupyter-widgets/base",
      "model_module_version": "1.2.0",
      "model_name": "LayoutModel",
      "state": {}
     },
     "b3c11c5ad8e4447b811bc4a4e651f8b8": {
      "model_module": "@jupyter-widgets/controls",
      "model_module_version": "1.5.0",
      "model_name": "HTMLModel",
      "state": {
       "layout": "IPY_MODEL_36d77b29ef2244f18eac9e9d2f6aa546",
       "style": "IPY_MODEL_35386a24216c434bb24f1138ec9f7ac1",
       "value": "<table border=\"1\" class=\"dataframe table table-striped table-hover table-condensed table-responsive\">\n  <thead>\n    <tr style=\"text-align: right;\">\n      <th></th>\n      <th>pact2</th>\n    </tr>\n  </thead>\n  <tbody>\n    <tr>\n      <th>met</th>\n      <td>57974.0</td>\n    </tr>\n    <tr>\n      <th>wave</th>\n      <td>0.0</td>\n    </tr>\n    <tr>\n      <th>type</th>\n      <td>fixed</td>\n    </tr>\n    <tr>\n      <th>name</th>\n      <td>8775792 - Packery Channel, TX</td>\n    </tr>\n    <tr>\n      <th>pgm</th>\n      <td>IOOS Partners</td>\n    </tr>\n  </tbody>\n</table>"
      }
     },
     "b51cfded8ff24b1aa6a410454164d498": {
      "model_module": "jupyter-leaflet",
      "model_module_version": "^0.15.0",
      "model_name": "LeafletAwesomeIconModel",
      "state": {
       "_model_module_version": "^0.15.0",
       "_view_module_version": "^0.15.0",
       "icon_color": "white",
       "marker_color": "red",
       "name": "life-ring"
      }
     },
     "b5b3dd3b626147eea011f79f83710580": {
      "model_module": "jupyter-leaflet",
      "model_module_version": "^0.15.0",
      "model_name": "LeafletMarkerModel",
      "state": {
       "_model_module_version": "^0.15.0",
       "_view_module_version": "^0.15.0",
       "draggable": false,
       "icon": "IPY_MODEL_1eec2597541743de945520eeda026eea",
       "location": [
        59.602,
        -151.417
       ],
       "options": [
        "alt",
        "draggable",
        "keyboard",
        "rise_offset",
        "rise_on_hover",
        "rotation_angle",
        "rotation_origin",
        "title",
        "z_index_offset"
       ],
       "popup": "IPY_MODEL_70d3d04d806647deab35874152164f7b"
      }
     },
     "b5c30ec8589046dfbce8a402acff446d": {
      "model_module": "@jupyter-widgets/controls",
      "model_module_version": "1.5.0",
      "model_name": "DescriptionStyleModel",
      "state": {
       "description_width": ""
      }
     },
     "b5ff7841192446e1ba701626ec675093": {
      "model_module": "jupyter-leaflet",
      "model_module_version": "^0.15.0",
      "model_name": "LeafletMarkerModel",
      "state": {
       "_model_module_version": "^0.15.0",
       "_view_module_version": "^0.15.0",
       "draggable": false,
       "icon": "IPY_MODEL_0ff00f4e965b42799c182cbac440b3b5",
       "location": [
        27.736,
        -82.686
       ],
       "options": [
        "alt",
        "draggable",
        "keyboard",
        "rise_offset",
        "rise_on_hover",
        "rotation_angle",
        "rotation_origin",
        "title",
        "z_index_offset"
       ],
       "popup": "IPY_MODEL_23d5299464af427ab984f4ea8a7117d2"
      }
     },
     "b5ff8c5a1c3646eb885e59b57cc325e1": {
      "model_module": "jupyter-leaflet",
      "model_module_version": "^0.15.0",
      "model_name": "LeafletMarkerModel",
      "state": {
       "_model_module_version": "^0.15.0",
       "_view_module_version": "^0.15.0",
       "draggable": false,
       "icon": "IPY_MODEL_72d69373202c4be2988d1959076f812e",
       "location": [
        27.815,
        -97.389
       ],
       "options": [
        "alt",
        "draggable",
        "keyboard",
        "rise_offset",
        "rise_on_hover",
        "rotation_angle",
        "rotation_origin",
        "title",
        "z_index_offset"
       ],
       "popup": "IPY_MODEL_ecd24e049e844e8e855997341f380f6b"
      }
     },
     "b638415cc59a4817b47bf65e0a785a8a": {
      "model_module": "jupyter-leaflet",
      "model_module_version": "^0.15.0",
      "model_name": "LeafletMarkerModel",
      "state": {
       "_model_module_version": "^0.15.0",
       "_view_module_version": "^0.15.0",
       "draggable": false,
       "icon": "IPY_MODEL_a8fa78af978e4beeba09e3db6ccd0c8e",
       "location": [
        26.262,
        -97.285
       ],
       "options": [
        "alt",
        "draggable",
        "keyboard",
        "rise_offset",
        "rise_on_hover",
        "rotation_angle",
        "rotation_origin",
        "title",
        "z_index_offset"
       ],
       "popup": "IPY_MODEL_7e3f394d932d4333ba206aadb50f100d"
      }
     },
     "b6f8989df2894419a1cf7c93d6da6ce0": {
      "model_module": "jupyter-leaflet",
      "model_module_version": "^0.15.0",
      "model_name": "LeafletMarkerModel",
      "state": {
       "_model_module_version": "^0.15.0",
       "_view_module_version": "^0.15.0",
       "draggable": false,
       "icon": "IPY_MODEL_63e56c7d80644108a9679d5241e78fbf",
       "location": [
        28.771,
        -95.617
       ],
       "options": [
        "alt",
        "draggable",
        "keyboard",
        "rise_offset",
        "rise_on_hover",
        "rotation_angle",
        "rotation_origin",
        "title",
        "z_index_offset"
       ],
       "popup": "IPY_MODEL_bf2499d5949f452b9b44b21cccc0fd12"
      }
     },
     "b71490a66c6b438498e3cbeec1162b51": {
      "model_module": "jupyter-leaflet",
      "model_module_version": "^0.15.0",
      "model_name": "LeafletAwesomeIconModel",
      "state": {
       "_model_module_version": "^0.15.0",
       "_view_module_version": "^0.15.0",
       "icon_color": "white",
       "marker_color": "orange",
       "name": "life-ring"
      }
     },
     "b78439d6af7444e2ae1a8951dfb05d07": {
      "model_module": "@jupyter-widgets/controls",
      "model_module_version": "1.5.0",
      "model_name": "HTMLModel",
      "state": {
       "layout": "IPY_MODEL_9d8b0b52f2ee493695d29e0252450d85",
       "style": "IPY_MODEL_045eb1d426cd442ca44bf0c5d79439fd",
       "value": "<table border=\"1\" class=\"dataframe table table-striped table-hover table-condensed table-responsive\">\n  <thead>\n    <tr style=\"text-align: right;\">\n      <th></th>\n      <th>bgcf1</th>\n    </tr>\n  </thead>\n  <tbody>\n    <tr>\n      <th>met</th>\n      <td>58000.0</td>\n    </tr>\n    <tr>\n      <th>wave</th>\n      <td>0.0</td>\n    </tr>\n    <tr>\n      <th>type</th>\n      <td>fixed</td>\n    </tr>\n    <tr>\n      <th>name</th>\n      <td>BCP - Big Carlos Pass, FL</td>\n    </tr>\n    <tr>\n      <th>pgm</th>\n      <td>IOOS Partners</td>\n    </tr>\n  </tbody>\n</table>"
      }
     },
     "b7e9f0ce537542f188fdac9812d2a039": {
      "model_module": "@jupyter-widgets/controls",
      "model_module_version": "1.5.0",
      "model_name": "HTMLModel",
      "state": {
       "layout": "IPY_MODEL_d51c09e6fe7d40d69ae1bde96fe4e2fa",
       "style": "IPY_MODEL_6e8a4309398a4d37b1375f059b9eebcb",
       "value": "<table border=\"1\" class=\"dataframe table table-striped table-hover table-condensed table-responsive\">\n  <thead>\n    <tr style=\"text-align: right;\">\n      <th></th>\n      <th>arpf1</th>\n    </tr>\n  </thead>\n  <tbody>\n    <tr>\n      <th>met</th>\n      <td>24058.0</td>\n    </tr>\n    <tr>\n      <th>wave</th>\n      <td>0.0</td>\n    </tr>\n    <tr>\n      <th>type</th>\n      <td>fixed</td>\n    </tr>\n    <tr>\n      <th>name</th>\n      <td>APK - Aripeka, FL</td>\n    </tr>\n    <tr>\n      <th>pgm</th>\n      <td>IOOS Partners</td>\n    </tr>\n  </tbody>\n</table>"
      }
     },
     "b87d916b0dd740bfb64415cf054be6af": {
      "model_module": "jupyter-leaflet",
      "model_module_version": "^0.15.0",
      "model_name": "LeafletMarkerModel",
      "state": {
       "_model_module_version": "^0.15.0",
       "_view_module_version": "^0.15.0",
       "draggable": false,
       "icon": "IPY_MODEL_d97c912438a84b10b85b37fd00ccadd1",
       "location": [
        41.699,
        -83.259
       ],
       "options": [
        "alt",
        "draggable",
        "keyboard",
        "rise_offset",
        "rise_on_hover",
        "rotation_angle",
        "rotation_origin",
        "title",
        "z_index_offset"
       ],
       "popup": "IPY_MODEL_ed000a54e14e448babb0846091655da5"
      }
     },
     "b8ea350f33cf4090accac7f5c0bb364b": {
      "model_module": "jupyter-leaflet",
      "model_module_version": "^0.15.0",
      "model_name": "LeafletAwesomeIconModel",
      "state": {
       "_model_module_version": "^0.15.0",
       "_view_module_version": "^0.15.0",
       "icon_color": "white",
       "marker_color": "green",
       "name": "life-ring"
      }
     },
     "b9a700ca6cc8407e8cfc9543a506e8a8": {
      "model_module": "@jupyter-widgets/controls",
      "model_module_version": "1.5.0",
      "model_name": "HTMLModel",
      "state": {
       "layout": "IPY_MODEL_fe68674d30c2408e83c1e5953cf5e853",
       "style": "IPY_MODEL_fa0d89ed8d0a4ba78a34feb2a4e9eb06",
       "value": "<table border=\"1\" class=\"dataframe table table-striped table-hover table-condensed table-responsive\">\n  <thead>\n    <tr style=\"text-align: right;\">\n      <th></th>\n      <th>41033</th>\n    </tr>\n  </thead>\n  <tbody>\n    <tr>\n      <th>met</th>\n      <td>6216.0</td>\n    </tr>\n    <tr>\n      <th>wave</th>\n      <td>0.0</td>\n    </tr>\n    <tr>\n      <th>type</th>\n      <td>buoy</td>\n    </tr>\n    <tr>\n      <th>name</th>\n      <td>Fripp Nearshore, SC (FRP2)</td>\n    </tr>\n    <tr>\n      <th>pgm</th>\n      <td>IOOS Partners</td>\n    </tr>\n  </tbody>\n</table>"
      }
     },
     "b9c6c0f97cce4e11a490b172401bc68a": {
      "model_module": "jupyter-leaflet",
      "model_module_version": "^0.15.0",
      "model_name": "LeafletAwesomeIconModel",
      "state": {
       "_model_module_version": "^0.15.0",
       "_view_module_version": "^0.15.0",
       "icon_color": "white",
       "marker_color": "green",
       "name": "life-ring"
      }
     },
     "ba038c8f747248b7a468f3ca76f0661a": {
      "model_module": "@jupyter-widgets/controls",
      "model_module_version": "1.5.0",
      "model_name": "DescriptionStyleModel",
      "state": {
       "description_width": ""
      }
     },
     "ba6f5253cc014cdf82f28861ceeb67bc": {
      "model_module": "@jupyter-widgets/controls",
      "model_module_version": "1.5.0",
      "model_name": "DescriptionStyleModel",
      "state": {
       "description_width": ""
      }
     },
     "bc50f7751f57413aad0d43fa55955237": {
      "model_module": "jupyter-leaflet",
      "model_module_version": "^0.15.0",
      "model_name": "LeafletAwesomeIconModel",
      "state": {
       "_model_module_version": "^0.15.0",
       "_view_module_version": "^0.15.0",
       "icon_color": "white",
       "marker_color": "orange",
       "name": "life-ring"
      }
     },
     "bca21345143e4a3dbf9bf78f670c5ba6": {
      "model_module": "@jupyter-widgets/base",
      "model_module_version": "1.2.0",
      "model_name": "LayoutModel",
      "state": {}
     },
     "bd4497dcd8fe4d89934a49696b69b974": {
      "model_module": "jupyter-leaflet",
      "model_module_version": "^0.15.0",
      "model_name": "LeafletAwesomeIconModel",
      "state": {
       "_model_module_version": "^0.15.0",
       "_view_module_version": "^0.15.0",
       "icon_color": "white",
       "marker_color": "green",
       "name": "life-ring"
      }
     },
     "bd664282aed34214ad52edc853897f2f": {
      "model_module": "@jupyter-widgets/controls",
      "model_module_version": "1.5.0",
      "model_name": "HTMLModel",
      "state": {
       "layout": "IPY_MODEL_75d9da13cdd645b99638391d9fd43b76",
       "style": "IPY_MODEL_27104db39e0e49529f59c0ada86247bd",
       "value": "<table border=\"1\" class=\"dataframe table table-striped table-hover table-condensed table-responsive\">\n  <thead>\n    <tr style=\"text-align: right;\">\n      <th></th>\n      <th>pcgt2</th>\n    </tr>\n  </thead>\n  <tbody>\n    <tr>\n      <th>met</th>\n      <td>58634.0</td>\n    </tr>\n    <tr>\n      <th>wave</th>\n      <td>0.0</td>\n    </tr>\n    <tr>\n      <th>type</th>\n      <td>fixed</td>\n    </tr>\n    <tr>\n      <th>name</th>\n      <td>8779748 - South Padre Island CGS, TX</td>\n    </tr>\n    <tr>\n      <th>pgm</th>\n      <td>IOOS Partners</td>\n    </tr>\n  </tbody>\n</table>"
      }
     },
     "bdeb13bfa1314d84be6e562b08751b2c": {
      "model_module": "jupyter-leaflet",
      "model_module_version": "^0.15.0",
      "model_name": "LeafletAwesomeIconModel",
      "state": {
       "_model_module_version": "^0.15.0",
       "_view_module_version": "^0.15.0",
       "icon_color": "white",
       "marker_color": "green",
       "name": "life-ring"
      }
     },
     "be03699274d64dc8b578da6d0bbf3fcf": {
      "model_module": "jupyter-leaflet",
      "model_module_version": "^0.15.0",
      "model_name": "LeafletMarkerModel",
      "state": {
       "_model_module_version": "^0.15.0",
       "_view_module_version": "^0.15.0",
       "draggable": false,
       "icon": "IPY_MODEL_ee577632cbeb4f578438d0f8ac49e615",
       "location": [
        35.75,
        -75.33
       ],
       "options": [
        "alt",
        "draggable",
        "keyboard",
        "rise_offset",
        "rise_on_hover",
        "rotation_angle",
        "rotation_origin",
        "title",
        "z_index_offset"
       ],
       "popup": "IPY_MODEL_7d5e14f80af24638bfeb52b7df6c3644"
      }
     },
     "be6c5bd2a1094dacaf3c25999ff443d0": {
      "model_module": "jupyter-leaflet",
      "model_module_version": "^0.15.0",
      "model_name": "LeafletAwesomeIconModel",
      "state": {
       "_model_module_version": "^0.15.0",
       "_view_module_version": "^0.15.0",
       "icon_color": "white",
       "marker_color": "orange",
       "name": "life-ring"
      }
     },
     "bf2499d5949f452b9b44b21cccc0fd12": {
      "model_module": "@jupyter-widgets/controls",
      "model_module_version": "1.5.0",
      "model_name": "HTMLModel",
      "state": {
       "layout": "IPY_MODEL_70e074d51d09485aa3372ebb897bc3aa",
       "style": "IPY_MODEL_f92b21b0295c42a9b45fec9e70775688",
       "value": "<table border=\"1\" class=\"dataframe table table-striped table-hover table-condensed table-responsive\">\n  <thead>\n    <tr style=\"text-align: right;\">\n      <th></th>\n      <th>sgnt2</th>\n    </tr>\n  </thead>\n  <tbody>\n    <tr>\n      <th>met</th>\n      <td>58556.0</td>\n    </tr>\n    <tr>\n      <th>wave</th>\n      <td>0.0</td>\n    </tr>\n    <tr>\n      <th>type</th>\n      <td>fixed</td>\n    </tr>\n    <tr>\n      <th>name</th>\n      <td>8772985 - Sargent, TX</td>\n    </tr>\n    <tr>\n      <th>pgm</th>\n      <td>IOOS Partners</td>\n    </tr>\n  </tbody>\n</table>"
      }
     },
     "bf4e9584ef3a46d7ad16b91b8ff3b2f5": {
      "model_module": "@jupyter-widgets/controls",
      "model_module_version": "1.5.0",
      "model_name": "DescriptionStyleModel",
      "state": {
       "description_width": ""
      }
     },
     "bfb3929e3505498c81f4a0f8dcb5a9e8": {
      "model_module": "jupyter-leaflet",
      "model_module_version": "^0.15.0",
      "model_name": "LeafletMarkerModel",
      "state": {
       "_model_module_version": "^0.15.0",
       "_view_module_version": "^0.15.0",
       "draggable": false,
       "icon": "IPY_MODEL_cfe9b86c53e14c64a54239ba7128952d",
       "location": [
        27.837,
        -97.039
       ],
       "options": [
        "alt",
        "draggable",
        "keyboard",
        "rise_offset",
        "rise_on_hover",
        "rotation_angle",
        "rotation_origin",
        "title",
        "z_index_offset"
       ],
       "popup": "IPY_MODEL_444addc69b8245229494b57a9c811681"
      }
     },
     "bfdc2179b1d24309a17729324e00d437": {
      "model_module": "@jupyter-widgets/base",
      "model_module_version": "1.2.0",
      "model_name": "LayoutModel",
      "state": {}
     },
     "c04f7d72a51d48d1a5e01fd71c2c6a1a": {
      "model_module": "@jupyter-widgets/controls",
      "model_module_version": "1.5.0",
      "model_name": "HTMLModel",
      "state": {
       "layout": "IPY_MODEL_0e2a126dc49c4b7480e8e3836303df5d",
       "style": "IPY_MODEL_5a7bdec12dd34693b11ef46accb8205f",
       "value": "<table border=\"1\" class=\"dataframe table table-striped table-hover table-condensed table-responsive\">\n  <thead>\n    <tr style=\"text-align: right;\">\n      <th></th>\n      <th>lixa2</th>\n    </tr>\n  </thead>\n  <tbody>\n    <tr>\n      <th>met</th>\n      <td>34322.0</td>\n    </tr>\n    <tr>\n      <th>wave</th>\n      <td>0.0</td>\n    </tr>\n    <tr>\n      <th>type</th>\n      <td>fixed</td>\n    </tr>\n    <tr>\n      <th>name</th>\n      <td>Little Island, AK</td>\n    </tr>\n    <tr>\n      <th>pgm</th>\n      <td>IOOS Partners</td>\n    </tr>\n  </tbody>\n</table>"
      }
     },
     "c04fb178181a4c57aa2a31b7f0edf881": {
      "model_module": "@jupyter-widgets/controls",
      "model_module_version": "1.5.0",
      "model_name": "DescriptionStyleModel",
      "state": {
       "description_width": ""
      }
     },
     "c053d3102adc4f7ab05d0813ce242af0": {
      "model_module": "@jupyter-widgets/controls",
      "model_module_version": "1.5.0",
      "model_name": "HTMLModel",
      "state": {
       "layout": "IPY_MODEL_3deef7f0c2f54483bdc3cd139c16cf81",
       "style": "IPY_MODEL_f79b7b1c18d3463e938fec96d546b1e8",
       "value": "<table border=\"1\" class=\"dataframe table table-striped table-hover table-condensed table-responsive\">\n  <thead>\n    <tr style=\"text-align: right;\">\n      <th></th>\n      <th>oksi2</th>\n    </tr>\n  </thead>\n  <tbody>\n    <tr>\n      <th>met</th>\n      <td>5622.0</td>\n    </tr>\n    <tr>\n      <th>wave</th>\n      <td>0.0</td>\n    </tr>\n    <tr>\n      <th>type</th>\n      <td>fixed</td>\n    </tr>\n    <tr>\n      <th>name</th>\n      <td>Oak St., Chicago, IL</td>\n    </tr>\n    <tr>\n      <th>pgm</th>\n      <td>IOOS Partners</td>\n    </tr>\n  </tbody>\n</table>"
      }
     },
     "c05c3d1a1f5545789e3da3ce6519d3ff": {
      "model_module": "@jupyter-widgets/base",
      "model_module_version": "1.2.0",
      "model_name": "LayoutModel",
      "state": {}
     },
     "c0645492789542adaf422976662c6dcf": {
      "model_module": "jupyter-leaflet",
      "model_module_version": "^0.15.0",
      "model_name": "LeafletAwesomeIconModel",
      "state": {
       "_model_module_version": "^0.15.0",
       "_view_module_version": "^0.15.0",
       "icon_color": "white",
       "marker_color": "orange",
       "name": "life-ring"
      }
     },
     "c09d145589ec49d396eeb0b7680624f8": {
      "model_module": "@jupyter-widgets/base",
      "model_module_version": "1.2.0",
      "model_name": "LayoutModel",
      "state": {}
     },
     "c0c54b3b6d1b43328e61c5d4997f5a68": {
      "model_module": "@jupyter-widgets/controls",
      "model_module_version": "1.5.0",
      "model_name": "HTMLModel",
      "state": {
       "layout": "IPY_MODEL_69f654ee902f4b1c827e0a86fdcd4c47",
       "style": "IPY_MODEL_aa5f530c99924703b306caa85a4f87b5",
       "value": "<table border=\"1\" class=\"dataframe table table-striped table-hover table-condensed table-responsive\">\n  <thead>\n    <tr style=\"text-align: right;\">\n      <th></th>\n      <th>mvxa2</th>\n    </tr>\n  </thead>\n  <tbody>\n    <tr>\n      <th>met</th>\n      <td>34442.0</td>\n    </tr>\n    <tr>\n      <th>wave</th>\n      <td>0.0</td>\n    </tr>\n    <tr>\n      <th>type</th>\n      <td>fixed</td>\n    </tr>\n    <tr>\n      <th>name</th>\n      <td>Mendenhall Valley, AK</td>\n    </tr>\n    <tr>\n      <th>pgm</th>\n      <td>IOOS Partners</td>\n    </tr>\n  </tbody>\n</table>"
      }
     },
     "c2042220391b4dc5b3bd5e4f98f134b5": {
      "model_module": "@jupyter-widgets/base",
      "model_module_version": "1.2.0",
      "model_name": "LayoutModel",
      "state": {}
     },
     "c21116305ee746108b0db4fd1d76ffbd": {
      "model_module": "@jupyter-widgets/controls",
      "model_module_version": "1.5.0",
      "model_name": "HTMLModel",
      "state": {
       "layout": "IPY_MODEL_cf3dcb00475e492ea7b4035bd8b33430",
       "style": "IPY_MODEL_2a2192f9d0884cceaef88eda30bf7bb3",
       "value": "<table border=\"1\" class=\"dataframe table table-striped table-hover table-condensed table-responsive\">\n  <thead>\n    <tr style=\"text-align: right;\">\n      <th></th>\n      <th>41056</th>\n    </tr>\n  </thead>\n  <tbody>\n    <tr>\n      <th>met</th>\n      <td>35212.0</td>\n    </tr>\n    <tr>\n      <th>wave</th>\n      <td>5820.0</td>\n    </tr>\n    <tr>\n      <th>type</th>\n      <td>buoy</td>\n    </tr>\n    <tr>\n      <th>name</th>\n      <td>Vieques Island, PR</td>\n    </tr>\n    <tr>\n      <th>pgm</th>\n      <td>IOOS Partners</td>\n    </tr>\n  </tbody>\n</table>"
      }
     },
     "c2236cde9f754df5a384db168c3462ce": {
      "model_module": "@jupyter-widgets/base",
      "model_module_version": "1.2.0",
      "model_name": "LayoutModel",
      "state": {}
     },
     "c2d31f0d310e49a0b251cb6b460f5608": {
      "model_module": "@jupyter-widgets/controls",
      "model_module_version": "1.5.0",
      "model_name": "DescriptionStyleModel",
      "state": {
       "description_width": ""
      }
     },
     "c31e4e2338214c7c8bdd5145bba8e438": {
      "model_module": "jupyter-leaflet",
      "model_module_version": "^0.15.0",
      "model_name": "LeafletMarkerModel",
      "state": {
       "_model_module_version": "^0.15.0",
       "_view_module_version": "^0.15.0",
       "draggable": false,
       "icon": "IPY_MODEL_d11faa0459ba4c2e8bb93a5a99a777e3",
       "location": [
        58.205,
        -134.646
       ],
       "options": [
        "alt",
        "draggable",
        "keyboard",
        "rise_offset",
        "rise_on_hover",
        "rotation_angle",
        "rotation_origin",
        "title",
        "z_index_offset"
       ],
       "popup": "IPY_MODEL_19308df0ea69458887fa14260eb67871"
      }
     },
     "c42d2f212c32400e97b8c20ccfbea21c": {
      "model_module": "@jupyter-widgets/base",
      "model_module_version": "1.2.0",
      "model_name": "LayoutModel",
      "state": {}
     },
     "c45518cc78df47d3bef33ea50420184f": {
      "model_module": "@jupyter-widgets/controls",
      "model_module_version": "1.5.0",
      "model_name": "HTMLModel",
      "state": {
       "layout": "IPY_MODEL_38e76a524f7f4ec88283f20a3d87ffad",
       "style": "IPY_MODEL_6406c1449e1a4f82b29cc3227f6fa125",
       "value": "<table border=\"1\" class=\"dataframe table table-striped table-hover table-condensed table-responsive\">\n  <thead>\n    <tr style=\"text-align: right;\">\n      <th></th>\n      <th>45013</th>\n    </tr>\n  </thead>\n  <tbody>\n    <tr>\n      <th>met</th>\n      <td>10830.0</td>\n    </tr>\n    <tr>\n      <th>wave</th>\n      <td>10692.0</td>\n    </tr>\n    <tr>\n      <th>type</th>\n      <td>buoy</td>\n    </tr>\n    <tr>\n      <th>name</th>\n      <td>ATW20 - Atwater Park, WI</td>\n    </tr>\n    <tr>\n      <th>pgm</th>\n      <td>IOOS Partners</td>\n    </tr>\n  </tbody>\n</table>"
      }
     },
     "c4b13bbf08a64f369857baec6053c50f": {
      "model_module": "@jupyter-widgets/base",
      "model_module_version": "1.2.0",
      "model_name": "LayoutModel",
      "state": {}
     },
     "c4b29d488bd44ab8ae45aa5e8db39cba": {
      "model_module": "@jupyter-widgets/base",
      "model_module_version": "1.2.0",
      "model_name": "LayoutModel",
      "state": {}
     },
     "c55c4779321d4a2193ff69111f78e88a": {
      "model_module": "jupyter-leaflet",
      "model_module_version": "^0.15.0",
      "model_name": "LeafletMarkerModel",
      "state": {
       "_model_module_version": "^0.15.0",
       "_view_module_version": "^0.15.0",
       "draggable": false,
       "icon": "IPY_MODEL_be6c5bd2a1094dacaf3c25999ff443d0",
       "location": [
        57.779,
        -135.219
       ],
       "options": [
        "alt",
        "draggable",
        "keyboard",
        "rise_offset",
        "rise_on_hover",
        "rotation_angle",
        "rotation_origin",
        "title",
        "z_index_offset"
       ],
       "popup": "IPY_MODEL_4ed422343af54c86ba9669c36536fa0c"
      }
     },
     "c6690f4fa65f4dfa9f851ecc5e757ba5": {
      "model_module": "@jupyter-widgets/controls",
      "model_module_version": "1.5.0",
      "model_name": "DescriptionStyleModel",
      "state": {
       "description_width": ""
      }
     },
     "c66c4f1c8ced4704b99ea66497f9d6ff": {
      "model_module": "@jupyter-widgets/controls",
      "model_module_version": "1.5.0",
      "model_name": "DescriptionStyleModel",
      "state": {
       "description_width": ""
      }
     },
     "c6c2bb26490b447b82bac69ef1a0de64": {
      "model_module": "jupyter-leaflet",
      "model_module_version": "^0.15.0",
      "model_name": "LeafletAwesomeIconModel",
      "state": {
       "_model_module_version": "^0.15.0",
       "_view_module_version": "^0.15.0",
       "icon_color": "white",
       "marker_color": "orange",
       "name": "life-ring"
      }
     },
     "c7539260a00e41af868283083ff89839": {
      "model_module": "@jupyter-widgets/controls",
      "model_module_version": "1.5.0",
      "model_name": "HTMLModel",
      "state": {
       "layout": "IPY_MODEL_a064b22e7ab84996a79b61a9f793092d",
       "style": "IPY_MODEL_d1cfdf7b7bce4d5db08f81832d5956ce",
       "value": "<table border=\"1\" class=\"dataframe table table-striped table-hover table-condensed table-responsive\">\n  <thead>\n    <tr style=\"text-align: right;\">\n      <th></th>\n      <th>grrt2</th>\n    </tr>\n  </thead>\n  <tbody>\n    <tr>\n      <th>met</th>\n      <td>58668.0</td>\n    </tr>\n    <tr>\n      <th>wave</th>\n      <td>0.0</td>\n    </tr>\n    <tr>\n      <th>type</th>\n      <td>fixed</td>\n    </tr>\n    <tr>\n      <th>name</th>\n      <td>8771486 - Galveston RR Bridge, TX</td>\n    </tr>\n    <tr>\n      <th>pgm</th>\n      <td>IOOS Partners</td>\n    </tr>\n  </tbody>\n</table>"
      }
     },
     "c75b3365391542b29886248abf1ceba2": {
      "model_module": "@jupyter-widgets/controls",
      "model_module_version": "1.5.0",
      "model_name": "DescriptionStyleModel",
      "state": {
       "description_width": ""
      }
     },
     "c80fd1804ef04549963f94ed6fbb8302": {
      "model_module": "jupyter-leaflet",
      "model_module_version": "^0.15.0",
      "model_name": "LeafletAwesomeIconModel",
      "state": {
       "_model_module_version": "^0.15.0",
       "_view_module_version": "^0.15.0",
       "icon_color": "white",
       "marker_color": "green",
       "name": "life-ring"
      }
     },
     "c87100130ccd4c5192d6700ce3757c4f": {
      "model_module": "@jupyter-widgets/controls",
      "model_module_version": "1.5.0",
      "model_name": "HTMLModel",
      "state": {
       "layout": "IPY_MODEL_834376bd8dd0438bb453846b74c28cc2",
       "style": "IPY_MODEL_767908092d454293a69bb7093550db71",
       "value": "<table border=\"1\" class=\"dataframe table table-striped table-hover table-condensed table-responsive\">\n  <thead>\n    <tr style=\"text-align: right;\">\n      <th></th>\n      <th>skxa2</th>\n    </tr>\n  </thead>\n  <tbody>\n    <tr>\n      <th>met</th>\n      <td>34240.0</td>\n    </tr>\n    <tr>\n      <th>wave</th>\n      <td>0.0</td>\n    </tr>\n    <tr>\n      <th>type</th>\n      <td>fixed</td>\n    </tr>\n    <tr>\n      <th>name</th>\n      <td>Skagway MXAK, AK</td>\n    </tr>\n    <tr>\n      <th>pgm</th>\n      <td>IOOS Partners</td>\n    </tr>\n  </tbody>\n</table>"
      }
     },
     "c8df7ef0339e4aea8bc16320c982c341": {
      "model_module": "jupyter-leaflet",
      "model_module_version": "^0.15.0",
      "model_name": "LeafletMarkerModel",
      "state": {
       "_model_module_version": "^0.15.0",
       "_view_module_version": "^0.15.0",
       "draggable": false,
       "icon": "IPY_MODEL_4f9893eab77a48338eb351b90f74c344",
       "location": [
        46.86,
        -91.93
       ],
       "options": [
        "alt",
        "draggable",
        "keyboard",
        "rise_offset",
        "rise_on_hover",
        "rotation_angle",
        "rotation_origin",
        "title",
        "z_index_offset"
       ],
       "popup": "IPY_MODEL_3469a1de3e8741ab943b4dac42121690"
      }
     },
     "c90ab2d8cfcf4088b1c62d7043a82a69": {
      "model_module": "@jupyter-widgets/controls",
      "model_module_version": "1.5.0",
      "model_name": "HTMLModel",
      "state": {
       "layout": "IPY_MODEL_7f09d04deb6344909b9d2797321126e0",
       "style": "IPY_MODEL_b5c30ec8589046dfbce8a402acff446d",
       "value": "<table border=\"1\" class=\"dataframe table table-striped table-hover table-condensed table-responsive\">\n  <thead>\n    <tr style=\"text-align: right;\">\n      <th></th>\n      <th>hist2</th>\n    </tr>\n  </thead>\n  <tbody>\n    <tr>\n      <th>met</th>\n      <td>58628.0</td>\n    </tr>\n    <tr>\n      <th>wave</th>\n      <td>0.0</td>\n    </tr>\n    <tr>\n      <th>type</th>\n      <td>fixed</td>\n    </tr>\n    <tr>\n      <th>name</th>\n      <td>8770808 - High Island, TX</td>\n    </tr>\n    <tr>\n      <th>pgm</th>\n      <td>IOOS Partners</td>\n    </tr>\n  </tbody>\n</table>"
      }
     },
     "c94f7dd57d2446b58bc2013664c050ab": {
      "model_module": "@jupyter-widgets/base",
      "model_module_version": "1.2.0",
      "model_name": "LayoutModel",
      "state": {}
     },
     "cada9ebeedb74715a721c425784c45e4": {
      "model_module": "@jupyter-widgets/base",
      "model_module_version": "1.2.0",
      "model_name": "LayoutModel",
      "state": {}
     },
     "cb806c1f74a24f2885dd99db20594f36": {
      "model_module": "jupyter-leaflet",
      "model_module_version": "^0.15.0",
      "model_name": "LeafletAwesomeIconModel",
      "state": {
       "_model_module_version": "^0.15.0",
       "_view_module_version": "^0.15.0",
       "icon_color": "white",
       "marker_color": "red",
       "name": "life-ring"
      }
     },
     "cb9cc36620244c499628cd6b555b1222": {
      "model_module": "jupyter-leaflet",
      "model_module_version": "^0.15.0",
      "model_name": "LeafletAwesomeIconModel",
      "state": {
       "_model_module_version": "^0.15.0",
       "_view_module_version": "^0.15.0",
       "icon_color": "white",
       "marker_color": "green",
       "name": "life-ring"
      }
     },
     "cc684fdca1724b3e84fce1f676d48f20": {
      "model_module": "@jupyter-widgets/controls",
      "model_module_version": "1.5.0",
      "model_name": "HTMLModel",
      "state": {
       "layout": "IPY_MODEL_dc7c18a03eb14739be9073b769a871b3",
       "style": "IPY_MODEL_09988a27bcfb49fe8f7c1fbd5aa2e8c3",
       "value": "<table border=\"1\" class=\"dataframe table table-striped table-hover table-condensed table-responsive\">\n  <thead>\n    <tr style=\"text-align: right;\">\n      <th></th>\n      <th>shxa2</th>\n    </tr>\n  </thead>\n  <tbody>\n    <tr>\n      <th>met</th>\n      <td>34262.0</td>\n    </tr>\n    <tr>\n      <th>wave</th>\n      <td>0.0</td>\n    </tr>\n    <tr>\n      <th>type</th>\n      <td>fixed</td>\n    </tr>\n    <tr>\n      <th>name</th>\n      <td>Sitka Harbor, AK</td>\n    </tr>\n    <tr>\n      <th>pgm</th>\n      <td>IOOS Partners</td>\n    </tr>\n  </tbody>\n</table>"
      }
     },
     "cd20cace2993490f9f788f668b3535dc": {
      "model_module": "@jupyter-widgets/controls",
      "model_module_version": "1.5.0",
      "model_name": "DescriptionStyleModel",
      "state": {
       "description_width": ""
      }
     },
     "cd6bcb8281584e1d92c4bbe22da69537": {
      "model_module": "jupyter-leaflet",
      "model_module_version": "^0.15.0",
      "model_name": "LeafletMarkerModel",
      "state": {
       "_model_module_version": "^0.15.0",
       "_view_module_version": "^0.15.0",
       "draggable": false,
       "icon": "IPY_MODEL_f597751eb19141e3a54702e91dc618ae",
       "location": [
        18.48,
        -66.702
       ],
       "options": [
        "alt",
        "draggable",
        "keyboard",
        "rise_offset",
        "rise_on_hover",
        "rotation_angle",
        "rotation_origin",
        "title",
        "z_index_offset"
       ],
       "popup": "IPY_MODEL_710fbcbc32f64c61be00ec5d1a605677"
      }
     },
     "cdf42275aca44d518b5066d662de75dc": {
      "model_module": "@jupyter-widgets/base",
      "model_module_version": "1.2.0",
      "model_name": "LayoutModel",
      "state": {}
     },
     "ce1bad65015547729513552592d54852": {
      "model_module": "jupyter-leaflet",
      "model_module_version": "^0.15.0",
      "model_name": "LeafletMarkerModel",
      "state": {
       "_model_module_version": "^0.15.0",
       "_view_module_version": "^0.15.0",
       "draggable": false,
       "icon": "IPY_MODEL_b71490a66c6b438498e3cbeec1162b51",
       "location": [
        58.408,
        -135.726
       ],
       "options": [
        "alt",
        "draggable",
        "keyboard",
        "rise_offset",
        "rise_on_hover",
        "rotation_angle",
        "rotation_origin",
        "title",
        "z_index_offset"
       ],
       "popup": "IPY_MODEL_5ad8ad6e6e7e40dab228dc919796bf3c"
      }
     },
     "ce47d5eb56734a059610ccea3cde2026": {
      "model_module": "@jupyter-widgets/controls",
      "model_module_version": "1.5.0",
      "model_name": "HTMLModel",
      "state": {
       "layout": "IPY_MODEL_c05c3d1a1f5545789e3da3ce6519d3ff",
       "style": "IPY_MODEL_8789a932497d4e4db96e5703397b8e79",
       "value": "<table border=\"1\" class=\"dataframe table table-striped table-hover table-condensed table-responsive\">\n  <thead>\n    <tr style=\"text-align: right;\">\n      <th></th>\n      <th>ldlc3</th>\n    </tr>\n  </thead>\n  <tbody>\n    <tr>\n      <th>met</th>\n      <td>6344.0</td>\n    </tr>\n    <tr>\n      <th>wave</th>\n      <td>0.0</td>\n    </tr>\n    <tr>\n      <th>type</th>\n      <td>fixed</td>\n    </tr>\n    <tr>\n      <th>name</th>\n      <td>New London Ledge Light, New London Harbor, CT</td>\n    </tr>\n    <tr>\n      <th>pgm</th>\n      <td>IOOS Partners</td>\n    </tr>\n  </tbody>\n</table>"
      }
     },
     "cf33a899dd6048d4a628a37a7c2386a4": {
      "model_module": "@jupyter-widgets/base",
      "model_module_version": "1.2.0",
      "model_name": "LayoutModel",
      "state": {}
     },
     "cf3dcb00475e492ea7b4035bd8b33430": {
      "model_module": "@jupyter-widgets/base",
      "model_module_version": "1.2.0",
      "model_name": "LayoutModel",
      "state": {}
     },
     "cf9647dfcffd4728a50a153850ec3860": {
      "model_module": "jupyter-leaflet",
      "model_module_version": "^0.15.0",
      "model_name": "LeafletAwesomeIconModel",
      "state": {
       "_model_module_version": "^0.15.0",
       "_view_module_version": "^0.15.0",
       "icon_color": "white",
       "marker_color": "orange",
       "name": "life-ring"
      }
     },
     "cfde650d0153453d854b16701be720af": {
      "model_module": "jupyter-leaflet",
      "model_module_version": "^0.15.0",
      "model_name": "LeafletMarkerModel",
      "state": {
       "_model_module_version": "^0.15.0",
       "_view_module_version": "^0.15.0",
       "draggable": false,
       "icon": "IPY_MODEL_a761d3ec89a54faaa73dea6194c58793",
       "location": [
        20.75,
        -157.003
       ],
       "options": [
        "alt",
        "draggable",
        "keyboard",
        "rise_offset",
        "rise_on_hover",
        "rotation_angle",
        "rotation_origin",
        "title",
        "z_index_offset"
       ],
       "popup": "IPY_MODEL_975235b6951a439c83ac87d4438e9006"
      }
     },
     "cfe9b86c53e14c64a54239ba7128952d": {
      "model_module": "jupyter-leaflet",
      "model_module_version": "^0.15.0",
      "model_name": "LeafletAwesomeIconModel",
      "state": {
       "_model_module_version": "^0.15.0",
       "_view_module_version": "^0.15.0",
       "icon_color": "white",
       "marker_color": "orange",
       "name": "life-ring"
      }
     },
     "d03f17d85d1143e68f8a816a5218eb97": {
      "model_module": "jupyter-leaflet",
      "model_module_version": "^0.15.0",
      "model_name": "LeafletMarkerModel",
      "state": {
       "_model_module_version": "^0.15.0",
       "_view_module_version": "^0.15.0",
       "draggable": false,
       "icon": "IPY_MODEL_830a213d249143fdab46463e446d9038",
       "location": [
        26.404,
        -81.881
       ],
       "options": [
        "alt",
        "draggable",
        "keyboard",
        "rise_offset",
        "rise_on_hover",
        "rotation_angle",
        "rotation_origin",
        "title",
        "z_index_offset"
       ],
       "popup": "IPY_MODEL_b78439d6af7444e2ae1a8951dfb05d07"
      }
     },
     "d0d356f196544b00a1e73a82b523e096": {
      "model_module": "jupyter-leaflet",
      "model_module_version": "^0.15.0",
      "model_name": "LeafletLegendControlModel",
      "state": {
       "_model_module_version": "^0.15.0",
       "_view_module_version": "^0.15.0",
       "legend": {
        "both": "#008000",
        "met": "#FFA500",
        "wave": "#FF0000"
       },
       "options": [
        "position"
       ],
       "title": "GTS"
      }
     },
     "d11faa0459ba4c2e8bb93a5a99a777e3": {
      "model_module": "jupyter-leaflet",
      "model_module_version": "^0.15.0",
      "model_name": "LeafletAwesomeIconModel",
      "state": {
       "_model_module_version": "^0.15.0",
       "_view_module_version": "^0.15.0",
       "icon_color": "white",
       "marker_color": "orange",
       "name": "life-ring"
      }
     },
     "d16a9fc03bb349388ea825ecc7c8c871": {
      "model_module": "@jupyter-widgets/controls",
      "model_module_version": "1.5.0",
      "model_name": "DescriptionStyleModel",
      "state": {
       "description_width": ""
      }
     },
     "d1a3ed3f227d4711bbaecc029dff1c9b": {
      "model_module": "jupyter-leaflet",
      "model_module_version": "^0.15.0",
      "model_name": "LeafletMarkerModel",
      "state": {
       "_model_module_version": "^0.15.0",
       "_view_module_version": "^0.15.0",
       "draggable": false,
       "icon": "IPY_MODEL_3c14cb2bbcef4d73acc6676eb7dc7138",
       "location": [
        55.099,
        -131.182
       ],
       "options": [
        "alt",
        "draggable",
        "keyboard",
        "rise_offset",
        "rise_on_hover",
        "rotation_angle",
        "rotation_origin",
        "title",
        "z_index_offset"
       ],
       "popup": "IPY_MODEL_316700411c134269a00a1cac0f00107a"
      }
     },
     "d1cfdf7b7bce4d5db08f81832d5956ce": {
      "model_module": "@jupyter-widgets/controls",
      "model_module_version": "1.5.0",
      "model_name": "DescriptionStyleModel",
      "state": {
       "description_width": ""
      }
     },
     "d22e7ebb9f13415d8847f4d706fe2795": {
      "model_module": "@jupyter-widgets/controls",
      "model_module_version": "1.5.0",
      "model_name": "HTMLModel",
      "state": {
       "layout": "IPY_MODEL_d9b044104a14455d9617448482582300",
       "style": "IPY_MODEL_961a2b170d2245e4b11cbe910aa00367",
       "value": "<table border=\"1\" class=\"dataframe table table-striped table-hover table-condensed table-responsive\">\n  <thead>\n    <tr style=\"text-align: right;\">\n      <th></th>\n      <th>icya2</th>\n    </tr>\n  </thead>\n  <tbody>\n    <tr>\n      <th>met</th>\n      <td>19418.0</td>\n    </tr>\n    <tr>\n      <th>wave</th>\n      <td>0.0</td>\n    </tr>\n    <tr>\n      <th>type</th>\n      <td>fixed</td>\n    </tr>\n    <tr>\n      <th>name</th>\n      <td>Icy Bay, AK</td>\n    </tr>\n    <tr>\n      <th>pgm</th>\n      <td>IOOS Partners</td>\n    </tr>\n  </tbody>\n</table>"
      }
     },
     "d2d9384a20b046acb5daa9f45bff2700": {
      "model_module": "@jupyter-widgets/controls",
      "model_module_version": "1.5.0",
      "model_name": "HTMLModel",
      "state": {
       "layout": "IPY_MODEL_9e43ace3173848008db38a405c985a61",
       "style": "IPY_MODEL_730dbe5245dc4ac1a1a335c8de550d6f",
       "value": "<table border=\"1\" class=\"dataframe table table-striped table-hover table-condensed table-responsive\">\n  <thead>\n    <tr style=\"text-align: right;\">\n      <th></th>\n      <th>45165</th>\n    </tr>\n  </thead>\n  <tbody>\n    <tr>\n      <th>met</th>\n      <td>31844.0</td>\n    </tr>\n    <tr>\n      <th>wave</th>\n      <td>31844.0</td>\n    </tr>\n    <tr>\n      <th>type</th>\n      <td>buoy</td>\n    </tr>\n    <tr>\n      <th>name</th>\n      <td>Toledo Water Intake Buoy, Oregon, OH</td>\n    </tr>\n    <tr>\n      <th>pgm</th>\n      <td>IOOS Partners</td>\n    </tr>\n  </tbody>\n</table>"
      }
     },
     "d330bdeab44145d4838cb7bff87af679": {
      "model_module": "@jupyter-widgets/controls",
      "model_module_version": "1.5.0",
      "model_name": "HTMLModel",
      "state": {
       "layout": "IPY_MODEL_5ce40c1d26b1444a95a92f4446bfd3b1",
       "style": "IPY_MODEL_0c2c034c2e3849fb885d9725041284ed",
       "value": "<table border=\"1\" class=\"dataframe table table-striped table-hover table-condensed table-responsive\">\n  <thead>\n    <tr style=\"text-align: right;\">\n      <th></th>\n      <th>41159</th>\n    </tr>\n  </thead>\n  <tbody>\n    <tr>\n      <th>met</th>\n      <td>0.0</td>\n    </tr>\n    <tr>\n      <th>wave</th>\n      <td>10616.0</td>\n    </tr>\n    <tr>\n      <th>type</th>\n      <td>buoy</td>\n    </tr>\n    <tr>\n      <th>name</th>\n      <td>Onslow Bay Outer, NC (217)</td>\n    </tr>\n    <tr>\n      <th>pgm</th>\n      <td>IOOS Partners</td>\n    </tr>\n  </tbody>\n</table>"
      }
     },
     "d333793397b14e28b1d8870ffbe8ba65": {
      "model_module": "@jupyter-widgets/controls",
      "model_module_version": "1.5.0",
      "model_name": "HTMLModel",
      "state": {
       "layout": "IPY_MODEL_330b475aef80495cbb200a7270827b74",
       "style": "IPY_MODEL_3eb744cff4c3431e9356e642435bbd87",
       "value": "<table border=\"1\" class=\"dataframe table table-striped table-hover table-condensed table-responsive\">\n  <thead>\n    <tr style=\"text-align: right;\">\n      <th></th>\n      <th>46253</th>\n    </tr>\n  </thead>\n  <tbody>\n    <tr>\n      <th>met</th>\n      <td>0.0</td>\n    </tr>\n    <tr>\n      <th>wave</th>\n      <td>11738.0</td>\n    </tr>\n    <tr>\n      <th>type</th>\n      <td>buoy</td>\n    </tr>\n    <tr>\n      <th>name</th>\n      <td>San Pedro South, CA (213)</td>\n    </tr>\n    <tr>\n      <th>pgm</th>\n      <td>IOOS Partners</td>\n    </tr>\n  </tbody>\n</table>"
      }
     },
     "d391f6a2dc2342adbbd9184621a54154": {
      "model_module": "jupyter-leaflet",
      "model_module_version": "^0.15.0",
      "model_name": "LeafletAwesomeIconModel",
      "state": {
       "_model_module_version": "^0.15.0",
       "_view_module_version": "^0.15.0",
       "icon_color": "white",
       "marker_color": "orange",
       "name": "life-ring"
      }
     },
     "d39c5e1db3fe43d8ab506c2eb7d10254": {
      "model_module": "@jupyter-widgets/controls",
      "model_module_version": "1.5.0",
      "model_name": "DescriptionStyleModel",
      "state": {
       "description_width": ""
      }
     },
     "d3c8aa55defa4acebd9b67ceeb10072e": {
      "model_module": "jupyter-leaflet",
      "model_module_version": "^0.15.0",
      "model_name": "LeafletMarkerModel",
      "state": {
       "_model_module_version": "^0.15.0",
       "_view_module_version": "^0.15.0",
       "draggable": false,
       "icon": "IPY_MODEL_88797af9a19844fa9b0edf0586063e39",
       "location": [
        45.405,
        -85.085
       ],
       "options": [
        "alt",
        "draggable",
        "keyboard",
        "rise_offset",
        "rise_on_hover",
        "rotation_angle",
        "rotation_origin",
        "title",
        "z_index_offset"
       ],
       "popup": "IPY_MODEL_e24ba04092c44902be79d33b409c1e16"
      }
     },
     "d517040d382341339034f1bc62db76c0": {
      "model_module": "@jupyter-widgets/controls",
      "model_module_version": "1.5.0",
      "model_name": "DescriptionStyleModel",
      "state": {
       "description_width": ""
      }
     },
     "d51c09e6fe7d40d69ae1bde96fe4e2fa": {
      "model_module": "@jupyter-widgets/base",
      "model_module_version": "1.2.0",
      "model_name": "LayoutModel",
      "state": {}
     },
     "d6be67a9d5a94326b1e8c3d3b9a42f5f": {
      "model_module": "@jupyter-widgets/controls",
      "model_module_version": "1.5.0",
      "model_name": "DescriptionStyleModel",
      "state": {
       "description_width": ""
      }
     },
     "d6cdc963e9be4ae38972c8dc8492ad84": {
      "model_module": "jupyter-leaflet",
      "model_module_version": "^0.15.0",
      "model_name": "LeafletMarkerModel",
      "state": {
       "_model_module_version": "^0.15.0",
       "_view_module_version": "^0.15.0",
       "draggable": false,
       "icon": "IPY_MODEL_e1b7486e5f0047be8d97742342127b5f",
       "location": [
        42.368,
        -87.795
       ],
       "options": [
        "alt",
        "draggable",
        "keyboard",
        "rise_offset",
        "rise_on_hover",
        "rotation_angle",
        "rotation_origin",
        "title",
        "z_index_offset"
       ],
       "popup": "IPY_MODEL_798b7c30cf9d4c879f482ee2a74bb7e8"
      }
     },
     "d6ead2cdc0e5423e9613c730a99cfdc6": {
      "model_module": "@jupyter-widgets/controls",
      "model_module_version": "1.5.0",
      "model_name": "DescriptionStyleModel",
      "state": {
       "description_width": ""
      }
     },
     "d76d3d0b9f934877b13d08e4c64ec9af": {
      "model_module": "jupyter-leaflet",
      "model_module_version": "^0.15.0",
      "model_name": "LeafletAwesomeIconModel",
      "state": {
       "_model_module_version": "^0.15.0",
       "_view_module_version": "^0.15.0",
       "icon_color": "white",
       "marker_color": "orange",
       "name": "life-ring"
      }
     },
     "d7e70ec2c2de451e81ebc3636d9536c0": {
      "model_module": "@jupyter-widgets/base",
      "model_module_version": "1.2.0",
      "model_name": "LayoutModel",
      "state": {}
     },
     "d833b926e7034bee809da13c7180b7cb": {
      "model_module": "jupyter-leaflet",
      "model_module_version": "^0.15.0",
      "model_name": "LeafletMarkerModel",
      "state": {
       "_model_module_version": "^0.15.0",
       "_view_module_version": "^0.15.0",
       "draggable": false,
       "icon": "IPY_MODEL_edcbad9b8e7241e4ba468f8ebc573464",
       "location": [
        46.721,
        -87.412
       ],
       "options": [
        "alt",
        "draggable",
        "keyboard",
        "rise_offset",
        "rise_on_hover",
        "rotation_angle",
        "rotation_origin",
        "title",
        "z_index_offset"
       ],
       "popup": "IPY_MODEL_1d2dcba93f17452384212ae8289f41e1"
      }
     },
     "d889fe28695e4d1f8e67ff214406a54d": {
      "model_module": "jupyter-leaflet",
      "model_module_version": "^0.15.0",
      "model_name": "LeafletMarkerModel",
      "state": {
       "_model_module_version": "^0.15.0",
       "_view_module_version": "^0.15.0",
       "draggable": false,
       "icon": "IPY_MODEL_a0583dac615f4ec1b5f884094e24a37a",
       "location": [
        41.138,
        -72.655
       ],
       "options": [
        "alt",
        "draggable",
        "keyboard",
        "rise_offset",
        "rise_on_hover",
        "rotation_angle",
        "rotation_origin",
        "title",
        "z_index_offset"
       ],
       "popup": "IPY_MODEL_3ac29caa7aec43108cb59a77f0364873"
      }
     },
     "d96ab99c572e41e292ba4b10c7769e89": {
      "model_module": "@jupyter-widgets/controls",
      "model_module_version": "1.5.0",
      "model_name": "DescriptionStyleModel",
      "state": {
       "description_width": ""
      }
     },
     "d97c912438a84b10b85b37fd00ccadd1": {
      "model_module": "jupyter-leaflet",
      "model_module_version": "^0.15.0",
      "model_name": "LeafletAwesomeIconModel",
      "state": {
       "_model_module_version": "^0.15.0",
       "_view_module_version": "^0.15.0",
       "icon_color": "white",
       "marker_color": "orange",
       "name": "life-ring"
      }
     },
     "d97db3b64ad34f7b8dc0ce8caff15b8c": {
      "model_module": "jupyter-leaflet",
      "model_module_version": "^0.15.0",
      "model_name": "LeafletAwesomeIconModel",
      "state": {
       "_model_module_version": "^0.15.0",
       "_view_module_version": "^0.15.0",
       "icon_color": "white",
       "marker_color": "orange",
       "name": "life-ring"
      }
     },
     "d9a5656ea1b34ea3b8126fd0b78e76f9": {
      "model_module": "@jupyter-widgets/controls",
      "model_module_version": "1.5.0",
      "model_name": "DescriptionStyleModel",
      "state": {
       "description_width": ""
      }
     },
     "d9b044104a14455d9617448482582300": {
      "model_module": "@jupyter-widgets/base",
      "model_module_version": "1.2.0",
      "model_name": "LayoutModel",
      "state": {}
     },
     "da4045e1d84a40fe817c4cf2176fc004": {
      "model_module": "@jupyter-widgets/controls",
      "model_module_version": "1.5.0",
      "model_name": "DescriptionStyleModel",
      "state": {
       "description_width": ""
      }
     },
     "da4b82981815465fbae83aed04bac331": {
      "model_module": "@jupyter-widgets/base",
      "model_module_version": "1.2.0",
      "model_name": "LayoutModel",
      "state": {}
     },
     "da89c7a8b0d04421851baf33f54f3b8b": {
      "model_module": "jupyter-leaflet",
      "model_module_version": "^0.15.0",
      "model_name": "LeafletAwesomeIconModel",
      "state": {
       "_model_module_version": "^0.15.0",
       "_view_module_version": "^0.15.0",
       "icon_color": "white",
       "marker_color": "orange",
       "name": "life-ring"
      }
     },
     "da9890ccb5cd4f1cb3e7c98e2773d8db": {
      "model_module": "jupyter-leaflet",
      "model_module_version": "^0.15.0",
      "model_name": "LeafletMarkerModel",
      "state": {
       "_model_module_version": "^0.15.0",
       "_view_module_version": "^0.15.0",
       "draggable": false,
       "icon": "IPY_MODEL_9778672a7b5d43eea356391b0c3f3bb9",
       "location": [
        28.227,
        -96.796
       ],
       "options": [
        "alt",
        "draggable",
        "keyboard",
        "rise_offset",
        "rise_on_hover",
        "rotation_angle",
        "rotation_origin",
        "title",
        "z_index_offset"
       ],
       "popup": "IPY_MODEL_e643405cba1c4a3d9e54f84dbdf3b22d"
      }
     },
     "dab200e7b0ae497e8f317cb0744796d8": {
      "model_module": "@jupyter-widgets/controls",
      "model_module_version": "1.5.0",
      "model_name": "DescriptionStyleModel",
      "state": {
       "description_width": ""
      }
     },
     "dafb8b4fe4f941bcb2346a31ec911eb3": {
      "model_module": "jupyter-leaflet",
      "model_module_version": "^0.15.0",
      "model_name": "LeafletAwesomeIconModel",
      "state": {
       "_model_module_version": "^0.15.0",
       "_view_module_version": "^0.15.0",
       "icon_color": "white",
       "marker_color": "red",
       "name": "life-ring"
      }
     },
     "db751c8089324cd5af2ec5d15f821e44": {
      "model_module": "@jupyter-widgets/controls",
      "model_module_version": "1.5.0",
      "model_name": "DescriptionStyleModel",
      "state": {
       "description_width": ""
      }
     },
     "dbae4867c8a540edb2d156993e5efec9": {
      "model_module": "@jupyter-widgets/controls",
      "model_module_version": "1.5.0",
      "model_name": "HTMLModel",
      "state": {
       "layout": "IPY_MODEL_c4b13bbf08a64f369857baec6053c50f",
       "style": "IPY_MODEL_3a66650aad314494be2bf930a9d04fbb",
       "value": "<table border=\"1\" class=\"dataframe table table-striped table-hover table-condensed table-responsive\">\n  <thead>\n    <tr style=\"text-align: right;\">\n      <th></th>\n      <th>mbla1</th>\n    </tr>\n  </thead>\n  <tbody>\n    <tr>\n      <th>met</th>\n      <td>8342.0</td>\n    </tr>\n    <tr>\n      <th>wave</th>\n      <td>0.0</td>\n    </tr>\n    <tr>\n      <th>type</th>\n      <td>fixed</td>\n    </tr>\n    <tr>\n      <th>name</th>\n      <td>Middle Bay Lighthouse, AL</td>\n    </tr>\n    <tr>\n      <th>pgm</th>\n      <td>IOOS Partners</td>\n    </tr>\n  </tbody>\n</table>"
      }
     },
     "dc1bfddca46543949e516ff6645667a0": {
      "model_module": "@jupyter-widgets/controls",
      "model_module_version": "1.5.0",
      "model_name": "DescriptionStyleModel",
      "state": {
       "description_width": ""
      }
     },
     "dc64fffb92024a79a9d7b798309315ef": {
      "model_module": "@jupyter-widgets/controls",
      "model_module_version": "1.5.0",
      "model_name": "HTMLModel",
      "state": {
       "layout": "IPY_MODEL_c42d2f212c32400e97b8c20ccfbea21c",
       "style": "IPY_MODEL_0e28b8071a6f4eecb05d440004eb45a1",
       "value": "<table border=\"1\" class=\"dataframe table table-striped table-hover table-condensed table-responsive\">\n  <thead>\n    <tr style=\"text-align: right;\">\n      <th></th>\n      <th>51205</th>\n    </tr>\n  </thead>\n  <tbody>\n    <tr>\n      <th>met</th>\n      <td>0.0</td>\n    </tr>\n    <tr>\n      <th>wave</th>\n      <td>7240.0</td>\n    </tr>\n    <tr>\n      <th>type</th>\n      <td>buoy</td>\n    </tr>\n    <tr>\n      <th>name</th>\n      <td>Pauwela, Maui, HI (187)</td>\n    </tr>\n    <tr>\n      <th>pgm</th>\n      <td>IOOS Partners</td>\n    </tr>\n  </tbody>\n</table>"
      }
     },
     "dc7c18a03eb14739be9073b769a871b3": {
      "model_module": "@jupyter-widgets/base",
      "model_module_version": "1.2.0",
      "model_name": "LayoutModel",
      "state": {}
     },
     "ddddc0db8e3b46c495ab3ebc7fe67151": {
      "model_module": "@jupyter-widgets/base",
      "model_module_version": "1.2.0",
      "model_name": "LayoutModel",
      "state": {}
     },
     "deb060b622cb4f068a1ff9740b219d47": {
      "model_module": "jupyter-leaflet",
      "model_module_version": "^0.15.0",
      "model_name": "LeafletAwesomeIconModel",
      "state": {
       "_model_module_version": "^0.15.0",
       "_view_module_version": "^0.15.0",
       "icon_color": "white",
       "marker_color": "orange",
       "name": "life-ring"
      }
     },
     "dee8815a445943928e8a19af172bce3e": {
      "model_module": "jupyter-leaflet",
      "model_module_version": "^0.15.0",
      "model_name": "LeafletMarkerModel",
      "state": {
       "_model_module_version": "^0.15.0",
       "_view_module_version": "^0.15.0",
       "draggable": false,
       "icon": "IPY_MODEL_b51cfded8ff24b1aa6a410454164d498",
       "location": [
        13.354,
        144.788
       ],
       "options": [
        "alt",
        "draggable",
        "keyboard",
        "rise_offset",
        "rise_on_hover",
        "rotation_angle",
        "rotation_origin",
        "title",
        "z_index_offset"
       ],
       "popup": "IPY_MODEL_57784a413b4e424ea3a6f5bc67d7a918"
      }
     },
     "df037d5a82094cf0bd402e03594b6155": {
      "model_module": "jupyter-leaflet",
      "model_module_version": "^0.15.0",
      "model_name": "LeafletMarkerModel",
      "state": {
       "_model_module_version": "^0.15.0",
       "_view_module_version": "^0.15.0",
       "draggable": false,
       "icon": "IPY_MODEL_d97db3b64ad34f7b8dc0ce8caff15b8c",
       "location": [
        40.956,
        -73.58
       ],
       "options": [
        "alt",
        "draggable",
        "keyboard",
        "rise_offset",
        "rise_on_hover",
        "rotation_angle",
        "rotation_origin",
        "title",
        "z_index_offset"
       ],
       "popup": "IPY_MODEL_163718de7d32467da92951f0ae1af568"
      }
     },
     "df4db7e03d924ddba512c555f90f3b5f": {
      "model_module": "@jupyter-widgets/controls",
      "model_module_version": "1.5.0",
      "model_name": "DescriptionStyleModel",
      "state": {
       "description_width": ""
      }
     },
     "df4f3928c48c49ab831a02f01b3ed4bf": {
      "model_module": "jupyter-leaflet",
      "model_module_version": "^0.15.0",
      "model_name": "LeafletMarkerModel",
      "state": {
       "_model_module_version": "^0.15.0",
       "_view_module_version": "^0.15.0",
       "draggable": false,
       "icon": "IPY_MODEL_0ae721d38b6d4db5920137662a574c37",
       "location": [
        40.883,
        -73.728
       ],
       "options": [
        "alt",
        "draggable",
        "keyboard",
        "rise_offset",
        "rise_on_hover",
        "rotation_angle",
        "rotation_origin",
        "title",
        "z_index_offset"
       ],
       "popup": "IPY_MODEL_258922540d66497590abfcb7ce571158"
      }
     },
     "df90312924424677965375804726518c": {
      "model_module": "jupyter-leaflet",
      "model_module_version": "^0.15.0",
      "model_name": "LeafletAwesomeIconModel",
      "state": {
       "_model_module_version": "^0.15.0",
       "_view_module_version": "^0.15.0",
       "icon_color": "white",
       "marker_color": "orange",
       "name": "life-ring"
      }
     },
     "df9236c0dc1c4a7c80bdedd4af9553d3": {
      "model_module": "@jupyter-widgets/base",
      "model_module_version": "1.2.0",
      "model_name": "LayoutModel",
      "state": {}
     },
     "dfc4bcdee5b745109f10281c56745183": {
      "model_module": "@jupyter-widgets/base",
      "model_module_version": "1.2.0",
      "model_name": "LayoutModel",
      "state": {}
     },
     "e01409f263774dfa837afb99215e25fe": {
      "model_module": "@jupyter-widgets/controls",
      "model_module_version": "1.5.0",
      "model_name": "HTMLModel",
      "state": {
       "layout": "IPY_MODEL_494c6e6e884e47c39c6f393977c9640f",
       "style": "IPY_MODEL_69e2c293af3c48039c04898131925f56",
       "value": "<table border=\"1\" class=\"dataframe table table-striped table-hover table-condensed table-responsive\">\n  <thead>\n    <tr style=\"text-align: right;\">\n      <th></th>\n      <th>45014</th>\n    </tr>\n  </thead>\n  <tbody>\n    <tr>\n      <th>met</th>\n      <td>9748.0</td>\n    </tr>\n    <tr>\n      <th>wave</th>\n      <td>9770.0</td>\n    </tr>\n    <tr>\n      <th>type</th>\n      <td>buoy</td>\n    </tr>\n    <tr>\n      <th>name</th>\n      <td>GB17 - South Green Bay, WI</td>\n    </tr>\n    <tr>\n      <th>pgm</th>\n      <td>IOOS Partners</td>\n    </tr>\n  </tbody>\n</table>"
      }
     },
     "e08fa70a1e3d428aba184fb9f304977e": {
      "model_module": "jupyter-leaflet",
      "model_module_version": "^0.15.0",
      "model_name": "LeafletMarkerModel",
      "state": {
       "_model_module_version": "^0.15.0",
       "_view_module_version": "^0.15.0",
       "draggable": false,
       "icon": "IPY_MODEL_a061c23c26714a878d3f47ce3d5ce887",
       "location": [
        26.072,
        -97.167
       ],
       "options": [
        "alt",
        "draggable",
        "keyboard",
        "rise_offset",
        "rise_on_hover",
        "rotation_angle",
        "rotation_origin",
        "title",
        "z_index_offset"
       ],
       "popup": "IPY_MODEL_bd664282aed34214ad52edc853897f2f"
      }
     },
     "e097371eb42d426eac719397818fc283": {
      "model_module": "@jupyter-widgets/base",
      "model_module_version": "1.2.0",
      "model_name": "LayoutModel",
      "state": {}
     },
     "e0ab3ba870ce4d5eb79f371cb25a2f0c": {
      "model_module": "@jupyter-widgets/base",
      "model_module_version": "1.2.0",
      "model_name": "LayoutModel",
      "state": {}
     },
     "e0c3598838434cf5ad28f275812f457e": {
      "model_module": "@jupyter-widgets/base",
      "model_module_version": "1.2.0",
      "model_name": "LayoutModel",
      "state": {}
     },
     "e1b7486e5f0047be8d97742342127b5f": {
      "model_module": "jupyter-leaflet",
      "model_module_version": "^0.15.0",
      "model_name": "LeafletAwesomeIconModel",
      "state": {
       "_model_module_version": "^0.15.0",
       "_view_module_version": "^0.15.0",
       "icon_color": "white",
       "marker_color": "green",
       "name": "life-ring"
      }
     },
     "e24ba04092c44902be79d33b409c1e16": {
      "model_module": "@jupyter-widgets/controls",
      "model_module_version": "1.5.0",
      "model_name": "HTMLModel",
      "state": {
       "layout": "IPY_MODEL_fd8fd455cb684ab4b6b3c0f7315ba07e",
       "style": "IPY_MODEL_481ccb2dbe16400fbadc053008c87ca1",
       "value": "<table border=\"1\" class=\"dataframe table table-striped table-hover table-condensed table-responsive\">\n  <thead>\n    <tr style=\"text-align: right;\">\n      <th></th>\n      <th>45022</th>\n    </tr>\n  </thead>\n  <tbody>\n    <tr>\n      <th>met</th>\n      <td>29528.0</td>\n    </tr>\n    <tr>\n      <th>wave</th>\n      <td>29528.0</td>\n    </tr>\n    <tr>\n      <th>type</th>\n      <td>buoy</td>\n    </tr>\n    <tr>\n      <th>name</th>\n      <td>Little Traverse Bay Buoy, MI</td>\n    </tr>\n    <tr>\n      <th>pgm</th>\n      <td>IOOS Partners</td>\n    </tr>\n  </tbody>\n</table>"
      }
     },
     "e26aa1fb92854228ba697244dd864c14": {
      "model_module": "jupyter-leaflet",
      "model_module_version": "^0.15.0",
      "model_name": "LeafletMarkerModel",
      "state": {
       "_model_module_version": "^0.15.0",
       "_view_module_version": "^0.15.0",
       "draggable": false,
       "icon": "IPY_MODEL_70ddaac2915b42bca59d5f7cf90d3eed",
       "location": [
        56.001,
        -134.136
       ],
       "options": [
        "alt",
        "draggable",
        "keyboard",
        "rise_offset",
        "rise_on_hover",
        "rotation_angle",
        "rotation_origin",
        "title",
        "z_index_offset"
       ],
       "popup": "IPY_MODEL_05a9b7f17c044004adaa26f6aa264084"
      }
     },
     "e3162a1817ab40319dd7d2112394e04a": {
      "model_module": "@jupyter-widgets/base",
      "model_module_version": "1.2.0",
      "model_name": "LayoutModel",
      "state": {}
     },
     "e643405cba1c4a3d9e54f84dbdf3b22d": {
      "model_module": "@jupyter-widgets/controls",
      "model_module_version": "1.5.0",
      "model_name": "HTMLModel",
      "state": {
       "layout": "IPY_MODEL_0048b5c40dc54049b0147f0a37ea248f",
       "style": "IPY_MODEL_fb168ccdbf96425ba981d3897c3f3302",
       "value": "<table border=\"1\" class=\"dataframe table table-striped table-hover table-condensed table-responsive\">\n  <thead>\n    <tr style=\"text-align: right;\">\n      <th></th>\n      <th>awrt2</th>\n    </tr>\n  </thead>\n  <tbody>\n    <tr>\n      <th>met</th>\n      <td>58310.0</td>\n    </tr>\n    <tr>\n      <th>wave</th>\n      <td>0.0</td>\n    </tr>\n    <tr>\n      <th>type</th>\n      <td>fixed</td>\n    </tr>\n    <tr>\n      <th>name</th>\n      <td>8774230 - Aransas Wildlife Refuge, TX</td>\n    </tr>\n    <tr>\n      <th>pgm</th>\n      <td>IOOS Partners</td>\n    </tr>\n  </tbody>\n</table>"
      }
     },
     "e665b2b3be5a4dd0b03b1bc3fc684d23": {
      "model_module": "@jupyter-widgets/controls",
      "model_module_version": "1.5.0",
      "model_name": "DescriptionStyleModel",
      "state": {
       "description_width": ""
      }
     },
     "e66f6a009c854797b8c530a30ac2ccf1": {
      "model_module": "@jupyter-widgets/base",
      "model_module_version": "1.2.0",
      "model_name": "LayoutModel",
      "state": {}
     },
     "e67afebf327746048f328733ac72dad5": {
      "model_module": "jupyter-leaflet",
      "model_module_version": "^0.15.0",
      "model_name": "LeafletAwesomeIconModel",
      "state": {
       "_model_module_version": "^0.15.0",
       "_view_module_version": "^0.15.0",
       "icon_color": "white",
       "marker_color": "orange",
       "name": "life-ring"
      }
     },
     "e683b3d802224701a03fee56f50cce68": {
      "model_module": "@jupyter-widgets/controls",
      "model_module_version": "1.5.0",
      "model_name": "HTMLModel",
      "state": {
       "layout": "IPY_MODEL_5fc3599f71784d3da63d2e35c62d9e2f",
       "style": "IPY_MODEL_39c017649dec479ba904146f0794c5a5",
       "value": "<table border=\"1\" class=\"dataframe table table-striped table-hover table-condensed table-responsive\">\n  <thead>\n    <tr style=\"text-align: right;\">\n      <th></th>\n      <th>tibc1</th>\n    </tr>\n  </thead>\n  <tbody>\n    <tr>\n      <th>met</th>\n      <td>38546.0</td>\n    </tr>\n    <tr>\n      <th>wave</th>\n      <td>0.0</td>\n    </tr>\n    <tr>\n      <th>type</th>\n      <td>fixed</td>\n    </tr>\n    <tr>\n      <th>name</th>\n      <td>Tiburon Pier, San Francisco Bay, CA</td>\n    </tr>\n    <tr>\n      <th>pgm</th>\n      <td>IOOS Partners</td>\n    </tr>\n  </tbody>\n</table>"
      }
     },
     "e695e915b1814abea7bf288094f29fd5": {
      "model_module": "jupyter-leaflet",
      "model_module_version": "^0.15.0",
      "model_name": "LeafletMarkerModel",
      "state": {
       "_model_module_version": "^0.15.0",
       "_view_module_version": "^0.15.0",
       "draggable": false,
       "icon": "IPY_MODEL_8f6db0b04a7f42be86e66932029a65aa",
       "location": [
        43.981,
        -86.556
       ],
       "options": [
        "alt",
        "draggable",
        "keyboard",
        "rise_offset",
        "rise_on_hover",
        "rotation_angle",
        "rotation_origin",
        "title",
        "z_index_offset"
       ],
       "popup": "IPY_MODEL_b3635b1a90164a78a986200e24bc7048"
      }
     },
     "e6aa52ab50be4ea7b5e9cce63d40a2e7": {
      "model_module": "jupyter-leaflet",
      "model_module_version": "^0.15.0",
      "model_name": "LeafletAwesomeIconModel",
      "state": {
       "_model_module_version": "^0.15.0",
       "_view_module_version": "^0.15.0",
       "icon_color": "white",
       "marker_color": "orange",
       "name": "life-ring"
      }
     },
     "e7179906557d46faadd3337e8ebaad24": {
      "model_module": "@jupyter-widgets/controls",
      "model_module_version": "1.5.0",
      "model_name": "HTMLModel",
      "state": {
       "layout": "IPY_MODEL_29630629afb34ce4a56b0959866ea753",
       "style": "IPY_MODEL_5381b50cb0224b4c9f63b6bc5d37aa51",
       "value": "<table border=\"1\" class=\"dataframe table table-striped table-hover table-condensed table-responsive\">\n  <thead>\n    <tr style=\"text-align: right;\">\n      <th></th>\n      <th>port2</th>\n    </tr>\n  </thead>\n  <tbody>\n    <tr>\n      <th>met</th>\n      <td>58624.0</td>\n    </tr>\n    <tr>\n      <th>wave</th>\n      <td>0.0</td>\n    </tr>\n    <tr>\n      <th>type</th>\n      <td>fixed</td>\n    </tr>\n    <tr>\n      <th>name</th>\n      <td>8770475 - Port Arthur, TX</td>\n    </tr>\n    <tr>\n      <th>pgm</th>\n      <td>IOOS Partners</td>\n    </tr>\n  </tbody>\n</table>"
      }
     },
     "e722996c816948ed957ff25f873bbff3": {
      "model_module": "@jupyter-widgets/base",
      "model_module_version": "1.2.0",
      "model_name": "LayoutModel",
      "state": {}
     },
     "e804680273ac432881bf84bef8c61017": {
      "model_module": "@jupyter-widgets/controls",
      "model_module_version": "1.5.0",
      "model_name": "DescriptionStyleModel",
      "state": {
       "description_width": ""
      }
     },
     "e8502699fad644f2bc53b8ff77841c06": {
      "model_module": "@jupyter-widgets/controls",
      "model_module_version": "1.5.0",
      "model_name": "DescriptionStyleModel",
      "state": {
       "description_width": ""
      }
     },
     "e8a5de4475844b3a8f135d38925e7626": {
      "model_module": "@jupyter-widgets/controls",
      "model_module_version": "1.5.0",
      "model_name": "HTMLModel",
      "state": {
       "layout": "IPY_MODEL_f8950e421bba4702b093b77af3075583",
       "style": "IPY_MODEL_e804680273ac432881bf84bef8c61017",
       "value": "<table border=\"1\" class=\"dataframe table table-striped table-hover table-condensed table-responsive\">\n  <thead>\n    <tr style=\"text-align: right;\">\n      <th></th>\n      <th>51209</th>\n    </tr>\n  </thead>\n  <tbody>\n    <tr>\n      <th>met</th>\n      <td>0.0</td>\n    </tr>\n    <tr>\n      <th>wave</th>\n      <td>11578.0</td>\n    </tr>\n    <tr>\n      <th>type</th>\n      <td>buoy</td>\n    </tr>\n    <tr>\n      <th>name</th>\n      <td>Aunuu, American Samoa (189)</td>\n    </tr>\n    <tr>\n      <th>pgm</th>\n      <td>IOOS Partners</td>\n    </tr>\n  </tbody>\n</table>"
      }
     },
     "e91c38e0f48f4b6fb9c9ce2049eb8ed6": {
      "model_module": "@jupyter-widgets/base",
      "model_module_version": "1.2.0",
      "model_name": "LayoutModel",
      "state": {}
     },
     "e954e98172884daabe311d208b6e58f7": {
      "model_module": "@jupyter-widgets/base",
      "model_module_version": "1.2.0",
      "model_name": "LayoutModel",
      "state": {}
     },
     "e98e1eefe4b14a6d85263980b4b24f54": {
      "model_module": "jupyter-leaflet",
      "model_module_version": "^0.15.0",
      "model_name": "LeafletMarkerModel",
      "state": {
       "_model_module_version": "^0.15.0",
       "_view_module_version": "^0.15.0",
       "draggable": false,
       "icon": "IPY_MODEL_dafb8b4fe4f941bcb2346a31ec911eb3",
       "location": [
        34.142,
        -77.715
       ],
       "options": [
        "alt",
        "draggable",
        "keyboard",
        "rise_offset",
        "rise_on_hover",
        "rotation_angle",
        "rotation_origin",
        "title",
        "z_index_offset"
       ],
       "popup": "IPY_MODEL_564204ce304944be82d1f71c0ebcca8b"
      }
     },
     "e9c70087ca154a1d97e1ec79e9acb886": {
      "model_module": "@jupyter-widgets/controls",
      "model_module_version": "1.5.0",
      "model_name": "HTMLModel",
      "state": {
       "layout": "IPY_MODEL_e3162a1817ab40319dd7d2112394e04a",
       "style": "IPY_MODEL_a05ca35494be491f88643b6438acff56",
       "value": "<table border=\"1\" class=\"dataframe table table-striped table-hover table-condensed table-responsive\">\n  <thead>\n    <tr style=\"text-align: right;\">\n      <th></th>\n      <th>45187</th>\n    </tr>\n  </thead>\n  <tbody>\n    <tr>\n      <th>met</th>\n      <td>17722.0</td>\n    </tr>\n    <tr>\n      <th>wave</th>\n      <td>32460.0</td>\n    </tr>\n    <tr>\n      <th>type</th>\n      <td>buoy</td>\n    </tr>\n    <tr>\n      <th>name</th>\n      <td>Winthrop Harbor Buoy, IL</td>\n    </tr>\n    <tr>\n      <th>pgm</th>\n      <td>IOOS Partners</td>\n    </tr>\n  </tbody>\n</table>"
      }
     },
     "eb068fed3b6346a2a4da1f31d182a83c": {
      "model_module": "@jupyter-widgets/controls",
      "model_module_version": "1.5.0",
      "model_name": "HTMLModel",
      "state": {
       "layout": "IPY_MODEL_c4b29d488bd44ab8ae45aa5e8db39cba",
       "style": "IPY_MODEL_0899a60d478547bcbfadcf9c0cf451ae",
       "value": "<table border=\"1\" class=\"dataframe table table-striped table-hover table-condensed table-responsive\">\n  <thead>\n    <tr style=\"text-align: right;\">\n      <th></th>\n      <th>45023</th>\n    </tr>\n  </thead>\n  <tbody>\n    <tr>\n      <th>met</th>\n      <td>61032.0</td>\n    </tr>\n    <tr>\n      <th>wave</th>\n      <td>61032.0</td>\n    </tr>\n    <tr>\n      <th>type</th>\n      <td>buoy</td>\n    </tr>\n    <tr>\n      <th>name</th>\n      <td>North Entry Buoy, North Keweenaw Peninsula, MI</td>\n    </tr>\n    <tr>\n      <th>pgm</th>\n      <td>IOOS Partners</td>\n    </tr>\n  </tbody>\n</table>"
      }
     },
     "eb153a511a3f496a869f30f2b1f8b3d8": {
      "model_module": "jupyter-leaflet",
      "model_module_version": "^0.15.0",
      "model_name": "LeafletAwesomeIconModel",
      "state": {
       "_model_module_version": "^0.15.0",
       "_view_module_version": "^0.15.0",
       "icon_color": "white",
       "marker_color": "green",
       "name": "life-ring"
      }
     },
     "eb3874d036a74285b9470f718b6628bf": {
      "model_module": "jupyter-leaflet",
      "model_module_version": "^0.15.0",
      "model_name": "LeafletMarkerModel",
      "state": {
       "_model_module_version": "^0.15.0",
       "_view_module_version": "^0.15.0",
       "draggable": false,
       "icon": "IPY_MODEL_1a9642ae4a6446009816934d4964cb7c",
       "location": [
        47.27,
        -88.607
       ],
       "options": [
        "alt",
        "draggable",
        "keyboard",
        "rise_offset",
        "rise_on_hover",
        "rotation_angle",
        "rotation_origin",
        "title",
        "z_index_offset"
       ],
       "popup": "IPY_MODEL_eb068fed3b6346a2a4da1f31d182a83c"
      }
     },
     "eb51417b98de447da92029cee34e5f00": {
      "model_module": "jupyter-leaflet",
      "model_module_version": "^0.15.0",
      "model_name": "LeafletAwesomeIconModel",
      "state": {
       "_model_module_version": "^0.15.0",
       "_view_module_version": "^0.15.0",
       "icon_color": "white",
       "marker_color": "red",
       "name": "life-ring"
      }
     },
     "eb657f7e18af49b496a4ae23d5471c31": {
      "model_module": "@jupyter-widgets/controls",
      "model_module_version": "1.5.0",
      "model_name": "DescriptionStyleModel",
      "state": {
       "description_width": ""
      }
     },
     "eba30de8c81849f68900efb0cea0ffbb": {
      "model_module": "jupyter-leaflet",
      "model_module_version": "^0.15.0",
      "model_name": "LeafletMarkerModel",
      "state": {
       "_model_module_version": "^0.15.0",
       "_view_module_version": "^0.15.0",
       "draggable": false,
       "icon": "IPY_MODEL_4568cc31554f47f88a03373b4e98ad73",
       "location": [
        42.135,
        -87.655
       ],
       "options": [
        "alt",
        "draggable",
        "keyboard",
        "rise_offset",
        "rise_on_hover",
        "rotation_angle",
        "rotation_origin",
        "title",
        "z_index_offset"
       ],
       "popup": "IPY_MODEL_9d487a938ab147ee9ed0059d3fdb0e12"
      }
     },
     "ec5970105b1d4345ba471ea06bdd6c18": {
      "model_module": "jupyter-leaflet",
      "model_module_version": "^0.15.0",
      "model_name": "LeafletAwesomeIconModel",
      "state": {
       "_model_module_version": "^0.15.0",
       "_view_module_version": "^0.15.0",
       "icon_color": "white",
       "marker_color": "orange",
       "name": "life-ring"
      }
     },
     "ecd24e049e844e8e855997341f380f6b": {
      "model_module": "@jupyter-widgets/controls",
      "model_module_version": "1.5.0",
      "model_name": "HTMLModel",
      "state": {
       "layout": "IPY_MODEL_2e79e65d32ba4f14a3766f2570e2262a",
       "style": "IPY_MODEL_f542fa74edf847888532f3e542a121aa",
       "value": "<table border=\"1\" class=\"dataframe table table-striped table-hover table-condensed table-responsive\">\n  <thead>\n    <tr style=\"text-align: right;\">\n      <th></th>\n      <th>taqt2</th>\n    </tr>\n  </thead>\n  <tbody>\n    <tr>\n      <th>met</th>\n      <td>57976.0</td>\n    </tr>\n    <tr>\n      <th>wave</th>\n      <td>0.0</td>\n    </tr>\n    <tr>\n      <th>type</th>\n      <td>fixed</td>\n    </tr>\n    <tr>\n      <th>name</th>\n      <td>8775296 - USS Lexington, TX</td>\n    </tr>\n    <tr>\n      <th>pgm</th>\n      <td>IOOS Partners</td>\n    </tr>\n  </tbody>\n</table>"
      }
     },
     "ed000a54e14e448babb0846091655da5": {
      "model_module": "@jupyter-widgets/controls",
      "model_module_version": "1.5.0",
      "model_name": "HTMLModel",
      "state": {
       "layout": "IPY_MODEL_64a5c3f4fd404917bb63ceb1af47e104",
       "style": "IPY_MODEL_8cc518b2ae9e42cf91f547cd74974a18",
       "value": "<table border=\"1\" class=\"dataframe table table-striped table-hover table-condensed table-responsive\">\n  <thead>\n    <tr style=\"text-align: right;\">\n      <th></th>\n      <th>twco1</th>\n    </tr>\n  </thead>\n  <tbody>\n    <tr>\n      <th>met</th>\n      <td>32848.0</td>\n    </tr>\n    <tr>\n      <th>wave</th>\n      <td>0.0</td>\n    </tr>\n    <tr>\n      <th>type</th>\n      <td>fixed</td>\n    </tr>\n    <tr>\n      <th>name</th>\n      <td>Toledo Crib, OH</td>\n    </tr>\n    <tr>\n      <th>pgm</th>\n      <td>IOOS Partners</td>\n    </tr>\n  </tbody>\n</table>"
      }
     },
     "ed418a3a26f8426096aecfcdc5daf77c": {
      "model_module": "@jupyter-widgets/controls",
      "model_module_version": "1.5.0",
      "model_name": "DescriptionStyleModel",
      "state": {
       "description_width": ""
      }
     },
     "edbaa799fc434aa59a3bc62eef3dda6f": {
      "model_module": "@jupyter-widgets/base",
      "model_module_version": "1.2.0",
      "model_name": "LayoutModel",
      "state": {}
     },
     "edc74826f64f4e89918b46f70762abdd": {
      "model_module": "@jupyter-widgets/base",
      "model_module_version": "1.2.0",
      "model_name": "LayoutModel",
      "state": {}
     },
     "edcbad9b8e7241e4ba468f8ebc573464": {
      "model_module": "jupyter-leaflet",
      "model_module_version": "^0.15.0",
      "model_name": "LeafletAwesomeIconModel",
      "state": {
       "_model_module_version": "^0.15.0",
       "_view_module_version": "^0.15.0",
       "icon_color": "white",
       "marker_color": "orange",
       "name": "life-ring"
      }
     },
     "edda050f5ff14643a715b14e0b673e82": {
      "model_module": "jupyter-leaflet",
      "model_module_version": "^0.15.0",
      "model_name": "LeafletMarkerModel",
      "state": {
       "_model_module_version": "^0.15.0",
       "_view_module_version": "^0.15.0",
       "draggable": false,
       "icon": "IPY_MODEL_339650bf0ff243a1915c53a1905d80a7",
       "location": [
        21.477,
        -157.752
       ],
       "options": [
        "alt",
        "draggable",
        "keyboard",
        "rise_offset",
        "rise_on_hover",
        "rotation_angle",
        "rotation_origin",
        "title",
        "z_index_offset"
       ],
       "popup": "IPY_MODEL_203542ef25a64ace88bdaee7bf9787c0"
      }
     },
     "ee577632cbeb4f578438d0f8ac49e615": {
      "model_module": "jupyter-leaflet",
      "model_module_version": "^0.15.0",
      "model_name": "LeafletAwesomeIconModel",
      "state": {
       "_model_module_version": "^0.15.0",
       "_view_module_version": "^0.15.0",
       "icon_color": "white",
       "marker_color": "red",
       "name": "life-ring"
      }
     },
     "ee81e612d8b24688879f5456f22d3506": {
      "model_module": "@jupyter-widgets/controls",
      "model_module_version": "1.5.0",
      "model_name": "HTMLModel",
      "state": {
       "layout": "IPY_MODEL_69657385e73b438fb52290966ad6ff66",
       "style": "IPY_MODEL_dab200e7b0ae497e8f317cb0744796d8",
       "value": "<table border=\"1\" class=\"dataframe table table-striped table-hover table-condensed table-responsive\">\n  <thead>\n    <tr style=\"text-align: right;\">\n      <th></th>\n      <th>stxa2</th>\n    </tr>\n  </thead>\n  <tbody>\n    <tr>\n      <th>met</th>\n      <td>34448.0</td>\n    </tr>\n    <tr>\n      <th>wave</th>\n      <td>0.0</td>\n    </tr>\n    <tr>\n      <th>type</th>\n      <td>fixed</td>\n    </tr>\n    <tr>\n      <th>name</th>\n      <td>Sitka AML, AK</td>\n    </tr>\n    <tr>\n      <th>pgm</th>\n      <td>IOOS Partners</td>\n    </tr>\n  </tbody>\n</table>"
      }
     },
     "eec4f33b83904675abdab49acfcfc06d": {
      "model_module": "@jupyter-widgets/controls",
      "model_module_version": "1.5.0",
      "model_name": "DescriptionStyleModel",
      "state": {
       "description_width": ""
      }
     },
     "ef59c05ce4144bd6978107918bddf768": {
      "model_module": "@jupyter-widgets/base",
      "model_module_version": "1.2.0",
      "model_name": "LayoutModel",
      "state": {}
     },
     "efef5d45e6284d03a2a23c06b7fd45d7": {
      "model_module": "@jupyter-widgets/controls",
      "model_module_version": "1.5.0",
      "model_name": "DescriptionStyleModel",
      "state": {
       "description_width": ""
      }
     },
     "f089c5fd344c4452b2ad00540d76a02f": {
      "model_module": "@jupyter-widgets/controls",
      "model_module_version": "1.5.0",
      "model_name": "HTMLModel",
      "state": {
       "layout": "IPY_MODEL_572736b3be1d4ab0bde2c263f662db82",
       "style": "IPY_MODEL_95df5a252a944db59b83ab56ee9021c1",
       "value": "<table border=\"1\" class=\"dataframe table table-striped table-hover table-condensed table-responsive\">\n  <thead>\n    <tr style=\"text-align: right;\">\n      <th></th>\n      <th>slxa2</th>\n    </tr>\n  </thead>\n  <tbody>\n    <tr>\n      <th>met</th>\n      <td>34238.0</td>\n    </tr>\n    <tr>\n      <th>wave</th>\n      <td>0.0</td>\n    </tr>\n    <tr>\n      <th>type</th>\n      <td>fixed</td>\n    </tr>\n    <tr>\n      <th>name</th>\n      <td>Salmon Landing, AK</td>\n    </tr>\n    <tr>\n      <th>pgm</th>\n      <td>IOOS Partners</td>\n    </tr>\n  </tbody>\n</table>"
      }
     },
     "f1b332647010410ab26acfca303cdd7d": {
      "model_module": "@jupyter-widgets/controls",
      "model_module_version": "1.5.0",
      "model_name": "HTMLModel",
      "state": {
       "layout": "IPY_MODEL_289e7178449b4a9a8ae01bd4dda867c2",
       "style": "IPY_MODEL_bf4e9584ef3a46d7ad16b91b8ff3b2f5",
       "value": "<table border=\"1\" class=\"dataframe table table-striped table-hover table-condensed table-responsive\">\n  <thead>\n    <tr style=\"text-align: right;\">\n      <th></th>\n      <th>shpf1</th>\n    </tr>\n  </thead>\n  <tbody>\n    <tr>\n      <th>met</th>\n      <td>58840.0</td>\n    </tr>\n    <tr>\n      <th>wave</th>\n      <td>0.0</td>\n    </tr>\n    <tr>\n      <th>type</th>\n      <td>fixed</td>\n    </tr>\n    <tr>\n      <th>name</th>\n      <td>SHP - Shell Point, FL</td>\n    </tr>\n    <tr>\n      <th>pgm</th>\n      <td>IOOS Partners</td>\n    </tr>\n  </tbody>\n</table>"
      }
     },
     "f1bf199431da463880e4110e9ea65d8a": {
      "model_module": "@jupyter-widgets/controls",
      "model_module_version": "1.5.0",
      "model_name": "HTMLModel",
      "state": {
       "layout": "IPY_MODEL_47a4a2ce245348818262d1eda4f9364d",
       "style": "IPY_MODEL_6da33069fc594efbbc8a94d4864d856d",
       "value": "<table border=\"1\" class=\"dataframe table table-striped table-hover table-condensed table-responsive\">\n  <thead>\n    <tr style=\"text-align: right;\">\n      <th></th>\n      <th>44037</th>\n    </tr>\n  </thead>\n  <tbody>\n    <tr>\n      <th>met</th>\n      <td>4548.0</td>\n    </tr>\n    <tr>\n      <th>wave</th>\n      <td>4476.0</td>\n    </tr>\n    <tr>\n      <th>type</th>\n      <td>buoy</td>\n    </tr>\n    <tr>\n      <th>name</th>\n      <td>Buoy M01 - Jordan Basin</td>\n    </tr>\n    <tr>\n      <th>pgm</th>\n      <td>IOOS Partners</td>\n    </tr>\n  </tbody>\n</table>"
      }
     },
     "f24ca8f2a3b741b3bd556c3baf3c2086": {
      "model_module": "@jupyter-widgets/base",
      "model_module_version": "1.2.0",
      "model_name": "LayoutModel",
      "state": {}
     },
     "f344101bd2f84b87840a31bc234d1e71": {
      "model_module": "jupyter-leaflet",
      "model_module_version": "^0.15.0",
      "model_name": "LeafletMarkerModel",
      "state": {
       "_model_module_version": "^0.15.0",
       "_view_module_version": "^0.15.0",
       "draggable": false,
       "icon": "IPY_MODEL_60d9738a4164460a86ec936457dcf29f",
       "location": [
        27.505,
        -83.741
       ],
       "options": [
        "alt",
        "draggable",
        "keyboard",
        "rise_offset",
        "rise_on_hover",
        "rotation_angle",
        "rotation_origin",
        "title",
        "z_index_offset"
       ],
       "popup": "IPY_MODEL_873819b5866c46c2a0f20de6617c5907"
      }
     },
     "f3b824fcce9f4cb1b63eb3f01342d4b9": {
      "model_module": "jupyter-leaflet",
      "model_module_version": "^0.15.0",
      "model_name": "LeafletAwesomeIconModel",
      "state": {
       "_model_module_version": "^0.15.0",
       "_view_module_version": "^0.15.0",
       "icon_color": "white",
       "marker_color": "green",
       "name": "life-ring"
      }
     },
     "f3cf8c8f93e4492dba5cd3f3a14eee66": {
      "model_module": "@jupyter-widgets/controls",
      "model_module_version": "1.5.0",
      "model_name": "HTMLModel",
      "state": {
       "layout": "IPY_MODEL_0da0375798264023adab7ea61613b6a8",
       "style": "IPY_MODEL_c75b3365391542b29886248abf1ceba2",
       "value": "<table border=\"1\" class=\"dataframe table table-striped table-hover table-condensed table-responsive\">\n  <thead>\n    <tr style=\"text-align: right;\">\n      <th></th>\n      <th>45175</th>\n    </tr>\n  </thead>\n  <tbody>\n    <tr>\n      <th>met</th>\n      <td>49820.0</td>\n    </tr>\n    <tr>\n      <th>wave</th>\n      <td>49820.0</td>\n    </tr>\n    <tr>\n      <th>type</th>\n      <td>buoy</td>\n    </tr>\n    <tr>\n      <th>name</th>\n      <td>Mackinac Straits West, Mackinaw City, MI</td>\n    </tr>\n    <tr>\n      <th>pgm</th>\n      <td>IOOS Partners</td>\n    </tr>\n  </tbody>\n</table>"
      }
     },
     "f3e29f300a60486e87d66ec83c6598bd": {
      "model_module": "@jupyter-widgets/controls",
      "model_module_version": "1.5.0",
      "model_name": "DescriptionStyleModel",
      "state": {
       "description_width": ""
      }
     },
     "f455e7ed37594b40b78722763757ef66": {
      "model_module": "jupyter-leaflet",
      "model_module_version": "^0.15.0",
      "model_name": "LeafletMarkerModel",
      "state": {
       "_model_module_version": "^0.15.0",
       "_view_module_version": "^0.15.0",
       "draggable": false,
       "icon": "IPY_MODEL_94d6e917ecb84be1a4e6b8e356231fb8",
       "location": [
        32.803,
        -79.624
       ],
       "options": [
        "alt",
        "draggable",
        "keyboard",
        "rise_offset",
        "rise_on_hover",
        "rotation_angle",
        "rotation_origin",
        "title",
        "z_index_offset"
       ],
       "popup": "IPY_MODEL_5a8a6397a9ff4109925d48f03c208739"
      }
     },
     "f52456403b99417ab585c1e0c2f4c4cf": {
      "model_module": "jupyter-leaflet",
      "model_module_version": "^0.15.0",
      "model_name": "LeafletMarkerModel",
      "state": {
       "_model_module_version": "^0.15.0",
       "_view_module_version": "^0.15.0",
       "draggable": false,
       "icon": "IPY_MODEL_1cdebaf868e145c19f83938954985199",
       "location": [
        57.116,
        -135.391
       ],
       "options": [
        "alt",
        "draggable",
        "keyboard",
        "rise_offset",
        "rise_on_hover",
        "rotation_angle",
        "rotation_origin",
        "title",
        "z_index_offset"
       ],
       "popup": "IPY_MODEL_ee81e612d8b24688879f5456f22d3506"
      }
     },
     "f542fa74edf847888532f3e542a121aa": {
      "model_module": "@jupyter-widgets/controls",
      "model_module_version": "1.5.0",
      "model_name": "DescriptionStyleModel",
      "state": {
       "description_width": ""
      }
     },
     "f56e77c6b8e14c71bc1383b9ed98dd81": {
      "model_module": "jupyter-leaflet",
      "model_module_version": "^0.15.0",
      "model_name": "LeafletMarkerModel",
      "state": {
       "_model_module_version": "^0.15.0",
       "_view_module_version": "^0.15.0",
       "draggable": false,
       "icon": "IPY_MODEL_30f689301a9346ae987b11c41e56c03a",
       "location": [
        57.016,
        -134.618
       ],
       "options": [
        "alt",
        "draggable",
        "keyboard",
        "rise_offset",
        "rise_on_hover",
        "rotation_angle",
        "rotation_origin",
        "title",
        "z_index_offset"
       ],
       "popup": "IPY_MODEL_797b56b85811448b800422d280126e81"
      }
     },
     "f597751eb19141e3a54702e91dc618ae": {
      "model_module": "jupyter-leaflet",
      "model_module_version": "^0.15.0",
      "model_name": "LeafletAwesomeIconModel",
      "state": {
       "_model_module_version": "^0.15.0",
       "_view_module_version": "^0.15.0",
       "icon_color": "white",
       "marker_color": "orange",
       "name": "life-ring"
      }
     },
     "f776583653cf4007ba2abc8290fae644": {
      "model_module": "jupyter-leaflet",
      "model_module_version": "^0.15.0",
      "model_name": "LeafletAwesomeIconModel",
      "state": {
       "_model_module_version": "^0.15.0",
       "_view_module_version": "^0.15.0",
       "icon_color": "white",
       "marker_color": "red",
       "name": "life-ring"
      }
     },
     "f79b7b1c18d3463e938fec96d546b1e8": {
      "model_module": "@jupyter-widgets/controls",
      "model_module_version": "1.5.0",
      "model_name": "DescriptionStyleModel",
      "state": {
       "description_width": ""
      }
     },
     "f82abdcdce3748b4a7be84addad8fe94": {
      "model_module": "jupyter-leaflet",
      "model_module_version": "^0.15.0",
      "model_name": "LeafletMarkerModel",
      "state": {
       "_model_module_version": "^0.15.0",
       "_view_module_version": "^0.15.0",
       "draggable": false,
       "icon": "IPY_MODEL_96ee5fd83c54485e9d35dd1b8f7e198b",
       "location": [
        41.781,
        -87.573
       ],
       "options": [
        "alt",
        "draggable",
        "keyboard",
        "rise_offset",
        "rise_on_hover",
        "rotation_angle",
        "rotation_origin",
        "title",
        "z_index_offset"
       ],
       "popup": "IPY_MODEL_3fa6eecfd112457d942dc7b4e12b3ff1"
      }
     },
     "f8950e421bba4702b093b77af3075583": {
      "model_module": "@jupyter-widgets/base",
      "model_module_version": "1.2.0",
      "model_name": "LayoutModel",
      "state": {}
     },
     "f92b21b0295c42a9b45fec9e70775688": {
      "model_module": "@jupyter-widgets/controls",
      "model_module_version": "1.5.0",
      "model_name": "DescriptionStyleModel",
      "state": {
       "description_width": ""
      }
     },
     "f9ee2ec228f64c1b9dec9f851816bd76": {
      "model_module": "@jupyter-widgets/controls",
      "model_module_version": "1.5.0",
      "model_name": "HTMLModel",
      "state": {
       "layout": "IPY_MODEL_cf33a899dd6048d4a628a37a7c2386a4",
       "style": "IPY_MODEL_addaf45f58f8494fa384b9b3f4b6356c",
       "value": "<table border=\"1\" class=\"dataframe table table-striped table-hover table-condensed table-responsive\">\n  <thead>\n    <tr style=\"text-align: right;\">\n      <th></th>\n      <th>txpt2</th>\n    </tr>\n  </thead>\n  <tbody>\n    <tr>\n      <th>met</th>\n      <td>58296.0</td>\n    </tr>\n    <tr>\n      <th>wave</th>\n      <td>0.0</td>\n    </tr>\n    <tr>\n      <th>type</th>\n      <td>fixed</td>\n    </tr>\n    <tr>\n      <th>name</th>\n      <td>8770822 - Texas Point, Sabine Pass, TX</td>\n    </tr>\n    <tr>\n      <th>pgm</th>\n      <td>IOOS Partners</td>\n    </tr>\n  </tbody>\n</table>"
      }
     },
     "fa0d89ed8d0a4ba78a34feb2a4e9eb06": {
      "model_module": "@jupyter-widgets/controls",
      "model_module_version": "1.5.0",
      "model_name": "DescriptionStyleModel",
      "state": {
       "description_width": ""
      }
     },
     "fa4555e08879415980146d56f6cd01b6": {
      "model_module": "@jupyter-widgets/controls",
      "model_module_version": "1.5.0",
      "model_name": "DescriptionStyleModel",
      "state": {
       "description_width": ""
      }
     },
     "fa8c9b77599846e3a772045b2732fe50": {
      "model_module": "@jupyter-widgets/base",
      "model_module_version": "1.2.0",
      "model_name": "LayoutModel",
      "state": {}
     },
     "fac41b2f4e764b698d65dd4e33c6d072": {
      "model_module": "jupyter-leaflet",
      "model_module_version": "^0.15.0",
      "model_name": "LeafletMarkerModel",
      "state": {
       "_model_module_version": "^0.15.0",
       "_view_module_version": "^0.15.0",
       "draggable": false,
       "icon": "IPY_MODEL_8aeb09b637b34d1d91e6ba79776d69a4",
       "location": [
        55.446,
        -131.881
       ],
       "options": [
        "alt",
        "draggable",
        "keyboard",
        "rise_offset",
        "rise_on_hover",
        "rotation_angle",
        "rotation_origin",
        "title",
        "z_index_offset"
       ],
       "popup": "IPY_MODEL_21cd40843bde45d18c70e904f756e328"
      }
     },
     "fb034728605f43209492d2334b923794": {
      "model_module": "jupyter-leaflet",
      "model_module_version": "^0.15.0",
      "model_name": "LeafletAwesomeIconModel",
      "state": {
       "_model_module_version": "^0.15.0",
       "_view_module_version": "^0.15.0",
       "icon_color": "white",
       "marker_color": "green",
       "name": "life-ring"
      }
     },
     "fb168ccdbf96425ba981d3897c3f3302": {
      "model_module": "@jupyter-widgets/controls",
      "model_module_version": "1.5.0",
      "model_name": "DescriptionStyleModel",
      "state": {
       "description_width": ""
      }
     },
     "fb625e5179f44a44b44d34a94ec98ef0": {
      "model_module": "@jupyter-widgets/base",
      "model_module_version": "1.2.0",
      "model_name": "LayoutModel",
      "state": {}
     },
     "fcadadae900146c6998b95554cf79d81": {
      "model_module": "jupyter-leaflet",
      "model_module_version": "^0.15.0",
      "model_name": "LeafletMarkerModel",
      "state": {
       "_model_module_version": "^0.15.0",
       "_view_module_version": "^0.15.0",
       "draggable": false,
       "icon": "IPY_MODEL_a6067c4c56a54032b1760e703056bc64",
       "location": [
        45.825,
        -84.772
       ],
       "options": [
        "alt",
        "draggable",
        "keyboard",
        "rise_offset",
        "rise_on_hover",
        "rotation_angle",
        "rotation_origin",
        "title",
        "z_index_offset"
       ],
       "popup": "IPY_MODEL_f3cf8c8f93e4492dba5cd3f3a14eee66"
      }
     },
     "fcf06edc960a44b0aa5a1ac5f40522fb": {
      "model_module": "@jupyter-widgets/base",
      "model_module_version": "1.2.0",
      "model_name": "LayoutModel",
      "state": {}
     },
     "fd8fd455cb684ab4b6b3c0f7315ba07e": {
      "model_module": "@jupyter-widgets/base",
      "model_module_version": "1.2.0",
      "model_name": "LayoutModel",
      "state": {}
     },
     "fdedce85aab6406ab6da4c67dabb38ef": {
      "model_module": "@jupyter-widgets/controls",
      "model_module_version": "1.5.0",
      "model_name": "HTMLModel",
      "state": {
       "layout": "IPY_MODEL_8c4b2d31bd054d139555fc612729d83c",
       "style": "IPY_MODEL_ba6f5253cc014cdf82f28861ceeb67bc",
       "value": "<table border=\"1\" class=\"dataframe table table-striped table-hover table-condensed table-responsive\">\n  <thead>\n    <tr style=\"text-align: right;\">\n      <th></th>\n      <th>41064</th>\n    </tr>\n  </thead>\n  <tbody>\n    <tr>\n      <th>met</th>\n      <td>5846.0</td>\n    </tr>\n    <tr>\n      <th>wave</th>\n      <td>0.0</td>\n    </tr>\n    <tr>\n      <th>type</th>\n      <td>buoy</td>\n    </tr>\n    <tr>\n      <th>name</th>\n      <td>Onslow Bay Outer, NC (LEJ3)</td>\n    </tr>\n    <tr>\n      <th>pgm</th>\n      <td>IOOS Partners</td>\n    </tr>\n  </tbody>\n</table>"
      }
     },
     "fe68674d30c2408e83c1e5953cf5e853": {
      "model_module": "@jupyter-widgets/base",
      "model_module_version": "1.2.0",
      "model_name": "LayoutModel",
      "state": {}
     },
     "fe6b33e84b124b3dbcdb347ae954e2ee": {
      "model_module": "jupyter-leaflet",
      "model_module_version": "^0.15.0",
      "model_name": "LeafletAwesomeIconModel",
      "state": {
       "_model_module_version": "^0.15.0",
       "_view_module_version": "^0.15.0",
       "icon_color": "white",
       "marker_color": "red",
       "name": "life-ring"
      }
     },
     "ff7718898e0a4da2847583e5b8b0974d": {
      "model_module": "@jupyter-widgets/controls",
      "model_module_version": "1.5.0",
      "model_name": "DescriptionStyleModel",
      "state": {
       "description_width": ""
      }
     },
     "ffe2d148b0cf4a7a8d8c5d5348d85ccf": {
      "model_module": "jupyter-leaflet",
      "model_module_version": "^0.15.0",
      "model_name": "LeafletMarkerModel",
      "state": {
       "_model_module_version": "^0.15.0",
       "_view_module_version": "^0.15.0",
       "draggable": false,
       "icon": "IPY_MODEL_bdeb13bfa1314d84be6e562b08751b2c",
       "location": [
        42.185,
        -80.135
       ],
       "options": [
        "alt",
        "draggable",
        "keyboard",
        "rise_offset",
        "rise_on_hover",
        "rotation_angle",
        "rotation_origin",
        "title",
        "z_index_offset"
       ],
       "popup": "IPY_MODEL_17a162b2641248ffb73b716833812fcd"
      }
     }
    },
    "version_major": 2,
    "version_minor": 0
   }
  }
 },
 "nbformat": 4,
 "nbformat_minor": 1
}
