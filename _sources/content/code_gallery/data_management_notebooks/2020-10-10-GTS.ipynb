{
 "cells": [
  {
   "cell_type": "markdown",
   "metadata": {
    "colab_type": "text",
    "id": "view-in-github"
   },
   "source": [
    "<a href=\"https://colab.research.google.com/github/MathewBiddle/notebooks_demos/blob/GTS_widgets/notebooks/2020-10-10-GTS.ipynb\" target=\"_parent\"><img src=\"https://colab.research.google.com/assets/colab-badge.svg\" alt=\"Open In Colab\"/></a>"
   ]
  },
  {
   "cell_type": "markdown",
   "metadata": {
    "id": "Po0C-dJCrtWM"
   },
   "source": [
    "# IOOS GTS Statistics\n",
    "\n",
    "\n",
    "The Global Telecommunication System (GTS) is a coordinated effort for rapid distribution of observations.\n",
    "The GTS monthly reports show the number of messages released to GTS for each station.\n",
    "The reports contain the following fields:\n",
    "\n",
    "- location ID: Identifier that station messages are released under to the GTS;\n",
    "- region: Designated IOOS Regional Association (only for IOOS regional report);\n",
    "- sponsor: Organization that owns and maintains the station;\n",
    "- Met: Total number of met messages released to the GTS\n",
    "- Wave: Total number of wave messages released to the GTS\n",
    "\n",
    "In this notebook we will explore the statistics of the messages IOOS is releasing to GTS.\n",
    "\n",
    "## Using this notebook\n",
    "1. Pick the appropriate date range of interest.\n",
    "1. Edit the variables `start_date` and `end_date` in the cell below to reflect your time period of interest (use `YYYY-MM-DD` format).\n",
    "1. Run all the cells in the notebook. \n",
    "\n",
    "The first step is to pick the appropriate date range of interest."
   ]
  },
  {
   "cell_type": "code",
   "execution_count": 1,
   "metadata": {
    "id": "em-Mxt5MrtWS"
   },
   "outputs": [],
   "source": [
    "start_date = '2021-07-01'\n",
    "end_date = '2021-09-30'"
   ]
  },
  {
   "cell_type": "markdown",
   "metadata": {
    "id": "wgtBvHNmrtWU"
   },
   "source": [
    "Now we download the data. We will use the NDBC ioosstats server that [hosts the CSV files](https://www.ndbc.noaa.gov/ioosstats/) with the ingest data."
   ]
  },
  {
   "cell_type": "code",
   "execution_count": 2,
   "metadata": {
    "id": "kJjt1UkZrtWV"
   },
   "outputs": [
    {
     "name": "stdout",
     "output_type": "stream",
     "text": [
      "Loading https://www.ndbc.noaa.gov/ioosstats/rpts/2021_07_ioos_regional.csv\n",
      "Loading https://www.ndbc.noaa.gov/ioosstats/rpts/2021_08_ioos_regional.csv\n",
      "Loading https://www.ndbc.noaa.gov/ioosstats/rpts/2021_09_ioos_regional.csv\n"
     ]
    },
    {
     "data": {
      "text/html": [
       "<div>\n",
       "<style scoped>\n",
       "    .dataframe tbody tr th:only-of-type {\n",
       "        vertical-align: middle;\n",
       "    }\n",
       "\n",
       "    .dataframe tbody tr th {\n",
       "        vertical-align: top;\n",
       "    }\n",
       "\n",
       "    .dataframe thead th {\n",
       "        text-align: right;\n",
       "    }\n",
       "</style>\n",
       "<table border=\"1\" class=\"dataframe\">\n",
       "  <thead>\n",
       "    <tr style=\"text-align: right;\">\n",
       "      <th></th>\n",
       "      <th>met</th>\n",
       "      <th>wave</th>\n",
       "    </tr>\n",
       "  </thead>\n",
       "  <tbody>\n",
       "    <tr>\n",
       "      <th>count</th>\n",
       "      <td>521.000000</td>\n",
       "      <td>521.00000</td>\n",
       "    </tr>\n",
       "    <tr>\n",
       "      <th>mean</th>\n",
       "      <td>5550.111324</td>\n",
       "      <td>1263.75048</td>\n",
       "    </tr>\n",
       "    <tr>\n",
       "      <th>std</th>\n",
       "      <td>5873.776497</td>\n",
       "      <td>2957.83903</td>\n",
       "    </tr>\n",
       "    <tr>\n",
       "      <th>min</th>\n",
       "      <td>0.000000</td>\n",
       "      <td>0.00000</td>\n",
       "    </tr>\n",
       "    <tr>\n",
       "      <th>25%</th>\n",
       "      <td>0.000000</td>\n",
       "      <td>0.00000</td>\n",
       "    </tr>\n",
       "    <tr>\n",
       "      <th>50%</th>\n",
       "      <td>2576.000000</td>\n",
       "      <td>0.00000</td>\n",
       "    </tr>\n",
       "    <tr>\n",
       "      <th>75%</th>\n",
       "      <td>8798.000000</td>\n",
       "      <td>1432.00000</td>\n",
       "    </tr>\n",
       "    <tr>\n",
       "      <th>max</th>\n",
       "      <td>17814.000000</td>\n",
       "      <td>17814.00000</td>\n",
       "    </tr>\n",
       "  </tbody>\n",
       "</table>\n",
       "</div>"
      ],
      "text/plain": [
       "                met         wave\n",
       "count    521.000000    521.00000\n",
       "mean    5550.111324   1263.75048\n",
       "std     5873.776497   2957.83903\n",
       "min        0.000000      0.00000\n",
       "25%        0.000000      0.00000\n",
       "50%     2576.000000      0.00000\n",
       "75%     8798.000000   1432.00000\n",
       "max    17814.000000  17814.00000"
      ]
     },
     "execution_count": 2,
     "metadata": {},
     "output_type": "execute_result"
    }
   ],
   "source": [
    "import datetime as dt\n",
    "import pandas as pd\n",
    "# example https://www.ndbc.noaa.gov/ioosstats/rpts/2021_03_ioos_regional.csv\n",
    "\n",
    "start = dt.datetime.strptime(start_date,'%Y-%m-%d')\n",
    "end = dt.datetime.strptime(end_date,'%Y-%m-%d')\n",
    "\n",
    "# build an array for days between dates\n",
    "date_array = (start + dt.timedelta(days=x) for x in range(0, (end - start).days))\n",
    "\n",
    "# get a unique list of year-months for url build\n",
    "months=[]\n",
    "for date_object in date_array:\n",
    "    months.append(date_object.strftime(\"%Y-%m\"))\n",
    "months = sorted(set(months))\n",
    "\n",
    "df = pd.DataFrame(columns=['locationID', 'region', 'sponsor', 'met', 'wave'])\n",
    "for month in months:\n",
    "  url = 'https://www.ndbc.noaa.gov/ioosstats/rpts/%s_ioos_regional.csv' % month.replace(\"-\",\"_\")\n",
    "  print('Loading %s' % url)\n",
    "  df1 = pd.read_csv(url, dtype={'met':float, 'wave':float})\n",
    "  df1['time (UTC)'] = pd.to_datetime(month)\n",
    "  df = pd.concat([df,df1])\n",
    "\n",
    "df.describe()"
   ]
  },
  {
   "cell_type": "code",
   "execution_count": 3,
   "metadata": {
    "id": "N3jFAjCvrtWV"
   },
   "outputs": [
    {
     "data": {
      "text/plain": [
       "array(['2021-07-01T00:00:00.000000000', '2021-08-01T00:00:00.000000000',\n",
       "       '2021-09-01T00:00:00.000000000'], dtype='datetime64[ns]')"
      ]
     },
     "execution_count": 3,
     "metadata": {},
     "output_type": "execute_result"
    }
   ],
   "source": [
    "#df = e.to_pandas(parse_dates=True)\n",
    "\n",
    "df[\"locationID\"] = df[\"locationID\"].str.lower()\n",
    "\n",
    "df['time (UTC)'].unique()"
   ]
  },
  {
   "cell_type": "markdown",
   "metadata": {
    "id": "WnuNU5eHrtWW"
   },
   "source": [
    "The table has all the ingest data. We can now explore it grouping the data by IOOS Regional Association (RA)."
   ]
  },
  {
   "cell_type": "code",
   "execution_count": 4,
   "metadata": {
    "id": "ZdGeaMPfrtWW"
   },
   "outputs": [
    {
     "data": {
      "image/png": "[encoded data removed]",
      "text/plain": [
       "<Figure size 792x270 with 1 Axes>"
      ]
     },
     "metadata": {
      "needs_background": "light"
     },
     "output_type": "display_data"
    }
   ],
   "source": [
    "groups = df.groupby(\"region\")\n",
    "\n",
    "ax = groups.sum().plot(kind=\"bar\", figsize=(11, 3.75))\n",
    "ax.yaxis.get_major_formatter().set_scientific(False)\n",
    "ax.set_ylabel(\"# observations\");"
   ]
  },
  {
   "cell_type": "markdown",
   "metadata": {
    "id": "5oP7aFrErtWX"
   },
   "source": [
    "Let us check the montly sum of data released both for individual met and wave and the totals."
   ]
  },
  {
   "cell_type": "code",
   "execution_count": 5,
   "metadata": {
    "id": "keIBv28trtWX"
   },
   "outputs": [],
   "source": [
    "import pandas as pd\n",
    "\n",
    "df[\"time (UTC)\"] = pd.to_datetime(df[\"time (UTC)\"])\n",
    "# Remove time-zone info for easier plotting, it is all UTC.\n",
    "df[\"time (UTC)\"] = df[\"time (UTC)\"].dt.tz_localize(None)\n",
    "\n",
    "groups = df.groupby(pd.Grouper(key=\"time (UTC)\", freq=\"M\"))"
   ]
  },
  {
   "cell_type": "markdown",
   "metadata": {
    "id": "9_iEHmiTrtWY"
   },
   "source": [
    "We can create a table of observations per month,"
   ]
  },
  {
   "cell_type": "code",
   "execution_count": 6,
   "metadata": {
    "id": "JxcIjc05rtWY"
   },
   "outputs": [
    {
     "name": "stdout",
     "output_type": "stream",
     "text": [
      "Monthly totals:\n",
      "                   met      wave      total\n",
      "time (UTC)                                \n",
      "2021-07     1000690.0  227112.0  1227802.0\n",
      "2021-08      967746.0  226282.0  1194028.0\n",
      "2021-09      923172.0  205020.0  1128192.0 \n",
      "\n",
      "Sum for time period 2021-07 to 2021-09: 3550022\n"
     ]
    }
   ],
   "source": [
    "s = groups[['time (UTC)','met','wave']].sum() # reducing the columns so the summary is digestable\n",
    "totals = s.assign(total=s[\"met\"] + s[\"wave\"])\n",
    "totals.index = totals.index.to_period(\"M\")\n",
    "\n",
    "print('Monthly totals:\\n',totals,'\\n')\n",
    "\n",
    "print('Sum for time period %s to %s: %i'%(totals.index.min(),totals.index.max(),totals['total'].sum()))"
   ]
  },
  {
   "cell_type": "markdown",
   "metadata": {
    "id": "mkEpqlRLrtWZ"
   },
   "source": [
    "and visualize it in a bar plot."
   ]
  },
  {
   "cell_type": "code",
   "execution_count": 7,
   "metadata": {
    "id": "WEz1GN6zrtWZ"
   },
   "outputs": [
    {
     "data": {
      "text/plain": [
       "Text(0, 0.5, '# observations')"
      ]
     },
     "execution_count": 7,
     "metadata": {},
     "output_type": "execute_result"
    },
    {
     "data": {
      "image/png": "[encoded data removed]",
      "text/plain": [
       "<Figure size 792x270 with 1 Axes>"
      ]
     },
     "metadata": {
      "needs_background": "light"
     },
     "output_type": "display_data"
    }
   ],
   "source": [
    "%matplotlib inline\n",
    "import matplotlib.dates as mdates\n",
    "import matplotlib.pyplot as plt\n",
    "\n",
    "fig, ax = plt.subplots(figsize=(11, 3.75))\n",
    "\n",
    "s.plot(ax=ax, kind=\"bar\")\n",
    "ax.set_xticklabels(\n",
    "    labels=s.index.to_series().dt.strftime(\"%Y-%b\"),\n",
    "    rotation=70,\n",
    "    rotation_mode=\"anchor\",\n",
    "    ha=\"right\",\n",
    ")\n",
    "ax.yaxis.get_major_formatter().set_scientific(False)\n",
    "ax.set_ylabel(\"# observations\")"
   ]
  },
  {
   "cell_type": "markdown",
   "metadata": {
    "id": "Pt3yasWfrtWa"
   },
   "source": [
    "Those plots are intersting to understand the RAs role in the GTS ingest and how much data is being released over time. It would be nice to see those per buoy on a map.\n",
    "\n",
    "For that we need to get the position of the NDBC buoys. Let's get a table of all the buoys and match with what we have in teh GTS data."
   ]
  },
  {
   "cell_type": "code",
   "execution_count": 8,
   "metadata": {
    "id": "lTcddYcJrtWa",
    "scrolled": false
   },
   "outputs": [
    {
     "data": {
      "text/html": [
       "<div>\n",
       "<style scoped>\n",
       "    .dataframe tbody tr th:only-of-type {\n",
       "        vertical-align: middle;\n",
       "    }\n",
       "\n",
       "    .dataframe tbody tr th {\n",
       "        vertical-align: top;\n",
       "    }\n",
       "\n",
       "    .dataframe thead th {\n",
       "        text-align: right;\n",
       "    }\n",
       "</style>\n",
       "<table border=\"1\" class=\"dataframe\">\n",
       "  <thead>\n",
       "    <tr style=\"text-align: right;\">\n",
       "      <th></th>\n",
       "      <th>lat</th>\n",
       "      <th>lon</th>\n",
       "      <th>name</th>\n",
       "      <th>owner</th>\n",
       "      <th>pgm</th>\n",
       "      <th>type</th>\n",
       "      <th>met</th>\n",
       "      <th>currents</th>\n",
       "      <th>waterquality</th>\n",
       "      <th>dart</th>\n",
       "      <th>elev</th>\n",
       "      <th>seq</th>\n",
       "    </tr>\n",
       "    <tr>\n",
       "      <th>id</th>\n",
       "      <th></th>\n",
       "      <th></th>\n",
       "      <th></th>\n",
       "      <th></th>\n",
       "      <th></th>\n",
       "      <th></th>\n",
       "      <th></th>\n",
       "      <th></th>\n",
       "      <th></th>\n",
       "      <th></th>\n",
       "      <th></th>\n",
       "      <th></th>\n",
       "    </tr>\n",
       "  </thead>\n",
       "  <tbody>\n",
       "    <tr>\n",
       "      <th>00922</th>\n",
       "      <td>30.0</td>\n",
       "      <td>-90.0</td>\n",
       "      <td>OTN201 - 4800922</td>\n",
       "      <td>Dalhousie University</td>\n",
       "      <td>IOOS Partners</td>\n",
       "      <td>other</td>\n",
       "      <td>n</td>\n",
       "      <td>n</td>\n",
       "      <td>n</td>\n",
       "      <td>n</td>\n",
       "      <td>NaN</td>\n",
       "      <td>NaN</td>\n",
       "    </tr>\n",
       "    <tr>\n",
       "      <th>00923</th>\n",
       "      <td>30.0</td>\n",
       "      <td>-90.0</td>\n",
       "      <td>OTN200 - 4800923</td>\n",
       "      <td>Dalhousie University</td>\n",
       "      <td>IOOS Partners</td>\n",
       "      <td>other</td>\n",
       "      <td>n</td>\n",
       "      <td>n</td>\n",
       "      <td>n</td>\n",
       "      <td>n</td>\n",
       "      <td>NaN</td>\n",
       "      <td>NaN</td>\n",
       "    </tr>\n",
       "    <tr>\n",
       "      <th>01500</th>\n",
       "      <td>30.0</td>\n",
       "      <td>-90.0</td>\n",
       "      <td>SP031 - 3801500</td>\n",
       "      <td>SCRIPPS</td>\n",
       "      <td>IOOS Partners</td>\n",
       "      <td>other</td>\n",
       "      <td>n</td>\n",
       "      <td>n</td>\n",
       "      <td>n</td>\n",
       "      <td>n</td>\n",
       "      <td>NaN</td>\n",
       "      <td>NaN</td>\n",
       "    </tr>\n",
       "    <tr>\n",
       "      <th>01502</th>\n",
       "      <td>30.0</td>\n",
       "      <td>-90.0</td>\n",
       "      <td>Penobscot - 4801502</td>\n",
       "      <td>University of Maine</td>\n",
       "      <td>IOOS Partners</td>\n",
       "      <td>other</td>\n",
       "      <td>n</td>\n",
       "      <td>n</td>\n",
       "      <td>n</td>\n",
       "      <td>n</td>\n",
       "      <td>NaN</td>\n",
       "      <td>NaN</td>\n",
       "    </tr>\n",
       "    <tr>\n",
       "      <th>01503</th>\n",
       "      <td>30.0</td>\n",
       "      <td>-90.0</td>\n",
       "      <td>Saul - 4801503</td>\n",
       "      <td>Woods Hole Oceanographic Institution</td>\n",
       "      <td>IOOS Partners</td>\n",
       "      <td>other</td>\n",
       "      <td>n</td>\n",
       "      <td>n</td>\n",
       "      <td>n</td>\n",
       "      <td>n</td>\n",
       "      <td>NaN</td>\n",
       "      <td>NaN</td>\n",
       "    </tr>\n",
       "  </tbody>\n",
       "</table>\n",
       "</div>"
      ],
      "text/plain": [
       "        lat   lon                 name                                 owner  \\\n",
       "id                                                                             \n",
       "00922  30.0 -90.0     OTN201 - 4800922                  Dalhousie University   \n",
       "00923  30.0 -90.0     OTN200 - 4800923                  Dalhousie University   \n",
       "01500  30.0 -90.0      SP031 - 3801500                               SCRIPPS   \n",
       "01502  30.0 -90.0  Penobscot - 4801502                   University of Maine   \n",
       "01503  30.0 -90.0       Saul - 4801503  Woods Hole Oceanographic Institution   \n",
       "\n",
       "                 pgm   type met currents waterquality dart elev  seq  \n",
       "id                                                                    \n",
       "00922  IOOS Partners  other   n        n            n    n  NaN  NaN  \n",
       "00923  IOOS Partners  other   n        n            n    n  NaN  NaN  \n",
       "01500  IOOS Partners  other   n        n            n    n  NaN  NaN  \n",
       "01502  IOOS Partners  other   n        n            n    n  NaN  NaN  \n",
       "01503  IOOS Partners  other   n        n            n    n  NaN  NaN  "
      ]
     },
     "execution_count": 8,
     "metadata": {},
     "output_type": "execute_result"
    }
   ],
   "source": [
    "import xml.etree.ElementTree as et\n",
    "\n",
    "import pandas as pd\n",
    "import requests\n",
    "\n",
    "\n",
    "def make_ndbc_table():\n",
    "    url = \"https://www.ndbc.noaa.gov/activestations.xml\"\n",
    "    with requests.get(url) as r:\n",
    "        elems = et.fromstring(r.content)\n",
    "    df = pd.DataFrame([elem.attrib for elem in list(elems)])\n",
    "    df[\"id\"] = df[\"id\"].str.lower()\n",
    "    return df.set_index(\"id\")\n",
    "\n",
    "\n",
    "buoys = make_ndbc_table()\n",
    "buoys[\"lon\"] = buoys[\"lon\"].astype(float)\n",
    "buoys[\"lat\"] = buoys[\"lat\"].astype(float)\n",
    "\n",
    "buoys.head()"
   ]
  },
  {
   "cell_type": "markdown",
   "metadata": {
    "id": "WxMZlZVdrtWa"
   },
   "source": [
    "For simplificty we will plot the total of observations per buoys."
   ]
  },
  {
   "cell_type": "code",
   "execution_count": 9,
   "metadata": {
    "id": "cDqw1MNzrtWa"
   },
   "outputs": [],
   "source": [
    "groups = df.groupby(\"locationID\")\n",
    "location_sum = groups.sum()"
   ]
  },
  {
   "cell_type": "code",
   "execution_count": 10,
   "metadata": {
    "id": "iZHCo1MartWa"
   },
   "outputs": [],
   "source": [
    "buoys = buoys.T\n",
    "\n",
    "extra_cols = pd.DataFrame({k: buoys.get(k) for k, row in location_sum.iterrows()}).T\n",
    "extra_cols = extra_cols[[\"lat\", \"lon\", \"type\", \"pgm\", \"name\"]]\n",
    "\n",
    "map_df = pd.concat([location_sum, extra_cols], axis=1)\n",
    "map_df = map_df.loc[map_df[\"met\"] + map_df[\"wave\"] > 0]"
   ]
  },
  {
   "cell_type": "markdown",
   "metadata": {
    "id": "hEMYsV5LrtWb"
   },
   "source": [
    "And now we can overlay an HTML table with the buoy information and ingest data totals."
   ]
  },
  {
   "cell_type": "code",
   "execution_count": 11,
   "metadata": {
    "id": "IMXl4O1ErtWb"
   },
   "outputs": [
    {
     "data": {
      "application/vnd.jupyter.widget-view+json": {
       "model_id": "af6cf69292424d2487fe03f486a9f842",
       "version_major": 2,
       "version_minor": 0
      },
      "text/plain": [
       "Map(center=[35, -95], controls=(ZoomControl(options=['position', 'zoom_in_text', 'zoom_in_title', 'zoom_out_te…"
      ]
     },
     "metadata": {},
     "output_type": "display_data"
    }
   ],
   "source": [
    "from ipyleaflet import AwesomeIcon, Marker, Map, LegendControl, FullScreenControl, Popup\n",
    "from ipywidgets import HTML\n",
    "\n",
    "\n",
    "m = Map(center=(35, -95), zoom=4)\n",
    "m.add_control(FullScreenControl())\n",
    "\n",
    "legend = LegendControl(\n",
    "    {\n",
    "        \"wave\": \"#FF0000\",\n",
    "        \"met\": \"#FFA500\",\n",
    "        \"both\": \"#008000\"\n",
    "    },\n",
    "    name=\"GTS\",\n",
    "    position=\"bottomright\",\n",
    ")\n",
    "m.add_control(legend)\n",
    "\n",
    "\n",
    "def make_popup(row):\n",
    "    classes = \"table table-striped table-hover table-condensed table-responsive\"\n",
    "    return pd.DataFrame(row[[\"met\", \"wave\", \"type\", \"name\", \"pgm\"]]).to_html(\n",
    "        classes=classes\n",
    "    )\n",
    "\n",
    "for k, row in map_df.iterrows():\n",
    "    if (row[\"met\"] + row[\"wave\"]) > 0:\n",
    "        location = row[\"lat\"], row[\"lon\"]\n",
    "        if row[\"met\"] == 0:\n",
    "            color = \"red\"\n",
    "        elif row[\"wave\"] == 0:\n",
    "            color = \"orange\"\n",
    "        else:\n",
    "            color = \"green\"\n",
    "        marker = Marker(\n",
    "            draggable=False,\n",
    "            icon=AwesomeIcon(name=\"life-ring\", marker_color=color),\n",
    "            location=location,\n",
    "        )\n",
    "        msg = HTML()\n",
    "        msg.value = make_popup(row)\n",
    "        marker.popup = msg\n",
    "        m.add_layer(marker)\n",
    "m"
   ]
  }
 ],
 "metadata": {
  "colab": {
   "include_colab_link": true,
   "name": "2020-10-10-GTS.ipynb",
   "provenance": []
  },
  "kernelspec": {
   "display_name": "Python 3 (ipykernel)",
   "language": "python",
   "name": "python3"
  },
  "language_info": {
   "codemirror_mode": {
    "name": "ipython",
    "version": 3
   },
   "file_extension": ".py",
   "mimetype": "text/x-python",
   "name": "python",
   "nbconvert_exporter": "python",
   "pygments_lexer": "ipython3",
   "version": "3.9.7"
  }
 },
 "nbformat": 4,
 "nbformat_minor": 1
}
