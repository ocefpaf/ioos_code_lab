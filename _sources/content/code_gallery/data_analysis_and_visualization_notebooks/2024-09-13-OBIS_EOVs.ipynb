{
 "cells": [
  {
   "cell_type": "markdown",
   "id": "ad98f7a1-d7a1-4a51-a9a2-0da9da7fe042",
   "metadata": {},
   "source": [
    "# Using AphiaIDs to download OBIS occurrences for Bio/Eco EOVs\n",
    "\n",
    "Created: 2024-09-13\n",
    "\n",
    "Modified: 2024-10-29\n",
    "\n",
    "The Global Ocean Observing System (GOOS) is a global network of ocean observing systems led by the Intergovernmental Oceanographic Commission of UNESCO. NOAA's U.S. Integrated Ocean Observing System (IOOS) is a part of this global network. GOOS has developed Essential Ocean Variables (EOVs) to help harmonize data that is collected across various ocean observing systems around the globe. The [GOOS Biology and Ecosystems Variables](https://goosocean.org/what-we-do/framework/essential-ocean-variables/) are focused on the abundance and distribution of specific groups of aquatic organisms that are important for ecosystems. \n",
    "\n",
    "Through the work of the [Biology - Integrating Core to Essential Variables (Bio-ICE) task team](https://doi.org/10.5281/zenodo.7335669), a [process](https://github.com/MathewBiddle/bio_ice/blob/main/create_map_from_OBIS_API.ipynb) was established to programmatically query the [Ocean Biodiversity Information System](https://www.obis.org/) API for shallow water hard corals (taxonomic order [Scleractinia](https://www.marinespecies.org/aphia.php?p=taxdetails&id=1363)) to generate a map of the density of occurrences.\n",
    "\n",
    "To build on that process, the [IOOS Marine Life Data Network](https://ioos.github.io/marine_life_data_network/) has developed an example [list of biological taxa](https://github.com/ioos/marine_life_data_network/tree/main/eov_taxonomy) that align with GOOS EOVs. The lists contain their identifiers (in this case, aphiaIDs) that can be used to query published biological occurrence data in the OBIS. The lists established for this notebook are not comprehensive and serve as an example for how one could organize AphiaIDs to programmatically query OBIS for appropriate data.\n",
    "\n",
    "OBIS uses the [World Register of Marine Species](https://marinespecies.org) (WoRMS) to provide a taxonomic backbone for all of the records in the database. WoRMS provides an authoritative and comprehensive list of names of **marine** organisms, including information on synonymy. Therefore, the lists developed by the IOOS Marine Life Data Network leverage the taxonomic scope of WoRMS to perform high-level queries without requiring a detailed list of every species of seabird, for example. Once a query is complete, users can begin analyzing OBIS occurrence data to assess the abundance, distribution, and other characteristics of the taxa in these BioEco Variables.\n",
    "\n",
    "This notebook provides an example in R for how to use the Marine Life Data Network's list of AphiaIDs for the GOOS BioEco Variables to perform an OBIS query. This particular notebook uses mangroves as an example, but the query could be edited for any of the BioEco EOVs."
   ]
  },
  {
   "cell_type": "code",
   "execution_count": 1,
   "id": "390bf2be-3828-4705-b64b-ed68005ff98b",
   "metadata": {
    "scrolled": false,
    "vscode": {
     "languageId": "r"
    }
   },
   "outputs": [],
   "source": [
    "library(readr)\n",
    "library(robis)\n",
    "library(dplyr, warn.conflicts = FALSE)\n",
    "library(htmlwidgets)"
   ]
  },
  {
   "cell_type": "markdown",
   "id": "3089302a",
   "metadata": {},
   "source": [
    "First, we will pull the file with the mangrove aphiaIDs from the Marine Life Data Network GitHub repo.\n",
    "\n",
    "**Note**: the `acceptedTaxonIds` in these files are based on what was up-to-date in the WoRMS database as of the date this script was written."
   ]
  },
  {
   "cell_type": "code",
   "execution_count": 2,
   "id": "43964864-7fe8-4139-a9d0-2a844161ccd1",
   "metadata": {
    "vscode": {
     "languageId": "r"
    }
   },
   "outputs": [],
   "source": [
    "mangroves <- read.csv(\"https://raw.githubusercontent.com/ioos/marine_life_data_network/main/eov_taxonomy/mangroves.csv\")"
   ]
  },
  {
   "cell_type": "markdown",
   "id": "45fa26db",
   "metadata": {},
   "source": [
    "Now we will do a bit of cleanup to get a list of aphiaIDs for mangroves so we can run our [`robis`](https://iobis.github.io/robis/articles/getting-started.html) query using these as taxon identifiers."
   ]
  },
  {
   "cell_type": "code",
   "execution_count": 3,
   "id": "0bb6ab17-d239-410c-90d0-dcb50359b095",
   "metadata": {
    "vscode": {
     "languageId": "r"
    }
   },
   "outputs": [],
   "source": [
    "mangroves$ID <- gsub(\"urn:lsid:marinespecies.org:taxname.\", \"\", mangroves$acceptedTaxonId)\n",
    "mangroves$ID <- as.numeric(mangroves$ID)\n",
    "mangroveIdentifiers <- paste(mangroves$ID, collapse = \", \")"
   ]
  },
  {
   "cell_type": "markdown",
   "id": "8a6cefa9",
   "metadata": {},
   "source": [
    "Using the taxonIDs from the last step, let's query OBIS for occurrence data for mangroves. This step may take a bit of time to run. When this script was written, there were over 130,000 records for mangroves in OBIS.\n",
    "\n",
    "\n",
    "**Note**: You can edit this query to pull down less data if you are not planning to use every field. Here is how that might look.\n",
    "\n",
    "`mangrove_occ <- robis::occurrence(taxonid = mangroveIdentifiers, fields = c(\"occurrenceID\", \"species\", \"decimalLongitude\", \"decimalLatitude\", \"date_year\"))`"
   ]
  },
  {
   "cell_type": "code",
   "execution_count": 4,
   "id": "d9aa2697-4ca0-4631-8d77-b0407e7a73b5",
   "metadata": {
    "vscode": {
     "languageId": "r"
    }
   },
   "outputs": [
    {
     "name": "stderr",
     "output_type": "stream",
     "text": [
      "Retrieved 5000 records of approximately 132901 (3%)\n",
      "Retrieved 10000 records of approximately 132901 (7%)\n",
      "Retrieved 15000 records of approximately 132901 (11%)\n",
      "Retrieved 20000 records of approximately 132901 (15%)\n",
      "Retrieved 25000 records of approximately 132901 (18%)\n",
      "Retrieved 30000 records of approximately 132901 (22%)\n",
      "Retrieved 35000 records of approximately 132901 (26%)\n",
      "Retrieved 40000 records of approximately 132901 (30%)\n",
      "Retrieved 45000 records of approximately 132901 (33%)\n",
      "Retrieved 50000 records of approximately 132901 (37%)\n",
      "Retrieved 55000 records of approximately 132901 (41%)\n",
      "Retrieved 60000 records of approximately 132901 (45%)\n",
      "Retrieved 65000 records of approximately 132901 (48%)\n",
      "Retrieved 70000 records of approximately 132901 (52%)\n",
      "Retrieved 75000 records of approximately 132901 (56%)\n",
      "Retrieved 80000 records of approximately 132901 (60%)\n",
      "Retrieved 85000 records of approximately 132901 (63%)\n",
      "Retrieved 90000 records of approximately 132901 (67%)\n",
      "Retrieved 95000 records of approximately 132901 (71%)\n",
      "Retrieved 1e+05 records of approximately 132901 (75%)\n",
      "Retrieved 105000 records of approximately 132901 (79%)\n",
      "Retrieved 110000 records of approximately 132901 (82%)\n",
      "Retrieved 115000 records of approximately 132901 (86%)\n",
      "Retrieved 120000 records of approximately 132901 (90%)\n",
      "Retrieved 125000 records of approximately 132901 (94%)\n",
      "Retrieved 130000 records of approximately 132901 (97%)\n",
      "Retrieved 132901 records of approximately 132901 (100%)\n"
     ]
    }
   ],
   "source": [
    "mangrove_occ <- robis::occurrence(taxonid = mangroveIdentifiers)"
   ]
  },
  {
   "cell_type": "markdown",
   "id": "c837a3ac",
   "metadata": {},
   "source": [
    "Now that we have all of our mangrove records from OBIS, we will map the global distribution of records using the `map_ggplot` function found in the `robis` package."
   ]
  },
  {
   "cell_type": "code",
   "execution_count": 5,
   "id": "58f5eab8",
   "metadata": {},
   "outputs": [
    {
     "data": {
      "image/png": "[encoded data removed]",
      "text/plain": [
       "plot without title"
      ]
     },
     "metadata": {
      "image/png": {
       "height": 420,
       "width": 420
      }
     },
     "output_type": "display_data"
    }
   ],
   "source": [
    "map_ggplot(mangrove_occ)"
   ]
  },
  {
   "cell_type": "markdown",
   "id": "31bf8a8b",
   "metadata": {},
   "source": [
    "From here, you could further subset the data by species or year to run more detailed analyses about mangrove biology. You could also use the map of mangrove species to identify geographic gaps where more occurrence data might be needed, or to identify errors in the data. Do you see the dot on the mangrove map in the Arctic? If you find errors in data like this, you can make a GitHub issue to report them, like [this one](https://github.com/gbif/portal-feedback/issues/5480).\n",
    "\n",
    "Because you used the AphiaIDs to search for all families and genera of known mangrove species, you can be assured that you have all of the mangrove data currently published to OBIS. This could be repeated for any of the other lists of AphiaIDs for BioEco EOVs. This is a beginning step to many possible analyses.\n",
    "\n",
    "For more information and code about how to get EOV data from OBIS, see the [GOOS BioEco Metadata Portal](https://bioeco.goosocean.org/).\n",
    "\n",
    "References:\n",
    "\n",
    "Erica K. Towle, Abigail Benson, Mathew Biddle, Sarah R. D. Bingo, Kaitlyn Brucker, Gabrielle Canonico, Maggie Chory, Kruti Desai, Masha Edmondson, Miguel Figuerola, Christina L. Horstmann, Susan Jackson, Jennifer Koss, Kathryn E. Lohr, J. Landrum, Laura Lorenzoni, Anderson B. Mayfield, Brian D. Melzian, Frank E. Muller-Karger, … Kimberly K. Yates. (2022). Biology: Integrating Core To Essential Variables (Bio-ICE) Task Team Report for Hard Corals. https://doi.org/10.5281/zenodo.7335670"
   ]
  }
 ],
 "metadata": {
  "kernelspec": {
   "display_name": "R",
   "language": "R",
   "name": "ir"
  },
  "language_info": {
   "codemirror_mode": "r",
   "file_extension": ".r",
   "mimetype": "text/x-r-source",
   "name": "R",
   "pygments_lexer": "r",
   "version": "4.1.3"
  }
 },
 "nbformat": 4,
 "nbformat_minor": 5
}
